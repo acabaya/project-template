{
 "cells": [
  {
   "cell_type": "markdown",
   "metadata": {},
   "source": [
    "## Intro to Dataframes"
   ]
  },
  {
   "cell_type": "code",
   "execution_count": 11,
   "metadata": {},
   "outputs": [],
   "source": [
    "# Import necessary libraries\n",
    "import pandas as pd\n",
    "import numpy as np"
   ]
  },
  {
   "cell_type": "code",
   "execution_count": 22,
   "metadata": {},
   "outputs": [
    {
     "data": {
      "application/vnd.microsoft.datawrangler.viewer.v0+json": {
       "columns": [
        {
         "name": "index",
         "rawType": "object",
         "type": "string"
        },
        {
         "name": "A",
         "rawType": "int64",
         "type": "integer"
        },
        {
         "name": "B",
         "rawType": "int64",
         "type": "integer"
        },
        {
         "name": "C",
         "rawType": "int64",
         "type": "integer"
        }
       ],
       "ref": "0ed63ae2-7996-44c9-83c9-70a33cc7ff62",
       "rows": [
        [
         "x",
         "1",
         "2",
         "3"
        ],
        [
         "y",
         "4",
         "5",
         "6"
        ],
        [
         "z",
         "7",
         "8",
         "9"
        ],
        [
         "zz",
         "10",
         "11",
         "12"
        ]
       ],
       "shape": {
        "columns": 3,
        "rows": 4
       }
      },
      "text/html": [
       "<div>\n",
       "<style scoped>\n",
       "    .dataframe tbody tr th:only-of-type {\n",
       "        vertical-align: middle;\n",
       "    }\n",
       "\n",
       "    .dataframe tbody tr th {\n",
       "        vertical-align: top;\n",
       "    }\n",
       "\n",
       "    .dataframe thead th {\n",
       "        text-align: right;\n",
       "    }\n",
       "</style>\n",
       "<table border=\"1\" class=\"dataframe\">\n",
       "  <thead>\n",
       "    <tr style=\"text-align: right;\">\n",
       "      <th></th>\n",
       "      <th>A</th>\n",
       "      <th>B</th>\n",
       "      <th>C</th>\n",
       "    </tr>\n",
       "  </thead>\n",
       "  <tbody>\n",
       "    <tr>\n",
       "      <th>x</th>\n",
       "      <td>1</td>\n",
       "      <td>2</td>\n",
       "      <td>3</td>\n",
       "    </tr>\n",
       "    <tr>\n",
       "      <th>y</th>\n",
       "      <td>4</td>\n",
       "      <td>5</td>\n",
       "      <td>6</td>\n",
       "    </tr>\n",
       "    <tr>\n",
       "      <th>z</th>\n",
       "      <td>7</td>\n",
       "      <td>8</td>\n",
       "      <td>9</td>\n",
       "    </tr>\n",
       "    <tr>\n",
       "      <th>zz</th>\n",
       "      <td>10</td>\n",
       "      <td>11</td>\n",
       "      <td>12</td>\n",
       "    </tr>\n",
       "  </tbody>\n",
       "</table>\n",
       "</div>"
      ],
      "text/plain": [
       "     A   B   C\n",
       "x    1   2   3\n",
       "y    4   5   6\n",
       "z    7   8   9\n",
       "zz  10  11  12"
      ]
     },
     "execution_count": 22,
     "metadata": {},
     "output_type": "execute_result"
    }
   ],
   "source": [
    "# Create a DataFrame with specified data, columns, and index\n",
    "df = pd.DataFrame([[1,2,3],[4,5,6],[7,8,9],[10,11,12]], columns=[\"A\", \"B\", \"C\"], index=[\"x\",\"y\",\"z\",'zz'])\n",
    "df"
   ]
  },
  {
   "cell_type": "code",
   "execution_count": 13,
   "metadata": {},
   "outputs": [
    {
     "data": {
      "application/vnd.microsoft.datawrangler.viewer.v0+json": {
       "columns": [
        {
         "name": "index",
         "rawType": "object",
         "type": "string"
        },
        {
         "name": "A",
         "rawType": "int64",
         "type": "integer"
        },
        {
         "name": "B",
         "rawType": "int64",
         "type": "integer"
        },
        {
         "name": "C",
         "rawType": "int64",
         "type": "integer"
        }
       ],
       "ref": "d59f02e3-a1cf-4203-a10a-38daaeabc337",
       "rows": [
        [
         "x",
         "1",
         "2",
         "3"
        ],
        [
         "y",
         "4",
         "5",
         "6"
        ],
        [
         "z",
         "7",
         "8",
         "9"
        ],
        [
         "zz",
         "10",
         "11",
         "12"
        ]
       ],
       "shape": {
        "columns": 3,
        "rows": 4
       }
      },
      "text/html": [
       "<div>\n",
       "<style scoped>\n",
       "    .dataframe tbody tr th:only-of-type {\n",
       "        vertical-align: middle;\n",
       "    }\n",
       "\n",
       "    .dataframe tbody tr th {\n",
       "        vertical-align: top;\n",
       "    }\n",
       "\n",
       "    .dataframe thead th {\n",
       "        text-align: right;\n",
       "    }\n",
       "</style>\n",
       "<table border=\"1\" class=\"dataframe\">\n",
       "  <thead>\n",
       "    <tr style=\"text-align: right;\">\n",
       "      <th></th>\n",
       "      <th>A</th>\n",
       "      <th>B</th>\n",
       "      <th>C</th>\n",
       "    </tr>\n",
       "  </thead>\n",
       "  <tbody>\n",
       "    <tr>\n",
       "      <th>x</th>\n",
       "      <td>1</td>\n",
       "      <td>2</td>\n",
       "      <td>3</td>\n",
       "    </tr>\n",
       "    <tr>\n",
       "      <th>y</th>\n",
       "      <td>4</td>\n",
       "      <td>5</td>\n",
       "      <td>6</td>\n",
       "    </tr>\n",
       "    <tr>\n",
       "      <th>z</th>\n",
       "      <td>7</td>\n",
       "      <td>8</td>\n",
       "      <td>9</td>\n",
       "    </tr>\n",
       "    <tr>\n",
       "      <th>zz</th>\n",
       "      <td>10</td>\n",
       "      <td>11</td>\n",
       "      <td>12</td>\n",
       "    </tr>\n",
       "  </tbody>\n",
       "</table>\n",
       "</div>"
      ],
      "text/plain": [
       "     A   B   C\n",
       "x    1   2   3\n",
       "y    4   5   6\n",
       "z    7   8   9\n",
       "zz  10  11  12"
      ]
     },
     "execution_count": 13,
     "metadata": {},
     "output_type": "execute_result"
    }
   ],
   "source": [
    "# Display the first few rows of the DataFrame\n",
    "df.head()"
   ]
  },
  {
   "cell_type": "code",
   "execution_count": 14,
   "metadata": {},
   "outputs": [
    {
     "data": {
      "application/vnd.microsoft.datawrangler.viewer.v0+json": {
       "columns": [
        {
         "name": "index",
         "rawType": "object",
         "type": "string"
        },
        {
         "name": "A",
         "rawType": "int64",
         "type": "integer"
        },
        {
         "name": "B",
         "rawType": "int64",
         "type": "integer"
        },
        {
         "name": "C",
         "rawType": "int64",
         "type": "integer"
        }
       ],
       "ref": "7d1b1e9c-3fe9-4589-a898-1fa61f519ad7",
       "rows": [
        [
         "z",
         "7",
         "8",
         "9"
        ],
        [
         "zz",
         "10",
         "11",
         "12"
        ]
       ],
       "shape": {
        "columns": 3,
        "rows": 2
       }
      },
      "text/html": [
       "<div>\n",
       "<style scoped>\n",
       "    .dataframe tbody tr th:only-of-type {\n",
       "        vertical-align: middle;\n",
       "    }\n",
       "\n",
       "    .dataframe tbody tr th {\n",
       "        vertical-align: top;\n",
       "    }\n",
       "\n",
       "    .dataframe thead th {\n",
       "        text-align: right;\n",
       "    }\n",
       "</style>\n",
       "<table border=\"1\" class=\"dataframe\">\n",
       "  <thead>\n",
       "    <tr style=\"text-align: right;\">\n",
       "      <th></th>\n",
       "      <th>A</th>\n",
       "      <th>B</th>\n",
       "      <th>C</th>\n",
       "    </tr>\n",
       "  </thead>\n",
       "  <tbody>\n",
       "    <tr>\n",
       "      <th>z</th>\n",
       "      <td>7</td>\n",
       "      <td>8</td>\n",
       "      <td>9</td>\n",
       "    </tr>\n",
       "    <tr>\n",
       "      <th>zz</th>\n",
       "      <td>10</td>\n",
       "      <td>11</td>\n",
       "      <td>12</td>\n",
       "    </tr>\n",
       "  </tbody>\n",
       "</table>\n",
       "</div>"
      ],
      "text/plain": [
       "     A   B   C\n",
       "z    7   8   9\n",
       "zz  10  11  12"
      ]
     },
     "execution_count": 14,
     "metadata": {},
     "output_type": "execute_result"
    }
   ],
   "source": [
    "# Display the last two rows of the DataFrame\n",
    "df.tail(2)"
   ]
  },
  {
   "cell_type": "code",
   "execution_count": null,
   "metadata": {},
   "outputs": [
    {
     "data": {
      "text/plain": [
       "Index(['A', 'B', 'C'], dtype='object')"
      ]
     },
     "execution_count": 15,
     "metadata": {},
     "output_type": "execute_result"
    }
   ],
   "source": [
    "# Display the DataFrame's columns\n",
    "df.columns"
   ]
  },
  {
   "cell_type": "code",
   "execution_count": 16,
   "metadata": {},
   "outputs": [
    {
     "data": {
      "text/plain": [
       "['x', 'y', 'z', 'zz']"
      ]
     },
     "execution_count": 16,
     "metadata": {},
     "output_type": "execute_result"
    }
   ],
   "source": [
    "# Display the DataFrame's index\n",
    "df.index.tolist()"
   ]
  },
  {
   "cell_type": "code",
   "execution_count": 17,
   "metadata": {},
   "outputs": [
    {
     "name": "stdout",
     "output_type": "stream",
     "text": [
      "<class 'pandas.core.frame.DataFrame'>\n",
      "Index: 4 entries, x to zz\n",
      "Data columns (total 3 columns):\n",
      " #   Column  Non-Null Count  Dtype\n",
      "---  ------  --------------  -----\n",
      " 0   A       4 non-null      int64\n",
      " 1   B       4 non-null      int64\n",
      " 2   C       4 non-null      int64\n",
      "dtypes: int64(3)\n",
      "memory usage: 128.0+ bytes\n"
     ]
    }
   ],
   "source": [
    "# Display the DataFrame's information\n",
    "df.info()"
   ]
  },
  {
   "cell_type": "code",
   "execution_count": 18,
   "metadata": {},
   "outputs": [
    {
     "data": {
      "application/vnd.microsoft.datawrangler.viewer.v0+json": {
       "columns": [
        {
         "name": "index",
         "rawType": "object",
         "type": "string"
        },
        {
         "name": "A",
         "rawType": "float64",
         "type": "float"
        },
        {
         "name": "B",
         "rawType": "float64",
         "type": "float"
        },
        {
         "name": "C",
         "rawType": "float64",
         "type": "float"
        }
       ],
       "ref": "69df1670-0e2e-4dde-b0c7-a5771853e04d",
       "rows": [
        [
         "count",
         "4.0",
         "4.0",
         "4.0"
        ],
        [
         "mean",
         "5.5",
         "6.5",
         "7.5"
        ],
        [
         "std",
         "3.872983346207417",
         "3.872983346207417",
         "3.872983346207417"
        ],
        [
         "min",
         "1.0",
         "2.0",
         "3.0"
        ],
        [
         "25%",
         "3.25",
         "4.25",
         "5.25"
        ],
        [
         "50%",
         "5.5",
         "6.5",
         "7.5"
        ],
        [
         "75%",
         "7.75",
         "8.75",
         "9.75"
        ],
        [
         "max",
         "10.0",
         "11.0",
         "12.0"
        ]
       ],
       "shape": {
        "columns": 3,
        "rows": 8
       }
      },
      "text/html": [
       "<div>\n",
       "<style scoped>\n",
       "    .dataframe tbody tr th:only-of-type {\n",
       "        vertical-align: middle;\n",
       "    }\n",
       "\n",
       "    .dataframe tbody tr th {\n",
       "        vertical-align: top;\n",
       "    }\n",
       "\n",
       "    .dataframe thead th {\n",
       "        text-align: right;\n",
       "    }\n",
       "</style>\n",
       "<table border=\"1\" class=\"dataframe\">\n",
       "  <thead>\n",
       "    <tr style=\"text-align: right;\">\n",
       "      <th></th>\n",
       "      <th>A</th>\n",
       "      <th>B</th>\n",
       "      <th>C</th>\n",
       "    </tr>\n",
       "  </thead>\n",
       "  <tbody>\n",
       "    <tr>\n",
       "      <th>count</th>\n",
       "      <td>4.000000</td>\n",
       "      <td>4.000000</td>\n",
       "      <td>4.000000</td>\n",
       "    </tr>\n",
       "    <tr>\n",
       "      <th>mean</th>\n",
       "      <td>5.500000</td>\n",
       "      <td>6.500000</td>\n",
       "      <td>7.500000</td>\n",
       "    </tr>\n",
       "    <tr>\n",
       "      <th>std</th>\n",
       "      <td>3.872983</td>\n",
       "      <td>3.872983</td>\n",
       "      <td>3.872983</td>\n",
       "    </tr>\n",
       "    <tr>\n",
       "      <th>min</th>\n",
       "      <td>1.000000</td>\n",
       "      <td>2.000000</td>\n",
       "      <td>3.000000</td>\n",
       "    </tr>\n",
       "    <tr>\n",
       "      <th>25%</th>\n",
       "      <td>3.250000</td>\n",
       "      <td>4.250000</td>\n",
       "      <td>5.250000</td>\n",
       "    </tr>\n",
       "    <tr>\n",
       "      <th>50%</th>\n",
       "      <td>5.500000</td>\n",
       "      <td>6.500000</td>\n",
       "      <td>7.500000</td>\n",
       "    </tr>\n",
       "    <tr>\n",
       "      <th>75%</th>\n",
       "      <td>7.750000</td>\n",
       "      <td>8.750000</td>\n",
       "      <td>9.750000</td>\n",
       "    </tr>\n",
       "    <tr>\n",
       "      <th>max</th>\n",
       "      <td>10.000000</td>\n",
       "      <td>11.000000</td>\n",
       "      <td>12.000000</td>\n",
       "    </tr>\n",
       "  </tbody>\n",
       "</table>\n",
       "</div>"
      ],
      "text/plain": [
       "               A          B          C\n",
       "count   4.000000   4.000000   4.000000\n",
       "mean    5.500000   6.500000   7.500000\n",
       "std     3.872983   3.872983   3.872983\n",
       "min     1.000000   2.000000   3.000000\n",
       "25%     3.250000   4.250000   5.250000\n",
       "50%     5.500000   6.500000   7.500000\n",
       "75%     7.750000   8.750000   9.750000\n",
       "max    10.000000  11.000000  12.000000"
      ]
     },
     "execution_count": 18,
     "metadata": {},
     "output_type": "execute_result"
    }
   ],
   "source": [
    "# Display the DataFrame's descriptive statistics\n",
    "df.describe()"
   ]
  },
  {
   "cell_type": "code",
   "execution_count": 19,
   "metadata": {},
   "outputs": [
    {
     "data": {
      "application/vnd.microsoft.datawrangler.viewer.v0+json": {
       "columns": [
        {
         "name": "index",
         "rawType": "object",
         "type": "string"
        },
        {
         "name": "0",
         "rawType": "int64",
         "type": "integer"
        }
       ],
       "ref": "395fc852-44a0-489a-abc4-d20e2f192bc4",
       "rows": [
        [
         "A",
         "4"
        ],
        [
         "B",
         "4"
        ],
        [
         "C",
         "4"
        ]
       ],
       "shape": {
        "columns": 1,
        "rows": 3
       }
      },
      "text/plain": [
       "A    4\n",
       "B    4\n",
       "C    4\n",
       "dtype: int64"
      ]
     },
     "execution_count": 19,
     "metadata": {},
     "output_type": "execute_result"
    }
   ],
   "source": [
    "# Display the DataFrame's shape\n",
    "df.nunique()"
   ]
  },
  {
   "cell_type": "code",
   "execution_count": 21,
   "metadata": {},
   "outputs": [
    {
     "data": {
      "text/plain": [
       "array([ 1,  4,  7, 10])"
      ]
     },
     "execution_count": 21,
     "metadata": {},
     "output_type": "execute_result"
    }
   ],
   "source": [
    "# Display the unique values in column 'A'\n",
    "df['A'].unique()"
   ]
  },
  {
   "cell_type": "code",
   "execution_count": 23,
   "metadata": {},
   "outputs": [
    {
     "data": {
      "text/plain": [
       "(4, 3)"
      ]
     },
     "execution_count": 23,
     "metadata": {},
     "output_type": "execute_result"
    }
   ],
   "source": [
    "# Display the shape of the DataFrame\n",
    "df.shape"
   ]
  },
  {
   "cell_type": "code",
   "execution_count": 24,
   "metadata": {},
   "outputs": [
    {
     "data": {
      "text/plain": [
       "12"
      ]
     },
     "execution_count": 24,
     "metadata": {},
     "output_type": "execute_result"
    }
   ],
   "source": [
    "# Display the size of the DataFrame\n",
    "df.size"
   ]
  },
  {
   "cell_type": "markdown",
   "metadata": {},
   "source": [
    "## Loading in Dataframes from Files"
   ]
  },
  {
   "cell_type": "code",
   "execution_count": null,
   "metadata": {},
   "outputs": [],
   "source": [
    "# Load external data csv files\n",
    "coffee = pd.read_csv('warmup-data/coffee.csv')"
   ]
  },
  {
   "cell_type": "code",
   "execution_count": 38,
   "metadata": {},
   "outputs": [],
   "source": [
    "# Load external data parquet files\n",
    "results = pd.read_parquet('data/external/results.parquet')"
   ]
  },
  {
   "cell_type": "code",
   "execution_count": 39,
   "metadata": {},
   "outputs": [],
   "source": [
    "# Load external data csv files\n",
    "bios = pd.read_csv('data/external/bios.csv')"
   ]
  },
  {
   "cell_type": "code",
   "execution_count": 37,
   "metadata": {},
   "outputs": [],
   "source": [
    "## To read an excel spreadsheet\n",
    "olympics_data = pd.read_excel('data/external/olympics-data.xlsx', sheet_name=\"results\")"
   ]
  },
  {
   "cell_type": "markdown",
   "metadata": {},
   "source": [
    "## Accessing Data with Pandas"
   ]
  },
  {
   "cell_type": "code",
   "execution_count": 40,
   "metadata": {},
   "outputs": [
    {
     "name": "stdout",
     "output_type": "stream",
     "text": [
      "          Day Coffee Type  Units Sold\n",
      "0      Monday    Espresso          25\n",
      "1      Monday       Latte          15\n",
      "2     Tuesday    Espresso          30\n",
      "3     Tuesday       Latte          20\n",
      "4   Wednesday    Espresso          35\n",
      "5   Wednesday       Latte          25\n",
      "6    Thursday    Espresso          40\n",
      "7    Thursday       Latte          30\n",
      "8      Friday    Espresso          45\n",
      "9      Friday       Latte          35\n",
      "10   Saturday    Espresso          45\n",
      "11   Saturday       Latte          35\n",
      "12     Sunday    Espresso          45\n",
      "13     Sunday       Latte          35\n"
     ]
    }
   ],
   "source": [
    "# Display the DataFrame\n",
    "print(coffee)"
   ]
  },
  {
   "cell_type": "code",
   "execution_count": 43,
   "metadata": {},
   "outputs": [
    {
     "data": {
      "application/vnd.microsoft.datawrangler.viewer.v0+json": {
       "columns": [
        {
         "name": "index",
         "rawType": "int64",
         "type": "integer"
        },
        {
         "name": "Day",
         "rawType": "object",
         "type": "string"
        },
        {
         "name": "Coffee Type",
         "rawType": "object",
         "type": "string"
        },
        {
         "name": "Units Sold",
         "rawType": "int64",
         "type": "integer"
        }
       ],
       "ref": "0c0d1845-7f9b-4d0f-a8b8-2d31984bb57a",
       "rows": [
        [
         "0",
         "Monday",
         "Espresso",
         "25"
        ],
        [
         "1",
         "Monday",
         "Latte",
         "15"
        ],
        [
         "2",
         "Tuesday",
         "Espresso",
         "30"
        ],
        [
         "3",
         "Tuesday",
         "Latte",
         "20"
        ],
        [
         "4",
         "Wednesday",
         "Espresso",
         "35"
        ],
        [
         "5",
         "Wednesday",
         "Latte",
         "25"
        ],
        [
         "6",
         "Thursday",
         "Espresso",
         "40"
        ],
        [
         "7",
         "Thursday",
         "Latte",
         "30"
        ],
        [
         "8",
         "Friday",
         "Espresso",
         "45"
        ],
        [
         "9",
         "Friday",
         "Latte",
         "35"
        ],
        [
         "10",
         "Saturday",
         "Espresso",
         "45"
        ],
        [
         "11",
         "Saturday",
         "Latte",
         "35"
        ],
        [
         "12",
         "Sunday",
         "Espresso",
         "45"
        ],
        [
         "13",
         "Sunday",
         "Latte",
         "35"
        ]
       ],
       "shape": {
        "columns": 3,
        "rows": 14
       }
      },
      "text/html": [
       "<div>\n",
       "<style scoped>\n",
       "    .dataframe tbody tr th:only-of-type {\n",
       "        vertical-align: middle;\n",
       "    }\n",
       "\n",
       "    .dataframe tbody tr th {\n",
       "        vertical-align: top;\n",
       "    }\n",
       "\n",
       "    .dataframe thead th {\n",
       "        text-align: right;\n",
       "    }\n",
       "</style>\n",
       "<table border=\"1\" class=\"dataframe\">\n",
       "  <thead>\n",
       "    <tr style=\"text-align: right;\">\n",
       "      <th></th>\n",
       "      <th>Day</th>\n",
       "      <th>Coffee Type</th>\n",
       "      <th>Units Sold</th>\n",
       "    </tr>\n",
       "  </thead>\n",
       "  <tbody>\n",
       "    <tr>\n",
       "      <th>0</th>\n",
       "      <td>Monday</td>\n",
       "      <td>Espresso</td>\n",
       "      <td>25</td>\n",
       "    </tr>\n",
       "    <tr>\n",
       "      <th>1</th>\n",
       "      <td>Monday</td>\n",
       "      <td>Latte</td>\n",
       "      <td>15</td>\n",
       "    </tr>\n",
       "    <tr>\n",
       "      <th>2</th>\n",
       "      <td>Tuesday</td>\n",
       "      <td>Espresso</td>\n",
       "      <td>30</td>\n",
       "    </tr>\n",
       "    <tr>\n",
       "      <th>3</th>\n",
       "      <td>Tuesday</td>\n",
       "      <td>Latte</td>\n",
       "      <td>20</td>\n",
       "    </tr>\n",
       "    <tr>\n",
       "      <th>4</th>\n",
       "      <td>Wednesday</td>\n",
       "      <td>Espresso</td>\n",
       "      <td>35</td>\n",
       "    </tr>\n",
       "    <tr>\n",
       "      <th>5</th>\n",
       "      <td>Wednesday</td>\n",
       "      <td>Latte</td>\n",
       "      <td>25</td>\n",
       "    </tr>\n",
       "    <tr>\n",
       "      <th>6</th>\n",
       "      <td>Thursday</td>\n",
       "      <td>Espresso</td>\n",
       "      <td>40</td>\n",
       "    </tr>\n",
       "    <tr>\n",
       "      <th>7</th>\n",
       "      <td>Thursday</td>\n",
       "      <td>Latte</td>\n",
       "      <td>30</td>\n",
       "    </tr>\n",
       "    <tr>\n",
       "      <th>8</th>\n",
       "      <td>Friday</td>\n",
       "      <td>Espresso</td>\n",
       "      <td>45</td>\n",
       "    </tr>\n",
       "    <tr>\n",
       "      <th>9</th>\n",
       "      <td>Friday</td>\n",
       "      <td>Latte</td>\n",
       "      <td>35</td>\n",
       "    </tr>\n",
       "    <tr>\n",
       "      <th>10</th>\n",
       "      <td>Saturday</td>\n",
       "      <td>Espresso</td>\n",
       "      <td>45</td>\n",
       "    </tr>\n",
       "    <tr>\n",
       "      <th>11</th>\n",
       "      <td>Saturday</td>\n",
       "      <td>Latte</td>\n",
       "      <td>35</td>\n",
       "    </tr>\n",
       "    <tr>\n",
       "      <th>12</th>\n",
       "      <td>Sunday</td>\n",
       "      <td>Espresso</td>\n",
       "      <td>45</td>\n",
       "    </tr>\n",
       "    <tr>\n",
       "      <th>13</th>\n",
       "      <td>Sunday</td>\n",
       "      <td>Latte</td>\n",
       "      <td>35</td>\n",
       "    </tr>\n",
       "  </tbody>\n",
       "</table>\n",
       "</div>"
      ],
      "text/plain": [
       "          Day Coffee Type  Units Sold\n",
       "0      Monday    Espresso          25\n",
       "1      Monday       Latte          15\n",
       "2     Tuesday    Espresso          30\n",
       "3     Tuesday       Latte          20\n",
       "4   Wednesday    Espresso          35\n",
       "5   Wednesday       Latte          25\n",
       "6    Thursday    Espresso          40\n",
       "7    Thursday       Latte          30\n",
       "8      Friday    Espresso          45\n",
       "9      Friday       Latte          35\n",
       "10   Saturday    Espresso          45\n",
       "11   Saturday       Latte          35\n",
       "12     Sunday    Espresso          45\n",
       "13     Sunday       Latte          35"
      ]
     },
     "metadata": {},
     "output_type": "display_data"
    }
   ],
   "source": [
    "# Display the DataFrame using IPython's display function\n",
    "display(coffee) #"
   ]
  },
  {
   "cell_type": "code",
   "execution_count": 44,
   "metadata": {},
   "outputs": [
    {
     "data": {
      "application/vnd.microsoft.datawrangler.viewer.v0+json": {
       "columns": [
        {
         "name": "index",
         "rawType": "int64",
         "type": "integer"
        },
        {
         "name": "Day",
         "rawType": "object",
         "type": "string"
        },
        {
         "name": "Coffee Type",
         "rawType": "object",
         "type": "string"
        },
        {
         "name": "Units Sold",
         "rawType": "int64",
         "type": "integer"
        }
       ],
       "ref": "4329ffd4-ac56-4633-bd74-689149adfbde",
       "rows": [
        [
         "0",
         "Monday",
         "Espresso",
         "25"
        ],
        [
         "1",
         "Monday",
         "Latte",
         "15"
        ],
        [
         "2",
         "Tuesday",
         "Espresso",
         "30"
        ],
        [
         "3",
         "Tuesday",
         "Latte",
         "20"
        ],
        [
         "4",
         "Wednesday",
         "Espresso",
         "35"
        ]
       ],
       "shape": {
        "columns": 3,
        "rows": 5
       }
      },
      "text/html": [
       "<div>\n",
       "<style scoped>\n",
       "    .dataframe tbody tr th:only-of-type {\n",
       "        vertical-align: middle;\n",
       "    }\n",
       "\n",
       "    .dataframe tbody tr th {\n",
       "        vertical-align: top;\n",
       "    }\n",
       "\n",
       "    .dataframe thead th {\n",
       "        text-align: right;\n",
       "    }\n",
       "</style>\n",
       "<table border=\"1\" class=\"dataframe\">\n",
       "  <thead>\n",
       "    <tr style=\"text-align: right;\">\n",
       "      <th></th>\n",
       "      <th>Day</th>\n",
       "      <th>Coffee Type</th>\n",
       "      <th>Units Sold</th>\n",
       "    </tr>\n",
       "  </thead>\n",
       "  <tbody>\n",
       "    <tr>\n",
       "      <th>0</th>\n",
       "      <td>Monday</td>\n",
       "      <td>Espresso</td>\n",
       "      <td>25</td>\n",
       "    </tr>\n",
       "    <tr>\n",
       "      <th>1</th>\n",
       "      <td>Monday</td>\n",
       "      <td>Latte</td>\n",
       "      <td>15</td>\n",
       "    </tr>\n",
       "    <tr>\n",
       "      <th>2</th>\n",
       "      <td>Tuesday</td>\n",
       "      <td>Espresso</td>\n",
       "      <td>30</td>\n",
       "    </tr>\n",
       "    <tr>\n",
       "      <th>3</th>\n",
       "      <td>Tuesday</td>\n",
       "      <td>Latte</td>\n",
       "      <td>20</td>\n",
       "    </tr>\n",
       "    <tr>\n",
       "      <th>4</th>\n",
       "      <td>Wednesday</td>\n",
       "      <td>Espresso</td>\n",
       "      <td>35</td>\n",
       "    </tr>\n",
       "  </tbody>\n",
       "</table>\n",
       "</div>"
      ],
      "text/plain": [
       "         Day Coffee Type  Units Sold\n",
       "0     Monday    Espresso          25\n",
       "1     Monday       Latte          15\n",
       "2    Tuesday    Espresso          30\n",
       "3    Tuesday       Latte          20\n",
       "4  Wednesday    Espresso          35"
      ]
     },
     "execution_count": 44,
     "metadata": {},
     "output_type": "execute_result"
    }
   ],
   "source": [
    "# Display the first few rows of the coffee DataFrame\n",
    "coffee.head()"
   ]
  },
  {
   "cell_type": "code",
   "execution_count": null,
   "metadata": {},
   "outputs": [],
   "source": [
    "# Display the last 10 rows of the coffee DataFrame\n",
    "coffee.tail(10)"
   ]
  },
  {
   "cell_type": "code",
   "execution_count": 45,
   "metadata": {},
   "outputs": [
    {
     "data": {
      "application/vnd.microsoft.datawrangler.viewer.v0+json": {
       "columns": [
        {
         "name": "index",
         "rawType": "int64",
         "type": "integer"
        },
        {
         "name": "Day",
         "rawType": "object",
         "type": "string"
        },
        {
         "name": "Coffee Type",
         "rawType": "object",
         "type": "string"
        },
        {
         "name": "Units Sold",
         "rawType": "int64",
         "type": "integer"
        }
       ],
       "ref": "514ebbe8-bfdd-48d0-9aac-b5d60fe67af7",
       "rows": [
        [
         "5",
         "Wednesday",
         "Latte",
         "25"
        ],
        [
         "7",
         "Thursday",
         "Latte",
         "30"
        ],
        [
         "9",
         "Friday",
         "Latte",
         "35"
        ],
        [
         "3",
         "Tuesday",
         "Latte",
         "20"
        ],
        [
         "12",
         "Sunday",
         "Espresso",
         "45"
        ]
       ],
       "shape": {
        "columns": 3,
        "rows": 5
       }
      },
      "text/html": [
       "<div>\n",
       "<style scoped>\n",
       "    .dataframe tbody tr th:only-of-type {\n",
       "        vertical-align: middle;\n",
       "    }\n",
       "\n",
       "    .dataframe tbody tr th {\n",
       "        vertical-align: top;\n",
       "    }\n",
       "\n",
       "    .dataframe thead th {\n",
       "        text-align: right;\n",
       "    }\n",
       "</style>\n",
       "<table border=\"1\" class=\"dataframe\">\n",
       "  <thead>\n",
       "    <tr style=\"text-align: right;\">\n",
       "      <th></th>\n",
       "      <th>Day</th>\n",
       "      <th>Coffee Type</th>\n",
       "      <th>Units Sold</th>\n",
       "    </tr>\n",
       "  </thead>\n",
       "  <tbody>\n",
       "    <tr>\n",
       "      <th>5</th>\n",
       "      <td>Wednesday</td>\n",
       "      <td>Latte</td>\n",
       "      <td>25</td>\n",
       "    </tr>\n",
       "    <tr>\n",
       "      <th>7</th>\n",
       "      <td>Thursday</td>\n",
       "      <td>Latte</td>\n",
       "      <td>30</td>\n",
       "    </tr>\n",
       "    <tr>\n",
       "      <th>9</th>\n",
       "      <td>Friday</td>\n",
       "      <td>Latte</td>\n",
       "      <td>35</td>\n",
       "    </tr>\n",
       "    <tr>\n",
       "      <th>3</th>\n",
       "      <td>Tuesday</td>\n",
       "      <td>Latte</td>\n",
       "      <td>20</td>\n",
       "    </tr>\n",
       "    <tr>\n",
       "      <th>12</th>\n",
       "      <td>Sunday</td>\n",
       "      <td>Espresso</td>\n",
       "      <td>45</td>\n",
       "    </tr>\n",
       "  </tbody>\n",
       "</table>\n",
       "</div>"
      ],
      "text/plain": [
       "          Day Coffee Type  Units Sold\n",
       "5   Wednesday       Latte          25\n",
       "7    Thursday       Latte          30\n",
       "9      Friday       Latte          35\n",
       "3     Tuesday       Latte          20\n",
       "12     Sunday    Espresso          45"
      ]
     },
     "execution_count": 45,
     "metadata": {},
     "output_type": "execute_result"
    }
   ],
   "source": [
    "# Pass in random_state to make deterministic\n",
    "coffee.sample(5) "
   ]
  },
  {
   "cell_type": "code",
   "execution_count": 46,
   "metadata": {},
   "outputs": [
    {
     "data": {
      "application/vnd.microsoft.datawrangler.viewer.v0+json": {
       "columns": [
        {
         "name": "index",
         "rawType": "object",
         "type": "string"
        },
        {
         "name": "0",
         "rawType": "object",
         "type": "unknown"
        }
       ],
       "ref": "845c3516-2719-4aac-88e8-9aa49e4a6fd4",
       "rows": [
        [
         "Day",
         "Monday"
        ],
        [
         "Coffee Type",
         "Espresso"
        ],
        [
         "Units Sold",
         "25"
        ]
       ],
       "shape": {
        "columns": 1,
        "rows": 3
       }
      },
      "text/plain": [
       "Day              Monday\n",
       "Coffee Type    Espresso\n",
       "Units Sold           25\n",
       "Name: 0, dtype: object"
      ]
     },
     "execution_count": 46,
     "metadata": {},
     "output_type": "execute_result"
    }
   ],
   "source": [
    "# loc\n",
    "# coffee.loc[Rows, Columns]\n",
    "coffee.loc[0]"
   ]
  },
  {
   "cell_type": "code",
   "execution_count": 48,
   "metadata": {},
   "outputs": [
    {
     "data": {
      "application/vnd.microsoft.datawrangler.viewer.v0+json": {
       "columns": [
        {
         "name": "index",
         "rawType": "int64",
         "type": "integer"
        },
        {
         "name": "Day",
         "rawType": "object",
         "type": "string"
        },
        {
         "name": "Coffee Type",
         "rawType": "object",
         "type": "string"
        },
        {
         "name": "Units Sold",
         "rawType": "int64",
         "type": "integer"
        }
       ],
       "ref": "af831f85-d136-4425-b884-7a7e300b23a3",
       "rows": [
        [
         "0",
         "Monday",
         "Espresso",
         "25"
        ],
        [
         "1",
         "Monday",
         "Latte",
         "15"
        ],
        [
         "5",
         "Wednesday",
         "Latte",
         "25"
        ]
       ],
       "shape": {
        "columns": 3,
        "rows": 3
       }
      },
      "text/html": [
       "<div>\n",
       "<style scoped>\n",
       "    .dataframe tbody tr th:only-of-type {\n",
       "        vertical-align: middle;\n",
       "    }\n",
       "\n",
       "    .dataframe tbody tr th {\n",
       "        vertical-align: top;\n",
       "    }\n",
       "\n",
       "    .dataframe thead th {\n",
       "        text-align: right;\n",
       "    }\n",
       "</style>\n",
       "<table border=\"1\" class=\"dataframe\">\n",
       "  <thead>\n",
       "    <tr style=\"text-align: right;\">\n",
       "      <th></th>\n",
       "      <th>Day</th>\n",
       "      <th>Coffee Type</th>\n",
       "      <th>Units Sold</th>\n",
       "    </tr>\n",
       "  </thead>\n",
       "  <tbody>\n",
       "    <tr>\n",
       "      <th>0</th>\n",
       "      <td>Monday</td>\n",
       "      <td>Espresso</td>\n",
       "      <td>25</td>\n",
       "    </tr>\n",
       "    <tr>\n",
       "      <th>1</th>\n",
       "      <td>Monday</td>\n",
       "      <td>Latte</td>\n",
       "      <td>15</td>\n",
       "    </tr>\n",
       "    <tr>\n",
       "      <th>5</th>\n",
       "      <td>Wednesday</td>\n",
       "      <td>Latte</td>\n",
       "      <td>25</td>\n",
       "    </tr>\n",
       "  </tbody>\n",
       "</table>\n",
       "</div>"
      ],
      "text/plain": [
       "         Day Coffee Type  Units Sold\n",
       "0     Monday    Espresso          25\n",
       "1     Monday       Latte          15\n",
       "5  Wednesday       Latte          25"
      ]
     },
     "execution_count": 48,
     "metadata": {},
     "output_type": "execute_result"
    }
   ],
   "source": [
    "# Display specific rows loc\n",
    "coffee.loc[[0,1,5]]"
   ]
  },
  {
   "cell_type": "code",
   "execution_count": 49,
   "metadata": {},
   "outputs": [
    {
     "data": {
      "application/vnd.microsoft.datawrangler.viewer.v0+json": {
       "columns": [
        {
         "name": "index",
         "rawType": "int64",
         "type": "integer"
        },
        {
         "name": "Day",
         "rawType": "object",
         "type": "string"
        },
        {
         "name": "Units Sold",
         "rawType": "int64",
         "type": "integer"
        }
       ],
       "ref": "42f28894-c4cf-4ab2-b061-599663775d52",
       "rows": [
        [
         "5",
         "Wednesday",
         "25"
        ],
        [
         "6",
         "Thursday",
         "40"
        ],
        [
         "7",
         "Thursday",
         "30"
        ],
        [
         "8",
         "Friday",
         "45"
        ],
        [
         "9",
         "Friday",
         "35"
        ]
       ],
       "shape": {
        "columns": 2,
        "rows": 5
       }
      },
      "text/html": [
       "<div>\n",
       "<style scoped>\n",
       "    .dataframe tbody tr th:only-of-type {\n",
       "        vertical-align: middle;\n",
       "    }\n",
       "\n",
       "    .dataframe tbody tr th {\n",
       "        vertical-align: top;\n",
       "    }\n",
       "\n",
       "    .dataframe thead th {\n",
       "        text-align: right;\n",
       "    }\n",
       "</style>\n",
       "<table border=\"1\" class=\"dataframe\">\n",
       "  <thead>\n",
       "    <tr style=\"text-align: right;\">\n",
       "      <th></th>\n",
       "      <th>Day</th>\n",
       "      <th>Units Sold</th>\n",
       "    </tr>\n",
       "  </thead>\n",
       "  <tbody>\n",
       "    <tr>\n",
       "      <th>5</th>\n",
       "      <td>Wednesday</td>\n",
       "      <td>25</td>\n",
       "    </tr>\n",
       "    <tr>\n",
       "      <th>6</th>\n",
       "      <td>Thursday</td>\n",
       "      <td>40</td>\n",
       "    </tr>\n",
       "    <tr>\n",
       "      <th>7</th>\n",
       "      <td>Thursday</td>\n",
       "      <td>30</td>\n",
       "    </tr>\n",
       "    <tr>\n",
       "      <th>8</th>\n",
       "      <td>Friday</td>\n",
       "      <td>45</td>\n",
       "    </tr>\n",
       "    <tr>\n",
       "      <th>9</th>\n",
       "      <td>Friday</td>\n",
       "      <td>35</td>\n",
       "    </tr>\n",
       "  </tbody>\n",
       "</table>\n",
       "</div>"
      ],
      "text/plain": [
       "         Day  Units Sold\n",
       "5  Wednesday          25\n",
       "6   Thursday          40\n",
       "7   Thursday          30\n",
       "8     Friday          45\n",
       "9     Friday          35"
      ]
     },
     "execution_count": 49,
     "metadata": {},
     "output_type": "execute_result"
    }
   ],
   "source": [
    "# Display specific rows and columns loc\n",
    "coffee.loc[5:9, [\"Day\", \"Units Sold\"]]"
   ]
  },
  {
   "cell_type": "markdown",
   "metadata": {},
   "source": [
    "#### iloc"
   ]
  },
  {
   "cell_type": "code",
   "execution_count": 51,
   "metadata": {},
   "outputs": [
    {
     "data": {
      "application/vnd.microsoft.datawrangler.viewer.v0+json": {
       "columns": [
        {
         "name": "index",
         "rawType": "int64",
         "type": "integer"
        },
        {
         "name": "Day",
         "rawType": "object",
         "type": "string"
        },
        {
         "name": "Units Sold",
         "rawType": "int64",
         "type": "integer"
        }
       ],
       "ref": "4d46d2bd-d202-4c34-9de5-9ec28c7cd4b7",
       "rows": [
        [
         "0",
         "Monday",
         "25"
        ],
        [
         "1",
         "Monday",
         "15"
        ],
        [
         "2",
         "Tuesday",
         "30"
        ],
        [
         "3",
         "Tuesday",
         "20"
        ],
        [
         "4",
         "Wednesday",
         "35"
        ],
        [
         "5",
         "Wednesday",
         "25"
        ],
        [
         "6",
         "Thursday",
         "40"
        ],
        [
         "7",
         "Thursday",
         "30"
        ],
        [
         "8",
         "Friday",
         "45"
        ],
        [
         "9",
         "Friday",
         "35"
        ],
        [
         "10",
         "Saturday",
         "45"
        ],
        [
         "11",
         "Saturday",
         "35"
        ],
        [
         "12",
         "Sunday",
         "45"
        ],
        [
         "13",
         "Sunday",
         "35"
        ]
       ],
       "shape": {
        "columns": 2,
        "rows": 14
       }
      },
      "text/html": [
       "<div>\n",
       "<style scoped>\n",
       "    .dataframe tbody tr th:only-of-type {\n",
       "        vertical-align: middle;\n",
       "    }\n",
       "\n",
       "    .dataframe tbody tr th {\n",
       "        vertical-align: top;\n",
       "    }\n",
       "\n",
       "    .dataframe thead th {\n",
       "        text-align: right;\n",
       "    }\n",
       "</style>\n",
       "<table border=\"1\" class=\"dataframe\">\n",
       "  <thead>\n",
       "    <tr style=\"text-align: right;\">\n",
       "      <th></th>\n",
       "      <th>Day</th>\n",
       "      <th>Units Sold</th>\n",
       "    </tr>\n",
       "  </thead>\n",
       "  <tbody>\n",
       "    <tr>\n",
       "      <th>0</th>\n",
       "      <td>Monday</td>\n",
       "      <td>25</td>\n",
       "    </tr>\n",
       "    <tr>\n",
       "      <th>1</th>\n",
       "      <td>Monday</td>\n",
       "      <td>15</td>\n",
       "    </tr>\n",
       "    <tr>\n",
       "      <th>2</th>\n",
       "      <td>Tuesday</td>\n",
       "      <td>30</td>\n",
       "    </tr>\n",
       "    <tr>\n",
       "      <th>3</th>\n",
       "      <td>Tuesday</td>\n",
       "      <td>20</td>\n",
       "    </tr>\n",
       "    <tr>\n",
       "      <th>4</th>\n",
       "      <td>Wednesday</td>\n",
       "      <td>35</td>\n",
       "    </tr>\n",
       "    <tr>\n",
       "      <th>5</th>\n",
       "      <td>Wednesday</td>\n",
       "      <td>25</td>\n",
       "    </tr>\n",
       "    <tr>\n",
       "      <th>6</th>\n",
       "      <td>Thursday</td>\n",
       "      <td>40</td>\n",
       "    </tr>\n",
       "    <tr>\n",
       "      <th>7</th>\n",
       "      <td>Thursday</td>\n",
       "      <td>30</td>\n",
       "    </tr>\n",
       "    <tr>\n",
       "      <th>8</th>\n",
       "      <td>Friday</td>\n",
       "      <td>45</td>\n",
       "    </tr>\n",
       "    <tr>\n",
       "      <th>9</th>\n",
       "      <td>Friday</td>\n",
       "      <td>35</td>\n",
       "    </tr>\n",
       "    <tr>\n",
       "      <th>10</th>\n",
       "      <td>Saturday</td>\n",
       "      <td>45</td>\n",
       "    </tr>\n",
       "    <tr>\n",
       "      <th>11</th>\n",
       "      <td>Saturday</td>\n",
       "      <td>35</td>\n",
       "    </tr>\n",
       "    <tr>\n",
       "      <th>12</th>\n",
       "      <td>Sunday</td>\n",
       "      <td>45</td>\n",
       "    </tr>\n",
       "    <tr>\n",
       "      <th>13</th>\n",
       "      <td>Sunday</td>\n",
       "      <td>35</td>\n",
       "    </tr>\n",
       "  </tbody>\n",
       "</table>\n",
       "</div>"
      ],
      "text/plain": [
       "          Day  Units Sold\n",
       "0      Monday          25\n",
       "1      Monday          15\n",
       "2     Tuesday          30\n",
       "3     Tuesday          20\n",
       "4   Wednesday          35\n",
       "5   Wednesday          25\n",
       "6    Thursday          40\n",
       "7    Thursday          30\n",
       "8      Friday          45\n",
       "9      Friday          35\n",
       "10   Saturday          45\n",
       "11   Saturday          35\n",
       "12     Sunday          45\n",
       "13     Sunday          35"
      ]
     },
     "execution_count": 51,
     "metadata": {},
     "output_type": "execute_result"
    }
   ],
   "source": [
    "# Display specific columns using iloc\n",
    "coffee.iloc[:, [0,2]]"
   ]
  },
  {
   "cell_type": "markdown",
   "metadata": {},
   "source": [
    "#### Other Stuff"
   ]
  },
  {
   "cell_type": "code",
   "execution_count": 53,
   "metadata": {},
   "outputs": [],
   "source": [
    "coffee.index = coffee[\"Day\"] # Set the index to the \"Day\" column"
   ]
  },
  {
   "cell_type": "code",
   "execution_count": 54,
   "metadata": {},
   "outputs": [
    {
     "data": {
      "application/vnd.microsoft.datawrangler.viewer.v0+json": {
       "columns": [
        {
         "name": "Day",
         "rawType": "object",
         "type": "string"
        },
        {
         "name": "Day",
         "rawType": "object",
         "type": "string"
        },
        {
         "name": "Coffee Type",
         "rawType": "object",
         "type": "string"
        },
        {
         "name": "Units Sold",
         "rawType": "int64",
         "type": "integer"
        }
       ],
       "ref": "6f902336-a219-4fcd-b7b2-8bd7aa560729",
       "rows": [
        [
         "Monday",
         "Monday",
         "Espresso",
         "25"
        ],
        [
         "Monday",
         "Monday",
         "Latte",
         "15"
        ],
        [
         "Tuesday",
         "Tuesday",
         "Espresso",
         "30"
        ],
        [
         "Tuesday",
         "Tuesday",
         "Latte",
         "20"
        ],
        [
         "Wednesday",
         "Wednesday",
         "Espresso",
         "35"
        ],
        [
         "Wednesday",
         "Wednesday",
         "Latte",
         "25"
        ]
       ],
       "shape": {
        "columns": 3,
        "rows": 6
       }
      },
      "text/html": [
       "<div>\n",
       "<style scoped>\n",
       "    .dataframe tbody tr th:only-of-type {\n",
       "        vertical-align: middle;\n",
       "    }\n",
       "\n",
       "    .dataframe tbody tr th {\n",
       "        vertical-align: top;\n",
       "    }\n",
       "\n",
       "    .dataframe thead th {\n",
       "        text-align: right;\n",
       "    }\n",
       "</style>\n",
       "<table border=\"1\" class=\"dataframe\">\n",
       "  <thead>\n",
       "    <tr style=\"text-align: right;\">\n",
       "      <th></th>\n",
       "      <th>Day</th>\n",
       "      <th>Coffee Type</th>\n",
       "      <th>Units Sold</th>\n",
       "    </tr>\n",
       "    <tr>\n",
       "      <th>Day</th>\n",
       "      <th></th>\n",
       "      <th></th>\n",
       "      <th></th>\n",
       "    </tr>\n",
       "  </thead>\n",
       "  <tbody>\n",
       "    <tr>\n",
       "      <th>Monday</th>\n",
       "      <td>Monday</td>\n",
       "      <td>Espresso</td>\n",
       "      <td>25</td>\n",
       "    </tr>\n",
       "    <tr>\n",
       "      <th>Monday</th>\n",
       "      <td>Monday</td>\n",
       "      <td>Latte</td>\n",
       "      <td>15</td>\n",
       "    </tr>\n",
       "    <tr>\n",
       "      <th>Tuesday</th>\n",
       "      <td>Tuesday</td>\n",
       "      <td>Espresso</td>\n",
       "      <td>30</td>\n",
       "    </tr>\n",
       "    <tr>\n",
       "      <th>Tuesday</th>\n",
       "      <td>Tuesday</td>\n",
       "      <td>Latte</td>\n",
       "      <td>20</td>\n",
       "    </tr>\n",
       "    <tr>\n",
       "      <th>Wednesday</th>\n",
       "      <td>Wednesday</td>\n",
       "      <td>Espresso</td>\n",
       "      <td>35</td>\n",
       "    </tr>\n",
       "    <tr>\n",
       "      <th>Wednesday</th>\n",
       "      <td>Wednesday</td>\n",
       "      <td>Latte</td>\n",
       "      <td>25</td>\n",
       "    </tr>\n",
       "  </tbody>\n",
       "</table>\n",
       "</div>"
      ],
      "text/plain": [
       "                 Day Coffee Type  Units Sold\n",
       "Day                                         \n",
       "Monday        Monday    Espresso          25\n",
       "Monday        Monday       Latte          15\n",
       "Tuesday      Tuesday    Espresso          30\n",
       "Tuesday      Tuesday       Latte          20\n",
       "Wednesday  Wednesday    Espresso          35\n",
       "Wednesday  Wednesday       Latte          25"
      ]
     },
     "execution_count": 54,
     "metadata": {},
     "output_type": "execute_result"
    }
   ],
   "source": [
    "coffee.loc[\"Monday\":\"Wednesday\"]"
   ]
  },
  {
   "cell_type": "markdown",
   "metadata": {},
   "source": [
    "#### Setting Values"
   ]
  },
  {
   "cell_type": "code",
   "execution_count": 55,
   "metadata": {},
   "outputs": [],
   "source": [
    "coffee = pd.read_csv('warmup-data/coffee.csv')"
   ]
  },
  {
   "cell_type": "code",
   "execution_count": 57,
   "metadata": {},
   "outputs": [
    {
     "data": {
      "application/vnd.microsoft.datawrangler.viewer.v0+json": {
       "columns": [
        {
         "name": "index",
         "rawType": "int64",
         "type": "integer"
        },
        {
         "name": "Day",
         "rawType": "object",
         "type": "string"
        },
        {
         "name": "Coffee Type",
         "rawType": "object",
         "type": "string"
        },
        {
         "name": "Units Sold",
         "rawType": "int64",
         "type": "integer"
        }
       ],
       "ref": "f5278b09-8c42-46b6-b64d-be2e9d96b2fe",
       "rows": [
        [
         "0",
         "Monday",
         "Espresso",
         "25"
        ],
        [
         "1",
         "Monday",
         "Latte",
         "10"
        ],
        [
         "2",
         "Tuesday",
         "Espresso",
         "10"
        ],
        [
         "3",
         "Tuesday",
         "Latte",
         "10"
        ],
        [
         "4",
         "Wednesday",
         "Espresso",
         "35"
        ],
        [
         "5",
         "Wednesday",
         "Latte",
         "25"
        ],
        [
         "6",
         "Thursday",
         "Espresso",
         "40"
        ],
        [
         "7",
         "Thursday",
         "Latte",
         "30"
        ],
        [
         "8",
         "Friday",
         "Espresso",
         "45"
        ],
        [
         "9",
         "Friday",
         "Latte",
         "35"
        ],
        [
         "10",
         "Saturday",
         "Espresso",
         "45"
        ],
        [
         "11",
         "Saturday",
         "Latte",
         "35"
        ],
        [
         "12",
         "Sunday",
         "Espresso",
         "45"
        ],
        [
         "13",
         "Sunday",
         "Latte",
         "35"
        ]
       ],
       "shape": {
        "columns": 3,
        "rows": 14
       }
      },
      "text/html": [
       "<div>\n",
       "<style scoped>\n",
       "    .dataframe tbody tr th:only-of-type {\n",
       "        vertical-align: middle;\n",
       "    }\n",
       "\n",
       "    .dataframe tbody tr th {\n",
       "        vertical-align: top;\n",
       "    }\n",
       "\n",
       "    .dataframe thead th {\n",
       "        text-align: right;\n",
       "    }\n",
       "</style>\n",
       "<table border=\"1\" class=\"dataframe\">\n",
       "  <thead>\n",
       "    <tr style=\"text-align: right;\">\n",
       "      <th></th>\n",
       "      <th>Day</th>\n",
       "      <th>Coffee Type</th>\n",
       "      <th>Units Sold</th>\n",
       "    </tr>\n",
       "  </thead>\n",
       "  <tbody>\n",
       "    <tr>\n",
       "      <th>0</th>\n",
       "      <td>Monday</td>\n",
       "      <td>Espresso</td>\n",
       "      <td>25</td>\n",
       "    </tr>\n",
       "    <tr>\n",
       "      <th>1</th>\n",
       "      <td>Monday</td>\n",
       "      <td>Latte</td>\n",
       "      <td>10</td>\n",
       "    </tr>\n",
       "    <tr>\n",
       "      <th>2</th>\n",
       "      <td>Tuesday</td>\n",
       "      <td>Espresso</td>\n",
       "      <td>10</td>\n",
       "    </tr>\n",
       "    <tr>\n",
       "      <th>3</th>\n",
       "      <td>Tuesday</td>\n",
       "      <td>Latte</td>\n",
       "      <td>10</td>\n",
       "    </tr>\n",
       "    <tr>\n",
       "      <th>4</th>\n",
       "      <td>Wednesday</td>\n",
       "      <td>Espresso</td>\n",
       "      <td>35</td>\n",
       "    </tr>\n",
       "    <tr>\n",
       "      <th>5</th>\n",
       "      <td>Wednesday</td>\n",
       "      <td>Latte</td>\n",
       "      <td>25</td>\n",
       "    </tr>\n",
       "    <tr>\n",
       "      <th>6</th>\n",
       "      <td>Thursday</td>\n",
       "      <td>Espresso</td>\n",
       "      <td>40</td>\n",
       "    </tr>\n",
       "    <tr>\n",
       "      <th>7</th>\n",
       "      <td>Thursday</td>\n",
       "      <td>Latte</td>\n",
       "      <td>30</td>\n",
       "    </tr>\n",
       "    <tr>\n",
       "      <th>8</th>\n",
       "      <td>Friday</td>\n",
       "      <td>Espresso</td>\n",
       "      <td>45</td>\n",
       "    </tr>\n",
       "    <tr>\n",
       "      <th>9</th>\n",
       "      <td>Friday</td>\n",
       "      <td>Latte</td>\n",
       "      <td>35</td>\n",
       "    </tr>\n",
       "    <tr>\n",
       "      <th>10</th>\n",
       "      <td>Saturday</td>\n",
       "      <td>Espresso</td>\n",
       "      <td>45</td>\n",
       "    </tr>\n",
       "    <tr>\n",
       "      <th>11</th>\n",
       "      <td>Saturday</td>\n",
       "      <td>Latte</td>\n",
       "      <td>35</td>\n",
       "    </tr>\n",
       "    <tr>\n",
       "      <th>12</th>\n",
       "      <td>Sunday</td>\n",
       "      <td>Espresso</td>\n",
       "      <td>45</td>\n",
       "    </tr>\n",
       "    <tr>\n",
       "      <th>13</th>\n",
       "      <td>Sunday</td>\n",
       "      <td>Latte</td>\n",
       "      <td>35</td>\n",
       "    </tr>\n",
       "  </tbody>\n",
       "</table>\n",
       "</div>"
      ],
      "text/plain": [
       "          Day Coffee Type  Units Sold\n",
       "0      Monday    Espresso          25\n",
       "1      Monday       Latte          10\n",
       "2     Tuesday    Espresso          10\n",
       "3     Tuesday       Latte          10\n",
       "4   Wednesday    Espresso          35\n",
       "5   Wednesday       Latte          25\n",
       "6    Thursday    Espresso          40\n",
       "7    Thursday       Latte          30\n",
       "8      Friday    Espresso          45\n",
       "9      Friday       Latte          35\n",
       "10   Saturday    Espresso          45\n",
       "11   Saturday       Latte          35\n",
       "12     Sunday    Espresso          45\n",
       "13     Sunday       Latte          35"
      ]
     },
     "execution_count": 57,
     "metadata": {},
     "output_type": "execute_result"
    }
   ],
   "source": [
    "coffee.loc[1:3, \"Units Sold\"] = 10\n",
    "coffee"
   ]
  },
  {
   "cell_type": "markdown",
   "metadata": {},
   "source": [
    "#### Optimized way to get single values (.at & .iat)"
   ]
  },
  {
   "cell_type": "code",
   "execution_count": 58,
   "metadata": {},
   "outputs": [
    {
     "data": {
      "text/plain": [
       "np.int64(25)"
      ]
     },
     "execution_count": 58,
     "metadata": {},
     "output_type": "execute_result"
    }
   ],
   "source": [
    "coffee.at[0,\"Units Sold\"]"
   ]
  },
  {
   "cell_type": "code",
   "execution_count": 59,
   "metadata": {},
   "outputs": [
    {
     "data": {
      "text/plain": [
       "'Latte'"
      ]
     },
     "execution_count": 59,
     "metadata": {},
     "output_type": "execute_result"
    }
   ],
   "source": [
    "coffee.iat[3,1]"
   ]
  },
  {
   "cell_type": "markdown",
   "metadata": {},
   "source": [
    "#### Getting Columns"
   ]
  },
  {
   "cell_type": "code",
   "execution_count": 60,
   "metadata": {},
   "outputs": [
    {
     "data": {
      "application/vnd.microsoft.datawrangler.viewer.v0+json": {
       "columns": [
        {
         "name": "index",
         "rawType": "int64",
         "type": "integer"
        },
        {
         "name": "Day",
         "rawType": "object",
         "type": "string"
        }
       ],
       "ref": "8f54ea60-1cb1-4419-aa44-7febd3111399",
       "rows": [
        [
         "0",
         "Monday"
        ],
        [
         "1",
         "Monday"
        ],
        [
         "2",
         "Tuesday"
        ],
        [
         "3",
         "Tuesday"
        ],
        [
         "4",
         "Wednesday"
        ],
        [
         "5",
         "Wednesday"
        ],
        [
         "6",
         "Thursday"
        ],
        [
         "7",
         "Thursday"
        ],
        [
         "8",
         "Friday"
        ],
        [
         "9",
         "Friday"
        ],
        [
         "10",
         "Saturday"
        ],
        [
         "11",
         "Saturday"
        ],
        [
         "12",
         "Sunday"
        ],
        [
         "13",
         "Sunday"
        ]
       ],
       "shape": {
        "columns": 1,
        "rows": 14
       }
      },
      "text/plain": [
       "0        Monday\n",
       "1        Monday\n",
       "2       Tuesday\n",
       "3       Tuesday\n",
       "4     Wednesday\n",
       "5     Wednesday\n",
       "6      Thursday\n",
       "7      Thursday\n",
       "8        Friday\n",
       "9        Friday\n",
       "10     Saturday\n",
       "11     Saturday\n",
       "12       Sunday\n",
       "13       Sunday\n",
       "Name: Day, dtype: object"
      ]
     },
     "execution_count": 60,
     "metadata": {},
     "output_type": "execute_result"
    }
   ],
   "source": [
    "coffee.Day"
   ]
  },
  {
   "cell_type": "code",
   "execution_count": 61,
   "metadata": {},
   "outputs": [
    {
     "data": {
      "application/vnd.microsoft.datawrangler.viewer.v0+json": {
       "columns": [
        {
         "name": "index",
         "rawType": "int64",
         "type": "integer"
        },
        {
         "name": "Day",
         "rawType": "object",
         "type": "string"
        }
       ],
       "ref": "1d1c85bc-49d4-4e4c-99ff-896f3ee32ecf",
       "rows": [
        [
         "0",
         "Monday"
        ],
        [
         "1",
         "Monday"
        ],
        [
         "2",
         "Tuesday"
        ],
        [
         "3",
         "Tuesday"
        ],
        [
         "4",
         "Wednesday"
        ],
        [
         "5",
         "Wednesday"
        ],
        [
         "6",
         "Thursday"
        ],
        [
         "7",
         "Thursday"
        ],
        [
         "8",
         "Friday"
        ],
        [
         "9",
         "Friday"
        ],
        [
         "10",
         "Saturday"
        ],
        [
         "11",
         "Saturday"
        ],
        [
         "12",
         "Sunday"
        ],
        [
         "13",
         "Sunday"
        ]
       ],
       "shape": {
        "columns": 1,
        "rows": 14
       }
      },
      "text/plain": [
       "0        Monday\n",
       "1        Monday\n",
       "2       Tuesday\n",
       "3       Tuesday\n",
       "4     Wednesday\n",
       "5     Wednesday\n",
       "6      Thursday\n",
       "7      Thursday\n",
       "8        Friday\n",
       "9        Friday\n",
       "10     Saturday\n",
       "11     Saturday\n",
       "12       Sunday\n",
       "13       Sunday\n",
       "Name: Day, dtype: object"
      ]
     },
     "execution_count": 61,
     "metadata": {},
     "output_type": "execute_result"
    }
   ],
   "source": [
    "coffee[\"Day\"]"
   ]
  },
  {
   "cell_type": "markdown",
   "metadata": {},
   "source": [
    "#### Sort Values"
   ]
  },
  {
   "cell_type": "code",
   "execution_count": 62,
   "metadata": {},
   "outputs": [
    {
     "data": {
      "application/vnd.microsoft.datawrangler.viewer.v0+json": {
       "columns": [
        {
         "name": "index",
         "rawType": "int64",
         "type": "integer"
        },
        {
         "name": "Day",
         "rawType": "object",
         "type": "string"
        },
        {
         "name": "Coffee Type",
         "rawType": "object",
         "type": "string"
        },
        {
         "name": "Units Sold",
         "rawType": "int64",
         "type": "integer"
        }
       ],
       "ref": "d4ebfadb-61fb-4cb4-b9ea-7f59cca13597",
       "rows": [
        [
         "10",
         "Saturday",
         "Espresso",
         "45"
        ],
        [
         "8",
         "Friday",
         "Espresso",
         "45"
        ],
        [
         "12",
         "Sunday",
         "Espresso",
         "45"
        ],
        [
         "6",
         "Thursday",
         "Espresso",
         "40"
        ],
        [
         "4",
         "Wednesday",
         "Espresso",
         "35"
        ],
        [
         "11",
         "Saturday",
         "Latte",
         "35"
        ],
        [
         "13",
         "Sunday",
         "Latte",
         "35"
        ],
        [
         "9",
         "Friday",
         "Latte",
         "35"
        ],
        [
         "7",
         "Thursday",
         "Latte",
         "30"
        ],
        [
         "0",
         "Monday",
         "Espresso",
         "25"
        ],
        [
         "5",
         "Wednesday",
         "Latte",
         "25"
        ],
        [
         "2",
         "Tuesday",
         "Espresso",
         "10"
        ],
        [
         "1",
         "Monday",
         "Latte",
         "10"
        ],
        [
         "3",
         "Tuesday",
         "Latte",
         "10"
        ]
       ],
       "shape": {
        "columns": 3,
        "rows": 14
       }
      },
      "text/html": [
       "<div>\n",
       "<style scoped>\n",
       "    .dataframe tbody tr th:only-of-type {\n",
       "        vertical-align: middle;\n",
       "    }\n",
       "\n",
       "    .dataframe tbody tr th {\n",
       "        vertical-align: top;\n",
       "    }\n",
       "\n",
       "    .dataframe thead th {\n",
       "        text-align: right;\n",
       "    }\n",
       "</style>\n",
       "<table border=\"1\" class=\"dataframe\">\n",
       "  <thead>\n",
       "    <tr style=\"text-align: right;\">\n",
       "      <th></th>\n",
       "      <th>Day</th>\n",
       "      <th>Coffee Type</th>\n",
       "      <th>Units Sold</th>\n",
       "    </tr>\n",
       "  </thead>\n",
       "  <tbody>\n",
       "    <tr>\n",
       "      <th>10</th>\n",
       "      <td>Saturday</td>\n",
       "      <td>Espresso</td>\n",
       "      <td>45</td>\n",
       "    </tr>\n",
       "    <tr>\n",
       "      <th>8</th>\n",
       "      <td>Friday</td>\n",
       "      <td>Espresso</td>\n",
       "      <td>45</td>\n",
       "    </tr>\n",
       "    <tr>\n",
       "      <th>12</th>\n",
       "      <td>Sunday</td>\n",
       "      <td>Espresso</td>\n",
       "      <td>45</td>\n",
       "    </tr>\n",
       "    <tr>\n",
       "      <th>6</th>\n",
       "      <td>Thursday</td>\n",
       "      <td>Espresso</td>\n",
       "      <td>40</td>\n",
       "    </tr>\n",
       "    <tr>\n",
       "      <th>4</th>\n",
       "      <td>Wednesday</td>\n",
       "      <td>Espresso</td>\n",
       "      <td>35</td>\n",
       "    </tr>\n",
       "    <tr>\n",
       "      <th>11</th>\n",
       "      <td>Saturday</td>\n",
       "      <td>Latte</td>\n",
       "      <td>35</td>\n",
       "    </tr>\n",
       "    <tr>\n",
       "      <th>13</th>\n",
       "      <td>Sunday</td>\n",
       "      <td>Latte</td>\n",
       "      <td>35</td>\n",
       "    </tr>\n",
       "    <tr>\n",
       "      <th>9</th>\n",
       "      <td>Friday</td>\n",
       "      <td>Latte</td>\n",
       "      <td>35</td>\n",
       "    </tr>\n",
       "    <tr>\n",
       "      <th>7</th>\n",
       "      <td>Thursday</td>\n",
       "      <td>Latte</td>\n",
       "      <td>30</td>\n",
       "    </tr>\n",
       "    <tr>\n",
       "      <th>0</th>\n",
       "      <td>Monday</td>\n",
       "      <td>Espresso</td>\n",
       "      <td>25</td>\n",
       "    </tr>\n",
       "    <tr>\n",
       "      <th>5</th>\n",
       "      <td>Wednesday</td>\n",
       "      <td>Latte</td>\n",
       "      <td>25</td>\n",
       "    </tr>\n",
       "    <tr>\n",
       "      <th>2</th>\n",
       "      <td>Tuesday</td>\n",
       "      <td>Espresso</td>\n",
       "      <td>10</td>\n",
       "    </tr>\n",
       "    <tr>\n",
       "      <th>1</th>\n",
       "      <td>Monday</td>\n",
       "      <td>Latte</td>\n",
       "      <td>10</td>\n",
       "    </tr>\n",
       "    <tr>\n",
       "      <th>3</th>\n",
       "      <td>Tuesday</td>\n",
       "      <td>Latte</td>\n",
       "      <td>10</td>\n",
       "    </tr>\n",
       "  </tbody>\n",
       "</table>\n",
       "</div>"
      ],
      "text/plain": [
       "          Day Coffee Type  Units Sold\n",
       "10   Saturday    Espresso          45\n",
       "8      Friday    Espresso          45\n",
       "12     Sunday    Espresso          45\n",
       "6    Thursday    Espresso          40\n",
       "4   Wednesday    Espresso          35\n",
       "11   Saturday       Latte          35\n",
       "13     Sunday       Latte          35\n",
       "9      Friday       Latte          35\n",
       "7    Thursday       Latte          30\n",
       "0      Monday    Espresso          25\n",
       "5   Wednesday       Latte          25\n",
       "2     Tuesday    Espresso          10\n",
       "1      Monday       Latte          10\n",
       "3     Tuesday       Latte          10"
      ]
     },
     "execution_count": 62,
     "metadata": {},
     "output_type": "execute_result"
    }
   ],
   "source": [
    "coffee.sort_values([\"Units Sold\"], ascending=False)"
   ]
  },
  {
   "cell_type": "code",
   "execution_count": 63,
   "metadata": {},
   "outputs": [
    {
     "data": {
      "application/vnd.microsoft.datawrangler.viewer.v0+json": {
       "columns": [
        {
         "name": "index",
         "rawType": "int64",
         "type": "integer"
        },
        {
         "name": "Day",
         "rawType": "object",
         "type": "string"
        },
        {
         "name": "Coffee Type",
         "rawType": "object",
         "type": "string"
        },
        {
         "name": "Units Sold",
         "rawType": "int64",
         "type": "integer"
        }
       ],
       "ref": "bf10d447-e7ca-49d1-b9e8-74b31acc399f",
       "rows": [
        [
         "8",
         "Friday",
         "Espresso",
         "45"
        ],
        [
         "10",
         "Saturday",
         "Espresso",
         "45"
        ],
        [
         "12",
         "Sunday",
         "Espresso",
         "45"
        ],
        [
         "6",
         "Thursday",
         "Espresso",
         "40"
        ],
        [
         "4",
         "Wednesday",
         "Espresso",
         "35"
        ],
        [
         "9",
         "Friday",
         "Latte",
         "35"
        ],
        [
         "11",
         "Saturday",
         "Latte",
         "35"
        ],
        [
         "13",
         "Sunday",
         "Latte",
         "35"
        ],
        [
         "7",
         "Thursday",
         "Latte",
         "30"
        ],
        [
         "0",
         "Monday",
         "Espresso",
         "25"
        ],
        [
         "5",
         "Wednesday",
         "Latte",
         "25"
        ],
        [
         "2",
         "Tuesday",
         "Espresso",
         "10"
        ],
        [
         "1",
         "Monday",
         "Latte",
         "10"
        ],
        [
         "3",
         "Tuesday",
         "Latte",
         "10"
        ]
       ],
       "shape": {
        "columns": 3,
        "rows": 14
       }
      },
      "text/html": [
       "<div>\n",
       "<style scoped>\n",
       "    .dataframe tbody tr th:only-of-type {\n",
       "        vertical-align: middle;\n",
       "    }\n",
       "\n",
       "    .dataframe tbody tr th {\n",
       "        vertical-align: top;\n",
       "    }\n",
       "\n",
       "    .dataframe thead th {\n",
       "        text-align: right;\n",
       "    }\n",
       "</style>\n",
       "<table border=\"1\" class=\"dataframe\">\n",
       "  <thead>\n",
       "    <tr style=\"text-align: right;\">\n",
       "      <th></th>\n",
       "      <th>Day</th>\n",
       "      <th>Coffee Type</th>\n",
       "      <th>Units Sold</th>\n",
       "    </tr>\n",
       "  </thead>\n",
       "  <tbody>\n",
       "    <tr>\n",
       "      <th>8</th>\n",
       "      <td>Friday</td>\n",
       "      <td>Espresso</td>\n",
       "      <td>45</td>\n",
       "    </tr>\n",
       "    <tr>\n",
       "      <th>10</th>\n",
       "      <td>Saturday</td>\n",
       "      <td>Espresso</td>\n",
       "      <td>45</td>\n",
       "    </tr>\n",
       "    <tr>\n",
       "      <th>12</th>\n",
       "      <td>Sunday</td>\n",
       "      <td>Espresso</td>\n",
       "      <td>45</td>\n",
       "    </tr>\n",
       "    <tr>\n",
       "      <th>6</th>\n",
       "      <td>Thursday</td>\n",
       "      <td>Espresso</td>\n",
       "      <td>40</td>\n",
       "    </tr>\n",
       "    <tr>\n",
       "      <th>4</th>\n",
       "      <td>Wednesday</td>\n",
       "      <td>Espresso</td>\n",
       "      <td>35</td>\n",
       "    </tr>\n",
       "    <tr>\n",
       "      <th>9</th>\n",
       "      <td>Friday</td>\n",
       "      <td>Latte</td>\n",
       "      <td>35</td>\n",
       "    </tr>\n",
       "    <tr>\n",
       "      <th>11</th>\n",
       "      <td>Saturday</td>\n",
       "      <td>Latte</td>\n",
       "      <td>35</td>\n",
       "    </tr>\n",
       "    <tr>\n",
       "      <th>13</th>\n",
       "      <td>Sunday</td>\n",
       "      <td>Latte</td>\n",
       "      <td>35</td>\n",
       "    </tr>\n",
       "    <tr>\n",
       "      <th>7</th>\n",
       "      <td>Thursday</td>\n",
       "      <td>Latte</td>\n",
       "      <td>30</td>\n",
       "    </tr>\n",
       "    <tr>\n",
       "      <th>0</th>\n",
       "      <td>Monday</td>\n",
       "      <td>Espresso</td>\n",
       "      <td>25</td>\n",
       "    </tr>\n",
       "    <tr>\n",
       "      <th>5</th>\n",
       "      <td>Wednesday</td>\n",
       "      <td>Latte</td>\n",
       "      <td>25</td>\n",
       "    </tr>\n",
       "    <tr>\n",
       "      <th>2</th>\n",
       "      <td>Tuesday</td>\n",
       "      <td>Espresso</td>\n",
       "      <td>10</td>\n",
       "    </tr>\n",
       "    <tr>\n",
       "      <th>1</th>\n",
       "      <td>Monday</td>\n",
       "      <td>Latte</td>\n",
       "      <td>10</td>\n",
       "    </tr>\n",
       "    <tr>\n",
       "      <th>3</th>\n",
       "      <td>Tuesday</td>\n",
       "      <td>Latte</td>\n",
       "      <td>10</td>\n",
       "    </tr>\n",
       "  </tbody>\n",
       "</table>\n",
       "</div>"
      ],
      "text/plain": [
       "          Day Coffee Type  Units Sold\n",
       "8      Friday    Espresso          45\n",
       "10   Saturday    Espresso          45\n",
       "12     Sunday    Espresso          45\n",
       "6    Thursday    Espresso          40\n",
       "4   Wednesday    Espresso          35\n",
       "9      Friday       Latte          35\n",
       "11   Saturday       Latte          35\n",
       "13     Sunday       Latte          35\n",
       "7    Thursday       Latte          30\n",
       "0      Monday    Espresso          25\n",
       "5   Wednesday       Latte          25\n",
       "2     Tuesday    Espresso          10\n",
       "1      Monday       Latte          10\n",
       "3     Tuesday       Latte          10"
      ]
     },
     "execution_count": 63,
     "metadata": {},
     "output_type": "execute_result"
    }
   ],
   "source": [
    "coffee.sort_values([\"Units Sold\", \"Coffee Type\"], ascending=[0,1])"
   ]
  },
  {
   "cell_type": "markdown",
   "metadata": {},
   "source": [
    "#### Iterate over dataframe with for loop"
   ]
  },
  {
   "cell_type": "code",
   "execution_count": 65,
   "metadata": {},
   "outputs": [
    {
     "name": "stdout",
     "output_type": "stream",
     "text": [
      "0\n",
      "Day              Monday\n",
      "Coffee Type    Espresso\n",
      "Units Sold           25\n",
      "Name: 0, dtype: object\n",
      "Coffee Type of Row: Espresso\n",
      "1\n",
      "Day            Monday\n",
      "Coffee Type     Latte\n",
      "Units Sold         10\n",
      "Name: 1, dtype: object\n",
      "Coffee Type of Row: Latte\n",
      "2\n",
      "Day             Tuesday\n",
      "Coffee Type    Espresso\n",
      "Units Sold           10\n",
      "Name: 2, dtype: object\n",
      "Coffee Type of Row: Espresso\n",
      "3\n",
      "Day            Tuesday\n",
      "Coffee Type      Latte\n",
      "Units Sold          10\n",
      "Name: 3, dtype: object\n",
      "Coffee Type of Row: Latte\n",
      "4\n",
      "Day            Wednesday\n",
      "Coffee Type     Espresso\n",
      "Units Sold            35\n",
      "Name: 4, dtype: object\n",
      "Coffee Type of Row: Espresso\n",
      "5\n",
      "Day            Wednesday\n",
      "Coffee Type        Latte\n",
      "Units Sold            25\n",
      "Name: 5, dtype: object\n",
      "Coffee Type of Row: Latte\n",
      "6\n",
      "Day            Thursday\n",
      "Coffee Type    Espresso\n",
      "Units Sold           40\n",
      "Name: 6, dtype: object\n",
      "Coffee Type of Row: Espresso\n",
      "7\n",
      "Day            Thursday\n",
      "Coffee Type       Latte\n",
      "Units Sold           30\n",
      "Name: 7, dtype: object\n",
      "Coffee Type of Row: Latte\n",
      "8\n",
      "Day              Friday\n",
      "Coffee Type    Espresso\n",
      "Units Sold           45\n",
      "Name: 8, dtype: object\n",
      "Coffee Type of Row: Espresso\n",
      "9\n",
      "Day            Friday\n",
      "Coffee Type     Latte\n",
      "Units Sold         35\n",
      "Name: 9, dtype: object\n",
      "Coffee Type of Row: Latte\n",
      "10\n",
      "Day            Saturday\n",
      "Coffee Type    Espresso\n",
      "Units Sold           45\n",
      "Name: 10, dtype: object\n",
      "Coffee Type of Row: Espresso\n",
      "11\n",
      "Day            Saturday\n",
      "Coffee Type       Latte\n",
      "Units Sold           35\n",
      "Name: 11, dtype: object\n",
      "Coffee Type of Row: Latte\n",
      "12\n",
      "Day              Sunday\n",
      "Coffee Type    Espresso\n",
      "Units Sold           45\n",
      "Name: 12, dtype: object\n",
      "Coffee Type of Row: Espresso\n",
      "13\n",
      "Day            Sunday\n",
      "Coffee Type     Latte\n",
      "Units Sold         35\n",
      "Name: 13, dtype: object\n",
      "Coffee Type of Row: Latte\n"
     ]
    }
   ],
   "source": [
    "for index, row in coffee.iterrows():\n",
    "    print(index)\n",
    "    print(row)\n",
    "    print(\"Coffee Type of Row:\", row[\"Coffee Type\"])"
   ]
  },
  {
   "cell_type": "markdown",
   "metadata": {},
   "source": [
    "## Filtering Data"
   ]
  },
  {
   "cell_type": "code",
   "execution_count": 70,
   "metadata": {},
   "outputs": [
    {
     "data": {
      "application/vnd.microsoft.datawrangler.viewer.v0+json": {
       "columns": [
        {
         "name": "index",
         "rawType": "int64",
         "type": "integer"
        },
        {
         "name": "athlete_id",
         "rawType": "int64",
         "type": "integer"
        },
        {
         "name": "name",
         "rawType": "object",
         "type": "string"
        },
        {
         "name": "born_date",
         "rawType": "object",
         "type": "string"
        },
        {
         "name": "born_city",
         "rawType": "object",
         "type": "string"
        },
        {
         "name": "born_region",
         "rawType": "object",
         "type": "string"
        },
        {
         "name": "born_country",
         "rawType": "object",
         "type": "string"
        },
        {
         "name": "NOC",
         "rawType": "object",
         "type": "string"
        },
        {
         "name": "height_cm",
         "rawType": "float64",
         "type": "float"
        },
        {
         "name": "weight_kg",
         "rawType": "float64",
         "type": "float"
        },
        {
         "name": "died_date",
         "rawType": "object",
         "type": "unknown"
        }
       ],
       "ref": "57efa654-6b50-4272-b818-f52ac9b8e8ee",
       "rows": [
        [
         "0",
         "1",
         "Jean-François Blanchy",
         "1886-12-12",
         "Bordeaux",
         "Gironde",
         "FRA",
         "France",
         null,
         null,
         "1960-10-02"
        ],
        [
         "1",
         "2",
         "Arnaud Boetsch",
         "1969-04-01",
         "Meulan",
         "Yvelines",
         "FRA",
         "France",
         "183.0",
         "76.0",
         null
        ],
        [
         "2",
         "3",
         "Jean Borotra",
         "1898-08-13",
         "Biarritz",
         "Pyrénées-Atlantiques",
         "FRA",
         "France",
         "183.0",
         "76.0",
         "1994-07-17"
        ],
        [
         "3",
         "4",
         "Jacques Brugnon",
         "1895-05-11",
         "Paris VIIIe",
         "Paris",
         "FRA",
         "France",
         "168.0",
         "64.0",
         "1978-03-20"
        ],
        [
         "4",
         "5",
         "Albert Canet",
         "1878-04-17",
         "Wandsworth",
         "England",
         "GBR",
         "France",
         null,
         null,
         "1930-07-25"
        ]
       ],
       "shape": {
        "columns": 10,
        "rows": 5
       }
      },
      "text/html": [
       "<div>\n",
       "<style scoped>\n",
       "    .dataframe tbody tr th:only-of-type {\n",
       "        vertical-align: middle;\n",
       "    }\n",
       "\n",
       "    .dataframe tbody tr th {\n",
       "        vertical-align: top;\n",
       "    }\n",
       "\n",
       "    .dataframe thead th {\n",
       "        text-align: right;\n",
       "    }\n",
       "</style>\n",
       "<table border=\"1\" class=\"dataframe\">\n",
       "  <thead>\n",
       "    <tr style=\"text-align: right;\">\n",
       "      <th></th>\n",
       "      <th>athlete_id</th>\n",
       "      <th>name</th>\n",
       "      <th>born_date</th>\n",
       "      <th>born_city</th>\n",
       "      <th>born_region</th>\n",
       "      <th>born_country</th>\n",
       "      <th>NOC</th>\n",
       "      <th>height_cm</th>\n",
       "      <th>weight_kg</th>\n",
       "      <th>died_date</th>\n",
       "    </tr>\n",
       "  </thead>\n",
       "  <tbody>\n",
       "    <tr>\n",
       "      <th>0</th>\n",
       "      <td>1</td>\n",
       "      <td>Jean-François Blanchy</td>\n",
       "      <td>1886-12-12</td>\n",
       "      <td>Bordeaux</td>\n",
       "      <td>Gironde</td>\n",
       "      <td>FRA</td>\n",
       "      <td>France</td>\n",
       "      <td>NaN</td>\n",
       "      <td>NaN</td>\n",
       "      <td>1960-10-02</td>\n",
       "    </tr>\n",
       "    <tr>\n",
       "      <th>1</th>\n",
       "      <td>2</td>\n",
       "      <td>Arnaud Boetsch</td>\n",
       "      <td>1969-04-01</td>\n",
       "      <td>Meulan</td>\n",
       "      <td>Yvelines</td>\n",
       "      <td>FRA</td>\n",
       "      <td>France</td>\n",
       "      <td>183.0</td>\n",
       "      <td>76.0</td>\n",
       "      <td>NaN</td>\n",
       "    </tr>\n",
       "    <tr>\n",
       "      <th>2</th>\n",
       "      <td>3</td>\n",
       "      <td>Jean Borotra</td>\n",
       "      <td>1898-08-13</td>\n",
       "      <td>Biarritz</td>\n",
       "      <td>Pyrénées-Atlantiques</td>\n",
       "      <td>FRA</td>\n",
       "      <td>France</td>\n",
       "      <td>183.0</td>\n",
       "      <td>76.0</td>\n",
       "      <td>1994-07-17</td>\n",
       "    </tr>\n",
       "    <tr>\n",
       "      <th>3</th>\n",
       "      <td>4</td>\n",
       "      <td>Jacques Brugnon</td>\n",
       "      <td>1895-05-11</td>\n",
       "      <td>Paris VIIIe</td>\n",
       "      <td>Paris</td>\n",
       "      <td>FRA</td>\n",
       "      <td>France</td>\n",
       "      <td>168.0</td>\n",
       "      <td>64.0</td>\n",
       "      <td>1978-03-20</td>\n",
       "    </tr>\n",
       "    <tr>\n",
       "      <th>4</th>\n",
       "      <td>5</td>\n",
       "      <td>Albert Canet</td>\n",
       "      <td>1878-04-17</td>\n",
       "      <td>Wandsworth</td>\n",
       "      <td>England</td>\n",
       "      <td>GBR</td>\n",
       "      <td>France</td>\n",
       "      <td>NaN</td>\n",
       "      <td>NaN</td>\n",
       "      <td>1930-07-25</td>\n",
       "    </tr>\n",
       "  </tbody>\n",
       "</table>\n",
       "</div>"
      ],
      "text/plain": [
       "   athlete_id                   name   born_date    born_city  \\\n",
       "0           1  Jean-François Blanchy  1886-12-12     Bordeaux   \n",
       "1           2         Arnaud Boetsch  1969-04-01       Meulan   \n",
       "2           3           Jean Borotra  1898-08-13     Biarritz   \n",
       "3           4        Jacques Brugnon  1895-05-11  Paris VIIIe   \n",
       "4           5           Albert Canet  1878-04-17   Wandsworth   \n",
       "\n",
       "            born_region born_country     NOC  height_cm  weight_kg   died_date  \n",
       "0               Gironde          FRA  France        NaN        NaN  1960-10-02  \n",
       "1              Yvelines          FRA  France      183.0       76.0         NaN  \n",
       "2  Pyrénées-Atlantiques          FRA  France      183.0       76.0  1994-07-17  \n",
       "3                 Paris          FRA  France      168.0       64.0  1978-03-20  \n",
       "4               England          GBR  France        NaN        NaN  1930-07-25  "
      ]
     },
     "execution_count": 70,
     "metadata": {},
     "output_type": "execute_result"
    }
   ],
   "source": [
    "bios.head() # Display the first few rows of the bios DataFrame"
   ]
  },
  {
   "cell_type": "code",
   "execution_count": 71,
   "metadata": {},
   "outputs": [
    {
     "data": {
      "application/vnd.microsoft.datawrangler.viewer.v0+json": {
       "columns": [
        {
         "name": "index",
         "rawType": "int64",
         "type": "integer"
        },
        {
         "name": "athlete_id",
         "rawType": "int64",
         "type": "integer"
        },
        {
         "name": "name",
         "rawType": "object",
         "type": "string"
        },
        {
         "name": "born_date",
         "rawType": "object",
         "type": "string"
        },
        {
         "name": "born_city",
         "rawType": "object",
         "type": "unknown"
        },
        {
         "name": "born_region",
         "rawType": "object",
         "type": "unknown"
        },
        {
         "name": "born_country",
         "rawType": "object",
         "type": "unknown"
        },
        {
         "name": "NOC",
         "rawType": "object",
         "type": "string"
        },
        {
         "name": "height_cm",
         "rawType": "float64",
         "type": "float"
        },
        {
         "name": "weight_kg",
         "rawType": "float64",
         "type": "float"
        },
        {
         "name": "died_date",
         "rawType": "object",
         "type": "unknown"
        }
       ],
       "ref": "5e12de7a-af1d-461e-b1b2-4982e5ebb346",
       "rows": [
        [
         "5089",
         "5108",
         "Viktor Pankrashkin",
         "1957-06-19",
         "Moskva (Moscow)",
         "Moskva",
         "RUS",
         "Soviet Union",
         "220.0",
         "112.0",
         "1993-07-24"
        ],
        [
         "5583",
         "5606",
         " Paulinho Villas Boas",
         "1963-01-26",
         "São Paulo",
         "São Paulo",
         "BRA",
         "Brazil",
         "217.0",
         "106.0",
         null
        ],
        [
         "5673",
         "5696",
         "Gunther Behnke",
         "1963-01-19",
         "Leverkusen",
         "Nordrhein-Westfalen",
         "GER",
         "Germany",
         "221.0",
         "114.0",
         null
        ],
        [
         "5716",
         "5739",
         "Uwe Blab",
         "1962-03-26",
         "München (Munich)",
         "Bayern",
         "GER",
         "Germany West Germany",
         "218.0",
         "110.0",
         null
        ],
        [
         "5781",
         "5804",
         "Tommy Burleson",
         "1952-02-24",
         "Crossnore",
         "North Carolina",
         "USA",
         "United States",
         "223.0",
         "102.0",
         null
        ],
        [
         "5796",
         "5819",
         "Andy Campbell",
         "1956-07-21",
         "Melbourne",
         "Victoria",
         "AUS",
         "Australia",
         "218.0",
         "93.0",
         null
        ],
        [
         "6223",
         "6250",
         "Lars Hansen",
         "1954-09-27",
         "København (Copenhagen)",
         "Hovedstaden",
         "DEN",
         "Canada",
         "216.0",
         "105.0",
         null
        ],
        [
         "6270",
         "6298",
         "Hu Zhangbao",
         "1963-04-05",
         null,
         null,
         null,
         "People's Republic of China",
         "216.0",
         "135.0",
         null
        ],
        [
         "6409",
         "6440",
         "Sergey Kovalenko",
         "1947-08-11",
         null,
         null,
         null,
         "Soviet Union",
         "216.0",
         "111.0",
         "2004-11-18"
        ],
        [
         "6420",
         "6451",
         "Jānis Krūmiņš",
         "1930-01-30",
         "Cēsis",
         "Cēsu novads",
         "LAT",
         "Soviet Union",
         "218.0",
         "141.0",
         "1994-11-20"
        ],
        [
         "6504",
         "6537",
         "Luc Longley",
         "1969-01-19",
         "Melbourne",
         "Victoria",
         "AUS",
         "Australia",
         "220.0",
         "135.0",
         null
        ],
        [
         "6722",
         "6755",
         "Shaquille O'Neal",
         "1972-03-06",
         "Newark",
         "New Jersey",
         "USA",
         "United States",
         "216.0",
         "137.0",
         null
        ],
        [
         "6937",
         "6972",
         "David Robinson",
         "1965-08-06",
         "Key West",
         "Florida",
         "USA",
         "United States",
         "216.0",
         "107.0",
         null
        ],
        [
         "6978",
         "7013",
         "Arvydas Sabonis",
         "1964-12-19",
         "Kaunas",
         "Kaunas",
         "LTU",
         "Lithuania Soviet Union",
         "223.0",
         "122.0",
         null
        ],
        [
         "7074",
         "7111",
         "Paulo da Silva",
         "1963-07-21",
         "São Paulo",
         "São Paulo",
         "BRA",
         "Brazil",
         "217.0",
         "106.0",
         null
        ],
        [
         "7188",
         "7226",
         "Vladimir Tkachenko",
         "1957-09-20",
         "Golovinka",
         "Krasnodar Kray",
         "RUS",
         "Soviet Union",
         "220.0",
         "110.0",
         null
        ],
        [
         "7281",
         "7320",
         "Stojko Vranković",
         "1964-01-22",
         "Drniš",
         "Šibensko-kninska županija",
         "CRO",
         "Croatia Yugoslavia",
         "217.0",
         "115.0",
         null
        ],
        [
         "7376",
         "7416",
         "Eurelijus Žukauskas",
         "1973-08-22",
         "Klaipėda",
         "Klaipėda",
         "LTU",
         "Lithuania",
         "218.0",
         "115.0",
         null
        ],
        [
         "52608",
         "52983",
         "Aleksey Kazakov",
         "1976-03-18",
         "Naberezhnye Chelny",
         "Respublika Tatarstan",
         "RUS",
         "Russian Federation",
         "217.0",
         "102.0",
         null
        ],
        [
         "82100",
         "82753",
         "Frédéric Weis",
         "1977-06-22",
         "Thionville",
         "Moselle",
         "FRA",
         "France",
         "218.0",
         "110.0",
         null
        ],
        [
         "89070",
         "89782",
         "Yao Ming",
         "1980-09-12",
         "Xuhui District",
         "Shanghai",
         "CHN",
         "People's Republic of China",
         "226.0",
         "141.0",
         null
        ],
        [
         "89075",
         "89787",
         "Roberto Dueñas",
         "1975-11-01",
         "Madrid",
         "Madrid",
         "ESP",
         "Spain",
         "221.0",
         "137.0",
         null
        ],
        [
         "107408",
         "108533",
         "Peter John Ramos",
         "1985-05-23",
         "Fajardo",
         "Puerto Rico",
         "PUR",
         "Puerto Rico",
         "219.0",
         "113.0",
         null
        ],
        [
         "112312",
         "113568",
         "Stanko Barać",
         "1986-08-13",
         "Mostar",
         "Hercegovačko-neretvanski kanton",
         "BIH",
         "Croatia",
         "217.0",
         "110.0",
         null
        ],
        [
         "112332",
         "113588",
         "Andreas Glyniadakis",
         "1981-08-26",
         "Chania",
         "Kriti",
         "GRE",
         "Greece",
         "216.0",
         "115.0",
         null
        ],
        [
         "112337",
         "113593",
         "Hamed Haddadi",
         "1985-05-19",
         "Ahvaz",
         "Khuzestan",
         "IRI",
         "Islamic Republic of Iran",
         "218.0",
         "110.0",
         null
        ],
        [
         "118663",
         "120400",
         "Timofey Mozgov",
         "1986-07-16",
         null,
         null,
         null,
         "Russian Federation",
         "216.0",
         "113.0",
         null
        ],
        [
         "118676",
         "120415",
         "Dmitry Musersky",
         "1988-10-29",
         "Makiïvka",
         "Donetsk",
         "UKR",
         "Russian Federation",
         "219.0",
         "104.0",
         null
        ],
        [
         "120266",
         "122147",
         "Zhang Zhaoxu",
         "1987-11-18",
         "Binzhou",
         "Shandong",
         "CHN",
         "People's Republic of China",
         "221.0",
         "110.0",
         null
        ],
        [
         "121694",
         "123709",
         "Salah Mejri",
         "1986-06-15",
         "Jendouba",
         "Jendouba",
         "TUN",
         "Tunisia",
         "216.0",
         "110.0",
         null
        ],
        [
         "123850",
         "126093",
         "Tyson Chandler",
         "1982-10-02",
         "Hanford",
         "California",
         "USA",
         "United States",
         "216.0",
         "107.0",
         null
        ],
        [
         "130460",
         "133147",
         "Li Muhao",
         "1992-06-02",
         "Guiyang",
         "Guizhou",
         "CHN",
         "People's Republic of China",
         "218.0",
         "115.0",
         null
        ],
        [
         "130461",
         "133148",
         "Zhou Qi",
         "1996-01-16",
         "Xinxiang",
         "Henan",
         "CHN",
         "People's Republic of China",
         "217.0",
         "95.0",
         null
        ],
        [
         "138671",
         "142084",
         "Ondřej Balvín",
         "1992-09-20",
         "Ústí nad Labem",
         "Ústecký kraj",
         "CZE",
         "Czechia",
         "216.0",
         "107.0",
         null
        ],
        [
         "139365",
         "142836",
         "Moustapha Fall",
         "1992-02-23",
         "Paris",
         "Paris",
         "FRA",
         "France",
         "218.0",
         null,
         null
        ]
       ],
       "shape": {
        "columns": 10,
        "rows": 35
       }
      },
      "text/html": [
       "<div>\n",
       "<style scoped>\n",
       "    .dataframe tbody tr th:only-of-type {\n",
       "        vertical-align: middle;\n",
       "    }\n",
       "\n",
       "    .dataframe tbody tr th {\n",
       "        vertical-align: top;\n",
       "    }\n",
       "\n",
       "    .dataframe thead th {\n",
       "        text-align: right;\n",
       "    }\n",
       "</style>\n",
       "<table border=\"1\" class=\"dataframe\">\n",
       "  <thead>\n",
       "    <tr style=\"text-align: right;\">\n",
       "      <th></th>\n",
       "      <th>athlete_id</th>\n",
       "      <th>name</th>\n",
       "      <th>born_date</th>\n",
       "      <th>born_city</th>\n",
       "      <th>born_region</th>\n",
       "      <th>born_country</th>\n",
       "      <th>NOC</th>\n",
       "      <th>height_cm</th>\n",
       "      <th>weight_kg</th>\n",
       "      <th>died_date</th>\n",
       "    </tr>\n",
       "  </thead>\n",
       "  <tbody>\n",
       "    <tr>\n",
       "      <th>5089</th>\n",
       "      <td>5108</td>\n",
       "      <td>Viktor Pankrashkin</td>\n",
       "      <td>1957-06-19</td>\n",
       "      <td>Moskva (Moscow)</td>\n",
       "      <td>Moskva</td>\n",
       "      <td>RUS</td>\n",
       "      <td>Soviet Union</td>\n",
       "      <td>220.0</td>\n",
       "      <td>112.0</td>\n",
       "      <td>1993-07-24</td>\n",
       "    </tr>\n",
       "    <tr>\n",
       "      <th>5583</th>\n",
       "      <td>5606</td>\n",
       "      <td>Paulinho Villas Boas</td>\n",
       "      <td>1963-01-26</td>\n",
       "      <td>São Paulo</td>\n",
       "      <td>São Paulo</td>\n",
       "      <td>BRA</td>\n",
       "      <td>Brazil</td>\n",
       "      <td>217.0</td>\n",
       "      <td>106.0</td>\n",
       "      <td>NaN</td>\n",
       "    </tr>\n",
       "    <tr>\n",
       "      <th>5673</th>\n",
       "      <td>5696</td>\n",
       "      <td>Gunther Behnke</td>\n",
       "      <td>1963-01-19</td>\n",
       "      <td>Leverkusen</td>\n",
       "      <td>Nordrhein-Westfalen</td>\n",
       "      <td>GER</td>\n",
       "      <td>Germany</td>\n",
       "      <td>221.0</td>\n",
       "      <td>114.0</td>\n",
       "      <td>NaN</td>\n",
       "    </tr>\n",
       "    <tr>\n",
       "      <th>5716</th>\n",
       "      <td>5739</td>\n",
       "      <td>Uwe Blab</td>\n",
       "      <td>1962-03-26</td>\n",
       "      <td>München (Munich)</td>\n",
       "      <td>Bayern</td>\n",
       "      <td>GER</td>\n",
       "      <td>Germany West Germany</td>\n",
       "      <td>218.0</td>\n",
       "      <td>110.0</td>\n",
       "      <td>NaN</td>\n",
       "    </tr>\n",
       "    <tr>\n",
       "      <th>5781</th>\n",
       "      <td>5804</td>\n",
       "      <td>Tommy Burleson</td>\n",
       "      <td>1952-02-24</td>\n",
       "      <td>Crossnore</td>\n",
       "      <td>North Carolina</td>\n",
       "      <td>USA</td>\n",
       "      <td>United States</td>\n",
       "      <td>223.0</td>\n",
       "      <td>102.0</td>\n",
       "      <td>NaN</td>\n",
       "    </tr>\n",
       "    <tr>\n",
       "      <th>5796</th>\n",
       "      <td>5819</td>\n",
       "      <td>Andy Campbell</td>\n",
       "      <td>1956-07-21</td>\n",
       "      <td>Melbourne</td>\n",
       "      <td>Victoria</td>\n",
       "      <td>AUS</td>\n",
       "      <td>Australia</td>\n",
       "      <td>218.0</td>\n",
       "      <td>93.0</td>\n",
       "      <td>NaN</td>\n",
       "    </tr>\n",
       "    <tr>\n",
       "      <th>6223</th>\n",
       "      <td>6250</td>\n",
       "      <td>Lars Hansen</td>\n",
       "      <td>1954-09-27</td>\n",
       "      <td>København (Copenhagen)</td>\n",
       "      <td>Hovedstaden</td>\n",
       "      <td>DEN</td>\n",
       "      <td>Canada</td>\n",
       "      <td>216.0</td>\n",
       "      <td>105.0</td>\n",
       "      <td>NaN</td>\n",
       "    </tr>\n",
       "    <tr>\n",
       "      <th>6270</th>\n",
       "      <td>6298</td>\n",
       "      <td>Hu Zhangbao</td>\n",
       "      <td>1963-04-05</td>\n",
       "      <td>NaN</td>\n",
       "      <td>NaN</td>\n",
       "      <td>NaN</td>\n",
       "      <td>People's Republic of China</td>\n",
       "      <td>216.0</td>\n",
       "      <td>135.0</td>\n",
       "      <td>NaN</td>\n",
       "    </tr>\n",
       "    <tr>\n",
       "      <th>6409</th>\n",
       "      <td>6440</td>\n",
       "      <td>Sergey Kovalenko</td>\n",
       "      <td>1947-08-11</td>\n",
       "      <td>NaN</td>\n",
       "      <td>NaN</td>\n",
       "      <td>NaN</td>\n",
       "      <td>Soviet Union</td>\n",
       "      <td>216.0</td>\n",
       "      <td>111.0</td>\n",
       "      <td>2004-11-18</td>\n",
       "    </tr>\n",
       "    <tr>\n",
       "      <th>6420</th>\n",
       "      <td>6451</td>\n",
       "      <td>Jānis Krūmiņš</td>\n",
       "      <td>1930-01-30</td>\n",
       "      <td>Cēsis</td>\n",
       "      <td>Cēsu novads</td>\n",
       "      <td>LAT</td>\n",
       "      <td>Soviet Union</td>\n",
       "      <td>218.0</td>\n",
       "      <td>141.0</td>\n",
       "      <td>1994-11-20</td>\n",
       "    </tr>\n",
       "    <tr>\n",
       "      <th>6504</th>\n",
       "      <td>6537</td>\n",
       "      <td>Luc Longley</td>\n",
       "      <td>1969-01-19</td>\n",
       "      <td>Melbourne</td>\n",
       "      <td>Victoria</td>\n",
       "      <td>AUS</td>\n",
       "      <td>Australia</td>\n",
       "      <td>220.0</td>\n",
       "      <td>135.0</td>\n",
       "      <td>NaN</td>\n",
       "    </tr>\n",
       "    <tr>\n",
       "      <th>6722</th>\n",
       "      <td>6755</td>\n",
       "      <td>Shaquille O'Neal</td>\n",
       "      <td>1972-03-06</td>\n",
       "      <td>Newark</td>\n",
       "      <td>New Jersey</td>\n",
       "      <td>USA</td>\n",
       "      <td>United States</td>\n",
       "      <td>216.0</td>\n",
       "      <td>137.0</td>\n",
       "      <td>NaN</td>\n",
       "    </tr>\n",
       "    <tr>\n",
       "      <th>6937</th>\n",
       "      <td>6972</td>\n",
       "      <td>David Robinson</td>\n",
       "      <td>1965-08-06</td>\n",
       "      <td>Key West</td>\n",
       "      <td>Florida</td>\n",
       "      <td>USA</td>\n",
       "      <td>United States</td>\n",
       "      <td>216.0</td>\n",
       "      <td>107.0</td>\n",
       "      <td>NaN</td>\n",
       "    </tr>\n",
       "    <tr>\n",
       "      <th>6978</th>\n",
       "      <td>7013</td>\n",
       "      <td>Arvydas Sabonis</td>\n",
       "      <td>1964-12-19</td>\n",
       "      <td>Kaunas</td>\n",
       "      <td>Kaunas</td>\n",
       "      <td>LTU</td>\n",
       "      <td>Lithuania Soviet Union</td>\n",
       "      <td>223.0</td>\n",
       "      <td>122.0</td>\n",
       "      <td>NaN</td>\n",
       "    </tr>\n",
       "    <tr>\n",
       "      <th>7074</th>\n",
       "      <td>7111</td>\n",
       "      <td>Paulo da Silva</td>\n",
       "      <td>1963-07-21</td>\n",
       "      <td>São Paulo</td>\n",
       "      <td>São Paulo</td>\n",
       "      <td>BRA</td>\n",
       "      <td>Brazil</td>\n",
       "      <td>217.0</td>\n",
       "      <td>106.0</td>\n",
       "      <td>NaN</td>\n",
       "    </tr>\n",
       "    <tr>\n",
       "      <th>7188</th>\n",
       "      <td>7226</td>\n",
       "      <td>Vladimir Tkachenko</td>\n",
       "      <td>1957-09-20</td>\n",
       "      <td>Golovinka</td>\n",
       "      <td>Krasnodar Kray</td>\n",
       "      <td>RUS</td>\n",
       "      <td>Soviet Union</td>\n",
       "      <td>220.0</td>\n",
       "      <td>110.0</td>\n",
       "      <td>NaN</td>\n",
       "    </tr>\n",
       "    <tr>\n",
       "      <th>7281</th>\n",
       "      <td>7320</td>\n",
       "      <td>Stojko Vranković</td>\n",
       "      <td>1964-01-22</td>\n",
       "      <td>Drniš</td>\n",
       "      <td>Šibensko-kninska županija</td>\n",
       "      <td>CRO</td>\n",
       "      <td>Croatia Yugoslavia</td>\n",
       "      <td>217.0</td>\n",
       "      <td>115.0</td>\n",
       "      <td>NaN</td>\n",
       "    </tr>\n",
       "    <tr>\n",
       "      <th>7376</th>\n",
       "      <td>7416</td>\n",
       "      <td>Eurelijus Žukauskas</td>\n",
       "      <td>1973-08-22</td>\n",
       "      <td>Klaipėda</td>\n",
       "      <td>Klaipėda</td>\n",
       "      <td>LTU</td>\n",
       "      <td>Lithuania</td>\n",
       "      <td>218.0</td>\n",
       "      <td>115.0</td>\n",
       "      <td>NaN</td>\n",
       "    </tr>\n",
       "    <tr>\n",
       "      <th>52608</th>\n",
       "      <td>52983</td>\n",
       "      <td>Aleksey Kazakov</td>\n",
       "      <td>1976-03-18</td>\n",
       "      <td>Naberezhnye Chelny</td>\n",
       "      <td>Respublika Tatarstan</td>\n",
       "      <td>RUS</td>\n",
       "      <td>Russian Federation</td>\n",
       "      <td>217.0</td>\n",
       "      <td>102.0</td>\n",
       "      <td>NaN</td>\n",
       "    </tr>\n",
       "    <tr>\n",
       "      <th>82100</th>\n",
       "      <td>82753</td>\n",
       "      <td>Frédéric Weis</td>\n",
       "      <td>1977-06-22</td>\n",
       "      <td>Thionville</td>\n",
       "      <td>Moselle</td>\n",
       "      <td>FRA</td>\n",
       "      <td>France</td>\n",
       "      <td>218.0</td>\n",
       "      <td>110.0</td>\n",
       "      <td>NaN</td>\n",
       "    </tr>\n",
       "    <tr>\n",
       "      <th>89070</th>\n",
       "      <td>89782</td>\n",
       "      <td>Yao Ming</td>\n",
       "      <td>1980-09-12</td>\n",
       "      <td>Xuhui District</td>\n",
       "      <td>Shanghai</td>\n",
       "      <td>CHN</td>\n",
       "      <td>People's Republic of China</td>\n",
       "      <td>226.0</td>\n",
       "      <td>141.0</td>\n",
       "      <td>NaN</td>\n",
       "    </tr>\n",
       "    <tr>\n",
       "      <th>89075</th>\n",
       "      <td>89787</td>\n",
       "      <td>Roberto Dueñas</td>\n",
       "      <td>1975-11-01</td>\n",
       "      <td>Madrid</td>\n",
       "      <td>Madrid</td>\n",
       "      <td>ESP</td>\n",
       "      <td>Spain</td>\n",
       "      <td>221.0</td>\n",
       "      <td>137.0</td>\n",
       "      <td>NaN</td>\n",
       "    </tr>\n",
       "    <tr>\n",
       "      <th>107408</th>\n",
       "      <td>108533</td>\n",
       "      <td>Peter John Ramos</td>\n",
       "      <td>1985-05-23</td>\n",
       "      <td>Fajardo</td>\n",
       "      <td>Puerto Rico</td>\n",
       "      <td>PUR</td>\n",
       "      <td>Puerto Rico</td>\n",
       "      <td>219.0</td>\n",
       "      <td>113.0</td>\n",
       "      <td>NaN</td>\n",
       "    </tr>\n",
       "    <tr>\n",
       "      <th>112312</th>\n",
       "      <td>113568</td>\n",
       "      <td>Stanko Barać</td>\n",
       "      <td>1986-08-13</td>\n",
       "      <td>Mostar</td>\n",
       "      <td>Hercegovačko-neretvanski kanton</td>\n",
       "      <td>BIH</td>\n",
       "      <td>Croatia</td>\n",
       "      <td>217.0</td>\n",
       "      <td>110.0</td>\n",
       "      <td>NaN</td>\n",
       "    </tr>\n",
       "    <tr>\n",
       "      <th>112332</th>\n",
       "      <td>113588</td>\n",
       "      <td>Andreas Glyniadakis</td>\n",
       "      <td>1981-08-26</td>\n",
       "      <td>Chania</td>\n",
       "      <td>Kriti</td>\n",
       "      <td>GRE</td>\n",
       "      <td>Greece</td>\n",
       "      <td>216.0</td>\n",
       "      <td>115.0</td>\n",
       "      <td>NaN</td>\n",
       "    </tr>\n",
       "    <tr>\n",
       "      <th>112337</th>\n",
       "      <td>113593</td>\n",
       "      <td>Hamed Haddadi</td>\n",
       "      <td>1985-05-19</td>\n",
       "      <td>Ahvaz</td>\n",
       "      <td>Khuzestan</td>\n",
       "      <td>IRI</td>\n",
       "      <td>Islamic Republic of Iran</td>\n",
       "      <td>218.0</td>\n",
       "      <td>110.0</td>\n",
       "      <td>NaN</td>\n",
       "    </tr>\n",
       "    <tr>\n",
       "      <th>118663</th>\n",
       "      <td>120400</td>\n",
       "      <td>Timofey Mozgov</td>\n",
       "      <td>1986-07-16</td>\n",
       "      <td>NaN</td>\n",
       "      <td>NaN</td>\n",
       "      <td>NaN</td>\n",
       "      <td>Russian Federation</td>\n",
       "      <td>216.0</td>\n",
       "      <td>113.0</td>\n",
       "      <td>NaN</td>\n",
       "    </tr>\n",
       "    <tr>\n",
       "      <th>118676</th>\n",
       "      <td>120415</td>\n",
       "      <td>Dmitry Musersky</td>\n",
       "      <td>1988-10-29</td>\n",
       "      <td>Makiïvka</td>\n",
       "      <td>Donetsk</td>\n",
       "      <td>UKR</td>\n",
       "      <td>Russian Federation</td>\n",
       "      <td>219.0</td>\n",
       "      <td>104.0</td>\n",
       "      <td>NaN</td>\n",
       "    </tr>\n",
       "    <tr>\n",
       "      <th>120266</th>\n",
       "      <td>122147</td>\n",
       "      <td>Zhang Zhaoxu</td>\n",
       "      <td>1987-11-18</td>\n",
       "      <td>Binzhou</td>\n",
       "      <td>Shandong</td>\n",
       "      <td>CHN</td>\n",
       "      <td>People's Republic of China</td>\n",
       "      <td>221.0</td>\n",
       "      <td>110.0</td>\n",
       "      <td>NaN</td>\n",
       "    </tr>\n",
       "    <tr>\n",
       "      <th>121694</th>\n",
       "      <td>123709</td>\n",
       "      <td>Salah Mejri</td>\n",
       "      <td>1986-06-15</td>\n",
       "      <td>Jendouba</td>\n",
       "      <td>Jendouba</td>\n",
       "      <td>TUN</td>\n",
       "      <td>Tunisia</td>\n",
       "      <td>216.0</td>\n",
       "      <td>110.0</td>\n",
       "      <td>NaN</td>\n",
       "    </tr>\n",
       "    <tr>\n",
       "      <th>123850</th>\n",
       "      <td>126093</td>\n",
       "      <td>Tyson Chandler</td>\n",
       "      <td>1982-10-02</td>\n",
       "      <td>Hanford</td>\n",
       "      <td>California</td>\n",
       "      <td>USA</td>\n",
       "      <td>United States</td>\n",
       "      <td>216.0</td>\n",
       "      <td>107.0</td>\n",
       "      <td>NaN</td>\n",
       "    </tr>\n",
       "    <tr>\n",
       "      <th>130460</th>\n",
       "      <td>133147</td>\n",
       "      <td>Li Muhao</td>\n",
       "      <td>1992-06-02</td>\n",
       "      <td>Guiyang</td>\n",
       "      <td>Guizhou</td>\n",
       "      <td>CHN</td>\n",
       "      <td>People's Republic of China</td>\n",
       "      <td>218.0</td>\n",
       "      <td>115.0</td>\n",
       "      <td>NaN</td>\n",
       "    </tr>\n",
       "    <tr>\n",
       "      <th>130461</th>\n",
       "      <td>133148</td>\n",
       "      <td>Zhou Qi</td>\n",
       "      <td>1996-01-16</td>\n",
       "      <td>Xinxiang</td>\n",
       "      <td>Henan</td>\n",
       "      <td>CHN</td>\n",
       "      <td>People's Republic of China</td>\n",
       "      <td>217.0</td>\n",
       "      <td>95.0</td>\n",
       "      <td>NaN</td>\n",
       "    </tr>\n",
       "    <tr>\n",
       "      <th>138671</th>\n",
       "      <td>142084</td>\n",
       "      <td>Ondřej Balvín</td>\n",
       "      <td>1992-09-20</td>\n",
       "      <td>Ústí nad Labem</td>\n",
       "      <td>Ústecký kraj</td>\n",
       "      <td>CZE</td>\n",
       "      <td>Czechia</td>\n",
       "      <td>216.0</td>\n",
       "      <td>107.0</td>\n",
       "      <td>NaN</td>\n",
       "    </tr>\n",
       "    <tr>\n",
       "      <th>139365</th>\n",
       "      <td>142836</td>\n",
       "      <td>Moustapha Fall</td>\n",
       "      <td>1992-02-23</td>\n",
       "      <td>Paris</td>\n",
       "      <td>Paris</td>\n",
       "      <td>FRA</td>\n",
       "      <td>France</td>\n",
       "      <td>218.0</td>\n",
       "      <td>NaN</td>\n",
       "      <td>NaN</td>\n",
       "    </tr>\n",
       "  </tbody>\n",
       "</table>\n",
       "</div>"
      ],
      "text/plain": [
       "        athlete_id                   name   born_date               born_city  \\\n",
       "5089          5108     Viktor Pankrashkin  1957-06-19         Moskva (Moscow)   \n",
       "5583          5606   Paulinho Villas Boas  1963-01-26               São Paulo   \n",
       "5673          5696         Gunther Behnke  1963-01-19              Leverkusen   \n",
       "5716          5739               Uwe Blab  1962-03-26        München (Munich)   \n",
       "5781          5804         Tommy Burleson  1952-02-24               Crossnore   \n",
       "5796          5819          Andy Campbell  1956-07-21               Melbourne   \n",
       "6223          6250            Lars Hansen  1954-09-27  København (Copenhagen)   \n",
       "6270          6298            Hu Zhangbao  1963-04-05                     NaN   \n",
       "6409          6440       Sergey Kovalenko  1947-08-11                     NaN   \n",
       "6420          6451          Jānis Krūmiņš  1930-01-30                   Cēsis   \n",
       "6504          6537            Luc Longley  1969-01-19               Melbourne   \n",
       "6722          6755       Shaquille O'Neal  1972-03-06                  Newark   \n",
       "6937          6972         David Robinson  1965-08-06                Key West   \n",
       "6978          7013        Arvydas Sabonis  1964-12-19                  Kaunas   \n",
       "7074          7111         Paulo da Silva  1963-07-21               São Paulo   \n",
       "7188          7226     Vladimir Tkachenko  1957-09-20               Golovinka   \n",
       "7281          7320       Stojko Vranković  1964-01-22                   Drniš   \n",
       "7376          7416    Eurelijus Žukauskas  1973-08-22                Klaipėda   \n",
       "52608        52983        Aleksey Kazakov  1976-03-18      Naberezhnye Chelny   \n",
       "82100        82753          Frédéric Weis  1977-06-22              Thionville   \n",
       "89070        89782               Yao Ming  1980-09-12          Xuhui District   \n",
       "89075        89787         Roberto Dueñas  1975-11-01                  Madrid   \n",
       "107408      108533       Peter John Ramos  1985-05-23                 Fajardo   \n",
       "112312      113568           Stanko Barać  1986-08-13                  Mostar   \n",
       "112332      113588    Andreas Glyniadakis  1981-08-26                  Chania   \n",
       "112337      113593          Hamed Haddadi  1985-05-19                   Ahvaz   \n",
       "118663      120400         Timofey Mozgov  1986-07-16                     NaN   \n",
       "118676      120415        Dmitry Musersky  1988-10-29                Makiïvka   \n",
       "120266      122147           Zhang Zhaoxu  1987-11-18                 Binzhou   \n",
       "121694      123709            Salah Mejri  1986-06-15                Jendouba   \n",
       "123850      126093         Tyson Chandler  1982-10-02                 Hanford   \n",
       "130460      133147               Li Muhao  1992-06-02                 Guiyang   \n",
       "130461      133148                Zhou Qi  1996-01-16                Xinxiang   \n",
       "138671      142084          Ondřej Balvín  1992-09-20          Ústí nad Labem   \n",
       "139365      142836         Moustapha Fall  1992-02-23                   Paris   \n",
       "\n",
       "                            born_region born_country  \\\n",
       "5089                             Moskva          RUS   \n",
       "5583                          São Paulo          BRA   \n",
       "5673                Nordrhein-Westfalen          GER   \n",
       "5716                             Bayern          GER   \n",
       "5781                     North Carolina          USA   \n",
       "5796                           Victoria          AUS   \n",
       "6223                        Hovedstaden          DEN   \n",
       "6270                                NaN          NaN   \n",
       "6409                                NaN          NaN   \n",
       "6420                        Cēsu novads          LAT   \n",
       "6504                           Victoria          AUS   \n",
       "6722                         New Jersey          USA   \n",
       "6937                            Florida          USA   \n",
       "6978                             Kaunas          LTU   \n",
       "7074                          São Paulo          BRA   \n",
       "7188                     Krasnodar Kray          RUS   \n",
       "7281          Šibensko-kninska županija          CRO   \n",
       "7376                           Klaipėda          LTU   \n",
       "52608              Respublika Tatarstan          RUS   \n",
       "82100                           Moselle          FRA   \n",
       "89070                          Shanghai          CHN   \n",
       "89075                            Madrid          ESP   \n",
       "107408                      Puerto Rico          PUR   \n",
       "112312  Hercegovačko-neretvanski kanton          BIH   \n",
       "112332                            Kriti          GRE   \n",
       "112337                        Khuzestan          IRI   \n",
       "118663                              NaN          NaN   \n",
       "118676                          Donetsk          UKR   \n",
       "120266                         Shandong          CHN   \n",
       "121694                         Jendouba          TUN   \n",
       "123850                       California          USA   \n",
       "130460                          Guizhou          CHN   \n",
       "130461                            Henan          CHN   \n",
       "138671                     Ústecký kraj          CZE   \n",
       "139365                            Paris          FRA   \n",
       "\n",
       "                               NOC  height_cm  weight_kg   died_date  \n",
       "5089                  Soviet Union      220.0      112.0  1993-07-24  \n",
       "5583                        Brazil      217.0      106.0         NaN  \n",
       "5673                       Germany      221.0      114.0         NaN  \n",
       "5716          Germany West Germany      218.0      110.0         NaN  \n",
       "5781                 United States      223.0      102.0         NaN  \n",
       "5796                     Australia      218.0       93.0         NaN  \n",
       "6223                        Canada      216.0      105.0         NaN  \n",
       "6270    People's Republic of China      216.0      135.0         NaN  \n",
       "6409                  Soviet Union      216.0      111.0  2004-11-18  \n",
       "6420                  Soviet Union      218.0      141.0  1994-11-20  \n",
       "6504                     Australia      220.0      135.0         NaN  \n",
       "6722                 United States      216.0      137.0         NaN  \n",
       "6937                 United States      216.0      107.0         NaN  \n",
       "6978        Lithuania Soviet Union      223.0      122.0         NaN  \n",
       "7074                        Brazil      217.0      106.0         NaN  \n",
       "7188                  Soviet Union      220.0      110.0         NaN  \n",
       "7281            Croatia Yugoslavia      217.0      115.0         NaN  \n",
       "7376                     Lithuania      218.0      115.0         NaN  \n",
       "52608           Russian Federation      217.0      102.0         NaN  \n",
       "82100                       France      218.0      110.0         NaN  \n",
       "89070   People's Republic of China      226.0      141.0         NaN  \n",
       "89075                        Spain      221.0      137.0         NaN  \n",
       "107408                 Puerto Rico      219.0      113.0         NaN  \n",
       "112312                     Croatia      217.0      110.0         NaN  \n",
       "112332                      Greece      216.0      115.0         NaN  \n",
       "112337    Islamic Republic of Iran      218.0      110.0         NaN  \n",
       "118663          Russian Federation      216.0      113.0         NaN  \n",
       "118676          Russian Federation      219.0      104.0         NaN  \n",
       "120266  People's Republic of China      221.0      110.0         NaN  \n",
       "121694                     Tunisia      216.0      110.0         NaN  \n",
       "123850               United States      216.0      107.0         NaN  \n",
       "130460  People's Republic of China      218.0      115.0         NaN  \n",
       "130461  People's Republic of China      217.0       95.0         NaN  \n",
       "138671                     Czechia      216.0      107.0         NaN  \n",
       "139365                      France      218.0        NaN         NaN  "
      ]
     },
     "execution_count": 71,
     "metadata": {},
     "output_type": "execute_result"
    }
   ],
   "source": [
    "bios.loc[bios[\"height_cm\"] > 215] # Display rows where height_cm is greater than 215"
   ]
  },
  {
   "cell_type": "code",
   "execution_count": 72,
   "metadata": {},
   "outputs": [
    {
     "data": {
      "application/vnd.microsoft.datawrangler.viewer.v0+json": {
       "columns": [
        {
         "name": "index",
         "rawType": "int64",
         "type": "integer"
        },
        {
         "name": "name",
         "rawType": "object",
         "type": "string"
        },
        {
         "name": "height_cm",
         "rawType": "float64",
         "type": "float"
        }
       ],
       "ref": "6d6032f4-ae5c-4734-8082-4607773bfa75",
       "rows": [
        [
         "5089",
         "Viktor Pankrashkin",
         "220.0"
        ],
        [
         "5583",
         " Paulinho Villas Boas",
         "217.0"
        ],
        [
         "5673",
         "Gunther Behnke",
         "221.0"
        ],
        [
         "5716",
         "Uwe Blab",
         "218.0"
        ],
        [
         "5781",
         "Tommy Burleson",
         "223.0"
        ],
        [
         "5796",
         "Andy Campbell",
         "218.0"
        ],
        [
         "6223",
         "Lars Hansen",
         "216.0"
        ],
        [
         "6270",
         "Hu Zhangbao",
         "216.0"
        ],
        [
         "6409",
         "Sergey Kovalenko",
         "216.0"
        ],
        [
         "6420",
         "Jānis Krūmiņš",
         "218.0"
        ],
        [
         "6504",
         "Luc Longley",
         "220.0"
        ],
        [
         "6722",
         "Shaquille O'Neal",
         "216.0"
        ],
        [
         "6937",
         "David Robinson",
         "216.0"
        ],
        [
         "6978",
         "Arvydas Sabonis",
         "223.0"
        ],
        [
         "7074",
         "Paulo da Silva",
         "217.0"
        ],
        [
         "7188",
         "Vladimir Tkachenko",
         "220.0"
        ],
        [
         "7281",
         "Stojko Vranković",
         "217.0"
        ],
        [
         "7376",
         "Eurelijus Žukauskas",
         "218.0"
        ],
        [
         "52608",
         "Aleksey Kazakov",
         "217.0"
        ],
        [
         "82100",
         "Frédéric Weis",
         "218.0"
        ],
        [
         "89070",
         "Yao Ming",
         "226.0"
        ],
        [
         "89075",
         "Roberto Dueñas",
         "221.0"
        ],
        [
         "107408",
         "Peter John Ramos",
         "219.0"
        ],
        [
         "112312",
         "Stanko Barać",
         "217.0"
        ],
        [
         "112332",
         "Andreas Glyniadakis",
         "216.0"
        ],
        [
         "112337",
         "Hamed Haddadi",
         "218.0"
        ],
        [
         "118663",
         "Timofey Mozgov",
         "216.0"
        ],
        [
         "118676",
         "Dmitry Musersky",
         "219.0"
        ],
        [
         "120266",
         "Zhang Zhaoxu",
         "221.0"
        ],
        [
         "121694",
         "Salah Mejri",
         "216.0"
        ],
        [
         "123850",
         "Tyson Chandler",
         "216.0"
        ],
        [
         "130460",
         "Li Muhao",
         "218.0"
        ],
        [
         "130461",
         "Zhou Qi",
         "217.0"
        ],
        [
         "138671",
         "Ondřej Balvín",
         "216.0"
        ],
        [
         "139365",
         "Moustapha Fall",
         "218.0"
        ]
       ],
       "shape": {
        "columns": 2,
        "rows": 35
       }
      },
      "text/html": [
       "<div>\n",
       "<style scoped>\n",
       "    .dataframe tbody tr th:only-of-type {\n",
       "        vertical-align: middle;\n",
       "    }\n",
       "\n",
       "    .dataframe tbody tr th {\n",
       "        vertical-align: top;\n",
       "    }\n",
       "\n",
       "    .dataframe thead th {\n",
       "        text-align: right;\n",
       "    }\n",
       "</style>\n",
       "<table border=\"1\" class=\"dataframe\">\n",
       "  <thead>\n",
       "    <tr style=\"text-align: right;\">\n",
       "      <th></th>\n",
       "      <th>name</th>\n",
       "      <th>height_cm</th>\n",
       "    </tr>\n",
       "  </thead>\n",
       "  <tbody>\n",
       "    <tr>\n",
       "      <th>5089</th>\n",
       "      <td>Viktor Pankrashkin</td>\n",
       "      <td>220.0</td>\n",
       "    </tr>\n",
       "    <tr>\n",
       "      <th>5583</th>\n",
       "      <td>Paulinho Villas Boas</td>\n",
       "      <td>217.0</td>\n",
       "    </tr>\n",
       "    <tr>\n",
       "      <th>5673</th>\n",
       "      <td>Gunther Behnke</td>\n",
       "      <td>221.0</td>\n",
       "    </tr>\n",
       "    <tr>\n",
       "      <th>5716</th>\n",
       "      <td>Uwe Blab</td>\n",
       "      <td>218.0</td>\n",
       "    </tr>\n",
       "    <tr>\n",
       "      <th>5781</th>\n",
       "      <td>Tommy Burleson</td>\n",
       "      <td>223.0</td>\n",
       "    </tr>\n",
       "    <tr>\n",
       "      <th>5796</th>\n",
       "      <td>Andy Campbell</td>\n",
       "      <td>218.0</td>\n",
       "    </tr>\n",
       "    <tr>\n",
       "      <th>6223</th>\n",
       "      <td>Lars Hansen</td>\n",
       "      <td>216.0</td>\n",
       "    </tr>\n",
       "    <tr>\n",
       "      <th>6270</th>\n",
       "      <td>Hu Zhangbao</td>\n",
       "      <td>216.0</td>\n",
       "    </tr>\n",
       "    <tr>\n",
       "      <th>6409</th>\n",
       "      <td>Sergey Kovalenko</td>\n",
       "      <td>216.0</td>\n",
       "    </tr>\n",
       "    <tr>\n",
       "      <th>6420</th>\n",
       "      <td>Jānis Krūmiņš</td>\n",
       "      <td>218.0</td>\n",
       "    </tr>\n",
       "    <tr>\n",
       "      <th>6504</th>\n",
       "      <td>Luc Longley</td>\n",
       "      <td>220.0</td>\n",
       "    </tr>\n",
       "    <tr>\n",
       "      <th>6722</th>\n",
       "      <td>Shaquille O'Neal</td>\n",
       "      <td>216.0</td>\n",
       "    </tr>\n",
       "    <tr>\n",
       "      <th>6937</th>\n",
       "      <td>David Robinson</td>\n",
       "      <td>216.0</td>\n",
       "    </tr>\n",
       "    <tr>\n",
       "      <th>6978</th>\n",
       "      <td>Arvydas Sabonis</td>\n",
       "      <td>223.0</td>\n",
       "    </tr>\n",
       "    <tr>\n",
       "      <th>7074</th>\n",
       "      <td>Paulo da Silva</td>\n",
       "      <td>217.0</td>\n",
       "    </tr>\n",
       "    <tr>\n",
       "      <th>7188</th>\n",
       "      <td>Vladimir Tkachenko</td>\n",
       "      <td>220.0</td>\n",
       "    </tr>\n",
       "    <tr>\n",
       "      <th>7281</th>\n",
       "      <td>Stojko Vranković</td>\n",
       "      <td>217.0</td>\n",
       "    </tr>\n",
       "    <tr>\n",
       "      <th>7376</th>\n",
       "      <td>Eurelijus Žukauskas</td>\n",
       "      <td>218.0</td>\n",
       "    </tr>\n",
       "    <tr>\n",
       "      <th>52608</th>\n",
       "      <td>Aleksey Kazakov</td>\n",
       "      <td>217.0</td>\n",
       "    </tr>\n",
       "    <tr>\n",
       "      <th>82100</th>\n",
       "      <td>Frédéric Weis</td>\n",
       "      <td>218.0</td>\n",
       "    </tr>\n",
       "    <tr>\n",
       "      <th>89070</th>\n",
       "      <td>Yao Ming</td>\n",
       "      <td>226.0</td>\n",
       "    </tr>\n",
       "    <tr>\n",
       "      <th>89075</th>\n",
       "      <td>Roberto Dueñas</td>\n",
       "      <td>221.0</td>\n",
       "    </tr>\n",
       "    <tr>\n",
       "      <th>107408</th>\n",
       "      <td>Peter John Ramos</td>\n",
       "      <td>219.0</td>\n",
       "    </tr>\n",
       "    <tr>\n",
       "      <th>112312</th>\n",
       "      <td>Stanko Barać</td>\n",
       "      <td>217.0</td>\n",
       "    </tr>\n",
       "    <tr>\n",
       "      <th>112332</th>\n",
       "      <td>Andreas Glyniadakis</td>\n",
       "      <td>216.0</td>\n",
       "    </tr>\n",
       "    <tr>\n",
       "      <th>112337</th>\n",
       "      <td>Hamed Haddadi</td>\n",
       "      <td>218.0</td>\n",
       "    </tr>\n",
       "    <tr>\n",
       "      <th>118663</th>\n",
       "      <td>Timofey Mozgov</td>\n",
       "      <td>216.0</td>\n",
       "    </tr>\n",
       "    <tr>\n",
       "      <th>118676</th>\n",
       "      <td>Dmitry Musersky</td>\n",
       "      <td>219.0</td>\n",
       "    </tr>\n",
       "    <tr>\n",
       "      <th>120266</th>\n",
       "      <td>Zhang Zhaoxu</td>\n",
       "      <td>221.0</td>\n",
       "    </tr>\n",
       "    <tr>\n",
       "      <th>121694</th>\n",
       "      <td>Salah Mejri</td>\n",
       "      <td>216.0</td>\n",
       "    </tr>\n",
       "    <tr>\n",
       "      <th>123850</th>\n",
       "      <td>Tyson Chandler</td>\n",
       "      <td>216.0</td>\n",
       "    </tr>\n",
       "    <tr>\n",
       "      <th>130460</th>\n",
       "      <td>Li Muhao</td>\n",
       "      <td>218.0</td>\n",
       "    </tr>\n",
       "    <tr>\n",
       "      <th>130461</th>\n",
       "      <td>Zhou Qi</td>\n",
       "      <td>217.0</td>\n",
       "    </tr>\n",
       "    <tr>\n",
       "      <th>138671</th>\n",
       "      <td>Ondřej Balvín</td>\n",
       "      <td>216.0</td>\n",
       "    </tr>\n",
       "    <tr>\n",
       "      <th>139365</th>\n",
       "      <td>Moustapha Fall</td>\n",
       "      <td>218.0</td>\n",
       "    </tr>\n",
       "  </tbody>\n",
       "</table>\n",
       "</div>"
      ],
      "text/plain": [
       "                         name  height_cm\n",
       "5089       Viktor Pankrashkin      220.0\n",
       "5583     Paulinho Villas Boas      217.0\n",
       "5673           Gunther Behnke      221.0\n",
       "5716                 Uwe Blab      218.0\n",
       "5781           Tommy Burleson      223.0\n",
       "5796            Andy Campbell      218.0\n",
       "6223              Lars Hansen      216.0\n",
       "6270              Hu Zhangbao      216.0\n",
       "6409         Sergey Kovalenko      216.0\n",
       "6420            Jānis Krūmiņš      218.0\n",
       "6504              Luc Longley      220.0\n",
       "6722         Shaquille O'Neal      216.0\n",
       "6937           David Robinson      216.0\n",
       "6978          Arvydas Sabonis      223.0\n",
       "7074           Paulo da Silva      217.0\n",
       "7188       Vladimir Tkachenko      220.0\n",
       "7281         Stojko Vranković      217.0\n",
       "7376      Eurelijus Žukauskas      218.0\n",
       "52608         Aleksey Kazakov      217.0\n",
       "82100           Frédéric Weis      218.0\n",
       "89070                Yao Ming      226.0\n",
       "89075          Roberto Dueñas      221.0\n",
       "107408       Peter John Ramos      219.0\n",
       "112312           Stanko Barać      217.0\n",
       "112332    Andreas Glyniadakis      216.0\n",
       "112337          Hamed Haddadi      218.0\n",
       "118663         Timofey Mozgov      216.0\n",
       "118676        Dmitry Musersky      219.0\n",
       "120266           Zhang Zhaoxu      221.0\n",
       "121694            Salah Mejri      216.0\n",
       "123850         Tyson Chandler      216.0\n",
       "130460               Li Muhao      218.0\n",
       "130461                Zhou Qi      217.0\n",
       "138671          Ondřej Balvín      216.0\n",
       "139365         Moustapha Fall      218.0"
      ]
     },
     "execution_count": 72,
     "metadata": {},
     "output_type": "execute_result"
    }
   ],
   "source": [
    "bios.loc[bios[\"height_cm\"] > 215, [\"name\", \"height_cm\"]] # Display specific columns where height_cm is greater than 215"
   ]
  },
  {
   "cell_type": "markdown",
   "metadata": {},
   "source": [
    "#### Short-hand syntax (without .loc)"
   ]
  },
  {
   "cell_type": "code",
   "execution_count": 73,
   "metadata": {},
   "outputs": [
    {
     "data": {
      "application/vnd.microsoft.datawrangler.viewer.v0+json": {
       "columns": [
        {
         "name": "index",
         "rawType": "int64",
         "type": "integer"
        },
        {
         "name": "name",
         "rawType": "object",
         "type": "string"
        },
        {
         "name": "height_cm",
         "rawType": "float64",
         "type": "float"
        }
       ],
       "ref": "9fd481ea-4527-411f-986b-629f3a23de6f",
       "rows": [
        [
         "5089",
         "Viktor Pankrashkin",
         "220.0"
        ],
        [
         "5583",
         " Paulinho Villas Boas",
         "217.0"
        ],
        [
         "5673",
         "Gunther Behnke",
         "221.0"
        ],
        [
         "5716",
         "Uwe Blab",
         "218.0"
        ],
        [
         "5781",
         "Tommy Burleson",
         "223.0"
        ],
        [
         "5796",
         "Andy Campbell",
         "218.0"
        ],
        [
         "6223",
         "Lars Hansen",
         "216.0"
        ],
        [
         "6270",
         "Hu Zhangbao",
         "216.0"
        ],
        [
         "6409",
         "Sergey Kovalenko",
         "216.0"
        ],
        [
         "6420",
         "Jānis Krūmiņš",
         "218.0"
        ],
        [
         "6504",
         "Luc Longley",
         "220.0"
        ],
        [
         "6722",
         "Shaquille O'Neal",
         "216.0"
        ],
        [
         "6937",
         "David Robinson",
         "216.0"
        ],
        [
         "6978",
         "Arvydas Sabonis",
         "223.0"
        ],
        [
         "7074",
         "Paulo da Silva",
         "217.0"
        ],
        [
         "7188",
         "Vladimir Tkachenko",
         "220.0"
        ],
        [
         "7281",
         "Stojko Vranković",
         "217.0"
        ],
        [
         "7376",
         "Eurelijus Žukauskas",
         "218.0"
        ],
        [
         "52608",
         "Aleksey Kazakov",
         "217.0"
        ],
        [
         "82100",
         "Frédéric Weis",
         "218.0"
        ],
        [
         "89070",
         "Yao Ming",
         "226.0"
        ],
        [
         "89075",
         "Roberto Dueñas",
         "221.0"
        ],
        [
         "107408",
         "Peter John Ramos",
         "219.0"
        ],
        [
         "112312",
         "Stanko Barać",
         "217.0"
        ],
        [
         "112332",
         "Andreas Glyniadakis",
         "216.0"
        ],
        [
         "112337",
         "Hamed Haddadi",
         "218.0"
        ],
        [
         "118663",
         "Timofey Mozgov",
         "216.0"
        ],
        [
         "118676",
         "Dmitry Musersky",
         "219.0"
        ],
        [
         "120266",
         "Zhang Zhaoxu",
         "221.0"
        ],
        [
         "121694",
         "Salah Mejri",
         "216.0"
        ],
        [
         "123850",
         "Tyson Chandler",
         "216.0"
        ],
        [
         "130460",
         "Li Muhao",
         "218.0"
        ],
        [
         "130461",
         "Zhou Qi",
         "217.0"
        ],
        [
         "138671",
         "Ondřej Balvín",
         "216.0"
        ],
        [
         "139365",
         "Moustapha Fall",
         "218.0"
        ]
       ],
       "shape": {
        "columns": 2,
        "rows": 35
       }
      },
      "text/html": [
       "<div>\n",
       "<style scoped>\n",
       "    .dataframe tbody tr th:only-of-type {\n",
       "        vertical-align: middle;\n",
       "    }\n",
       "\n",
       "    .dataframe tbody tr th {\n",
       "        vertical-align: top;\n",
       "    }\n",
       "\n",
       "    .dataframe thead th {\n",
       "        text-align: right;\n",
       "    }\n",
       "</style>\n",
       "<table border=\"1\" class=\"dataframe\">\n",
       "  <thead>\n",
       "    <tr style=\"text-align: right;\">\n",
       "      <th></th>\n",
       "      <th>name</th>\n",
       "      <th>height_cm</th>\n",
       "    </tr>\n",
       "  </thead>\n",
       "  <tbody>\n",
       "    <tr>\n",
       "      <th>5089</th>\n",
       "      <td>Viktor Pankrashkin</td>\n",
       "      <td>220.0</td>\n",
       "    </tr>\n",
       "    <tr>\n",
       "      <th>5583</th>\n",
       "      <td>Paulinho Villas Boas</td>\n",
       "      <td>217.0</td>\n",
       "    </tr>\n",
       "    <tr>\n",
       "      <th>5673</th>\n",
       "      <td>Gunther Behnke</td>\n",
       "      <td>221.0</td>\n",
       "    </tr>\n",
       "    <tr>\n",
       "      <th>5716</th>\n",
       "      <td>Uwe Blab</td>\n",
       "      <td>218.0</td>\n",
       "    </tr>\n",
       "    <tr>\n",
       "      <th>5781</th>\n",
       "      <td>Tommy Burleson</td>\n",
       "      <td>223.0</td>\n",
       "    </tr>\n",
       "    <tr>\n",
       "      <th>5796</th>\n",
       "      <td>Andy Campbell</td>\n",
       "      <td>218.0</td>\n",
       "    </tr>\n",
       "    <tr>\n",
       "      <th>6223</th>\n",
       "      <td>Lars Hansen</td>\n",
       "      <td>216.0</td>\n",
       "    </tr>\n",
       "    <tr>\n",
       "      <th>6270</th>\n",
       "      <td>Hu Zhangbao</td>\n",
       "      <td>216.0</td>\n",
       "    </tr>\n",
       "    <tr>\n",
       "      <th>6409</th>\n",
       "      <td>Sergey Kovalenko</td>\n",
       "      <td>216.0</td>\n",
       "    </tr>\n",
       "    <tr>\n",
       "      <th>6420</th>\n",
       "      <td>Jānis Krūmiņš</td>\n",
       "      <td>218.0</td>\n",
       "    </tr>\n",
       "    <tr>\n",
       "      <th>6504</th>\n",
       "      <td>Luc Longley</td>\n",
       "      <td>220.0</td>\n",
       "    </tr>\n",
       "    <tr>\n",
       "      <th>6722</th>\n",
       "      <td>Shaquille O'Neal</td>\n",
       "      <td>216.0</td>\n",
       "    </tr>\n",
       "    <tr>\n",
       "      <th>6937</th>\n",
       "      <td>David Robinson</td>\n",
       "      <td>216.0</td>\n",
       "    </tr>\n",
       "    <tr>\n",
       "      <th>6978</th>\n",
       "      <td>Arvydas Sabonis</td>\n",
       "      <td>223.0</td>\n",
       "    </tr>\n",
       "    <tr>\n",
       "      <th>7074</th>\n",
       "      <td>Paulo da Silva</td>\n",
       "      <td>217.0</td>\n",
       "    </tr>\n",
       "    <tr>\n",
       "      <th>7188</th>\n",
       "      <td>Vladimir Tkachenko</td>\n",
       "      <td>220.0</td>\n",
       "    </tr>\n",
       "    <tr>\n",
       "      <th>7281</th>\n",
       "      <td>Stojko Vranković</td>\n",
       "      <td>217.0</td>\n",
       "    </tr>\n",
       "    <tr>\n",
       "      <th>7376</th>\n",
       "      <td>Eurelijus Žukauskas</td>\n",
       "      <td>218.0</td>\n",
       "    </tr>\n",
       "    <tr>\n",
       "      <th>52608</th>\n",
       "      <td>Aleksey Kazakov</td>\n",
       "      <td>217.0</td>\n",
       "    </tr>\n",
       "    <tr>\n",
       "      <th>82100</th>\n",
       "      <td>Frédéric Weis</td>\n",
       "      <td>218.0</td>\n",
       "    </tr>\n",
       "    <tr>\n",
       "      <th>89070</th>\n",
       "      <td>Yao Ming</td>\n",
       "      <td>226.0</td>\n",
       "    </tr>\n",
       "    <tr>\n",
       "      <th>89075</th>\n",
       "      <td>Roberto Dueñas</td>\n",
       "      <td>221.0</td>\n",
       "    </tr>\n",
       "    <tr>\n",
       "      <th>107408</th>\n",
       "      <td>Peter John Ramos</td>\n",
       "      <td>219.0</td>\n",
       "    </tr>\n",
       "    <tr>\n",
       "      <th>112312</th>\n",
       "      <td>Stanko Barać</td>\n",
       "      <td>217.0</td>\n",
       "    </tr>\n",
       "    <tr>\n",
       "      <th>112332</th>\n",
       "      <td>Andreas Glyniadakis</td>\n",
       "      <td>216.0</td>\n",
       "    </tr>\n",
       "    <tr>\n",
       "      <th>112337</th>\n",
       "      <td>Hamed Haddadi</td>\n",
       "      <td>218.0</td>\n",
       "    </tr>\n",
       "    <tr>\n",
       "      <th>118663</th>\n",
       "      <td>Timofey Mozgov</td>\n",
       "      <td>216.0</td>\n",
       "    </tr>\n",
       "    <tr>\n",
       "      <th>118676</th>\n",
       "      <td>Dmitry Musersky</td>\n",
       "      <td>219.0</td>\n",
       "    </tr>\n",
       "    <tr>\n",
       "      <th>120266</th>\n",
       "      <td>Zhang Zhaoxu</td>\n",
       "      <td>221.0</td>\n",
       "    </tr>\n",
       "    <tr>\n",
       "      <th>121694</th>\n",
       "      <td>Salah Mejri</td>\n",
       "      <td>216.0</td>\n",
       "    </tr>\n",
       "    <tr>\n",
       "      <th>123850</th>\n",
       "      <td>Tyson Chandler</td>\n",
       "      <td>216.0</td>\n",
       "    </tr>\n",
       "    <tr>\n",
       "      <th>130460</th>\n",
       "      <td>Li Muhao</td>\n",
       "      <td>218.0</td>\n",
       "    </tr>\n",
       "    <tr>\n",
       "      <th>130461</th>\n",
       "      <td>Zhou Qi</td>\n",
       "      <td>217.0</td>\n",
       "    </tr>\n",
       "    <tr>\n",
       "      <th>138671</th>\n",
       "      <td>Ondřej Balvín</td>\n",
       "      <td>216.0</td>\n",
       "    </tr>\n",
       "    <tr>\n",
       "      <th>139365</th>\n",
       "      <td>Moustapha Fall</td>\n",
       "      <td>218.0</td>\n",
       "    </tr>\n",
       "  </tbody>\n",
       "</table>\n",
       "</div>"
      ],
      "text/plain": [
       "                         name  height_cm\n",
       "5089       Viktor Pankrashkin      220.0\n",
       "5583     Paulinho Villas Boas      217.0\n",
       "5673           Gunther Behnke      221.0\n",
       "5716                 Uwe Blab      218.0\n",
       "5781           Tommy Burleson      223.0\n",
       "5796            Andy Campbell      218.0\n",
       "6223              Lars Hansen      216.0\n",
       "6270              Hu Zhangbao      216.0\n",
       "6409         Sergey Kovalenko      216.0\n",
       "6420            Jānis Krūmiņš      218.0\n",
       "6504              Luc Longley      220.0\n",
       "6722         Shaquille O'Neal      216.0\n",
       "6937           David Robinson      216.0\n",
       "6978          Arvydas Sabonis      223.0\n",
       "7074           Paulo da Silva      217.0\n",
       "7188       Vladimir Tkachenko      220.0\n",
       "7281         Stojko Vranković      217.0\n",
       "7376      Eurelijus Žukauskas      218.0\n",
       "52608         Aleksey Kazakov      217.0\n",
       "82100           Frédéric Weis      218.0\n",
       "89070                Yao Ming      226.0\n",
       "89075          Roberto Dueñas      221.0\n",
       "107408       Peter John Ramos      219.0\n",
       "112312           Stanko Barać      217.0\n",
       "112332    Andreas Glyniadakis      216.0\n",
       "112337          Hamed Haddadi      218.0\n",
       "118663         Timofey Mozgov      216.0\n",
       "118676        Dmitry Musersky      219.0\n",
       "120266           Zhang Zhaoxu      221.0\n",
       "121694            Salah Mejri      216.0\n",
       "123850         Tyson Chandler      216.0\n",
       "130460               Li Muhao      218.0\n",
       "130461                Zhou Qi      217.0\n",
       "138671          Ondřej Balvín      216.0\n",
       "139365         Moustapha Fall      218.0"
      ]
     },
     "execution_count": 73,
     "metadata": {},
     "output_type": "execute_result"
    }
   ],
   "source": [
    "bios[bios['height_cm'] > 215][[\"name\",\"height_cm\"]] # Display specific columns where height_cm is greater than 215"
   ]
  },
  {
   "cell_type": "markdown",
   "metadata": {},
   "source": [
    "#### Multiple filter conditions"
   ]
  },
  {
   "cell_type": "code",
   "execution_count": 74,
   "metadata": {},
   "outputs": [
    {
     "data": {
      "application/vnd.microsoft.datawrangler.viewer.v0+json": {
       "columns": [
        {
         "name": "index",
         "rawType": "int64",
         "type": "integer"
        },
        {
         "name": "athlete_id",
         "rawType": "int64",
         "type": "integer"
        },
        {
         "name": "name",
         "rawType": "object",
         "type": "string"
        },
        {
         "name": "born_date",
         "rawType": "object",
         "type": "string"
        },
        {
         "name": "born_city",
         "rawType": "object",
         "type": "string"
        },
        {
         "name": "born_region",
         "rawType": "object",
         "type": "string"
        },
        {
         "name": "born_country",
         "rawType": "object",
         "type": "string"
        },
        {
         "name": "NOC",
         "rawType": "object",
         "type": "string"
        },
        {
         "name": "height_cm",
         "rawType": "float64",
         "type": "float"
        },
        {
         "name": "weight_kg",
         "rawType": "float64",
         "type": "float"
        },
        {
         "name": "died_date",
         "rawType": "object",
         "type": "unknown"
        }
       ],
       "ref": "5e7197f4-e6fc-4a3d-b10f-ce49b47d0554",
       "rows": [
        [
         "5781",
         "5804",
         "Tommy Burleson",
         "1952-02-24",
         "Crossnore",
         "North Carolina",
         "USA",
         "United States",
         "223.0",
         "102.0",
         null
        ],
        [
         "6722",
         "6755",
         "Shaquille O'Neal",
         "1972-03-06",
         "Newark",
         "New Jersey",
         "USA",
         "United States",
         "216.0",
         "137.0",
         null
        ],
        [
         "6937",
         "6972",
         "David Robinson",
         "1965-08-06",
         "Key West",
         "Florida",
         "USA",
         "United States",
         "216.0",
         "107.0",
         null
        ],
        [
         "123850",
         "126093",
         "Tyson Chandler",
         "1982-10-02",
         "Hanford",
         "California",
         "USA",
         "United States",
         "216.0",
         "107.0",
         null
        ]
       ],
       "shape": {
        "columns": 10,
        "rows": 4
       }
      },
      "text/html": [
       "<div>\n",
       "<style scoped>\n",
       "    .dataframe tbody tr th:only-of-type {\n",
       "        vertical-align: middle;\n",
       "    }\n",
       "\n",
       "    .dataframe tbody tr th {\n",
       "        vertical-align: top;\n",
       "    }\n",
       "\n",
       "    .dataframe thead th {\n",
       "        text-align: right;\n",
       "    }\n",
       "</style>\n",
       "<table border=\"1\" class=\"dataframe\">\n",
       "  <thead>\n",
       "    <tr style=\"text-align: right;\">\n",
       "      <th></th>\n",
       "      <th>athlete_id</th>\n",
       "      <th>name</th>\n",
       "      <th>born_date</th>\n",
       "      <th>born_city</th>\n",
       "      <th>born_region</th>\n",
       "      <th>born_country</th>\n",
       "      <th>NOC</th>\n",
       "      <th>height_cm</th>\n",
       "      <th>weight_kg</th>\n",
       "      <th>died_date</th>\n",
       "    </tr>\n",
       "  </thead>\n",
       "  <tbody>\n",
       "    <tr>\n",
       "      <th>5781</th>\n",
       "      <td>5804</td>\n",
       "      <td>Tommy Burleson</td>\n",
       "      <td>1952-02-24</td>\n",
       "      <td>Crossnore</td>\n",
       "      <td>North Carolina</td>\n",
       "      <td>USA</td>\n",
       "      <td>United States</td>\n",
       "      <td>223.0</td>\n",
       "      <td>102.0</td>\n",
       "      <td>NaN</td>\n",
       "    </tr>\n",
       "    <tr>\n",
       "      <th>6722</th>\n",
       "      <td>6755</td>\n",
       "      <td>Shaquille O'Neal</td>\n",
       "      <td>1972-03-06</td>\n",
       "      <td>Newark</td>\n",
       "      <td>New Jersey</td>\n",
       "      <td>USA</td>\n",
       "      <td>United States</td>\n",
       "      <td>216.0</td>\n",
       "      <td>137.0</td>\n",
       "      <td>NaN</td>\n",
       "    </tr>\n",
       "    <tr>\n",
       "      <th>6937</th>\n",
       "      <td>6972</td>\n",
       "      <td>David Robinson</td>\n",
       "      <td>1965-08-06</td>\n",
       "      <td>Key West</td>\n",
       "      <td>Florida</td>\n",
       "      <td>USA</td>\n",
       "      <td>United States</td>\n",
       "      <td>216.0</td>\n",
       "      <td>107.0</td>\n",
       "      <td>NaN</td>\n",
       "    </tr>\n",
       "    <tr>\n",
       "      <th>123850</th>\n",
       "      <td>126093</td>\n",
       "      <td>Tyson Chandler</td>\n",
       "      <td>1982-10-02</td>\n",
       "      <td>Hanford</td>\n",
       "      <td>California</td>\n",
       "      <td>USA</td>\n",
       "      <td>United States</td>\n",
       "      <td>216.0</td>\n",
       "      <td>107.0</td>\n",
       "      <td>NaN</td>\n",
       "    </tr>\n",
       "  </tbody>\n",
       "</table>\n",
       "</div>"
      ],
      "text/plain": [
       "        athlete_id              name   born_date  born_city     born_region  \\\n",
       "5781          5804    Tommy Burleson  1952-02-24  Crossnore  North Carolina   \n",
       "6722          6755  Shaquille O'Neal  1972-03-06     Newark      New Jersey   \n",
       "6937          6972    David Robinson  1965-08-06   Key West         Florida   \n",
       "123850      126093    Tyson Chandler  1982-10-02    Hanford      California   \n",
       "\n",
       "       born_country            NOC  height_cm  weight_kg died_date  \n",
       "5781            USA  United States      223.0      102.0       NaN  \n",
       "6722            USA  United States      216.0      137.0       NaN  \n",
       "6937            USA  United States      216.0      107.0       NaN  \n",
       "123850          USA  United States      216.0      107.0       NaN  "
      ]
     },
     "execution_count": 74,
     "metadata": {},
     "output_type": "execute_result"
    }
   ],
   "source": [
    "bios[(bios['height_cm'] > 215) & (bios['born_country']=='USA')] # Display rows where height_cm is greater than 215 and born_country is 'USA'"
   ]
  },
  {
   "cell_type": "markdown",
   "metadata": {},
   "source": [
    "#### Filter by string conditions"
   ]
  },
  {
   "cell_type": "code",
   "execution_count": 75,
   "metadata": {},
   "outputs": [
    {
     "data": {
      "application/vnd.microsoft.datawrangler.viewer.v0+json": {
       "columns": [
        {
         "name": "index",
         "rawType": "int64",
         "type": "integer"
        },
        {
         "name": "athlete_id",
         "rawType": "int64",
         "type": "integer"
        },
        {
         "name": "name",
         "rawType": "object",
         "type": "string"
        },
        {
         "name": "born_date",
         "rawType": "object",
         "type": "string"
        },
        {
         "name": "born_city",
         "rawType": "object",
         "type": "unknown"
        },
        {
         "name": "born_region",
         "rawType": "object",
         "type": "unknown"
        },
        {
         "name": "born_country",
         "rawType": "object",
         "type": "unknown"
        },
        {
         "name": "NOC",
         "rawType": "object",
         "type": "string"
        },
        {
         "name": "height_cm",
         "rawType": "float64",
         "type": "float"
        },
        {
         "name": "weight_kg",
         "rawType": "float64",
         "type": "float"
        },
        {
         "name": "died_date",
         "rawType": "object",
         "type": "unknown"
        }
       ],
       "ref": "93859528-fdef-4e07-964d-b10067cc7e6c",
       "rows": [
        [
         "1897",
         "1907",
         "Keith Hanlon",
         "1966-09-01",
         null,
         null,
         null,
         "Ireland",
         null,
         null,
         null
        ],
        [
         "3505",
         "3517",
         "Keith Wallace",
         "1961-03-29",
         "Preston",
         "England",
         "GBR",
         "Great Britain",
         "165.0",
         "51.0",
         "1999-12-31"
        ],
        [
         "6228",
         "6255",
         "Keith Hartley",
         "1940-10-15",
         "Vancouver",
         "British Columbia",
         "CAN",
         "Canada",
         "200.0",
         "85.0",
         null
        ],
        [
         "8898",
         "8946",
         "Keith Mwila",
         "1966-01-01",
         null,
         null,
         null,
         "Zambia",
         null,
         null,
         "1993-01-09"
        ],
        [
         "12053",
         "12118",
         "Keith Hervey",
         "1898-11-03",
         "Fulham",
         "England",
         "GBR",
         "Great Britain",
         null,
         null,
         "1973-02-22"
        ],
        [
         "14577",
         "14674",
         "Keith Harrison",
         "1933-03-28",
         "Birmingham",
         "England",
         "GBR",
         "Great Britain",
         null,
         null,
         null
        ],
        [
         "16166",
         "16281",
         "Keith Reynolds",
         "1963-12-25",
         "Solihull",
         "England",
         "GBR",
         "Great Britain",
         "173.0",
         "68.0",
         null
        ],
        [
         "17427",
         "17547",
         "Keith Leeson",
         "1928-12-07",
         null,
         null,
         null,
         "Australia",
         null,
         null,
         "2012-04-11"
        ],
        [
         "18734",
         "18862",
         "Keith Sinclair",
         "1945-06-26",
         "Sunderland",
         "England",
         "GBR",
         "Great Britain",
         "190.0",
         "79.0",
         null
        ],
        [
         "19812",
         "19951",
         "Keith Thomson",
         "1941-02-26",
         "Methven",
         "Canterbury",
         "NZL",
         "New Zealand",
         "173.0",
         "91.0",
         "2023-01-26"
        ],
        [
         "20975",
         "21122",
         "Keith Hackshall",
         "1927-12-23",
         "Sydney",
         "New South Wales",
         "AUS",
         "Australia",
         "177.0",
         "73.0",
         "1992-02-21"
        ],
        [
         "29308",
         "29524",
         "Keith Carter",
         "1952-10-16",
         "Winnipeg",
         "Manitoba",
         "CAN",
         "Canada",
         "155.0",
         "51.0",
         null
        ],
        [
         "29322",
         "29538",
         "Allan Keith",
         "1889-02-22",
         "Toronto",
         "Ontario",
         "CAN",
         "Canada",
         null,
         null,
         "1953-11-21"
        ],
        [
         "29897",
         "30123",
         "Keith Langley",
         "1961-06-03",
         "Aldershot",
         "England",
         "GBR",
         "Great Britain",
         "173.0",
         "70.0",
         null
        ],
        [
         "33530",
         "33787",
         "Keith Gough",
         "1969-07-19",
         null,
         null,
         null,
         "Ireland",
         null,
         null,
         null
        ],
        [
         "33832",
         "34095",
         "Keith Morgan",
         "1973-11-12",
         "Calgary",
         "Alberta",
         "CAN",
         "Canada",
         "178.0",
         "98.0",
         null
        ],
        [
         "34011",
         "34275",
         "Keith Remfry",
         "1947-11-17",
         "Ealing",
         "England",
         "GBR",
         "Great Britain",
         "193.0",
         "114.0",
         "2015-09-16"
        ],
        [
         "35839",
         "36123",
         "Keith Donald",
         "1940-09-23",
         "Vancouver",
         "British Columbia",
         "CAN",
         "Canada",
         "190.0",
         "83.0",
         null
        ],
        [
         "38956",
         "39259",
         "Keith Trask",
         "1960-11-27",
         null,
         null,
         null,
         "New Zealand",
         "190.0",
         "95.0",
         null
        ],
        [
         "41171",
         "41486",
         "Keith Elder",
         "1940-07-14",
         "Brandon",
         "Manitoba",
         "CAN",
         "Canada",
         "173.0",
         "73.0",
         null
        ],
        [
         "42706",
         "43031",
         "Keith De Casseres",
         "1910-05-27",
         "Kingston",
         "Kingston",
         "JAM",
         "West Indies Federation",
         "178.0",
         "68.0",
         "2003-02-23"
        ],
        [
         "44887",
         "45229",
         "Keith Kirkland",
         "1900-10-22",
         "Cargo",
         "New South Wales",
         "AUS",
         "Australia",
         null,
         null,
         "1971-10-24"
        ],
        [
         "46885",
         "47234",
         "Keith Collin",
         "1937-01-18",
         "Marylebone",
         "England",
         "GBR",
         "Great Britain",
         "168.0",
         "63.0",
         "1991-03-06"
        ],
        [
         "50929",
         "51288",
         "Keith Carter",
         "1924-08-30",
         "Akron",
         "Ohio",
         "USA",
         "United States",
         null,
         null,
         "2013-05-03"
        ],
        [
         "51185",
         "51544",
         "Keith Russell",
         "1948-01-15",
         "Mesa",
         "Arizona",
         "USA",
         "United States",
         "188.0",
         "73.0",
         null
        ],
        [
         "52913",
         "53288",
         "Keith Erickson",
         "1944-04-19",
         "San Francisco",
         "California",
         "USA",
         "United States",
         "196.0",
         "86.0",
         null
        ],
        [
         "53067",
         "53442",
         "Keith Whitehead",
         "1931-09-09",
         "Bondi",
         "New South Wales",
         "AUS",
         "Australia",
         "179.0",
         "83.0",
         "1980-06-09"
        ],
        [
         "53068",
         "53443",
         "Keith Wiegard",
         "1938-01-07",
         "Melbourne",
         "Victoria",
         "AUS",
         "Australia",
         "185.0",
         "86.0",
         null
        ],
        [
         "54741",
         "55135",
         "Keith Caple",
         "1923-05-06",
         "Sydney",
         "New South Wales",
         "AUS",
         "Australia",
         null,
         null,
         "2006-11-29"
        ],
        [
         "54940",
         "55335",
         "Keith Adams",
         "1950-06-20",
         null,
         null,
         null,
         "Canada",
         "167.0",
         "75.0",
         null
        ],
        [
         "55317",
         "55712",
         "Keith Boxell",
         "1958-05-06",
         "Clapham",
         "England",
         "GBR",
         "Great Britain",
         "170.0",
         "87.0",
         null
        ],
        [
         "57784",
         "58192",
         "Keith Haward",
         "1951-06-28",
         null,
         null,
         null,
         "Great Britain",
         "173.0",
         "74.0",
         null
        ],
        [
         "57818",
         "58226",
         "Keith Peache",
         "1947-08-10",
         "Lewisham",
         "England",
         "GBR",
         "Great Britain",
         "180.0",
         "98.0",
         null
        ],
        [
         "60804",
         "61243",
         "Keith Barker",
         "1959-02-11",
         null,
         null,
         null,
         "British Virgin Islands",
         "172.0",
         "64.0",
         null
        ],
        [
         "61748",
         "62202",
         "Keith Grogono",
         "1912-11-04",
         "Stratford",
         "England",
         "GBR",
         "Great Britain",
         null,
         null,
         "1999-03-22"
        ],
        [
         "62054",
         "62511",
         "Keith Johnson",
         "1897-02-15",
         "Port Frederick",
         "Tasmania",
         "AUS",
         "Singapore",
         null,
         null,
         "1960-01-01"
        ],
        [
         "62620",
         "63086",
         "Keith Musto",
         "1936-01-12",
         "Rochford",
         "England",
         "GBR",
         "Great Britain",
         "174.0",
         "72.0",
         null
        ],
        [
         "62678",
         "63144",
         "Keith Notary",
         "1960-01-22",
         "Merritt Island",
         "Florida",
         "USA",
         "United States",
         "170.0",
         "66.0",
         null
        ],
        [
         "62684",
         "63150",
         "Michael Keith Nunes",
         "1918-01-28",
         "Kingston",
         "Kingston",
         "JAM",
         "Jamaica",
         "178.0",
         "80.0",
         "1996-02-17"
        ],
        [
         "63423",
         "63900",
         "Keith Thomas",
         "1956-01-18",
         null,
         null,
         null,
         "British Virgin Islands",
         "187.0",
         "86.0",
         null
        ],
        [
         "63693",
         "64173",
         "Keith Wilson",
         "1937-11-26",
         "Montréal",
         "Québec",
         "CAN",
         "Canada",
         "177.0",
         "70.0",
         null
        ],
        [
         "64283",
         "64765",
         "Keith Ollerenshaw",
         "1928-09-28",
         "Lakemba",
         "New South Wales",
         "AUS",
         "Australia",
         "166.0",
         "58.0",
         "2016-03-13"
        ],
        [
         "68324",
         "68841",
         "Keith Angus",
         "1943-04-05",
         "Sheffield",
         "England",
         "GBR",
         "Great Britain",
         "170.0",
         "59.0",
         null
        ],
        [
         "68457",
         "68974",
         "Keith Connor",
         "1957-09-16",
         "South Hill",
         "Anguilla",
         "AGU",
         "Great Britain",
         "186.0",
         "78.0",
         null
        ],
        [
         "68472",
         "68989",
         "Keith Cullen",
         "1972-06-13",
         "Ilford",
         "England",
         "GBR",
         "Great Britain",
         "177.0",
         "61.0",
         null
        ],
        [
         "68997",
         "69514",
         "Keith Stock",
         "1957-03-18",
         "Woolwich",
         "England",
         "GBR",
         "Great Britain",
         "176.0",
         "73.0",
         null
        ],
        [
         "71737",
         "72279",
         "Keith Gardner",
         "1929-09-06",
         "Kingston",
         "Kingston",
         "JAM",
         "Jamaica West Indies Federation",
         "175.0",
         "64.0",
         "2012-05-25"
        ],
        [
         "74707",
         "75280",
         "Keith James",
         "1934-11-05",
         "Johannesburg",
         "Gauteng",
         "RSA",
         "South Africa",
         "166.0",
         "55.0",
         null
        ],
        [
         "74712",
         "75285",
         "Bill Keith",
         "1925-11-26",
         "Petrus Steyn",
         "Free State",
         "RSA",
         "South Africa",
         null,
         null,
         "1999-09-05"
        ],
        [
         "77550",
         "78141",
         "Keith Brantly",
         "1962-05-23",
         "Scott Air Force Base",
         "Illinois",
         "USA",
         "United States",
         "180.0",
         "64.0",
         null
        ]
       ],
       "shape": {
        "columns": 10,
        "rows": 70
       }
      },
      "text/html": [
       "<div>\n",
       "<style scoped>\n",
       "    .dataframe tbody tr th:only-of-type {\n",
       "        vertical-align: middle;\n",
       "    }\n",
       "\n",
       "    .dataframe tbody tr th {\n",
       "        vertical-align: top;\n",
       "    }\n",
       "\n",
       "    .dataframe thead th {\n",
       "        text-align: right;\n",
       "    }\n",
       "</style>\n",
       "<table border=\"1\" class=\"dataframe\">\n",
       "  <thead>\n",
       "    <tr style=\"text-align: right;\">\n",
       "      <th></th>\n",
       "      <th>athlete_id</th>\n",
       "      <th>name</th>\n",
       "      <th>born_date</th>\n",
       "      <th>born_city</th>\n",
       "      <th>born_region</th>\n",
       "      <th>born_country</th>\n",
       "      <th>NOC</th>\n",
       "      <th>height_cm</th>\n",
       "      <th>weight_kg</th>\n",
       "      <th>died_date</th>\n",
       "    </tr>\n",
       "  </thead>\n",
       "  <tbody>\n",
       "    <tr>\n",
       "      <th>1897</th>\n",
       "      <td>1907</td>\n",
       "      <td>Keith Hanlon</td>\n",
       "      <td>1966-09-01</td>\n",
       "      <td>NaN</td>\n",
       "      <td>NaN</td>\n",
       "      <td>NaN</td>\n",
       "      <td>Ireland</td>\n",
       "      <td>NaN</td>\n",
       "      <td>NaN</td>\n",
       "      <td>NaN</td>\n",
       "    </tr>\n",
       "    <tr>\n",
       "      <th>3505</th>\n",
       "      <td>3517</td>\n",
       "      <td>Keith Wallace</td>\n",
       "      <td>1961-03-29</td>\n",
       "      <td>Preston</td>\n",
       "      <td>England</td>\n",
       "      <td>GBR</td>\n",
       "      <td>Great Britain</td>\n",
       "      <td>165.0</td>\n",
       "      <td>51.0</td>\n",
       "      <td>1999-12-31</td>\n",
       "    </tr>\n",
       "    <tr>\n",
       "      <th>6228</th>\n",
       "      <td>6255</td>\n",
       "      <td>Keith Hartley</td>\n",
       "      <td>1940-10-15</td>\n",
       "      <td>Vancouver</td>\n",
       "      <td>British Columbia</td>\n",
       "      <td>CAN</td>\n",
       "      <td>Canada</td>\n",
       "      <td>200.0</td>\n",
       "      <td>85.0</td>\n",
       "      <td>NaN</td>\n",
       "    </tr>\n",
       "    <tr>\n",
       "      <th>8898</th>\n",
       "      <td>8946</td>\n",
       "      <td>Keith Mwila</td>\n",
       "      <td>1966-01-01</td>\n",
       "      <td>NaN</td>\n",
       "      <td>NaN</td>\n",
       "      <td>NaN</td>\n",
       "      <td>Zambia</td>\n",
       "      <td>NaN</td>\n",
       "      <td>NaN</td>\n",
       "      <td>1993-01-09</td>\n",
       "    </tr>\n",
       "    <tr>\n",
       "      <th>12053</th>\n",
       "      <td>12118</td>\n",
       "      <td>Keith Hervey</td>\n",
       "      <td>1898-11-03</td>\n",
       "      <td>Fulham</td>\n",
       "      <td>England</td>\n",
       "      <td>GBR</td>\n",
       "      <td>Great Britain</td>\n",
       "      <td>NaN</td>\n",
       "      <td>NaN</td>\n",
       "      <td>1973-02-22</td>\n",
       "    </tr>\n",
       "    <tr>\n",
       "      <th>...</th>\n",
       "      <td>...</td>\n",
       "      <td>...</td>\n",
       "      <td>...</td>\n",
       "      <td>...</td>\n",
       "      <td>...</td>\n",
       "      <td>...</td>\n",
       "      <td>...</td>\n",
       "      <td>...</td>\n",
       "      <td>...</td>\n",
       "      <td>...</td>\n",
       "    </tr>\n",
       "    <tr>\n",
       "      <th>109900</th>\n",
       "      <td>111105</td>\n",
       "      <td>Keith Cumberpatch</td>\n",
       "      <td>1927-08-25</td>\n",
       "      <td>Christchurch</td>\n",
       "      <td>Canterbury</td>\n",
       "      <td>NZL</td>\n",
       "      <td>New Zealand</td>\n",
       "      <td>NaN</td>\n",
       "      <td>NaN</td>\n",
       "      <td>2013-11-15</td>\n",
       "    </tr>\n",
       "    <tr>\n",
       "      <th>115973</th>\n",
       "      <td>117348</td>\n",
       "      <td>Keith Sanderson</td>\n",
       "      <td>1975-02-02</td>\n",
       "      <td>Plymouth</td>\n",
       "      <td>Massachusetts</td>\n",
       "      <td>USA</td>\n",
       "      <td>United States</td>\n",
       "      <td>183.0</td>\n",
       "      <td>95.0</td>\n",
       "      <td>NaN</td>\n",
       "    </tr>\n",
       "    <tr>\n",
       "      <th>117676</th>\n",
       "      <td>119195</td>\n",
       "      <td>Duncan Keith</td>\n",
       "      <td>1983-07-16</td>\n",
       "      <td>Winnipeg</td>\n",
       "      <td>Manitoba</td>\n",
       "      <td>CAN</td>\n",
       "      <td>Canada</td>\n",
       "      <td>185.0</td>\n",
       "      <td>88.0</td>\n",
       "      <td>NaN</td>\n",
       "    </tr>\n",
       "    <tr>\n",
       "      <th>122121</th>\n",
       "      <td>124176</td>\n",
       "      <td>Keith Ferguson</td>\n",
       "      <td>1979-09-07</td>\n",
       "      <td>Sale</td>\n",
       "      <td>Victoria</td>\n",
       "      <td>AUS</td>\n",
       "      <td>Australia</td>\n",
       "      <td>176.0</td>\n",
       "      <td>78.0</td>\n",
       "      <td>NaN</td>\n",
       "    </tr>\n",
       "    <tr>\n",
       "      <th>127310</th>\n",
       "      <td>129749</td>\n",
       "      <td>Tracy Keith-Matchitt</td>\n",
       "      <td>1990-03-30</td>\n",
       "      <td>Palmerston North</td>\n",
       "      <td>Manawatu-Wanganui</td>\n",
       "      <td>NZL</td>\n",
       "      <td>Cook Islands</td>\n",
       "      <td>167.0</td>\n",
       "      <td>60.0</td>\n",
       "      <td>NaN</td>\n",
       "    </tr>\n",
       "  </tbody>\n",
       "</table>\n",
       "<p>70 rows × 10 columns</p>\n",
       "</div>"
      ],
      "text/plain": [
       "        athlete_id                  name   born_date         born_city  \\\n",
       "1897          1907          Keith Hanlon  1966-09-01               NaN   \n",
       "3505          3517         Keith Wallace  1961-03-29           Preston   \n",
       "6228          6255         Keith Hartley  1940-10-15         Vancouver   \n",
       "8898          8946           Keith Mwila  1966-01-01               NaN   \n",
       "12053        12118          Keith Hervey  1898-11-03            Fulham   \n",
       "...            ...                   ...         ...               ...   \n",
       "109900      111105     Keith Cumberpatch  1927-08-25      Christchurch   \n",
       "115973      117348       Keith Sanderson  1975-02-02          Plymouth   \n",
       "117676      119195          Duncan Keith  1983-07-16          Winnipeg   \n",
       "122121      124176        Keith Ferguson  1979-09-07              Sale   \n",
       "127310      129749  Tracy Keith-Matchitt  1990-03-30  Palmerston North   \n",
       "\n",
       "              born_region born_country            NOC  height_cm  weight_kg  \\\n",
       "1897                  NaN          NaN        Ireland        NaN        NaN   \n",
       "3505              England          GBR  Great Britain      165.0       51.0   \n",
       "6228     British Columbia          CAN         Canada      200.0       85.0   \n",
       "8898                  NaN          NaN         Zambia        NaN        NaN   \n",
       "12053             England          GBR  Great Britain        NaN        NaN   \n",
       "...                   ...          ...            ...        ...        ...   \n",
       "109900         Canterbury          NZL    New Zealand        NaN        NaN   \n",
       "115973      Massachusetts          USA  United States      183.0       95.0   \n",
       "117676           Manitoba          CAN         Canada      185.0       88.0   \n",
       "122121           Victoria          AUS      Australia      176.0       78.0   \n",
       "127310  Manawatu-Wanganui          NZL   Cook Islands      167.0       60.0   \n",
       "\n",
       "         died_date  \n",
       "1897           NaN  \n",
       "3505    1999-12-31  \n",
       "6228           NaN  \n",
       "8898    1993-01-09  \n",
       "12053   1973-02-22  \n",
       "...            ...  \n",
       "109900  2013-11-15  \n",
       "115973         NaN  \n",
       "117676         NaN  \n",
       "122121         NaN  \n",
       "127310         NaN  \n",
       "\n",
       "[70 rows x 10 columns]"
      ]
     },
     "execution_count": 75,
     "metadata": {},
     "output_type": "execute_result"
    }
   ],
   "source": [
    "bios[bios['name'].str.contains(\"keith\", case=False)] # Display rows where the name contains \"keith\" (case-insensitive)"
   ]
  },
  {
   "cell_type": "code",
   "execution_count": 76,
   "metadata": {},
   "outputs": [
    {
     "data": {
      "application/vnd.microsoft.datawrangler.viewer.v0+json": {
       "columns": [
        {
         "name": "index",
         "rawType": "int64",
         "type": "integer"
        },
        {
         "name": "athlete_id",
         "rawType": "int64",
         "type": "integer"
        },
        {
         "name": "name",
         "rawType": "object",
         "type": "string"
        },
        {
         "name": "born_date",
         "rawType": "object",
         "type": "unknown"
        },
        {
         "name": "born_city",
         "rawType": "object",
         "type": "unknown"
        },
        {
         "name": "born_region",
         "rawType": "object",
         "type": "unknown"
        },
        {
         "name": "born_country",
         "rawType": "object",
         "type": "unknown"
        },
        {
         "name": "NOC",
         "rawType": "object",
         "type": "string"
        },
        {
         "name": "height_cm",
         "rawType": "float64",
         "type": "float"
        },
        {
         "name": "weight_kg",
         "rawType": "float64",
         "type": "float"
        },
        {
         "name": "died_date",
         "rawType": "object",
         "type": "unknown"
        }
       ],
       "ref": "8dc1c068-eb8f-4d7d-b473-22e57a31798f",
       "rows": [
        [
         "6",
         "7",
         "Patrick Chila",
         "1969-11-27",
         "Ris-Orangis",
         "Essonne",
         "FRA",
         "France",
         "180.0",
         "73.0",
         null
        ],
        [
         "119",
         "120",
         "Patrick Wheatley",
         "1899-01-20",
         "Vryheid",
         "KwaZulu-Natal",
         "RSA",
         "Great Britain",
         null,
         null,
         "1967-11-05"
        ],
        [
         "319",
         "320",
         "Patrick De Koning",
         "1961-04-23",
         "Dendermonde",
         "Oost-Vlaanderen",
         "BEL",
         "Belgium",
         "178.0",
         "92.0",
         null
        ],
        [
         "1897",
         "1907",
         "Keith Hanlon",
         "1966-09-01",
         null,
         null,
         null,
         "Ireland",
         null,
         null,
         null
        ],
        [
         "2115",
         "2125",
         "Patrick Jopp",
         "1962-01-08",
         null,
         null,
         null,
         "Switzerland",
         "176.0",
         "67.0",
         null
        ],
        [
         "2454",
         "2465",
         "Patrick Birocheau",
         "1955-09-23",
         "Béjaïa",
         "Béjaïa",
         "ALG",
         "France",
         "177.0",
         "72.0",
         null
        ],
        [
         "3505",
         "3517",
         "Keith Wallace",
         "1961-03-29",
         "Preston",
         "England",
         "GBR",
         "Great Britain",
         "165.0",
         "51.0",
         "1999-12-31"
        ],
        [
         "4314",
         "4328",
         "Patrick Waweru",
         "1956-06-09",
         null,
         null,
         null,
         "Kenya",
         "158.0",
         "59.0",
         null
        ],
        [
         "5829",
         "5852",
         "Patrick Cham",
         "1953-05-18",
         "Saint-Claude",
         "Guadeloupe",
         "FRA",
         "France",
         "195.0",
         null,
         null
        ],
        [
         "6059",
         "6085",
         "Patrick Ewing",
         "1962-08-05",
         "Kingston",
         "Kingston",
         "JAM",
         "United States",
         "213.0",
         "109.0",
         null
        ],
        [
         "6228",
         "6255",
         "Keith Hartley",
         "1940-10-15",
         "Vancouver",
         "British Columbia",
         "CAN",
         "Canada",
         "200.0",
         "85.0",
         null
        ],
        [
         "8391",
         "8437",
         "Patrick Lihanda",
         "1962-04-11",
         null,
         null,
         null,
         "Uganda",
         "175.0",
         "81.0",
         null
        ],
        [
         "8894",
         "8942",
         "Patrick Mwamba",
         "1964-01-04",
         null,
         null,
         null,
         "Zambia",
         "156.0",
         "57.0",
         null
        ],
        [
         "8898",
         "8946",
         "Keith Mwila",
         "1966-01-01",
         null,
         null,
         null,
         "Zambia",
         null,
         null,
         "1993-01-09"
        ],
        [
         "9080",
         "9131",
         "Patrick De Bucke",
         "1957-10-24",
         "Gent (Ghent)",
         "Oost-Vlaanderen",
         "BEL",
         "Belgium",
         "193.0",
         "86.0",
         null
        ],
        [
         "9086",
         "9137",
         "Patrick Hanssens",
         "1956-06-06",
         "Antwerpen (Antwerp)",
         "Antwerpen",
         "BEL",
         "Belgium",
         "184.0",
         "80.0",
         null
        ],
        [
         "9542",
         "9596",
         "Patrick Bérard",
         "1959-12-10",
         null,
         null,
         null,
         "France",
         "186.0",
         "80.0",
         null
        ],
        [
         "9579",
         "9633",
         "Patrick Genestier",
         "1954-06-01",
         null,
         null,
         null,
         "France",
         "176.0",
         "70.0",
         null
        ],
        [
         "9592",
         "9646",
         "Patrick Lancereau",
         "1966-07-18",
         "Tours",
         "Indre-et-Loire",
         "FRA",
         "France",
         "176.0",
         "75.0",
         null
        ],
        [
         "9598",
         "9652",
         "Patrick Lefoulon",
         "1958-05-06",
         "Mantes-la-Jolie",
         "Yvelines",
         "FRA",
         "France",
         "175.0",
         "73.0",
         null
        ],
        [
         "9602",
         "9656",
         "Patrick Maccari",
         "1951-10-14",
         null,
         null,
         null,
         "France",
         "176.0",
         "70.0",
         null
        ],
        [
         "9921",
         "9977",
         "Patrick Schulze",
         "1973-01-02",
         "Magdeburg",
         "Sachsen-Anhalt",
         "GER",
         "Germany",
         "182.0",
         "82.0",
         null
        ],
        [
         "11712",
         "11773",
         "Patrick, Baron Connolly-Carew",
         "1938-03-06",
         null,
         null,
         null,
         "Ireland",
         "178.0",
         "66.0",
         null
        ],
        [
         "12053",
         "12118",
         "Keith Hervey",
         "1898-11-03",
         "Fulham",
         "England",
         "GBR",
         "Great Britain",
         null,
         null,
         "1973-02-22"
        ],
        [
         "12173",
         "12239",
         "Carlos Kirkpatrick",
         "1907-11-08",
         "Madrid",
         "Madrid",
         "ESP",
         "Spain",
         null,
         null,
         "1975-03-22"
        ],
        [
         "12231",
         "12297",
         "Patrick le Rolland",
         "1943-05-15",
         null,
         null,
         null,
         "France",
         "180.0",
         "65.0",
         "2014-08-28"
        ],
        [
         "14107",
         "14200",
         "Patrick du Chau",
         "1959-02-09",
         "Opbrakel",
         "Oost-Vlaanderen",
         "BEL",
         "Belgium",
         "188.0",
         "78.0",
         null
        ],
        [
         "14577",
         "14674",
         "Keith Harrison",
         "1933-03-28",
         "Birmingham",
         "England",
         "GBR",
         "Great Britain",
         null,
         null,
         null
        ],
        [
         "14843",
         "14944",
         "Patrick Jonker",
         "1969-05-25",
         "Amsterdam",
         "Noord-Holland",
         "NED",
         "Australia",
         "185.0",
         "70.0",
         null
        ],
        [
         "15429",
         "15536",
         "Patrick Matt",
         "1969-04-04",
         null,
         null,
         null,
         "Liechtenstein",
         "183.0",
         "74.0",
         null
        ],
        [
         "16166",
         "16281",
         "Keith Reynolds",
         "1963-12-25",
         "Solihull",
         "England",
         "GBR",
         "Great Britain",
         "173.0",
         "68.0",
         null
        ],
        [
         "16427",
         "16543",
         "Patrick Sercu",
         "1944-06-27",
         "Roeselare",
         "West-Vlaanderen",
         "BEL",
         "Belgium",
         "180.0",
         "76.0",
         "2019-04-19"
        ],
        [
         "16539",
         "16655",
         "Patrick Spencer",
         null,
         null,
         null,
         null,
         "Antigua and Barbuda",
         null,
         null,
         null
        ],
        [
         "17106",
         "17224",
         "Patrick Wackström",
         "1958-09-06",
         null,
         null,
         null,
         "Finland",
         "185.0",
         null,
         null
        ],
        [
         "17427",
         "17547",
         "Keith Leeson",
         "1928-12-07",
         null,
         null,
         null,
         "Australia",
         null,
         null,
         "2012-04-11"
        ],
        [
         "17436",
         "17556",
         "Patrick Nilan",
         "1941-06-30",
         "Sydney",
         "New South Wales",
         "AUS",
         "Australia",
         "172.0",
         "67.0",
         null
        ],
        [
         "17555",
         "17675",
         "Patrick Gillard",
         "1947-09-20",
         null,
         null,
         null,
         "Belgium",
         "177.0",
         "72.0",
         "2021-01-04"
        ],
        [
         "18122",
         "18243",
         "Jim Fitzpatrick",
         "1892-06-02",
         "Los Angeles",
         "California",
         "USA",
         "United States",
         null,
         null,
         "1973-10-09"
        ],
        [
         "18130",
         "18251",
         "Jack Patrick",
         "1898-11-25",
         "Palo Alto",
         "California",
         "USA",
         "United States",
         "187.0",
         "95.0",
         "1959-05-31"
        ],
        [
         "18454",
         "18580",
         "Patrick Burtschell",
         "1946-09-22",
         "Lille",
         "Nord",
         "FRA",
         "France",
         "175.0",
         "80.0",
         null
        ],
        [
         "18585",
         "18712",
         "Patrick Austen",
         "1933-03-18",
         "Kingston-upon-Thames",
         "England",
         "GBR",
         "Great Britain",
         null,
         null,
         "2013-10-14"
        ],
        [
         "18734",
         "18862",
         "Keith Sinclair",
         "1945-06-26",
         "Sunderland",
         "England",
         "GBR",
         "Great Britain",
         "190.0",
         "79.0",
         null
        ],
        [
         "18831",
         "18959",
         "Patrick Bellenbaum",
         "1974-04-28",
         "Oberhausen",
         "Nordrhein-Westfalen",
         "GER",
         "Germany",
         "190.0",
         "88.0",
         null
        ],
        [
         "19588",
         "19727",
         "Patrick Buteux van der Kamp",
         "1937-10-09",
         "Den Haag (The Hague)",
         "Zuid-Holland",
         "NED",
         "Netherlands",
         "176.0",
         "69.0",
         null
        ],
        [
         "19614",
         "19753",
         "Patrick Faber",
         "1964-05-07",
         null,
         null,
         null,
         "Netherlands",
         null,
         null,
         null
        ],
        [
         "19812",
         "19951",
         "Keith Thomson",
         "1941-02-26",
         "Methven",
         "Canterbury",
         "NZL",
         "New Zealand",
         "173.0",
         "91.0",
         "2023-01-26"
        ],
        [
         "20110",
         "20253",
         "Patrick Toto",
         "1954-05-16",
         null,
         null,
         null,
         "United Republic of Tanzania",
         "170.0",
         "65.0",
         null
        ],
        [
         "20975",
         "21122",
         "Keith Hackshall",
         "1927-12-23",
         "Sydney",
         "New South Wales",
         "AUS",
         "Australia",
         "177.0",
         "73.0",
         "1992-02-21"
        ],
        [
         "21727",
         "21881",
         "Patrick Groc",
         "1960-09-06",
         "Neuilly-sur-Seine",
         "Hauts-de-Seine",
         "FRA",
         "France",
         "183.0",
         "78.0",
         null
        ],
        [
         "21845",
         "22000",
         "Patrick Picot",
         "1951-09-22",
         "Saint-Mandé",
         "Val-de-Marne",
         "FRA",
         "France",
         "177.0",
         "76.0",
         null
        ]
       ],
       "shape": {
        "columns": 10,
        "rows": 303
       }
      },
      "text/html": [
       "<div>\n",
       "<style scoped>\n",
       "    .dataframe tbody tr th:only-of-type {\n",
       "        vertical-align: middle;\n",
       "    }\n",
       "\n",
       "    .dataframe tbody tr th {\n",
       "        vertical-align: top;\n",
       "    }\n",
       "\n",
       "    .dataframe thead th {\n",
       "        text-align: right;\n",
       "    }\n",
       "</style>\n",
       "<table border=\"1\" class=\"dataframe\">\n",
       "  <thead>\n",
       "    <tr style=\"text-align: right;\">\n",
       "      <th></th>\n",
       "      <th>athlete_id</th>\n",
       "      <th>name</th>\n",
       "      <th>born_date</th>\n",
       "      <th>born_city</th>\n",
       "      <th>born_region</th>\n",
       "      <th>born_country</th>\n",
       "      <th>NOC</th>\n",
       "      <th>height_cm</th>\n",
       "      <th>weight_kg</th>\n",
       "      <th>died_date</th>\n",
       "    </tr>\n",
       "  </thead>\n",
       "  <tbody>\n",
       "    <tr>\n",
       "      <th>6</th>\n",
       "      <td>7</td>\n",
       "      <td>Patrick Chila</td>\n",
       "      <td>1969-11-27</td>\n",
       "      <td>Ris-Orangis</td>\n",
       "      <td>Essonne</td>\n",
       "      <td>FRA</td>\n",
       "      <td>France</td>\n",
       "      <td>180.0</td>\n",
       "      <td>73.0</td>\n",
       "      <td>NaN</td>\n",
       "    </tr>\n",
       "    <tr>\n",
       "      <th>119</th>\n",
       "      <td>120</td>\n",
       "      <td>Patrick Wheatley</td>\n",
       "      <td>1899-01-20</td>\n",
       "      <td>Vryheid</td>\n",
       "      <td>KwaZulu-Natal</td>\n",
       "      <td>RSA</td>\n",
       "      <td>Great Britain</td>\n",
       "      <td>NaN</td>\n",
       "      <td>NaN</td>\n",
       "      <td>1967-11-05</td>\n",
       "    </tr>\n",
       "    <tr>\n",
       "      <th>319</th>\n",
       "      <td>320</td>\n",
       "      <td>Patrick De Koning</td>\n",
       "      <td>1961-04-23</td>\n",
       "      <td>Dendermonde</td>\n",
       "      <td>Oost-Vlaanderen</td>\n",
       "      <td>BEL</td>\n",
       "      <td>Belgium</td>\n",
       "      <td>178.0</td>\n",
       "      <td>92.0</td>\n",
       "      <td>NaN</td>\n",
       "    </tr>\n",
       "    <tr>\n",
       "      <th>1897</th>\n",
       "      <td>1907</td>\n",
       "      <td>Keith Hanlon</td>\n",
       "      <td>1966-09-01</td>\n",
       "      <td>NaN</td>\n",
       "      <td>NaN</td>\n",
       "      <td>NaN</td>\n",
       "      <td>Ireland</td>\n",
       "      <td>NaN</td>\n",
       "      <td>NaN</td>\n",
       "      <td>NaN</td>\n",
       "    </tr>\n",
       "    <tr>\n",
       "      <th>2115</th>\n",
       "      <td>2125</td>\n",
       "      <td>Patrick Jopp</td>\n",
       "      <td>1962-01-08</td>\n",
       "      <td>NaN</td>\n",
       "      <td>NaN</td>\n",
       "      <td>NaN</td>\n",
       "      <td>Switzerland</td>\n",
       "      <td>176.0</td>\n",
       "      <td>67.0</td>\n",
       "      <td>NaN</td>\n",
       "    </tr>\n",
       "    <tr>\n",
       "      <th>...</th>\n",
       "      <td>...</td>\n",
       "      <td>...</td>\n",
       "      <td>...</td>\n",
       "      <td>...</td>\n",
       "      <td>...</td>\n",
       "      <td>...</td>\n",
       "      <td>...</td>\n",
       "      <td>...</td>\n",
       "      <td>...</td>\n",
       "      <td>...</td>\n",
       "    </tr>\n",
       "    <tr>\n",
       "      <th>143975</th>\n",
       "      <td>147633</td>\n",
       "      <td>Patrick Chinyemba</td>\n",
       "      <td>2001-01-03</td>\n",
       "      <td>NaN</td>\n",
       "      <td>NaN</td>\n",
       "      <td>NaN</td>\n",
       "      <td>Zambia</td>\n",
       "      <td>NaN</td>\n",
       "      <td>NaN</td>\n",
       "      <td>NaN</td>\n",
       "    </tr>\n",
       "    <tr>\n",
       "      <th>144172</th>\n",
       "      <td>147850</td>\n",
       "      <td>Patrick Jakob</td>\n",
       "      <td>1996-10-17</td>\n",
       "      <td>Sankt Johann in Tirol</td>\n",
       "      <td>Tirol</td>\n",
       "      <td>AUT</td>\n",
       "      <td>Austria</td>\n",
       "      <td>NaN</td>\n",
       "      <td>NaN</td>\n",
       "      <td>NaN</td>\n",
       "    </tr>\n",
       "    <tr>\n",
       "      <th>144547</th>\n",
       "      <td>148239</td>\n",
       "      <td>Patrick Galbraith</td>\n",
       "      <td>1986-03-11</td>\n",
       "      <td>Haderslev</td>\n",
       "      <td>Syddanmark</td>\n",
       "      <td>DEN</td>\n",
       "      <td>Denmark</td>\n",
       "      <td>NaN</td>\n",
       "      <td>NaN</td>\n",
       "      <td>NaN</td>\n",
       "    </tr>\n",
       "    <tr>\n",
       "      <th>144565</th>\n",
       "      <td>148257</td>\n",
       "      <td>Patrick Russell</td>\n",
       "      <td>1993-01-04</td>\n",
       "      <td>Gentofte</td>\n",
       "      <td>Hovedstaden</td>\n",
       "      <td>DEN</td>\n",
       "      <td>Denmark</td>\n",
       "      <td>186.0</td>\n",
       "      <td>93.0</td>\n",
       "      <td>NaN</td>\n",
       "    </tr>\n",
       "    <tr>\n",
       "      <th>145435</th>\n",
       "      <td>149158</td>\n",
       "      <td>Patrick Gasienica</td>\n",
       "      <td>1998-11-28</td>\n",
       "      <td>McHenry</td>\n",
       "      <td>Illinois</td>\n",
       "      <td>USA</td>\n",
       "      <td>United States</td>\n",
       "      <td>NaN</td>\n",
       "      <td>NaN</td>\n",
       "      <td>2023-06-12</td>\n",
       "    </tr>\n",
       "  </tbody>\n",
       "</table>\n",
       "<p>303 rows × 10 columns</p>\n",
       "</div>"
      ],
      "text/plain": [
       "        athlete_id               name   born_date              born_city  \\\n",
       "6                7      Patrick Chila  1969-11-27            Ris-Orangis   \n",
       "119            120   Patrick Wheatley  1899-01-20                Vryheid   \n",
       "319            320  Patrick De Koning  1961-04-23            Dendermonde   \n",
       "1897          1907       Keith Hanlon  1966-09-01                    NaN   \n",
       "2115          2125       Patrick Jopp  1962-01-08                    NaN   \n",
       "...            ...                ...         ...                    ...   \n",
       "143975      147633  Patrick Chinyemba  2001-01-03                    NaN   \n",
       "144172      147850      Patrick Jakob  1996-10-17  Sankt Johann in Tirol   \n",
       "144547      148239  Patrick Galbraith  1986-03-11              Haderslev   \n",
       "144565      148257    Patrick Russell  1993-01-04               Gentofte   \n",
       "145435      149158  Patrick Gasienica  1998-11-28                McHenry   \n",
       "\n",
       "            born_region born_country            NOC  height_cm  weight_kg  \\\n",
       "6               Essonne          FRA         France      180.0       73.0   \n",
       "119       KwaZulu-Natal          RSA  Great Britain        NaN        NaN   \n",
       "319     Oost-Vlaanderen          BEL        Belgium      178.0       92.0   \n",
       "1897                NaN          NaN        Ireland        NaN        NaN   \n",
       "2115                NaN          NaN    Switzerland      176.0       67.0   \n",
       "...                 ...          ...            ...        ...        ...   \n",
       "143975              NaN          NaN         Zambia        NaN        NaN   \n",
       "144172            Tirol          AUT        Austria        NaN        NaN   \n",
       "144547       Syddanmark          DEN        Denmark        NaN        NaN   \n",
       "144565      Hovedstaden          DEN        Denmark      186.0       93.0   \n",
       "145435         Illinois          USA  United States        NaN        NaN   \n",
       "\n",
       "         died_date  \n",
       "6              NaN  \n",
       "119     1967-11-05  \n",
       "319            NaN  \n",
       "1897           NaN  \n",
       "2115           NaN  \n",
       "...            ...  \n",
       "143975         NaN  \n",
       "144172         NaN  \n",
       "144547         NaN  \n",
       "144565         NaN  \n",
       "145435  2023-06-12  \n",
       "\n",
       "[303 rows x 10 columns]"
      ]
     },
     "execution_count": 76,
     "metadata": {},
     "output_type": "execute_result"
    }
   ],
   "source": [
    "# Regex syntax\n",
    "bios[bios['name'].str.contains('keith|patrick', case=False)] # Display rows where the name contains \"keith\" or \"patrick\" (case-insensitive)"
   ]
  },
  {
   "cell_type": "code",
   "execution_count": 79,
   "metadata": {},
   "outputs": [
    {
     "data": {
      "application/vnd.microsoft.datawrangler.viewer.v0+json": {
       "columns": [
        {
         "name": "index",
         "rawType": "int64",
         "type": "integer"
        },
        {
         "name": "athlete_id",
         "rawType": "int64",
         "type": "integer"
        },
        {
         "name": "name",
         "rawType": "object",
         "type": "string"
        },
        {
         "name": "born_date",
         "rawType": "object",
         "type": "unknown"
        },
        {
         "name": "born_city",
         "rawType": "object",
         "type": "string"
        },
        {
         "name": "born_region",
         "rawType": "object",
         "type": "string"
        },
        {
         "name": "born_country",
         "rawType": "object",
         "type": "string"
        },
        {
         "name": "NOC",
         "rawType": "object",
         "type": "string"
        },
        {
         "name": "height_cm",
         "rawType": "float64",
         "type": "float"
        },
        {
         "name": "weight_kg",
         "rawType": "float64",
         "type": "float"
        },
        {
         "name": "died_date",
         "rawType": "object",
         "type": "unknown"
        }
       ],
       "ref": "2a1d9f60-3957-4952-b75c-ec0fce249605",
       "rows": [
        [
         "5",
         "6",
         "Nicolas Chatelain",
         "1970-01-13",
         "Amiens",
         "Somme",
         "FRA",
         "France",
         "181.0",
         "70.0",
         null
        ],
        [
         "10",
         "11",
         "Élie, Comte de Lastours",
         "1874-08-12",
         "Orgeval",
         "Yvelines",
         "FRA",
         "France",
         null,
         null,
         "1932-11-18"
        ],
        [
         "17",
         "18",
         "Jean-Philippe Gatien",
         "1968-10-16",
         "Alès",
         "Gard",
         "FRA",
         "France",
         "178.0",
         "73.0",
         null
        ],
        [
         "35",
         "36",
         "Étienne Thobois",
         "1967-09-20",
         "Amiens",
         "Somme",
         "FRA",
         "France",
         "186.0",
         "78.0",
         null
        ],
        [
         "40",
         "41",
         "Julie Bradbury",
         "1967-02-12",
         "Oxford",
         "England",
         "GBR",
         "Great Britain",
         "175.0",
         "64.0",
         null
        ],
        [
         "44",
         "45",
         "Charlotte Cooper",
         "1870-09-22",
         "Ealing",
         "England",
         "GBR",
         "Great Britain",
         null,
         null,
         "1966-10-10"
        ],
        [
         "50",
         "51",
         "Alice Greene",
         "1879-10-15",
         "Upton",
         "England",
         "GBR",
         "Great Britain",
         null,
         null,
         "1956-10-26"
        ],
        [
         "56",
         "57",
         "Dorothy Lambert Chambers",
         "1878-09-03",
         "Ealing",
         "England",
         "GBR",
         "Great Britain",
         null,
         null,
         "1960-01-07"
        ],
        [
         "64",
         "65",
         "Violet Pinckney",
         "1871-03-11",
         "Alderbury",
         "England",
         "GBR",
         "Great Britain",
         null,
         null,
         "1955-03-13"
        ],
        [
         "68",
         "69",
         "Sam Smith",
         "1971-11-27",
         "Epping",
         "England",
         "GBR",
         "Great Britain",
         "175.0",
         "62.0",
         null
        ],
        [
         "75",
         "76",
         "Roper Barrett",
         "1873-11-24",
         "Upton",
         "England",
         "GBR",
         "Great Britain",
         null,
         null,
         "1943-07-27"
        ],
        [
         "81",
         "82",
         "Andrew Castle",
         "1963-11-15",
         "Epsom",
         "England",
         "GBR",
         "Great Britain",
         "190.0",
         "74.0",
         null
        ],
        [
         "98",
         "99",
         "Tim Henman",
         "1974-09-06",
         "Oxford",
         "England",
         "GBR",
         "Great Britain",
         "185.0",
         "77.0",
         null
        ],
        [
         "105",
         "106",
         "Harold Mahony",
         "1867-02-13",
         "Edinburgh",
         "Scotland",
         "GBR",
         "Great Britain",
         "191.0",
         null,
         "1905-06-27"
        ],
        [
         "118",
         "119",
         "Archibald Warden",
         "1869-05-11",
         "Edinburgh",
         "Scotland",
         "GBR",
         "France",
         null,
         null,
         "1943-10-07"
        ],
        [
         "124",
         "125",
         "Sylvia Hanika",
         "1959-11-30",
         "Ottendichl",
         "Bayern",
         "GER",
         "West Germany",
         "173.0",
         "64.0",
         null
        ],
        [
         "146",
         "147",
         "Luis Maria Heyden",
         "1893-11-27",
         "Eimsbüttel",
         "Hamburg",
         "GER",
         "Germany",
         null,
         null,
         "1951-12-09"
        ],
        [
         "153",
         "154",
         "David Prinosil",
         "1973-03-09",
         "Olomouc",
         "Olomoucký kraj",
         "CZE",
         "Germany",
         "184.0",
         "79.0",
         null
        ],
        [
         "159",
         "160",
         "Carl-Uwe Steeb",
         "1967-09-01",
         "Aalen",
         "Baden-Württemberg",
         "GER",
         "Germany West Germany",
         "180.0",
         "74.0",
         null
        ],
        [
         "168",
         "169",
         "Christina Papadaki",
         "1973-02-24",
         "Athina (Athens)",
         "Attiki",
         "GRE",
         "Greece",
         "173.0",
         "55.0",
         null
        ],
        [
         "170",
         "171",
         "Lena Valaoritou",
         "1897-03-01",
         "Athina (Athens)",
         "Attiki",
         "GRE",
         "Greece",
         null,
         null,
         "1967-01-01"
        ],
        [
         "171",
         "172",
         "Christina Zachariadou",
         "1974-08-28",
         "Athina (Athens)",
         "Attiki",
         "GRE",
         "Greece",
         "163.0",
         "57.0",
         null
        ],
        [
         "174",
         "175",
         "Tasos Bavelas",
         "1968-02-27",
         "Athina (Athens)",
         "Attiki",
         "GRE",
         "Greece",
         "180.0",
         "76.0",
         null
        ],
        [
         "175",
         "176",
         "Konstantinos Efremoglou",
         "1962-12-04",
         "Athina (Athens)",
         "Attiki",
         "GRE",
         "Greece",
         "187.0",
         "74.0",
         null
        ],
        [
         "176",
         "177",
         "Georgios Kalovelonis",
         "1959-08-23",
         "Athina (Athens)",
         "Attiki",
         "GRE",
         "Greece",
         "192.0",
         "82.0",
         null
        ],
        [
         "181",
         "182",
         "Dimitrios Petrokokkinos",
         "1878-04-17",
         "Ilford",
         "England",
         "GBR",
         "Greece",
         null,
         null,
         "1942-05-10"
        ],
        [
         "185",
         "186",
         "Avgoustos Zerlentis",
         "1886-11-05",
         "Al-Iskanderiya (Alexandria)",
         "Al-Iskanderiya",
         "EGY",
         "Greece",
         null,
         null,
         "1954-01-01"
        ],
        [
         "226",
         "227",
         "Ede Tóth",
         "1884-03-11",
         "Oradea",
         "Bihor",
         "ROU",
         "Hungary",
         null,
         null,
         "1943-03-01"
        ],
        [
         "264",
         "265",
         "Anton Suseno",
         "1971-12-15",
         "Indramayu",
         "Jawa Barat",
         "INA",
         "Indonesia",
         "178.0",
         "70.0",
         null
        ],
        [
         "299",
         "300",
         "Simon Fairweather",
         "1969-10-09",
         "Adelaide",
         "South Australia",
         "AUS",
         "Australia",
         "175.0",
         "71.0",
         null
        ],
        [
         "313",
         "314",
         "André Baeyens",
         "1946-09-29",
         "Erondegem",
         "Oost-Vlaanderen",
         "BEL",
         "Belgium",
         "168.0",
         null,
         null
        ],
        [
         "314",
         "315",
         "Pierre Blacks",
         "1948-10-20",
         "Ixelles",
         "Région de Bruxelles-Capitale",
         "BEL",
         "Belgium",
         "182.0",
         "75.0",
         null
        ],
        [
         "316",
         "317",
         "Robert Cogniaux",
         "1934-05-29",
         "Asse",
         "Vlaams Brabant",
         "BEL",
         "Belgium",
         "173.0",
         "75.0",
         null
        ],
        [
         "327",
         "328",
         "Francis Notenboom",
         "1957-08-09",
         "Essen",
         "Antwerpen",
         "BEL",
         "Belgium",
         "180.0",
         "83.0",
         null
        ],
        [
         "331",
         "332",
         "Willy Van Den Bossche",
         "1949-01-22",
         "Adegem",
         "Oost-Vlaanderen",
         "BEL",
         "Belgium",
         "176.0",
         "78.0",
         null
        ],
        [
         "332",
         "333",
         "Hubert Van Innis",
         "1866-02-24",
         "Elewijt",
         "Vlaams Brabant",
         "BEL",
         "Belgium",
         null,
         null,
         "1961-11-25"
        ],
        [
         "416",
         "417",
         "Jan Rytter",
         "1973-09-05",
         "Aalborg",
         "Nordjylland",
         "DEN",
         "Denmark",
         null,
         null,
         null
        ],
        [
         "417",
         "418",
         "Henrik Kromann Toft",
         "1968-07-11",
         "Aalborg",
         "Nordjylland",
         "DEN",
         "Denmark",
         "195.0",
         "80.0",
         null
        ],
        [
         "418",
         "419",
         "Teresa Fernández",
         "1949-10-15",
         "Oviedo",
         "Asturias",
         "ESP",
         "Spain",
         null,
         null,
         null
        ],
        [
         "425",
         "426",
         "Alfonso Menéndez",
         "1966-05-31",
         "Avilés",
         "Asturias",
         "ESP",
         "Spain",
         null,
         null,
         null
        ],
        [
         "446",
         "447",
         "Pentti Vikström",
         "1951-12-09",
         "Oulainen",
         "Pohjois-Pohjanmaa",
         "FIN",
         "Finland",
         "187.0",
         "79.0",
         null
        ],
        [
         "447",
         "448",
         "Marie-Josée Bazin",
         "1952-05-03",
         "Avignon",
         "Vaucluse",
         "FRA",
         "France",
         "173.0",
         "75.0",
         null
        ],
        [
         "458",
         "459",
         "Julien Brulé",
         "1875-04-30",
         "Avilly-Saint-Léonard",
         "Oise",
         "FRA",
         "France",
         null,
         null,
         null
        ],
        [
         "513",
         "515",
         "Marion Wagner",
         "1968-06-09",
         "Eslohe (Sauerland)",
         "Nordrhein-Westfalen",
         "GER",
         "Germany",
         "162.0",
         "59.0",
         null
        ],
        [
         "515",
         "517",
         "Willi Gabriel",
         "1939-09-24",
         "Owiesno",
         "Dolnośląskie",
         "POL",
         "West Germany",
         "165.0",
         "63.0",
         null
        ],
        [
         "525",
         "527",
         "Sandra Wagner-Sachse",
         "1969-09-09",
         "Eslohe (Sauerland)",
         "Nordrhein-Westfalen",
         "GER",
         "Germany",
         "164.0",
         "75.0",
         null
        ],
        [
         "530",
         "532",
         "Adelaide Boddam-Whetham",
         "1860-12-09",
         "Eden",
         "New South Wales",
         "AUS",
         "Great Britain",
         null,
         null,
         "1954-09-20"
        ],
        [
         "533",
         "535",
         "Doris Day",
         "1872-08-03",
         "Abbeycwmhir",
         "Wales",
         "GBR",
         "Great Britain",
         null,
         null,
         "1966-08-30"
        ],
        [
         "542",
         "544",
         "Beatrice Hill-Lowe",
         "1868-01-26",
         "Ardee",
         "Louth",
         "IRL",
         "Great Britain",
         null,
         null,
         "1951-07-02"
        ],
        [
         "555",
         "557",
         "Albertine Thackwell",
         "1863-06-19",
         "Alcester",
         "England",
         "GBR",
         "Great Britain",
         null,
         null,
         "1944-09-22"
        ]
       ],
       "shape": {
        "columns": 10,
        "rows": 12968
       }
      },
      "text/html": [
       "<div>\n",
       "<style scoped>\n",
       "    .dataframe tbody tr th:only-of-type {\n",
       "        vertical-align: middle;\n",
       "    }\n",
       "\n",
       "    .dataframe tbody tr th {\n",
       "        vertical-align: top;\n",
       "    }\n",
       "\n",
       "    .dataframe thead th {\n",
       "        text-align: right;\n",
       "    }\n",
       "</style>\n",
       "<table border=\"1\" class=\"dataframe\">\n",
       "  <thead>\n",
       "    <tr style=\"text-align: right;\">\n",
       "      <th></th>\n",
       "      <th>athlete_id</th>\n",
       "      <th>name</th>\n",
       "      <th>born_date</th>\n",
       "      <th>born_city</th>\n",
       "      <th>born_region</th>\n",
       "      <th>born_country</th>\n",
       "      <th>NOC</th>\n",
       "      <th>height_cm</th>\n",
       "      <th>weight_kg</th>\n",
       "      <th>died_date</th>\n",
       "    </tr>\n",
       "  </thead>\n",
       "  <tbody>\n",
       "    <tr>\n",
       "      <th>5</th>\n",
       "      <td>6</td>\n",
       "      <td>Nicolas Chatelain</td>\n",
       "      <td>1970-01-13</td>\n",
       "      <td>Amiens</td>\n",
       "      <td>Somme</td>\n",
       "      <td>FRA</td>\n",
       "      <td>France</td>\n",
       "      <td>181.0</td>\n",
       "      <td>70.0</td>\n",
       "      <td>NaN</td>\n",
       "    </tr>\n",
       "    <tr>\n",
       "      <th>10</th>\n",
       "      <td>11</td>\n",
       "      <td>Élie, Comte de Lastours</td>\n",
       "      <td>1874-08-12</td>\n",
       "      <td>Orgeval</td>\n",
       "      <td>Yvelines</td>\n",
       "      <td>FRA</td>\n",
       "      <td>France</td>\n",
       "      <td>NaN</td>\n",
       "      <td>NaN</td>\n",
       "      <td>1932-11-18</td>\n",
       "    </tr>\n",
       "    <tr>\n",
       "      <th>17</th>\n",
       "      <td>18</td>\n",
       "      <td>Jean-Philippe Gatien</td>\n",
       "      <td>1968-10-16</td>\n",
       "      <td>Alès</td>\n",
       "      <td>Gard</td>\n",
       "      <td>FRA</td>\n",
       "      <td>France</td>\n",
       "      <td>178.0</td>\n",
       "      <td>73.0</td>\n",
       "      <td>NaN</td>\n",
       "    </tr>\n",
       "    <tr>\n",
       "      <th>35</th>\n",
       "      <td>36</td>\n",
       "      <td>Étienne Thobois</td>\n",
       "      <td>1967-09-20</td>\n",
       "      <td>Amiens</td>\n",
       "      <td>Somme</td>\n",
       "      <td>FRA</td>\n",
       "      <td>France</td>\n",
       "      <td>186.0</td>\n",
       "      <td>78.0</td>\n",
       "      <td>NaN</td>\n",
       "    </tr>\n",
       "    <tr>\n",
       "      <th>40</th>\n",
       "      <td>41</td>\n",
       "      <td>Julie Bradbury</td>\n",
       "      <td>1967-02-12</td>\n",
       "      <td>Oxford</td>\n",
       "      <td>England</td>\n",
       "      <td>GBR</td>\n",
       "      <td>Great Britain</td>\n",
       "      <td>175.0</td>\n",
       "      <td>64.0</td>\n",
       "      <td>NaN</td>\n",
       "    </tr>\n",
       "    <tr>\n",
       "      <th>...</th>\n",
       "      <td>...</td>\n",
       "      <td>...</td>\n",
       "      <td>...</td>\n",
       "      <td>...</td>\n",
       "      <td>...</td>\n",
       "      <td>...</td>\n",
       "      <td>...</td>\n",
       "      <td>...</td>\n",
       "      <td>...</td>\n",
       "      <td>...</td>\n",
       "    </tr>\n",
       "    <tr>\n",
       "      <th>145395</th>\n",
       "      <td>149118</td>\n",
       "      <td>Abbey Murphy</td>\n",
       "      <td>2002-04-14</td>\n",
       "      <td>Evergreen Park</td>\n",
       "      <td>Illinois</td>\n",
       "      <td>USA</td>\n",
       "      <td>United States</td>\n",
       "      <td>NaN</td>\n",
       "      <td>NaN</td>\n",
       "      <td>NaN</td>\n",
       "    </tr>\n",
       "    <tr>\n",
       "      <th>145398</th>\n",
       "      <td>149121</td>\n",
       "      <td>Grace Zumwinkle</td>\n",
       "      <td>1999-04-23</td>\n",
       "      <td>Excelsior</td>\n",
       "      <td>Minnesota</td>\n",
       "      <td>USA</td>\n",
       "      <td>United States</td>\n",
       "      <td>NaN</td>\n",
       "      <td>NaN</td>\n",
       "      <td>NaN</td>\n",
       "    </tr>\n",
       "    <tr>\n",
       "      <th>145405</th>\n",
       "      <td>149128</td>\n",
       "      <td>Brian Cooper</td>\n",
       "      <td>1993-11-01</td>\n",
       "      <td>Anchorage</td>\n",
       "      <td>Alaska</td>\n",
       "      <td>USA</td>\n",
       "      <td>United States</td>\n",
       "      <td>NaN</td>\n",
       "      <td>NaN</td>\n",
       "      <td>NaN</td>\n",
       "    </tr>\n",
       "    <tr>\n",
       "      <th>145418</th>\n",
       "      <td>149141</td>\n",
       "      <td>Nick Perbix</td>\n",
       "      <td>1998-06-15</td>\n",
       "      <td>Elk River</td>\n",
       "      <td>Minnesota</td>\n",
       "      <td>USA</td>\n",
       "      <td>United States</td>\n",
       "      <td>NaN</td>\n",
       "      <td>NaN</td>\n",
       "      <td>NaN</td>\n",
       "    </tr>\n",
       "    <tr>\n",
       "      <th>145427</th>\n",
       "      <td>149150</td>\n",
       "      <td>Jared Shumate</td>\n",
       "      <td>1999-03-06</td>\n",
       "      <td>Atlanta</td>\n",
       "      <td>Georgia</td>\n",
       "      <td>USA</td>\n",
       "      <td>United States</td>\n",
       "      <td>NaN</td>\n",
       "      <td>NaN</td>\n",
       "      <td>NaN</td>\n",
       "    </tr>\n",
       "  </tbody>\n",
       "</table>\n",
       "<p>12968 rows × 10 columns</p>\n",
       "</div>"
      ],
      "text/plain": [
       "        athlete_id                     name   born_date       born_city  \\\n",
       "5                6        Nicolas Chatelain  1970-01-13          Amiens   \n",
       "10              11  Élie, Comte de Lastours  1874-08-12         Orgeval   \n",
       "17              18     Jean-Philippe Gatien  1968-10-16            Alès   \n",
       "35              36          Étienne Thobois  1967-09-20          Amiens   \n",
       "40              41           Julie Bradbury  1967-02-12          Oxford   \n",
       "...            ...                      ...         ...             ...   \n",
       "145395      149118             Abbey Murphy  2002-04-14  Evergreen Park   \n",
       "145398      149121          Grace Zumwinkle  1999-04-23       Excelsior   \n",
       "145405      149128             Brian Cooper  1993-11-01       Anchorage   \n",
       "145418      149141              Nick Perbix  1998-06-15       Elk River   \n",
       "145427      149150            Jared Shumate  1999-03-06         Atlanta   \n",
       "\n",
       "       born_region born_country            NOC  height_cm  weight_kg  \\\n",
       "5            Somme          FRA         France      181.0       70.0   \n",
       "10        Yvelines          FRA         France        NaN        NaN   \n",
       "17            Gard          FRA         France      178.0       73.0   \n",
       "35           Somme          FRA         France      186.0       78.0   \n",
       "40         England          GBR  Great Britain      175.0       64.0   \n",
       "...            ...          ...            ...        ...        ...   \n",
       "145395    Illinois          USA  United States        NaN        NaN   \n",
       "145398   Minnesota          USA  United States        NaN        NaN   \n",
       "145405      Alaska          USA  United States        NaN        NaN   \n",
       "145418   Minnesota          USA  United States        NaN        NaN   \n",
       "145427     Georgia          USA  United States        NaN        NaN   \n",
       "\n",
       "         died_date  \n",
       "5              NaN  \n",
       "10      1932-11-18  \n",
       "17             NaN  \n",
       "35             NaN  \n",
       "40             NaN  \n",
       "...            ...  \n",
       "145395         NaN  \n",
       "145398         NaN  \n",
       "145405         NaN  \n",
       "145418         NaN  \n",
       "145427         NaN  \n",
       "\n",
       "[12968 rows x 10 columns]"
      ]
     },
     "execution_count": 79,
     "metadata": {},
     "output_type": "execute_result"
    }
   ],
   "source": [
    "# Find athletes born in cities that start with a vowel:\n",
    "vowel_cities = bios[bios['born_city'].str.contains(r'^[AEIOUaeiou]', na=False)]\n",
    "vowel_cities"
   ]
  },
  {
   "cell_type": "code",
   "execution_count": 95,
   "metadata": {},
   "outputs": [],
   "source": [
    "# Other cool regex filters\n",
    "\n",
    "# Find athletes born in cities that start with a vowel:\n",
    "vowel_cities = bios[bios['born_city'].str.contains(r'^[AEIOUaeiou]', na=False)]\n",
    "\n",
    "# Find athletes with names that contain exactly two vowels:\n",
    "two_vowels = bios[bios['name'].str.contains(r'^[^AEIOUaeiou]*[AEIOUaeiou][^AEIOUaeiou]*[AEIOUaeiou][^AEIOUaeiou]*$', na=False)]\n",
    "\n",
    "# Find athletes with names ending in 'son' or 'sen':\n",
    "son_sen_names = bios[bios['name'].str.contains(r'son$|sen$', case=False, na=False)]\n",
    "\n",
    "# Find athletes born in a year starting with '19':\n",
    "born_19xx = bios[bios['born_date'].str.contains(r'^19', na=False)]\n",
    "\n",
    "# Find athletes with names that do not contain any vowels:\n",
    "no_vowels = bios[bios['name'].str.contains(r'^[^AEIOUaeiou]*$', na=False)]\n",
    "\n",
    "# Find athletes whose names contain a hyphen or an apostrophe:\n",
    "hyphen_apostrophe = bios[bios['name'].str.contains(r\"[-']\", na=False)]"
   ]
  },
  {
   "cell_type": "code",
   "execution_count": 94,
   "metadata": {},
   "outputs": [
    {
     "name": "stderr",
     "output_type": "stream",
     "text": [
      "C:\\Users\\Arnold\\AppData\\Local\\Temp\\ipykernel_18444\\3464708305.py:2: UserWarning: This pattern is interpreted as a regular expression, and has match groups. To actually get the groups, use str.extract.\n",
      "  repeated_letters = bios[bios['name'].str.contains(r'([a-zA-Z])\\1', na=False, case=False)]\n"
     ]
    },
    {
     "data": {
      "application/vnd.microsoft.datawrangler.viewer.v0+json": {
       "columns": [
        {
         "name": "index",
         "rawType": "int64",
         "type": "integer"
        },
        {
         "name": "athlete_id",
         "rawType": "int64",
         "type": "integer"
        },
        {
         "name": "name",
         "rawType": "object",
         "type": "string"
        },
        {
         "name": "born_date",
         "rawType": "object",
         "type": "unknown"
        },
        {
         "name": "born_city",
         "rawType": "object",
         "type": "unknown"
        },
        {
         "name": "born_region",
         "rawType": "object",
         "type": "unknown"
        },
        {
         "name": "born_country",
         "rawType": "object",
         "type": "unknown"
        },
        {
         "name": "NOC",
         "rawType": "object",
         "type": "string"
        },
        {
         "name": "height_cm",
         "rawType": "float64",
         "type": "float"
        },
        {
         "name": "weight_kg",
         "rawType": "float64",
         "type": "float"
        },
        {
         "name": "died_date",
         "rawType": "object",
         "type": "unknown"
        }
       ],
       "ref": "851a7a7a-0da8-4a76-8296-c9cf0b9e79f6",
       "rows": [
        [
         "9",
         "10",
         "Guy de la Chapelle",
         "1868-07-16",
         "Farges-Allichamps",
         "Cher",
         "FRA",
         "France",
         null,
         null,
         "1923-08-27"
        ],
        [
         "13",
         "14",
         "Étienne Durand",
         null,
         null,
         null,
         null,
         "France",
         null,
         null,
         null
        ],
        [
         "17",
         "18",
         "Jean-Philippe Gatien",
         "1968-10-16",
         "Alès",
         "Gard",
         "FRA",
         "France",
         "178.0",
         "73.0",
         null
        ],
        [
         "20",
         "21",
         "Pierre Hirsch",
         "1900-11-08",
         "Paris Ie",
         "Paris",
         "FRA",
         "France",
         null,
         null,
         "1942-04-19"
        ],
        [
         "28",
         "29",
         "Albert Lippmann",
         null,
         null,
         null,
         null,
         "France",
         null,
         null,
         null
        ],
        [
         "31",
         "32",
         "Guillaume Raoux",
         "1970-02-14",
         "Bagnols-sur-Cèze",
         "Gard",
         "FRA",
         "France",
         "180.0",
         "77.0",
         null
        ],
        [
         "33",
         "34",
         "Jean-Pierre Samazeuilh",
         "1891-01-17",
         "Bordeaux",
         "Gironde",
         "FRA",
         "France",
         null,
         null,
         "1965-04-13"
        ],
        [
         "35",
         "36",
         "Étienne Thobois",
         "1967-09-20",
         "Amiens",
         "Somme",
         "FRA",
         "France",
         "186.0",
         "78.0",
         null
        ],
        [
         "36",
         "37",
         "Pierre Verdé-Delisle",
         "1877-05-16",
         "Trie-la-Ville",
         "Oise",
         "FRA",
         "France",
         null,
         null,
         "1960-07-18"
        ],
        [
         "39",
         "40",
         "Dora Boothby",
         "1881-08-02",
         "Finchley",
         "England",
         "GBR",
         "Great Britain",
         null,
         null,
         "1970-02-22"
        ],
        [
         "41",
         "42",
         "Gillian Clark",
         "1961-09-02",
         "Baghdad",
         "Baghdad",
         "IRQ",
         "Great Britain",
         "176.0",
         "68.0",
         null
        ],
        [
         "44",
         "45",
         "Charlotte Cooper",
         "1870-09-22",
         "Ealing",
         "England",
         "GBR",
         "Great Britain",
         null,
         null,
         "1966-10-10"
        ],
        [
         "45",
         "46",
         "Phyllis Covell",
         "1895-05-22",
         "Paddington",
         "England",
         "GBR",
         "Great Britain",
         null,
         null,
         "1982-10-28"
        ],
        [
         "49",
         "50",
         "Gillian Gowers",
         "1964-04-09",
         null,
         null,
         null,
         "Great Britain",
         "157.0",
         "55.0",
         null
        ],
        [
         "50",
         "51",
         "Alice Greene",
         "1879-10-15",
         "Upton",
         "England",
         "GBR",
         "Great Britain",
         null,
         null,
         "1956-10-26"
        ],
        [
         "51",
         "52",
         "Edith Hannam",
         "1878-11-28",
         "Bristol",
         "England",
         "GBR",
         "Great Britain",
         null,
         null,
         "1951-01-16"
        ],
        [
         "58",
         "59",
         "Kitty McKane",
         "1896-05-07",
         "Bayswater",
         "England",
         "GBR",
         "Great Britain",
         null,
         null,
         "1992-06-19"
        ],
        [
         "60",
         "61",
         "Kelly Morgan",
         "1975-05-22",
         "Pontypridd",
         "Wales",
         "GBR",
         "Great Britain",
         "178.0",
         "65.0",
         null
        ],
        [
         "62",
         "63",
         "Jo Muggeridge",
         "1969-04-03",
         "London",
         "England",
         "GBR",
         "Great Britain",
         "157.0",
         "59.0",
         null
        ],
        [
         "66",
         "67",
         "Phyllis Satterthwaite",
         "1886-01-26",
         "Kensington",
         "England",
         "GBR",
         "Great Britain",
         null,
         null,
         "1962-01-20"
        ],
        [
         "67",
         "68",
         "Dorothy Shepherd-Barron",
         "1897-11-24",
         "Beighton",
         "England",
         "GBR",
         "Great Britain",
         null,
         null,
         "1953-02-20"
        ],
        [
         "71",
         "72",
         "Clare Wood",
         "1968-03-08",
         "Zululand",
         "KwaZulu-Natal",
         "RSA",
         "Great Britain",
         "175.0",
         "65.0",
         null
        ],
        [
         "72",
         "73",
         "Joanne Wright-Goode",
         "1972-11-17",
         "Harlow",
         "England",
         "GBR",
         "Great Britain",
         "171.0",
         "68.0",
         null
        ],
        [
         "75",
         "76",
         "Roper Barrett",
         "1873-11-24",
         "Upton",
         "England",
         "GBR",
         "Great Britain",
         null,
         null,
         "1943-07-27"
        ],
        [
         "84",
         "85",
         "Alan Cooke",
         "1966-03-23",
         "Clay Cross",
         "England",
         "GBR",
         "Great Britain",
         "170.0",
         "64.0",
         null
        ],
        [
         "88",
         "89",
         "Reggie Doherty",
         "1872-10-14",
         "Wimbledon",
         "England",
         "GBR",
         "Great Britain",
         null,
         null,
         "1910-12-29"
        ],
        [
         "92",
         "93",
         "Anne Gibson",
         "1968-10-26",
         "Dumfries",
         "Scotland",
         "GBR",
         "Great Britain",
         "173.0",
         "70.0",
         null
        ],
        [
         "94",
         "95",
         "Leslie Godfree",
         "1885-04-27",
         "Brighton",
         "England",
         "GBR",
         "Great Britain",
         null,
         null,
         "1971-11-17"
        ],
        [
         "95",
         "96",
         "Andy Goode",
         "1960-01-30",
         "Welwyn Garden City",
         "England",
         "GBR",
         "Great Britain",
         "183.0",
         "83.0",
         null
        ],
        [
         "97",
         "98",
         "Darren Hall",
         "1965-10-25",
         "Walthamstow",
         "England",
         "GBR",
         "Great Britain",
         "183.0",
         "73.0",
         null
        ],
        [
         "99",
         "100",
         "George Hillyard",
         "1864-02-06",
         "Hanwell",
         "England",
         "GBR",
         "Great Britain",
         null,
         null,
         "1943-03-24"
        ],
        [
         "108",
         "109",
         "Arthur Norris",
         null,
         null,
         null,
         null,
         "Great Britain",
         null,
         null,
         null
        ],
        [
         "116",
         "117",
         "Matthew Syed",
         "1970-11-02",
         "Bromley",
         "England",
         "GBR",
         "Great Britain",
         "175.0",
         "70.0",
         null
        ],
        [
         "117",
         "118",
         "Noel Turnbull",
         "1890-12-20",
         "Highgate",
         "England",
         "GBR",
         "Great Britain",
         null,
         null,
         "1970-12-17"
        ],
        [
         "121",
         "122",
         "Max Woosnam",
         "1892-09-06",
         "Liverpool",
         "England",
         "GBR",
         "Great Britain",
         null,
         null,
         "1965-07-14"
        ],
        [
         "123",
         "124",
         "Steffi Graf",
         "1969-06-14",
         "Mannheim",
         "Baden-Württemberg",
         "GER",
         "Germany West Germany",
         "175.0",
         "59.0",
         null
        ],
        [
         "130",
         "131",
         "Barbara Rittner",
         "1973-04-25",
         "Krefeld",
         "Nordrhein-Westfalen",
         "GER",
         "Germany",
         "173.0",
         "65.0",
         null
        ],
        [
         "131",
         "132",
         "Elke Schall-Wosik",
         "1973-07-19",
         "Speyer",
         "Rheinland-Pfalz",
         "GER",
         "Germany",
         "180.0",
         "68.0",
         null
        ],
        [
         "133",
         "134",
         "Jie Schöpp",
         "1968-01-25",
         "Baoding",
         "Hebei",
         "CHN",
         "Germany",
         "174.0",
         "63.0",
         null
        ],
        [
         "134",
         "135",
         "Karen Stechmann",
         "1971-09-15",
         "Stade",
         "Niedersachsen",
         "GER",
         "Germany",
         "169.0",
         "59.0",
         null
        ],
        [
         "136",
         "137",
         "Kerstin Ubben",
         "1968-09-04",
         "Hamburg",
         "Hamburg",
         "GER",
         "Germany",
         "165.0",
         "59.0",
         null
        ],
        [
         "139",
         "140",
         "Steffen Fetzner",
         "1968-08-17",
         "Karlsruhe",
         "Baden-Württemberg",
         "GER",
         "Germany West Germany",
         "170.0",
         "60.0",
         null
        ],
        [
         "142",
         "143",
         "Otto Froitzheim",
         "1884-04-24",
         "Strasbourg",
         "Bas-Rhin",
         "FRA",
         "Germany",
         null,
         null,
         "1962-10-27"
        ],
        [
         "143",
         "144",
         "Marc-Kevin Goellner",
         "1970-09-22",
         "Rio de Janeiro",
         "Rio de Janeiro",
         "BRA",
         "Germany",
         "196.0",
         "85.0",
         null
        ],
        [
         "159",
         "160",
         "Carl-Uwe Steeb",
         "1967-09-01",
         "Aalen",
         "Baden-Württemberg",
         "GER",
         "Germany West Germany",
         "180.0",
         "74.0",
         null
        ],
        [
         "162",
         "163",
         "Fritz von Bissing",
         "1886-09-09",
         "Metz",
         "Moselle",
         "FRA",
         "Germany",
         null,
         null,
         "1954-03-18"
        ],
        [
         "163",
         "164",
         "Otto von Müller",
         "1875-10-17",
         "Jülich",
         "Nordrhein-Westfalen",
         "GER",
         "Germany",
         null,
         null,
         "1976-04-02"
        ],
        [
         "165",
         "166",
         "Patricia Offel",
         "1971-12-19",
         null,
         null,
         null,
         "Ghana",
         null,
         null,
         null
        ],
        [
         "167",
         "168",
         "Winifred Addy",
         "1973-03-17",
         null,
         null,
         null,
         "Ghana",
         null,
         null,
         null
        ],
        [
         "178",
         "179",
         "Kallinikos Kreangka",
         "1972-03-08",
         "Bistrița",
         "Bistrița-Năsăud",
         "ROU",
         "Greece",
         "169.0",
         "62.0",
         null
        ]
       ],
       "shape": {
        "columns": 10,
        "rows": 39259
       }
      },
      "text/html": [
       "<div>\n",
       "<style scoped>\n",
       "    .dataframe tbody tr th:only-of-type {\n",
       "        vertical-align: middle;\n",
       "    }\n",
       "\n",
       "    .dataframe tbody tr th {\n",
       "        vertical-align: top;\n",
       "    }\n",
       "\n",
       "    .dataframe thead th {\n",
       "        text-align: right;\n",
       "    }\n",
       "</style>\n",
       "<table border=\"1\" class=\"dataframe\">\n",
       "  <thead>\n",
       "    <tr style=\"text-align: right;\">\n",
       "      <th></th>\n",
       "      <th>athlete_id</th>\n",
       "      <th>name</th>\n",
       "      <th>born_date</th>\n",
       "      <th>born_city</th>\n",
       "      <th>born_region</th>\n",
       "      <th>born_country</th>\n",
       "      <th>NOC</th>\n",
       "      <th>height_cm</th>\n",
       "      <th>weight_kg</th>\n",
       "      <th>died_date</th>\n",
       "    </tr>\n",
       "  </thead>\n",
       "  <tbody>\n",
       "    <tr>\n",
       "      <th>9</th>\n",
       "      <td>10</td>\n",
       "      <td>Guy de la Chapelle</td>\n",
       "      <td>1868-07-16</td>\n",
       "      <td>Farges-Allichamps</td>\n",
       "      <td>Cher</td>\n",
       "      <td>FRA</td>\n",
       "      <td>France</td>\n",
       "      <td>NaN</td>\n",
       "      <td>NaN</td>\n",
       "      <td>1923-08-27</td>\n",
       "    </tr>\n",
       "    <tr>\n",
       "      <th>13</th>\n",
       "      <td>14</td>\n",
       "      <td>Étienne Durand</td>\n",
       "      <td>NaN</td>\n",
       "      <td>NaN</td>\n",
       "      <td>NaN</td>\n",
       "      <td>NaN</td>\n",
       "      <td>France</td>\n",
       "      <td>NaN</td>\n",
       "      <td>NaN</td>\n",
       "      <td>NaN</td>\n",
       "    </tr>\n",
       "    <tr>\n",
       "      <th>17</th>\n",
       "      <td>18</td>\n",
       "      <td>Jean-Philippe Gatien</td>\n",
       "      <td>1968-10-16</td>\n",
       "      <td>Alès</td>\n",
       "      <td>Gard</td>\n",
       "      <td>FRA</td>\n",
       "      <td>France</td>\n",
       "      <td>178.0</td>\n",
       "      <td>73.0</td>\n",
       "      <td>NaN</td>\n",
       "    </tr>\n",
       "    <tr>\n",
       "      <th>20</th>\n",
       "      <td>21</td>\n",
       "      <td>Pierre Hirsch</td>\n",
       "      <td>1900-11-08</td>\n",
       "      <td>Paris Ie</td>\n",
       "      <td>Paris</td>\n",
       "      <td>FRA</td>\n",
       "      <td>France</td>\n",
       "      <td>NaN</td>\n",
       "      <td>NaN</td>\n",
       "      <td>1942-04-19</td>\n",
       "    </tr>\n",
       "    <tr>\n",
       "      <th>28</th>\n",
       "      <td>29</td>\n",
       "      <td>Albert Lippmann</td>\n",
       "      <td>NaN</td>\n",
       "      <td>NaN</td>\n",
       "      <td>NaN</td>\n",
       "      <td>NaN</td>\n",
       "      <td>France</td>\n",
       "      <td>NaN</td>\n",
       "      <td>NaN</td>\n",
       "      <td>NaN</td>\n",
       "    </tr>\n",
       "    <tr>\n",
       "      <th>...</th>\n",
       "      <td>...</td>\n",
       "      <td>...</td>\n",
       "      <td>...</td>\n",
       "      <td>...</td>\n",
       "      <td>...</td>\n",
       "      <td>...</td>\n",
       "      <td>...</td>\n",
       "      <td>...</td>\n",
       "      <td>...</td>\n",
       "      <td>...</td>\n",
       "    </tr>\n",
       "    <tr>\n",
       "      <th>145474</th>\n",
       "      <td>149201</td>\n",
       "      <td>Nadine Hofstetter</td>\n",
       "      <td>1994-10-21</td>\n",
       "      <td>Romoos</td>\n",
       "      <td>Luzern</td>\n",
       "      <td>SUI</td>\n",
       "      <td>Switzerland</td>\n",
       "      <td>164.0</td>\n",
       "      <td>68.0</td>\n",
       "      <td>NaN</td>\n",
       "    </tr>\n",
       "    <tr>\n",
       "      <th>145488</th>\n",
       "      <td>149215</td>\n",
       "      <td>Shakeel John</td>\n",
       "      <td>2001-07-30</td>\n",
       "      <td>Mount Hope</td>\n",
       "      <td>Tunapuna-Piarco</td>\n",
       "      <td>TTO</td>\n",
       "      <td>Trinidad and Tobago</td>\n",
       "      <td>NaN</td>\n",
       "      <td>NaN</td>\n",
       "      <td>NaN</td>\n",
       "    </tr>\n",
       "    <tr>\n",
       "      <th>145491</th>\n",
       "      <td>149218</td>\n",
       "      <td>Matthew Wepke</td>\n",
       "      <td>1989-12-05</td>\n",
       "      <td>NaN</td>\n",
       "      <td>NaN</td>\n",
       "      <td>NaN</td>\n",
       "      <td>Jamaica</td>\n",
       "      <td>NaN</td>\n",
       "      <td>NaN</td>\n",
       "      <td>NaN</td>\n",
       "    </tr>\n",
       "    <tr>\n",
       "      <th>145498</th>\n",
       "      <td>149225</td>\n",
       "      <td>André Foussard</td>\n",
       "      <td>1899-05-19</td>\n",
       "      <td>Niort</td>\n",
       "      <td>Deux-Sèvres</td>\n",
       "      <td>FRA</td>\n",
       "      <td>France</td>\n",
       "      <td>166.0</td>\n",
       "      <td>NaN</td>\n",
       "      <td>1986-03-18</td>\n",
       "    </tr>\n",
       "    <tr>\n",
       "      <th>145499</th>\n",
       "      <td>149814</td>\n",
       "      <td>Bill Phillips</td>\n",
       "      <td>1913-07-15</td>\n",
       "      <td>Dulwich Hill</td>\n",
       "      <td>New South Wales</td>\n",
       "      <td>AUS</td>\n",
       "      <td>Australia</td>\n",
       "      <td>NaN</td>\n",
       "      <td>NaN</td>\n",
       "      <td>2003-10-20</td>\n",
       "    </tr>\n",
       "  </tbody>\n",
       "</table>\n",
       "<p>39259 rows × 10 columns</p>\n",
       "</div>"
      ],
      "text/plain": [
       "        athlete_id                  name   born_date          born_city  \\\n",
       "9               10    Guy de la Chapelle  1868-07-16  Farges-Allichamps   \n",
       "13              14        Étienne Durand         NaN                NaN   \n",
       "17              18  Jean-Philippe Gatien  1968-10-16               Alès   \n",
       "20              21         Pierre Hirsch  1900-11-08           Paris Ie   \n",
       "28              29       Albert Lippmann         NaN                NaN   \n",
       "...            ...                   ...         ...                ...   \n",
       "145474      149201     Nadine Hofstetter  1994-10-21             Romoos   \n",
       "145488      149215          Shakeel John  2001-07-30         Mount Hope   \n",
       "145491      149218         Matthew Wepke  1989-12-05                NaN   \n",
       "145498      149225        André Foussard  1899-05-19              Niort   \n",
       "145499      149814         Bill Phillips  1913-07-15       Dulwich Hill   \n",
       "\n",
       "            born_region born_country                  NOC  height_cm  \\\n",
       "9                  Cher          FRA               France        NaN   \n",
       "13                  NaN          NaN               France        NaN   \n",
       "17                 Gard          FRA               France      178.0   \n",
       "20                Paris          FRA               France        NaN   \n",
       "28                  NaN          NaN               France        NaN   \n",
       "...                 ...          ...                  ...        ...   \n",
       "145474           Luzern          SUI          Switzerland      164.0   \n",
       "145488  Tunapuna-Piarco          TTO  Trinidad and Tobago        NaN   \n",
       "145491              NaN          NaN              Jamaica        NaN   \n",
       "145498      Deux-Sèvres          FRA               France      166.0   \n",
       "145499  New South Wales          AUS            Australia        NaN   \n",
       "\n",
       "        weight_kg   died_date  \n",
       "9             NaN  1923-08-27  \n",
       "13            NaN         NaN  \n",
       "17           73.0         NaN  \n",
       "20            NaN  1942-04-19  \n",
       "28            NaN         NaN  \n",
       "...           ...         ...  \n",
       "145474       68.0         NaN  \n",
       "145488        NaN         NaN  \n",
       "145491        NaN         NaN  \n",
       "145498        NaN  1986-03-18  \n",
       "145499        NaN  2003-10-20  \n",
       "\n",
       "[39259 rows x 10 columns]"
      ]
     },
     "execution_count": 94,
     "metadata": {},
     "output_type": "execute_result"
    }
   ],
   "source": [
    "# Find athletes with names that have repeated consecutive letters (e.g., \"Aaron\", \"Emmett\"):\n",
    "repeated_letters = bios[bios['name'].str.contains(r'([a-zA-Z])\\1', na=False, case=False)]\n",
    "repeated_letters"
   ]
  },
  {
   "cell_type": "code",
   "execution_count": 90,
   "metadata": {},
   "outputs": [
    {
     "data": {
      "application/vnd.microsoft.datawrangler.viewer.v0+json": {
       "columns": [
        {
         "name": "index",
         "rawType": "int64",
         "type": "integer"
        },
        {
         "name": "athlete_id",
         "rawType": "int64",
         "type": "integer"
        },
        {
         "name": "name",
         "rawType": "object",
         "type": "string"
        },
        {
         "name": "born_date",
         "rawType": "object",
         "type": "unknown"
        },
        {
         "name": "born_city",
         "rawType": "object",
         "type": "unknown"
        },
        {
         "name": "born_region",
         "rawType": "object",
         "type": "unknown"
        },
        {
         "name": "born_country",
         "rawType": "object",
         "type": "unknown"
        },
        {
         "name": "NOC",
         "rawType": "object",
         "type": "string"
        },
        {
         "name": "height_cm",
         "rawType": "float64",
         "type": "float"
        },
        {
         "name": "weight_kg",
         "rawType": "float64",
         "type": "float"
        },
        {
         "name": "died_date",
         "rawType": "object",
         "type": "unknown"
        }
       ],
       "ref": "7cd3cd85-fac6-4cd5-b096-a25a71622d00",
       "rows": [
        [
         "5",
         "6",
         "Nicolas Chatelain",
         "1970-01-13",
         "Amiens",
         "Somme",
         "FRA",
         "France",
         "181.0",
         "70.0",
         null
        ],
        [
         "121",
         "122",
         "Max Woosnam",
         "1892-09-06",
         "Liverpool",
         "England",
         "GBR",
         "Great Britain",
         null,
         null,
         "1965-07-14"
        ],
        [
         "164",
         "165",
         "Helen Amankwah",
         "1964-04-13",
         null,
         null,
         null,
         "Ghana",
         null,
         null,
         null
        ],
        [
         "187",
         "188",
         "Ronald Agénor",
         "1964-11-13",
         "Rabat",
         "Rabat-Salé-Kénitra",
         "MAR",
         "Haiti",
         "180.0",
         "79.0",
         null
        ],
        [
         "210",
         "211",
         "Ilona Váradi",
         "1891-08-04",
         "Budapest",
         "Budapest",
         "HUN",
         "Hungary",
         null,
         null,
         "1945-02-19"
        ],
        [
         "254",
         "255",
         "Alan Budikusuma",
         "1968-03-29",
         "Surabaya",
         "Jawa Timur",
         "INA",
         "Indonesia",
         "178.0",
         "71.0",
         null
        ],
        [
         "267",
         "268",
         "Ardy Wiranata",
         "1970-02-10",
         "Jakarta",
         "Daerah Khusus Ibukota Jakarta",
         "INA",
         "Indonesia",
         "171.0",
         "67.0",
         null
        ],
        [
         "271",
         "272",
         "Ambika Radhika",
         "1973-05-17",
         null,
         null,
         null,
         "India",
         null,
         null,
         null
        ],
        [
         "288",
         "289",
         "Mohammed Sleem",
         "1892-01-14",
         "Multan",
         "Punjab",
         "PAK",
         "India",
         null,
         null,
         null
        ],
        [
         "306",
         "307",
         "Rodney Wagner",
         "1955-07-30",
         null,
         null,
         null,
         "Australia",
         "183.0",
         "89.0",
         null
        ],
        [
         "372",
         "373",
         "Ed Gamble",
         "1935-09-18",
         "Leicester",
         "England",
         "GBR",
         "Canada",
         "173.0",
         "61.0",
         "2016-12-31"
        ],
        [
         "409",
         "410",
         "Simos Simonis",
         "1966-07-23",
         null,
         null,
         null,
         "Cyprus",
         null,
         null,
         null
        ],
        [
         "419",
         "420",
         "Ascensión Guerra",
         "1955-02-28",
         "Madrid",
         "Madrid",
         "ESP",
         "Spain",
         "171.0",
         "63.0",
         null
        ],
        [
         "452",
         "453",
         "Nathalie Hibon",
         "1969-04-24",
         "Meaux",
         "Seine-et-Marne",
         "FRA",
         "France",
         "168.0",
         "58.0",
         null
        ],
        [
         "500",
         "502",
         "Thierry Venant",
         "1960-12-28",
         "Linselles",
         "Nord",
         "FRA",
         "France",
         "188.0",
         "82.0",
         null
        ],
        [
         "528",
         "530",
         "Ethel Armitage",
         "1873-06-21",
         "Salford",
         "England",
         "GBR",
         "Great Britain",
         null,
         null,
         "1957-10-17"
        ],
        [
         "529",
         "531",
         "Nellie Babington",
         "1877-06-12",
         "City of London",
         "England",
         "GBR",
         "Great Britain",
         null,
         null,
         "1956-09-10"
        ],
        [
         "541",
         "543",
         "Sylvia Harris",
         "1965-03-17",
         "Chorley",
         "England",
         "GBR",
         "Great Britain",
         "175.0",
         "66.0",
         null
        ],
        [
         "595",
         "597",
         "Luis Cabral",
         "1960-07-08",
         null,
         null,
         null,
         "Guam",
         null,
         null,
         null
        ],
        [
         "606",
         "608",
         "Lisa Campbell",
         "1968-05-01",
         "Frankston",
         "Victoria",
         "AUS",
         "Australia",
         "171.0",
         "79.0",
         null
        ],
        [
         "607",
         "609",
         "Rhonda Cator",
         "1966-08-23",
         "Numurkah",
         "Victoria",
         "AUS",
         "Australia",
         "167.0",
         "65.0",
         null
        ],
        [
         "648",
         "651",
         "Karl Jindrak",
         "1972-12-10",
         "Wien (Vienna)",
         "Wien",
         "AUT",
         "Austria",
         "185.0",
         "98.0",
         null
        ],
        [
         "660",
         "663",
         "Sabine Appelmans",
         "1972-04-22",
         "Aalst",
         "Oost-Vlaanderen",
         "BEL",
         "Belgium",
         "169.0",
         "60.0",
         null
        ],
        [
         "673",
         "676",
         "Robert Grisar",
         "1890-02-21",
         "Antwerpen (Antwerp)",
         "Antwerpen",
         "BEL",
         "Belgium",
         null,
         null,
         "1978-08-24"
        ],
        [
         "690",
         "693",
         "Uladzimir Samsonau",
         "1976-04-17",
         "Minsk",
         "Minsk",
         "BLR",
         "Belarus",
         "189.0",
         "83.0",
         null
        ],
        [
         "705",
         "709",
         "Andrea Vieira",
         "1971-02-05",
         "São Paulo",
         "São Paulo",
         "BRA",
         "Brazil",
         null,
         null,
         null
        ],
        [
         "738",
         "742",
         "Rene Simpson-Alter",
         "1966-01-14",
         "Sarnia",
         "Ontario",
         "CAN",
         "Canada",
         "175.0",
         "65.0",
         "2013-10-17"
        ],
        [
         "766",
         "770",
         "Sofija Tepes",
         "1973-03-18",
         null,
         null,
         null,
         "Chile",
         "170.0",
         "60.0",
         null
        ],
        [
         "798",
         "802",
         "Shahar Perkiss",
         "1962-10-14",
         "Heifa (Haifa)",
         "Heifa",
         "ISR",
         "Israel",
         "193.0",
         "70.0",
         null
        ],
        [
         "814",
         "818",
         "Alberto, Conte Bonacossa",
         "1883-08-24",
         "Vigevano",
         "Pavia",
         "ITA",
         "Italy",
         null,
         null,
         "1953-01-30"
        ],
        [
         "834",
         "838",
         "Etsuko Inoue",
         "1964-10-18",
         "Nakano",
         "Tokyo",
         "JPN",
         "Japan",
         "164.0",
         "53.0",
         null
        ],
        [
         "842",
         "846",
         "Akiko Miyamura",
         "1974-10-14",
         null,
         null,
         null,
         "Japan",
         "172.0",
         "59.0",
         null
        ],
        [
         "843",
         "847",
         "Aiko Miyamura",
         "1971-08-11",
         null,
         null,
         null,
         "Japan",
         "173.0",
         "60.0",
         null
        ],
        [
         "852",
         "856",
         "Ai Sugiyama",
         "1975-07-05",
         "Yokohama",
         "Kanagawa",
         "JPN",
         "Japan",
         "161.0",
         "56.0",
         null
        ],
        [
         "857",
         "861",
         "Asaji Honda",
         null,
         null,
         null,
         null,
         "Japan",
         null,
         null,
         null
        ],
        [
         "903",
         "907",
         "Na Gyeong-Min",
         "1976-11-25",
         "Hongcheon",
         "Gangwon",
         "KOR",
         "Republic of Korea",
         "175.0",
         "65.0",
         null
        ],
        [
         "915",
         "919",
         "Kim Gi-Taek",
         "1962-10-03",
         null,
         null,
         null,
         "Republic of Korea",
         "171.0",
         "64.0",
         null
        ],
        [
         "934",
         "938",
         "Agnese Blumberga",
         "1971-04-09",
         "Rīga",
         "Rīga",
         "LAT",
         "Latvia",
         "170.0",
         "65.0",
         null
        ],
        [
         "980",
         "984",
         "Eline Coene",
         "1964-04-11",
         "Rheden",
         "Gelderland",
         "NED",
         "Netherlands",
         "170.0",
         "64.0",
         null
        ],
        [
         "983",
         "987",
         "Nicole Muns-Jagerman",
         "1967-07-23",
         "Amstelveen",
         "Noord-Holland",
         "NED",
         "Netherlands",
         "179.0",
         "68.0",
         null
        ],
        [
         "1018",
         "1022",
         "Atanda Musa",
         "1960-02-03",
         null,
         null,
         null,
         "Nigeria",
         null,
         null,
         null
        ],
        [
         "1046",
         "1053",
         "Farjad Saif",
         "1966-07-24",
         "Karachi",
         "Sindh",
         "PAK",
         "Pakistan",
         "184.0",
         "65.0",
         null
        ],
        [
         "1066",
         "1073",
         "Katarzyna Nowak",
         "1969-01-13",
         "Łódź",
         "Łódzkie",
         "POL",
         "Poland",
         "173.0",
         "60.0",
         null
        ],
        [
         "1067",
         "1074",
         "Aleksandra Olsza",
         "1977-12-08",
         "Katowice",
         "Śląskie",
         "POL",
         "Poland",
         "165.0",
         "56.0",
         null
        ],
        [
         "1075",
         "1082",
         "Vladimir Kolev",
         "1954-04-18",
         "Sofia",
         "Sofia Grad",
         "BUL",
         "Bulgaria",
         "177.0",
         "63.0",
         null
        ],
        [
         "1092",
         "1099",
         "Vasil Paparizov",
         "1934-02-22",
         "Plovdiv",
         "Plovdiv",
         "BUL",
         "Bulgaria",
         "178.0",
         "75.0",
         null
        ],
        [
         "1132",
         "1139",
         "Ed Beattie",
         "1934-02-04",
         "Kilsyth",
         "Scotland",
         "GBR",
         "Canada",
         null,
         null,
         null
        ],
        [
         "1242",
         "1249",
         "Alphonse Matoubela",
         "1958-10-15",
         "Kinshasa",
         "Kinshasa",
         "COD",
         "Congo",
         "173.0",
         "60.0",
         null
        ],
        [
         "1243",
         "1250",
         "Anaclet Wamba",
         "1960-01-06",
         "Liranga",
         "Likouala",
         "CGO",
         "Congo",
         "188.0",
         "79.0",
         null
        ],
        [
         "1267",
         "1274",
         "Zorobabel Rodríguez",
         "1902-05-13",
         "Valparaíso",
         "Valparaíso",
         "CHI",
         "Chile",
         null,
         null,
         null
        ]
       ],
       "shape": {
        "columns": 10,
        "rows": 6697
       }
      },
      "text/html": [
       "<div>\n",
       "<style scoped>\n",
       "    .dataframe tbody tr th:only-of-type {\n",
       "        vertical-align: middle;\n",
       "    }\n",
       "\n",
       "    .dataframe tbody tr th {\n",
       "        vertical-align: top;\n",
       "    }\n",
       "\n",
       "    .dataframe thead th {\n",
       "        text-align: right;\n",
       "    }\n",
       "</style>\n",
       "<table border=\"1\" class=\"dataframe\">\n",
       "  <thead>\n",
       "    <tr style=\"text-align: right;\">\n",
       "      <th></th>\n",
       "      <th>athlete_id</th>\n",
       "      <th>name</th>\n",
       "      <th>born_date</th>\n",
       "      <th>born_city</th>\n",
       "      <th>born_region</th>\n",
       "      <th>born_country</th>\n",
       "      <th>NOC</th>\n",
       "      <th>height_cm</th>\n",
       "      <th>weight_kg</th>\n",
       "      <th>died_date</th>\n",
       "    </tr>\n",
       "  </thead>\n",
       "  <tbody>\n",
       "    <tr>\n",
       "      <th>5</th>\n",
       "      <td>6</td>\n",
       "      <td>Nicolas Chatelain</td>\n",
       "      <td>1970-01-13</td>\n",
       "      <td>Amiens</td>\n",
       "      <td>Somme</td>\n",
       "      <td>FRA</td>\n",
       "      <td>France</td>\n",
       "      <td>181.0</td>\n",
       "      <td>70.0</td>\n",
       "      <td>NaN</td>\n",
       "    </tr>\n",
       "    <tr>\n",
       "      <th>121</th>\n",
       "      <td>122</td>\n",
       "      <td>Max Woosnam</td>\n",
       "      <td>1892-09-06</td>\n",
       "      <td>Liverpool</td>\n",
       "      <td>England</td>\n",
       "      <td>GBR</td>\n",
       "      <td>Great Britain</td>\n",
       "      <td>NaN</td>\n",
       "      <td>NaN</td>\n",
       "      <td>1965-07-14</td>\n",
       "    </tr>\n",
       "    <tr>\n",
       "      <th>164</th>\n",
       "      <td>165</td>\n",
       "      <td>Helen Amankwah</td>\n",
       "      <td>1964-04-13</td>\n",
       "      <td>NaN</td>\n",
       "      <td>NaN</td>\n",
       "      <td>NaN</td>\n",
       "      <td>Ghana</td>\n",
       "      <td>NaN</td>\n",
       "      <td>NaN</td>\n",
       "      <td>NaN</td>\n",
       "    </tr>\n",
       "    <tr>\n",
       "      <th>187</th>\n",
       "      <td>188</td>\n",
       "      <td>Ronald Agénor</td>\n",
       "      <td>1964-11-13</td>\n",
       "      <td>Rabat</td>\n",
       "      <td>Rabat-Salé-Kénitra</td>\n",
       "      <td>MAR</td>\n",
       "      <td>Haiti</td>\n",
       "      <td>180.0</td>\n",
       "      <td>79.0</td>\n",
       "      <td>NaN</td>\n",
       "    </tr>\n",
       "    <tr>\n",
       "      <th>210</th>\n",
       "      <td>211</td>\n",
       "      <td>Ilona Váradi</td>\n",
       "      <td>1891-08-04</td>\n",
       "      <td>Budapest</td>\n",
       "      <td>Budapest</td>\n",
       "      <td>HUN</td>\n",
       "      <td>Hungary</td>\n",
       "      <td>NaN</td>\n",
       "      <td>NaN</td>\n",
       "      <td>1945-02-19</td>\n",
       "    </tr>\n",
       "    <tr>\n",
       "      <th>...</th>\n",
       "      <td>...</td>\n",
       "      <td>...</td>\n",
       "      <td>...</td>\n",
       "      <td>...</td>\n",
       "      <td>...</td>\n",
       "      <td>...</td>\n",
       "      <td>...</td>\n",
       "      <td>...</td>\n",
       "      <td>...</td>\n",
       "      <td>...</td>\n",
       "    </tr>\n",
       "    <tr>\n",
       "      <th>145448</th>\n",
       "      <td>149172</td>\n",
       "      <td>Aleksandra Glazkova</td>\n",
       "      <td>2006-03-15</td>\n",
       "      <td>Miass</td>\n",
       "      <td>Chelyabinsk</td>\n",
       "      <td>RUS</td>\n",
       "      <td>ROC</td>\n",
       "      <td>NaN</td>\n",
       "      <td>NaN</td>\n",
       "      <td>NaN</td>\n",
       "    </tr>\n",
       "    <tr>\n",
       "      <th>145450</th>\n",
       "      <td>149174</td>\n",
       "      <td>Anna Shcherbakova</td>\n",
       "      <td>2004-03-28</td>\n",
       "      <td>Moskva (Moscow)</td>\n",
       "      <td>Moskva</td>\n",
       "      <td>RUS</td>\n",
       "      <td>ROC</td>\n",
       "      <td>NaN</td>\n",
       "      <td>NaN</td>\n",
       "      <td>NaN</td>\n",
       "    </tr>\n",
       "    <tr>\n",
       "      <th>145463</th>\n",
       "      <td>149190</td>\n",
       "      <td>Vladimir Tkachyov</td>\n",
       "      <td>1993-10-05</td>\n",
       "      <td>Dnipro</td>\n",
       "      <td>Dnipropetrovsk</td>\n",
       "      <td>UKR</td>\n",
       "      <td>ROC</td>\n",
       "      <td>183.0</td>\n",
       "      <td>84.0</td>\n",
       "      <td>NaN</td>\n",
       "    </tr>\n",
       "    <tr>\n",
       "      <th>145481</th>\n",
       "      <td>149208</td>\n",
       "      <td>Vladislav Zharovtsev</td>\n",
       "      <td>1996-05-01</td>\n",
       "      <td>Minusinsk</td>\n",
       "      <td>Krasnoyarsk Kray</td>\n",
       "      <td>RUS</td>\n",
       "      <td>ROC</td>\n",
       "      <td>NaN</td>\n",
       "      <td>NaN</td>\n",
       "      <td>NaN</td>\n",
       "    </tr>\n",
       "    <tr>\n",
       "      <th>145485</th>\n",
       "      <td>149212</td>\n",
       "      <td>Radek Houser</td>\n",
       "      <td>1996-07-02</td>\n",
       "      <td>Třebíč</td>\n",
       "      <td>Vysočina</td>\n",
       "      <td>CZE</td>\n",
       "      <td>Czechia</td>\n",
       "      <td>NaN</td>\n",
       "      <td>NaN</td>\n",
       "      <td>NaN</td>\n",
       "    </tr>\n",
       "  </tbody>\n",
       "</table>\n",
       "<p>6697 rows × 10 columns</p>\n",
       "</div>"
      ],
      "text/plain": [
       "        athlete_id                  name   born_date        born_city  \\\n",
       "5                6     Nicolas Chatelain  1970-01-13           Amiens   \n",
       "121            122           Max Woosnam  1892-09-06        Liverpool   \n",
       "164            165        Helen Amankwah  1964-04-13              NaN   \n",
       "187            188         Ronald Agénor  1964-11-13            Rabat   \n",
       "210            211          Ilona Váradi  1891-08-04         Budapest   \n",
       "...            ...                   ...         ...              ...   \n",
       "145448      149172   Aleksandra Glazkova  2006-03-15            Miass   \n",
       "145450      149174     Anna Shcherbakova  2004-03-28  Moskva (Moscow)   \n",
       "145463      149190     Vladimir Tkachyov  1993-10-05           Dnipro   \n",
       "145481      149208  Vladislav Zharovtsev  1996-05-01        Minusinsk   \n",
       "145485      149212          Radek Houser  1996-07-02           Třebíč   \n",
       "\n",
       "               born_region born_country            NOC  height_cm  weight_kg  \\\n",
       "5                    Somme          FRA         France      181.0       70.0   \n",
       "121                England          GBR  Great Britain        NaN        NaN   \n",
       "164                    NaN          NaN          Ghana        NaN        NaN   \n",
       "187     Rabat-Salé-Kénitra          MAR          Haiti      180.0       79.0   \n",
       "210               Budapest          HUN        Hungary        NaN        NaN   \n",
       "...                    ...          ...            ...        ...        ...   \n",
       "145448         Chelyabinsk          RUS            ROC        NaN        NaN   \n",
       "145450              Moskva          RUS            ROC        NaN        NaN   \n",
       "145463      Dnipropetrovsk          UKR            ROC      183.0       84.0   \n",
       "145481    Krasnoyarsk Kray          RUS            ROC        NaN        NaN   \n",
       "145485            Vysočina          CZE        Czechia        NaN        NaN   \n",
       "\n",
       "         died_date  \n",
       "5              NaN  \n",
       "121     1965-07-14  \n",
       "164            NaN  \n",
       "187            NaN  \n",
       "210     1945-02-19  \n",
       "...            ...  \n",
       "145448         NaN  \n",
       "145450         NaN  \n",
       "145463         NaN  \n",
       "145481         NaN  \n",
       "145485         NaN  \n",
       "\n",
       "[6697 rows x 10 columns]"
      ]
     },
     "execution_count": 90,
     "metadata": {},
     "output_type": "execute_result"
    }
   ],
   "source": [
    "# Find athletes with names that start and end with the same letter:\n",
    "start_end_same = bios[bios['name'].str.lower().str.match(r'^(.).*\\1$', na=False)]\n",
    "start_end_same"
   ]
  },
  {
   "cell_type": "code",
   "execution_count": 86,
   "metadata": {},
   "outputs": [
    {
     "data": {
      "application/vnd.microsoft.datawrangler.viewer.v0+json": {
       "columns": [
        {
         "name": "index",
         "rawType": "int64",
         "type": "integer"
        },
        {
         "name": "athlete_id",
         "rawType": "int64",
         "type": "integer"
        },
        {
         "name": "name",
         "rawType": "object",
         "type": "string"
        },
        {
         "name": "born_date",
         "rawType": "object",
         "type": "unknown"
        },
        {
         "name": "born_city",
         "rawType": "object",
         "type": "string"
        },
        {
         "name": "born_region",
         "rawType": "object",
         "type": "string"
        },
        {
         "name": "born_country",
         "rawType": "object",
         "type": "string"
        },
        {
         "name": "NOC",
         "rawType": "object",
         "type": "string"
        },
        {
         "name": "height_cm",
         "rawType": "float64",
         "type": "float"
        },
        {
         "name": "weight_kg",
         "rawType": "float64",
         "type": "float"
        },
        {
         "name": "died_date",
         "rawType": "object",
         "type": "unknown"
        }
       ],
       "ref": "310157a3-3b77-4f8c-9e6c-9d1573c88624",
       "rows": [
        [
         "10",
         "11",
         "Élie, Comte de Lastours",
         "1874-08-12",
         "Orgeval",
         "Yvelines",
         "FRA",
         "France",
         null,
         null,
         "1932-11-18"
        ],
        [
         "25",
         "26",
         "Henri Leconte",
         "1963-07-04",
         "Lillers",
         "Pas-de-Calais",
         "FRA",
         "France",
         "184.0",
         "78.0",
         null
        ],
        [
         "41",
         "42",
         "Gillian Clark",
         "1961-09-02",
         "Baghdad",
         "Baghdad",
         "IRQ",
         "Great Britain",
         "176.0",
         "68.0",
         null
        ],
        [
         "47",
         "48",
         "Sara Gomer",
         "1964-05-13",
         "Torquay",
         "England",
         "GBR",
         "Great Britain",
         "190.0",
         "85.0",
         null
        ],
        [
         "48",
         "49",
         "Alison Gordon",
         "1962-12-31",
         "Reading",
         "England",
         "GBR",
         "Great Britain",
         "175.0",
         "68.0",
         null
        ],
        [
         "51",
         "52",
         "Edith Hannam",
         "1878-11-28",
         "Bristol",
         "England",
         "GBR",
         "Great Britain",
         null,
         null,
         "1951-01-16"
        ],
        [
         "52",
         "53",
         "Dorothy Holman",
         "1883-07-18",
         "Kilburn",
         "England",
         "GBR",
         "Great Britain",
         null,
         null,
         "1968-06-15"
        ],
        [
         "55",
         "56",
         "Valda Lake",
         "1968-10-11",
         "Torquay",
         "England",
         "GBR",
         "Great Britain",
         "173.0",
         "61.0",
         null
        ],
        [
         "99",
         "100",
         "George Hillyard",
         "1864-02-06",
         "Hanwell",
         "England",
         "GBR",
         "Great Britain",
         null,
         null,
         "1943-03-24"
        ],
        [
         "111",
         "112",
         "Carl Prean",
         "1967-08-20",
         "Newport",
         "England",
         "GBR",
         "Great Britain",
         "185.0",
         "79.0",
         null
        ],
        [
         "116",
         "117",
         "Matthew Syed",
         "1970-11-02",
         "Bromley",
         "England",
         "GBR",
         "Great Britain",
         "175.0",
         "70.0",
         null
        ],
        [
         "119",
         "120",
         "Patrick Wheatley",
         "1899-01-20",
         "Vryheid",
         "KwaZulu-Natal",
         "RSA",
         "Great Britain",
         null,
         null,
         "1967-11-05"
        ],
        [
         "130",
         "131",
         "Barbara Rittner",
         "1973-04-25",
         "Krefeld",
         "Nordrhein-Westfalen",
         "GER",
         "Germany",
         "173.0",
         "65.0",
         null
        ],
        [
         "133",
         "134",
         "Jie Schöpp",
         "1968-01-25",
         "Baoding",
         "Hebei",
         "CHN",
         "Germany",
         "174.0",
         "63.0",
         null
        ],
        [
         "136",
         "137",
         "Kerstin Ubben",
         "1968-09-04",
         "Hamburg",
         "Hamburg",
         "GER",
         "Germany",
         "165.0",
         "59.0",
         null
        ],
        [
         "138",
         "139",
         "Georg Böhm",
         "1962-04-17",
         "Sălacea",
         "Bihor",
         "ROU",
         "West Germany",
         "174.0",
         "73.0",
         null
        ],
        [
         "153",
         "154",
         "David Prinosil",
         "1973-03-09",
         "Olomouc",
         "Olomoucký kraj",
         "CZE",
         "Germany",
         "184.0",
         "79.0",
         null
        ],
        [
         "154",
         "155",
         "Friedrich-Wilhelm Rahe",
         "1888-04-16",
         "Rostock",
         "Mecklenburg-Vorpommern",
         "GER",
         "Germany",
         null,
         null,
         "1949-02-18"
        ],
        [
         "156",
         "157",
         "Jörg Roßkopf",
         "1969-05-22",
         "Dieburg",
         "Hessen",
         "GER",
         "Germany West Germany",
         "182.0",
         "72.0",
         null
        ],
        [
         "177",
         "178",
         "Demetrius Casdagli",
         "1872-10-10",
         "Salford",
         "England",
         "GBR",
         "Greece",
         null,
         null,
         "1931-07-06"
        ],
        [
         "212",
         "213",
         "Krisztina Tóth",
         "1974-05-29",
         "Miskolc",
         "Borsod-Abaúj-Zemplén",
         "HUN",
         "Hungary",
         "164.0",
         "62.0",
         null
        ],
        [
         "217",
         "218",
         "Kálmán Kirchmayer",
         "1897-11-15",
         "Rzeszów",
         "Podkarpackie",
         "POL",
         "Hungary",
         null,
         null,
         "1990-11-06"
        ],
        [
         "219",
         "220",
         "Zsolt Kriston",
         "1961-02-12",
         "Miskolc",
         "Borsod-Abaúj-Zemplén",
         "HUN",
         "Hungary",
         "185.0",
         "76.0",
         null
        ],
        [
         "233",
         "234",
         "Rossy Pratiwi Dipoyanti",
         "1972-06-28",
         "Bandung",
         "Jawa Barat",
         "INA",
         "Indonesia",
         null,
         null,
         null
        ],
        [
         "247",
         "248",
         " Mia Audina",
         "1979-08-22",
         "Jakarta",
         "Daerah Khusus Ibukota Jakarta",
         "INA",
         "Indonesia Netherlands",
         "163.0",
         "67.0",
         null
        ],
        [
         "248",
         "249",
         "Suzanna Wibowo",
         "1963-11-25",
         "Jakarta",
         "Daerah Khusus Ibukota Jakarta",
         "INA",
         "Indonesia",
         null,
         null,
         null
        ],
        [
         "257",
         "258",
         "Rexy Mainaky",
         "1968-03-09",
         "Ternate",
         "Maluku Utara",
         "INA",
         "Indonesia",
         "170.0",
         "65.0",
         null
        ],
        [
         "258",
         "259",
         "Tonny Maringgi",
         "1959-06-10",
         "Kendari",
         "Sulawesi Tenggara",
         "INA",
         "Indonesia",
         "167.0",
         "65.0",
         "2019-09-15"
        ],
        [
         "259",
         "260",
         "Ricky Subagja",
         "1971-01-27",
         "Bandung",
         "Jawa Barat",
         "INA",
         "Indonesia",
         "172.0",
         "62.0",
         null
        ],
        [
         "265",
         "266",
         "Donald Wailan Walalangi",
         "1960-04-14",
         "Jakarta",
         "Daerah Khusus Ibukota Jakarta",
         "INA",
         "Indonesia",
         "174.0",
         "67.0",
         null
        ],
        [
         "266",
         "267",
         "Benny Wijaya",
         "1973-10-28",
         "Kebumen",
         "Jawa Tengah",
         "INA",
         "Indonesia",
         "180.0",
         "70.0",
         null
        ],
        [
         "267",
         "268",
         "Ardy Wiranata",
         "1970-02-10",
         "Jakarta",
         "Daerah Khusus Ibukota Jakarta",
         "INA",
         "Indonesia",
         "171.0",
         "67.0",
         null
        ],
        [
         "282",
         "283",
         "Sydney Jacob",
         "1879-10-28",
         "Kasauli",
         "Himachal Pradesh",
         "IND",
         "India",
         null,
         null,
         "1977-02-14"
        ],
        [
         "287",
         "288",
         "Donald Rutnam",
         "1902-09-19",
         "Colombo",
         "Basnahira",
         "SRI",
         "India",
         null,
         null,
         "1968-06-10"
        ],
        [
         "308",
         "309",
         "Peter Mitterer",
         "1947-04-12",
         "Gmunden",
         "Oberösterreich",
         "AUT",
         "Austria",
         "180.0",
         "79.0",
         null
        ],
        [
         "314",
         "315",
         "Pierre Blacks",
         "1948-10-20",
         "Ixelles",
         "Région de Bruxelles-Capitale",
         "BEL",
         "Belgium",
         "182.0",
         "75.0",
         null
        ],
        [
         "329",
         "330",
         "Louis Van De Perck",
         "1889-10-14",
         "Hoboken",
         "Antwerpen",
         "BEL",
         "Belgium",
         null,
         null,
         "1953-11-30"
        ],
        [
         "332",
         "333",
         "Hubert Van Innis",
         "1866-02-24",
         "Elewijt",
         "Vlaams Brabant",
         "BEL",
         "Belgium",
         null,
         null,
         "1961-11-25"
        ],
        [
         "336",
         "337",
         "Marnix Vervinck",
         "1959-08-09",
         "Beernem",
         "West-Vlaanderen",
         "BEL",
         "Belgium",
         "172.0",
         "72.0",
         null
        ],
        [
         "351",
         "352",
         "Volha Yakusheva",
         "1974-10-07",
         "Vitebsk",
         "Vitebsk",
         "BLR",
         "Belarus",
         null,
         null,
         null
        ],
        [
         "360",
         "361",
         "Stefan Mlyakov",
         "1971-09-22",
         "Gabrovo",
         "Gabrovo",
         "BUL",
         "Bulgaria",
         "183.0",
         "80.0",
         null
        ],
        [
         "363",
         "364",
         "Mary Grant",
         "1949-02-27",
         "Windsor",
         "Ontario",
         "CAN",
         "Canada",
         "169.0",
         null,
         null
        ],
        [
         "364",
         "365",
         "Linda Kazienko",
         "1955-05-29",
         "Grimsby",
         "Ontario",
         "CAN",
         "Canada",
         "175.0",
         "61.0",
         null
        ],
        [
         "373",
         "374",
         "Don Jackson",
         "1932-10-25",
         "Lindsay",
         "Ontario",
         "CAN",
         "Canada",
         "178.0",
         null,
         "2009-01-26"
        ],
        [
         "375",
         "376",
         "John McDonald",
         "1965-05-28",
         "Halifax",
         "Nova Scotia",
         "CAN",
         "Canada",
         "183.0",
         "74.0",
         null
        ],
        [
         "379",
         "380",
         "Rob Rusnov",
         "1973-12-09",
         "Toronto",
         "Ontario",
         "CAN",
         "Canada",
         "180.0",
         "89.0",
         null
        ],
        [
         "383",
         "384",
         "Ma Xiangjun",
         "1964-10-30",
         "Qingdao",
         "Shandong",
         "CHN",
         "People's Republic of China",
         "171.0",
         "65.0",
         null
        ],
        [
         "389",
         "390",
         "Yang Jianping",
         "1979-12-10",
         "Taiyuan",
         "Shanxi",
         "CHN",
         "People's Republic of China",
         "171.0",
         "75.0",
         null
        ],
        [
         "416",
         "417",
         "Jan Rytter",
         "1973-09-05",
         "Aalborg",
         "Nordjylland",
         "DEN",
         "Denmark",
         null,
         null,
         null
        ],
        [
         "417",
         "418",
         "Henrik Kromann Toft",
         "1968-07-11",
         "Aalborg",
         "Nordjylland",
         "DEN",
         "Denmark",
         "195.0",
         "80.0",
         null
        ]
       ],
       "shape": {
        "columns": 10,
        "rows": 16328
       }
      },
      "text/html": [
       "<div>\n",
       "<style scoped>\n",
       "    .dataframe tbody tr th:only-of-type {\n",
       "        vertical-align: middle;\n",
       "    }\n",
       "\n",
       "    .dataframe tbody tr th {\n",
       "        vertical-align: top;\n",
       "    }\n",
       "\n",
       "    .dataframe thead th {\n",
       "        text-align: right;\n",
       "    }\n",
       "</style>\n",
       "<table border=\"1\" class=\"dataframe\">\n",
       "  <thead>\n",
       "    <tr style=\"text-align: right;\">\n",
       "      <th></th>\n",
       "      <th>athlete_id</th>\n",
       "      <th>name</th>\n",
       "      <th>born_date</th>\n",
       "      <th>born_city</th>\n",
       "      <th>born_region</th>\n",
       "      <th>born_country</th>\n",
       "      <th>NOC</th>\n",
       "      <th>height_cm</th>\n",
       "      <th>weight_kg</th>\n",
       "      <th>died_date</th>\n",
       "    </tr>\n",
       "  </thead>\n",
       "  <tbody>\n",
       "    <tr>\n",
       "      <th>10</th>\n",
       "      <td>11</td>\n",
       "      <td>Élie, Comte de Lastours</td>\n",
       "      <td>1874-08-12</td>\n",
       "      <td>Orgeval</td>\n",
       "      <td>Yvelines</td>\n",
       "      <td>FRA</td>\n",
       "      <td>France</td>\n",
       "      <td>NaN</td>\n",
       "      <td>NaN</td>\n",
       "      <td>1932-11-18</td>\n",
       "    </tr>\n",
       "    <tr>\n",
       "      <th>25</th>\n",
       "      <td>26</td>\n",
       "      <td>Henri Leconte</td>\n",
       "      <td>1963-07-04</td>\n",
       "      <td>Lillers</td>\n",
       "      <td>Pas-de-Calais</td>\n",
       "      <td>FRA</td>\n",
       "      <td>France</td>\n",
       "      <td>184.0</td>\n",
       "      <td>78.0</td>\n",
       "      <td>NaN</td>\n",
       "    </tr>\n",
       "    <tr>\n",
       "      <th>41</th>\n",
       "      <td>42</td>\n",
       "      <td>Gillian Clark</td>\n",
       "      <td>1961-09-02</td>\n",
       "      <td>Baghdad</td>\n",
       "      <td>Baghdad</td>\n",
       "      <td>IRQ</td>\n",
       "      <td>Great Britain</td>\n",
       "      <td>176.0</td>\n",
       "      <td>68.0</td>\n",
       "      <td>NaN</td>\n",
       "    </tr>\n",
       "    <tr>\n",
       "      <th>47</th>\n",
       "      <td>48</td>\n",
       "      <td>Sara Gomer</td>\n",
       "      <td>1964-05-13</td>\n",
       "      <td>Torquay</td>\n",
       "      <td>England</td>\n",
       "      <td>GBR</td>\n",
       "      <td>Great Britain</td>\n",
       "      <td>190.0</td>\n",
       "      <td>85.0</td>\n",
       "      <td>NaN</td>\n",
       "    </tr>\n",
       "    <tr>\n",
       "      <th>48</th>\n",
       "      <td>49</td>\n",
       "      <td>Alison Gordon</td>\n",
       "      <td>1962-12-31</td>\n",
       "      <td>Reading</td>\n",
       "      <td>England</td>\n",
       "      <td>GBR</td>\n",
       "      <td>Great Britain</td>\n",
       "      <td>175.0</td>\n",
       "      <td>68.0</td>\n",
       "      <td>NaN</td>\n",
       "    </tr>\n",
       "    <tr>\n",
       "      <th>...</th>\n",
       "      <td>...</td>\n",
       "      <td>...</td>\n",
       "      <td>...</td>\n",
       "      <td>...</td>\n",
       "      <td>...</td>\n",
       "      <td>...</td>\n",
       "      <td>...</td>\n",
       "      <td>...</td>\n",
       "      <td>...</td>\n",
       "      <td>...</td>\n",
       "    </tr>\n",
       "    <tr>\n",
       "      <th>145446</th>\n",
       "      <td>149169</td>\n",
       "      <td>Corinne Stoddard</td>\n",
       "      <td>2001-08-15</td>\n",
       "      <td>Seattle</td>\n",
       "      <td>Washington</td>\n",
       "      <td>USA</td>\n",
       "      <td>United States</td>\n",
       "      <td>NaN</td>\n",
       "      <td>NaN</td>\n",
       "      <td>NaN</td>\n",
       "    </tr>\n",
       "    <tr>\n",
       "      <th>145454</th>\n",
       "      <td>149180</td>\n",
       "      <td>Anna Hoffmann</td>\n",
       "      <td>2000-03-28</td>\n",
       "      <td>Madison</td>\n",
       "      <td>Wisconsin</td>\n",
       "      <td>USA</td>\n",
       "      <td>United States</td>\n",
       "      <td>NaN</td>\n",
       "      <td>NaN</td>\n",
       "      <td>NaN</td>\n",
       "    </tr>\n",
       "    <tr>\n",
       "      <th>145456</th>\n",
       "      <td>149182</td>\n",
       "      <td>Sophie Sorschag</td>\n",
       "      <td>1998-11-14</td>\n",
       "      <td>Villach</td>\n",
       "      <td>Kärnten</td>\n",
       "      <td>AUT</td>\n",
       "      <td>Austria</td>\n",
       "      <td>NaN</td>\n",
       "      <td>NaN</td>\n",
       "      <td>NaN</td>\n",
       "    </tr>\n",
       "    <tr>\n",
       "      <th>145459</th>\n",
       "      <td>149186</td>\n",
       "      <td>Roberts Mamčics</td>\n",
       "      <td>1995-04-06</td>\n",
       "      <td>Liepāja</td>\n",
       "      <td>Liepāja</td>\n",
       "      <td>LAT</td>\n",
       "      <td>Latvia</td>\n",
       "      <td>196.0</td>\n",
       "      <td>105.0</td>\n",
       "      <td>NaN</td>\n",
       "    </tr>\n",
       "    <tr>\n",
       "      <th>145494</th>\n",
       "      <td>149221</td>\n",
       "      <td>George Wright</td>\n",
       "      <td>1890-07-21</td>\n",
       "      <td>Toronto</td>\n",
       "      <td>Ontario</td>\n",
       "      <td>CAN</td>\n",
       "      <td>Canada</td>\n",
       "      <td>183.0</td>\n",
       "      <td>NaN</td>\n",
       "      <td>1973-01-28</td>\n",
       "    </tr>\n",
       "  </tbody>\n",
       "</table>\n",
       "<p>16328 rows × 10 columns</p>\n",
       "</div>"
      ],
      "text/plain": [
       "        athlete_id                     name   born_date born_city  \\\n",
       "10              11  Élie, Comte de Lastours  1874-08-12   Orgeval   \n",
       "25              26            Henri Leconte  1963-07-04   Lillers   \n",
       "41              42            Gillian Clark  1961-09-02   Baghdad   \n",
       "47              48               Sara Gomer  1964-05-13   Torquay   \n",
       "48              49            Alison Gordon  1962-12-31   Reading   \n",
       "...            ...                      ...         ...       ...   \n",
       "145446      149169         Corinne Stoddard  2001-08-15   Seattle   \n",
       "145454      149180            Anna Hoffmann  2000-03-28   Madison   \n",
       "145456      149182          Sophie Sorschag  1998-11-14   Villach   \n",
       "145459      149186          Roberts Mamčics  1995-04-06   Liepāja   \n",
       "145494      149221            George Wright  1890-07-21   Toronto   \n",
       "\n",
       "          born_region born_country            NOC  height_cm  weight_kg  \\\n",
       "10           Yvelines          FRA         France        NaN        NaN   \n",
       "25      Pas-de-Calais          FRA         France      184.0       78.0   \n",
       "41            Baghdad          IRQ  Great Britain      176.0       68.0   \n",
       "47            England          GBR  Great Britain      190.0       85.0   \n",
       "48            England          GBR  Great Britain      175.0       68.0   \n",
       "...               ...          ...            ...        ...        ...   \n",
       "145446     Washington          USA  United States        NaN        NaN   \n",
       "145454      Wisconsin          USA  United States        NaN        NaN   \n",
       "145456        Kärnten          AUT        Austria        NaN        NaN   \n",
       "145459        Liepāja          LAT         Latvia      196.0      105.0   \n",
       "145494        Ontario          CAN         Canada      183.0        NaN   \n",
       "\n",
       "         died_date  \n",
       "10      1932-11-18  \n",
       "25             NaN  \n",
       "41             NaN  \n",
       "47             NaN  \n",
       "48             NaN  \n",
       "...            ...  \n",
       "145446         NaN  \n",
       "145454         NaN  \n",
       "145456         NaN  \n",
       "145459         NaN  \n",
       "145494  1973-01-28  \n",
       "\n",
       "[16328 rows x 10 columns]"
      ]
     },
     "execution_count": 86,
     "metadata": {},
     "output_type": "execute_result"
    }
   ],
   "source": [
    "# Find athletes with a born_city that has exactly 7 characters:\n",
    "city_seven_chars = bios[bios['born_city'].str.contains(r'^.{7}$', na=False)]\n",
    "city_seven_chars"
   ]
  },
  {
   "cell_type": "code",
   "execution_count": 84,
   "metadata": {},
   "outputs": [
    {
     "data": {
      "application/vnd.microsoft.datawrangler.viewer.v0+json": {
       "columns": [
        {
         "name": "index",
         "rawType": "int64",
         "type": "integer"
        },
        {
         "name": "athlete_id",
         "rawType": "int64",
         "type": "integer"
        },
        {
         "name": "name",
         "rawType": "object",
         "type": "string"
        },
        {
         "name": "born_date",
         "rawType": "object",
         "type": "unknown"
        },
        {
         "name": "born_city",
         "rawType": "object",
         "type": "unknown"
        },
        {
         "name": "born_region",
         "rawType": "object",
         "type": "unknown"
        },
        {
         "name": "born_country",
         "rawType": "object",
         "type": "unknown"
        },
        {
         "name": "NOC",
         "rawType": "object",
         "type": "unknown"
        },
        {
         "name": "height_cm",
         "rawType": "float64",
         "type": "float"
        },
        {
         "name": "weight_kg",
         "rawType": "float64",
         "type": "float"
        },
        {
         "name": "died_date",
         "rawType": "object",
         "type": "unknown"
        }
       ],
       "ref": "d0ef14f3-e5c6-4bd3-b05e-52fbcd64dfab",
       "rows": [
        [
         "0",
         "1",
         "Jean-François Blanchy",
         "1886-12-12",
         "Bordeaux",
         "Gironde",
         "FRA",
         "France",
         null,
         null,
         "1960-10-02"
        ],
        [
         "1",
         "2",
         "Arnaud Boetsch",
         "1969-04-01",
         "Meulan",
         "Yvelines",
         "FRA",
         "France",
         "183.0",
         "76.0",
         null
        ],
        [
         "2",
         "3",
         "Jean Borotra",
         "1898-08-13",
         "Biarritz",
         "Pyrénées-Atlantiques",
         "FRA",
         "France",
         "183.0",
         "76.0",
         "1994-07-17"
        ],
        [
         "3",
         "4",
         "Jacques Brugnon",
         "1895-05-11",
         "Paris VIIIe",
         "Paris",
         "FRA",
         "France",
         "168.0",
         "64.0",
         "1978-03-20"
        ],
        [
         "4",
         "5",
         "Albert Canet",
         "1878-04-17",
         "Wandsworth",
         "England",
         "GBR",
         "France",
         null,
         null,
         "1930-07-25"
        ],
        [
         "5",
         "6",
         "Nicolas Chatelain",
         "1970-01-13",
         "Amiens",
         "Somme",
         "FRA",
         "France",
         "181.0",
         "70.0",
         null
        ],
        [
         "6",
         "7",
         "Patrick Chila",
         "1969-11-27",
         "Ris-Orangis",
         "Essonne",
         "FRA",
         "France",
         "180.0",
         "73.0",
         null
        ],
        [
         "7",
         "8",
         "Henri Cochet",
         "1901-12-14",
         "Villeurbanne",
         "Rhône",
         "FRA",
         "France",
         null,
         null,
         "1987-04-02"
        ],
        [
         "8",
         "9",
         "Marcel Cousin",
         "1896-08-04",
         "Nîmes",
         "Gard",
         "FRA",
         "France",
         null,
         null,
         "1986-08-01"
        ],
        [
         "9",
         "10",
         "Guy de la Chapelle",
         "1868-07-16",
         "Farges-Allichamps",
         "Cher",
         "FRA",
         "France",
         null,
         null,
         "1923-08-27"
        ],
        [
         "10",
         "11",
         "Élie, Comte de Lastours",
         "1874-08-12",
         "Orgeval",
         "Yvelines",
         "FRA",
         "France",
         null,
         null,
         "1932-11-18"
        ],
        [
         "11",
         "12",
         "Max Decugis",
         "1882-09-24",
         "Paris XVIe",
         "Paris",
         "FRA",
         "France",
         null,
         null,
         "1978-09-06"
        ],
        [
         "13",
         "14",
         "Étienne Durand",
         null,
         null,
         null,
         null,
         "France",
         null,
         null,
         null
        ],
        [
         "14",
         "15",
         "Damien Éloi",
         "1969-07-04",
         "Vire",
         "Calvados",
         "FRA",
         "France",
         "165.0",
         "58.0",
         null
        ],
        [
         "15",
         "16",
         "Adrien Fauchier-Magnan",
         "1873-11-19",
         "Paris VIIIe",
         "Paris",
         "FRA",
         "France",
         null,
         null,
         "1965-08-06"
        ],
        [
         "16",
         "17",
         "Guy Forget",
         "1965-01-04",
         "Casablanca",
         "Casablanca-Settat",
         "MAR",
         "France",
         "189.0",
         "79.0",
         null
        ],
        [
         "17",
         "18",
         "Jean-Philippe Gatien",
         "1968-10-16",
         "Alès",
         "Gard",
         "FRA",
         "France",
         "178.0",
         "73.0",
         null
        ],
        [
         "18",
         "19",
         "Maurice Germot",
         "1882-11-15",
         "Vichy",
         "Allier",
         "FRA",
         "France",
         null,
         null,
         "1958-08-06"
        ],
        [
         "19",
         "20",
         "André Gobert",
         "1890-09-30",
         "Paris XVIIe",
         "Paris",
         "FRA",
         "France",
         null,
         null,
         "1951-12-06"
        ],
        [
         "20",
         "21",
         "Pierre Hirsch",
         "1900-11-08",
         "Paris Ie",
         "Paris",
         "FRA",
         "France",
         null,
         null,
         "1942-04-19"
        ],
        [
         "21",
         "22",
         "René Lacoste",
         "1904-07-02",
         "Paris Xe",
         "Paris",
         "FRA",
         "France",
         null,
         null,
         "1996-10-12"
        ],
        [
         "22",
         "23",
         "Daniel Lawton",
         "1881-11-27",
         "Cantenac",
         "Gironde",
         "FRA",
         "France",
         null,
         null,
         "1979-03-27"
        ],
        [
         "23",
         "24",
         "Paul Lebreton",
         "1875-10-19",
         "Paris IIe",
         "Paris",
         "FRA",
         "France",
         null,
         null,
         "1960-03-31"
        ],
        [
         "24",
         "25",
         "Paul Lecaron",
         "1863-07-29",
         "Neuilly-sur-Seine",
         "Hauts-de-Seine",
         "FRA",
         "France",
         null,
         null,
         "1940-09-17"
        ],
        [
         "25",
         "26",
         "Henri Leconte",
         "1963-07-04",
         "Lillers",
         "Pas-de-Calais",
         "FRA",
         "France",
         "184.0",
         "78.0",
         null
        ],
        [
         "26",
         "27",
         "Christophe Legoût",
         "1973-08-06",
         "Montbéliard",
         "Doubs",
         "FRA",
         "France",
         "177.0",
         "75.0",
         null
        ],
        [
         "27",
         "28",
         "Guy, Baron Lejeune",
         null,
         null,
         null,
         null,
         "France",
         null,
         null,
         null
        ],
        [
         "28",
         "29",
         "Albert Lippmann",
         null,
         null,
         null,
         null,
         "France",
         null,
         null,
         null
        ],
        [
         "29",
         "30",
         "Édouard Mény de Marangue",
         "1882-11-30",
         "Paris VIe",
         "Paris",
         "FRA",
         "France",
         null,
         null,
         "1960-01-23"
        ],
        [
         "31",
         "32",
         "Guillaume Raoux",
         "1970-02-14",
         "Bagnols-sur-Cèze",
         "Gard",
         "FRA",
         "France",
         "180.0",
         "77.0",
         null
        ],
        [
         "32",
         "33",
         "Stéphane Renault",
         "1968-03-01",
         "Barfleur",
         "Manche",
         "FRA",
         "France",
         "180.0",
         "72.0",
         null
        ],
        [
         "33",
         "34",
         "Jean-Pierre Samazeuilh",
         "1891-01-17",
         "Bordeaux",
         "Gironde",
         "FRA",
         "France",
         null,
         null,
         "1965-04-13"
        ],
        [
         "34",
         "35",
         "Fabrice Santoro",
         "1972-12-09",
         "Tahiti",
         "Îles du Vent",
         "FPN",
         "France",
         "177.0",
         "68.0",
         null
        ],
        [
         "35",
         "36",
         "Étienne Thobois",
         "1967-09-20",
         "Amiens",
         "Somme",
         "FRA",
         "France",
         "186.0",
         "78.0",
         null
        ],
        [
         "36",
         "37",
         "Pierre Verdé-Delisle",
         "1877-05-16",
         "Trie-la-Ville",
         "Oise",
         "FRA",
         "France",
         null,
         null,
         "1960-07-18"
        ],
        [
         "37",
         "38",
         "Helen Aitchison",
         "1881-12-06",
         "Sunderland",
         "England",
         "GBR",
         "Great Britain",
         null,
         null,
         "1947-05-26"
        ],
        [
         "38",
         "39",
         "Geraldine Beamish",
         "1883-06-23",
         "Forest Gate",
         "England",
         "GBR",
         "Great Britain",
         null,
         null,
         "1972-05-10"
        ],
        [
         "39",
         "40",
         "Dora Boothby",
         "1881-08-02",
         "Finchley",
         "England",
         "GBR",
         "Great Britain",
         null,
         null,
         "1970-02-22"
        ],
        [
         "40",
         "41",
         "Julie Bradbury",
         "1967-02-12",
         "Oxford",
         "England",
         "GBR",
         "Great Britain",
         "175.0",
         "64.0",
         null
        ],
        [
         "41",
         "42",
         "Gillian Clark",
         "1961-09-02",
         "Baghdad",
         "Baghdad",
         "IRQ",
         "Great Britain",
         "176.0",
         "68.0",
         null
        ],
        [
         "42",
         "43",
         "Mildred Coles",
         "1876-04-09",
         "Cranbrook",
         "England",
         "GBR",
         "Great Britain",
         null,
         null,
         "1937-02-24"
        ],
        [
         "43",
         "44",
         "Evelyn Colyer",
         "1902-08-16",
         "Wandsworth",
         "England",
         "GBR",
         "Great Britain",
         null,
         null,
         "1930-11-04"
        ],
        [
         "44",
         "45",
         "Charlotte Cooper",
         "1870-09-22",
         "Ealing",
         "England",
         "GBR",
         "Great Britain",
         null,
         null,
         "1966-10-10"
        ],
        [
         "45",
         "46",
         "Phyllis Covell",
         "1895-05-22",
         "Paddington",
         "England",
         "GBR",
         "Great Britain",
         null,
         null,
         "1982-10-28"
        ],
        [
         "46",
         "47",
         "Gladys Eastlake-Smith",
         "1883-08-14",
         "Lewisham",
         "England",
         "GBR",
         "Great Britain",
         null,
         null,
         "1941-09-18"
        ],
        [
         "47",
         "48",
         "Sara Gomer",
         "1964-05-13",
         "Torquay",
         "England",
         "GBR",
         "Great Britain",
         "190.0",
         "85.0",
         null
        ],
        [
         "48",
         "49",
         "Alison Gordon",
         "1962-12-31",
         "Reading",
         "England",
         "GBR",
         "Great Britain",
         "175.0",
         "68.0",
         null
        ],
        [
         "49",
         "50",
         "Gillian Gowers",
         "1964-04-09",
         null,
         null,
         null,
         "Great Britain",
         "157.0",
         "55.0",
         null
        ],
        [
         "50",
         "51",
         "Alice Greene",
         "1879-10-15",
         "Upton",
         "England",
         "GBR",
         "Great Britain",
         null,
         null,
         "1956-10-26"
        ],
        [
         "51",
         "52",
         "Edith Hannam",
         "1878-11-28",
         "Bristol",
         "England",
         "GBR",
         "Great Britain",
         null,
         null,
         "1951-01-16"
        ]
       ],
       "shape": {
        "columns": 10,
        "rows": 139323
       }
      },
      "text/html": [
       "<div>\n",
       "<style scoped>\n",
       "    .dataframe tbody tr th:only-of-type {\n",
       "        vertical-align: middle;\n",
       "    }\n",
       "\n",
       "    .dataframe tbody tr th {\n",
       "        vertical-align: top;\n",
       "    }\n",
       "\n",
       "    .dataframe thead th {\n",
       "        text-align: right;\n",
       "    }\n",
       "</style>\n",
       "<table border=\"1\" class=\"dataframe\">\n",
       "  <thead>\n",
       "    <tr style=\"text-align: right;\">\n",
       "      <th></th>\n",
       "      <th>athlete_id</th>\n",
       "      <th>name</th>\n",
       "      <th>born_date</th>\n",
       "      <th>born_city</th>\n",
       "      <th>born_region</th>\n",
       "      <th>born_country</th>\n",
       "      <th>NOC</th>\n",
       "      <th>height_cm</th>\n",
       "      <th>weight_kg</th>\n",
       "      <th>died_date</th>\n",
       "    </tr>\n",
       "  </thead>\n",
       "  <tbody>\n",
       "    <tr>\n",
       "      <th>0</th>\n",
       "      <td>1</td>\n",
       "      <td>Jean-François Blanchy</td>\n",
       "      <td>1886-12-12</td>\n",
       "      <td>Bordeaux</td>\n",
       "      <td>Gironde</td>\n",
       "      <td>FRA</td>\n",
       "      <td>France</td>\n",
       "      <td>NaN</td>\n",
       "      <td>NaN</td>\n",
       "      <td>1960-10-02</td>\n",
       "    </tr>\n",
       "    <tr>\n",
       "      <th>1</th>\n",
       "      <td>2</td>\n",
       "      <td>Arnaud Boetsch</td>\n",
       "      <td>1969-04-01</td>\n",
       "      <td>Meulan</td>\n",
       "      <td>Yvelines</td>\n",
       "      <td>FRA</td>\n",
       "      <td>France</td>\n",
       "      <td>183.0</td>\n",
       "      <td>76.0</td>\n",
       "      <td>NaN</td>\n",
       "    </tr>\n",
       "    <tr>\n",
       "      <th>2</th>\n",
       "      <td>3</td>\n",
       "      <td>Jean Borotra</td>\n",
       "      <td>1898-08-13</td>\n",
       "      <td>Biarritz</td>\n",
       "      <td>Pyrénées-Atlantiques</td>\n",
       "      <td>FRA</td>\n",
       "      <td>France</td>\n",
       "      <td>183.0</td>\n",
       "      <td>76.0</td>\n",
       "      <td>1994-07-17</td>\n",
       "    </tr>\n",
       "    <tr>\n",
       "      <th>3</th>\n",
       "      <td>4</td>\n",
       "      <td>Jacques Brugnon</td>\n",
       "      <td>1895-05-11</td>\n",
       "      <td>Paris VIIIe</td>\n",
       "      <td>Paris</td>\n",
       "      <td>FRA</td>\n",
       "      <td>France</td>\n",
       "      <td>168.0</td>\n",
       "      <td>64.0</td>\n",
       "      <td>1978-03-20</td>\n",
       "    </tr>\n",
       "    <tr>\n",
       "      <th>4</th>\n",
       "      <td>5</td>\n",
       "      <td>Albert Canet</td>\n",
       "      <td>1878-04-17</td>\n",
       "      <td>Wandsworth</td>\n",
       "      <td>England</td>\n",
       "      <td>GBR</td>\n",
       "      <td>France</td>\n",
       "      <td>NaN</td>\n",
       "      <td>NaN</td>\n",
       "      <td>1930-07-25</td>\n",
       "    </tr>\n",
       "    <tr>\n",
       "      <th>...</th>\n",
       "      <td>...</td>\n",
       "      <td>...</td>\n",
       "      <td>...</td>\n",
       "      <td>...</td>\n",
       "      <td>...</td>\n",
       "      <td>...</td>\n",
       "      <td>...</td>\n",
       "      <td>...</td>\n",
       "      <td>...</td>\n",
       "      <td>...</td>\n",
       "    </tr>\n",
       "    <tr>\n",
       "      <th>145495</th>\n",
       "      <td>149222</td>\n",
       "      <td>Polina Luchnikova</td>\n",
       "      <td>2002-01-30</td>\n",
       "      <td>Serov</td>\n",
       "      <td>Sverdlovsk</td>\n",
       "      <td>RUS</td>\n",
       "      <td>ROC</td>\n",
       "      <td>167.0</td>\n",
       "      <td>61.0</td>\n",
       "      <td>NaN</td>\n",
       "    </tr>\n",
       "    <tr>\n",
       "      <th>145496</th>\n",
       "      <td>149223</td>\n",
       "      <td>Valeriya Merkusheva</td>\n",
       "      <td>1999-09-20</td>\n",
       "      <td>Moskva (Moscow)</td>\n",
       "      <td>Moskva</td>\n",
       "      <td>RUS</td>\n",
       "      <td>ROC</td>\n",
       "      <td>168.0</td>\n",
       "      <td>65.0</td>\n",
       "      <td>NaN</td>\n",
       "    </tr>\n",
       "    <tr>\n",
       "      <th>145497</th>\n",
       "      <td>149224</td>\n",
       "      <td>Yuliya Smirnova</td>\n",
       "      <td>1998-05-08</td>\n",
       "      <td>Kotlas</td>\n",
       "      <td>Arkhangelsk</td>\n",
       "      <td>RUS</td>\n",
       "      <td>ROC</td>\n",
       "      <td>163.0</td>\n",
       "      <td>55.0</td>\n",
       "      <td>NaN</td>\n",
       "    </tr>\n",
       "    <tr>\n",
       "      <th>145498</th>\n",
       "      <td>149225</td>\n",
       "      <td>André Foussard</td>\n",
       "      <td>1899-05-19</td>\n",
       "      <td>Niort</td>\n",
       "      <td>Deux-Sèvres</td>\n",
       "      <td>FRA</td>\n",
       "      <td>France</td>\n",
       "      <td>166.0</td>\n",
       "      <td>NaN</td>\n",
       "      <td>1986-03-18</td>\n",
       "    </tr>\n",
       "    <tr>\n",
       "      <th>145499</th>\n",
       "      <td>149814</td>\n",
       "      <td>Bill Phillips</td>\n",
       "      <td>1913-07-15</td>\n",
       "      <td>Dulwich Hill</td>\n",
       "      <td>New South Wales</td>\n",
       "      <td>AUS</td>\n",
       "      <td>Australia</td>\n",
       "      <td>NaN</td>\n",
       "      <td>NaN</td>\n",
       "      <td>2003-10-20</td>\n",
       "    </tr>\n",
       "  </tbody>\n",
       "</table>\n",
       "<p>139323 rows × 10 columns</p>\n",
       "</div>"
      ],
      "text/plain": [
       "        athlete_id                   name   born_date        born_city  \\\n",
       "0                1  Jean-François Blanchy  1886-12-12         Bordeaux   \n",
       "1                2         Arnaud Boetsch  1969-04-01           Meulan   \n",
       "2                3           Jean Borotra  1898-08-13         Biarritz   \n",
       "3                4        Jacques Brugnon  1895-05-11      Paris VIIIe   \n",
       "4                5           Albert Canet  1878-04-17       Wandsworth   \n",
       "...            ...                    ...         ...              ...   \n",
       "145495      149222      Polina Luchnikova  2002-01-30            Serov   \n",
       "145496      149223    Valeriya Merkusheva  1999-09-20  Moskva (Moscow)   \n",
       "145497      149224        Yuliya Smirnova  1998-05-08           Kotlas   \n",
       "145498      149225         André Foussard  1899-05-19            Niort   \n",
       "145499      149814          Bill Phillips  1913-07-15     Dulwich Hill   \n",
       "\n",
       "                 born_region born_country        NOC  height_cm  weight_kg  \\\n",
       "0                    Gironde          FRA     France        NaN        NaN   \n",
       "1                   Yvelines          FRA     France      183.0       76.0   \n",
       "2       Pyrénées-Atlantiques          FRA     France      183.0       76.0   \n",
       "3                      Paris          FRA     France      168.0       64.0   \n",
       "4                    England          GBR     France        NaN        NaN   \n",
       "...                      ...          ...        ...        ...        ...   \n",
       "145495            Sverdlovsk          RUS        ROC      167.0       61.0   \n",
       "145496                Moskva          RUS        ROC      168.0       65.0   \n",
       "145497           Arkhangelsk          RUS        ROC      163.0       55.0   \n",
       "145498           Deux-Sèvres          FRA     France      166.0        NaN   \n",
       "145499       New South Wales          AUS  Australia        NaN        NaN   \n",
       "\n",
       "         died_date  \n",
       "0       1960-10-02  \n",
       "1              NaN  \n",
       "2       1994-07-17  \n",
       "3       1978-03-20  \n",
       "4       1930-07-25  \n",
       "...            ...  \n",
       "145495         NaN  \n",
       "145496         NaN  \n",
       "145497         NaN  \n",
       "145498  1986-03-18  \n",
       "145499  2003-10-20  \n",
       "\n",
       "[139323 rows x 10 columns]"
      ]
     },
     "execution_count": 84,
     "metadata": {},
     "output_type": "execute_result"
    }
   ],
   "source": [
    "# Find athletes with names containing three or more vowels:\n",
    "three_or_more_vowels = bios[bios['name'].str.count(r'[aeiouAEIOU]') >= 3]\n",
    "three_or_more_vowels"
   ]
  },
  {
   "cell_type": "code",
   "execution_count": 96,
   "metadata": {},
   "outputs": [
    {
     "data": {
      "application/vnd.microsoft.datawrangler.viewer.v0+json": {
       "columns": [
        {
         "name": "index",
         "rawType": "int64",
         "type": "integer"
        },
        {
         "name": "athlete_id",
         "rawType": "int64",
         "type": "integer"
        },
        {
         "name": "name",
         "rawType": "object",
         "type": "string"
        },
        {
         "name": "born_date",
         "rawType": "object",
         "type": "string"
        },
        {
         "name": "born_city",
         "rawType": "object",
         "type": "string"
        },
        {
         "name": "born_region",
         "rawType": "object",
         "type": "string"
        },
        {
         "name": "born_country",
         "rawType": "object",
         "type": "string"
        },
        {
         "name": "NOC",
         "rawType": "object",
         "type": "string"
        },
        {
         "name": "height_cm",
         "rawType": "float64",
         "type": "float"
        },
        {
         "name": "weight_kg",
         "rawType": "float64",
         "type": "float"
        },
        {
         "name": "died_date",
         "rawType": "object",
         "type": "string"
        }
       ],
       "ref": "2d935787-86ec-408d-a84b-96ed805e4717",
       "rows": [],
       "shape": {
        "columns": 10,
        "rows": 0
       }
      },
      "text/html": [
       "<div>\n",
       "<style scoped>\n",
       "    .dataframe tbody tr th:only-of-type {\n",
       "        vertical-align: middle;\n",
       "    }\n",
       "\n",
       "    .dataframe tbody tr th {\n",
       "        vertical-align: top;\n",
       "    }\n",
       "\n",
       "    .dataframe thead th {\n",
       "        text-align: right;\n",
       "    }\n",
       "</style>\n",
       "<table border=\"1\" class=\"dataframe\">\n",
       "  <thead>\n",
       "    <tr style=\"text-align: right;\">\n",
       "      <th></th>\n",
       "      <th>athlete_id</th>\n",
       "      <th>name</th>\n",
       "      <th>born_date</th>\n",
       "      <th>born_city</th>\n",
       "      <th>born_region</th>\n",
       "      <th>born_country</th>\n",
       "      <th>NOC</th>\n",
       "      <th>height_cm</th>\n",
       "      <th>weight_kg</th>\n",
       "      <th>died_date</th>\n",
       "    </tr>\n",
       "  </thead>\n",
       "  <tbody>\n",
       "  </tbody>\n",
       "</table>\n",
       "</div>"
      ],
      "text/plain": [
       "Empty DataFrame\n",
       "Columns: [athlete_id, name, born_date, born_city, born_region, born_country, NOC, height_cm, weight_kg, died_date]\n",
       "Index: []"
      ]
     },
     "execution_count": 96,
     "metadata": {},
     "output_type": "execute_result"
    }
   ],
   "source": [
    "# Don't use regex search (exact match)\n",
    "bios[bios['name'].str.contains('keith|patrick', case=False, regex=False)]"
   ]
  },
  {
   "cell_type": "code",
   "execution_count": 97,
   "metadata": {},
   "outputs": [
    {
     "data": {
      "application/vnd.microsoft.datawrangler.viewer.v0+json": {
       "columns": [
        {
         "name": "index",
         "rawType": "int64",
         "type": "integer"
        },
        {
         "name": "athlete_id",
         "rawType": "int64",
         "type": "integer"
        },
        {
         "name": "name",
         "rawType": "object",
         "type": "string"
        },
        {
         "name": "born_date",
         "rawType": "object",
         "type": "string"
        },
        {
         "name": "born_city",
         "rawType": "object",
         "type": "string"
        },
        {
         "name": "born_region",
         "rawType": "object",
         "type": "string"
        },
        {
         "name": "born_country",
         "rawType": "object",
         "type": "string"
        },
        {
         "name": "NOC",
         "rawType": "object",
         "type": "string"
        },
        {
         "name": "height_cm",
         "rawType": "float64",
         "type": "float"
        },
        {
         "name": "weight_kg",
         "rawType": "float64",
         "type": "float"
        },
        {
         "name": "died_date",
         "rawType": "object",
         "type": "unknown"
        }
       ],
       "ref": "0ef375d9-4f30-47d6-87d6-99cedf65807f",
       "rows": [
        [
         "3505",
         "3517",
         "Keith Wallace",
         "1961-03-29",
         "Preston",
         "England",
         "GBR",
         "Great Britain",
         "165.0",
         "51.0",
         "1999-12-31"
        ],
        [
         "12053",
         "12118",
         "Keith Hervey",
         "1898-11-03",
         "Fulham",
         "England",
         "GBR",
         "Great Britain",
         null,
         null,
         "1973-02-22"
        ],
        [
         "14577",
         "14674",
         "Keith Harrison",
         "1933-03-28",
         "Birmingham",
         "England",
         "GBR",
         "Great Britain",
         null,
         null,
         null
        ],
        [
         "16166",
         "16281",
         "Keith Reynolds",
         "1963-12-25",
         "Solihull",
         "England",
         "GBR",
         "Great Britain",
         "173.0",
         "68.0",
         null
        ],
        [
         "18734",
         "18862",
         "Keith Sinclair",
         "1945-06-26",
         "Sunderland",
         "England",
         "GBR",
         "Great Britain",
         "190.0",
         "79.0",
         null
        ],
        [
         "29897",
         "30123",
         "Keith Langley",
         "1961-06-03",
         "Aldershot",
         "England",
         "GBR",
         "Great Britain",
         "173.0",
         "70.0",
         null
        ],
        [
         "34011",
         "34275",
         "Keith Remfry",
         "1947-11-17",
         "Ealing",
         "England",
         "GBR",
         "Great Britain",
         "193.0",
         "114.0",
         "2015-09-16"
        ],
        [
         "46885",
         "47234",
         "Keith Collin",
         "1937-01-18",
         "Marylebone",
         "England",
         "GBR",
         "Great Britain",
         "168.0",
         "63.0",
         "1991-03-06"
        ],
        [
         "50929",
         "51288",
         "Keith Carter",
         "1924-08-30",
         "Akron",
         "Ohio",
         "USA",
         "United States",
         null,
         null,
         "2013-05-03"
        ],
        [
         "51185",
         "51544",
         "Keith Russell",
         "1948-01-15",
         "Mesa",
         "Arizona",
         "USA",
         "United States",
         "188.0",
         "73.0",
         null
        ],
        [
         "52913",
         "53288",
         "Keith Erickson",
         "1944-04-19",
         "San Francisco",
         "California",
         "USA",
         "United States",
         "196.0",
         "86.0",
         null
        ],
        [
         "55317",
         "55712",
         "Keith Boxell",
         "1958-05-06",
         "Clapham",
         "England",
         "GBR",
         "Great Britain",
         "170.0",
         "87.0",
         null
        ],
        [
         "57818",
         "58226",
         "Keith Peache",
         "1947-08-10",
         "Lewisham",
         "England",
         "GBR",
         "Great Britain",
         "180.0",
         "98.0",
         null
        ],
        [
         "61748",
         "62202",
         "Keith Grogono",
         "1912-11-04",
         "Stratford",
         "England",
         "GBR",
         "Great Britain",
         null,
         null,
         "1999-03-22"
        ],
        [
         "62620",
         "63086",
         "Keith Musto",
         "1936-01-12",
         "Rochford",
         "England",
         "GBR",
         "Great Britain",
         "174.0",
         "72.0",
         null
        ],
        [
         "62678",
         "63144",
         "Keith Notary",
         "1960-01-22",
         "Merritt Island",
         "Florida",
         "USA",
         "United States",
         "170.0",
         "66.0",
         null
        ],
        [
         "68324",
         "68841",
         "Keith Angus",
         "1943-04-05",
         "Sheffield",
         "England",
         "GBR",
         "Great Britain",
         "170.0",
         "59.0",
         null
        ],
        [
         "68472",
         "68989",
         "Keith Cullen",
         "1972-06-13",
         "Ilford",
         "England",
         "GBR",
         "Great Britain",
         "177.0",
         "61.0",
         null
        ],
        [
         "68997",
         "69514",
         "Keith Stock",
         "1957-03-18",
         "Woolwich",
         "England",
         "GBR",
         "Great Britain",
         "176.0",
         "73.0",
         null
        ],
        [
         "77550",
         "78141",
         "Keith Brantly",
         "1962-05-23",
         "Scott Air Force Base",
         "Illinois",
         "USA",
         "United States",
         "180.0",
         "64.0",
         null
        ],
        [
         "84097",
         "84766",
         "Keith Christiansen",
         "1944-07-14",
         "International Falls",
         "Minnesota",
         "USA",
         "United States",
         "165.0",
         "69.0",
         "2018-11-05"
        ],
        [
         "94646",
         "95413",
         "Keith Meyer",
         "1938-06-20",
         "Geneva",
         "Illinois",
         "USA",
         "United States",
         null,
         null,
         "2010-07-25"
        ],
        [
         "95267",
         "96037",
         "Keith Oliver",
         "1947-10-27",
         "Liverpool",
         "England",
         "GBR",
         "Great Britain",
         "172.0",
         "68.0",
         null
        ],
        [
         "96452",
         "97229",
         "Keith Schellenberg",
         "1929-03-13",
         "Middlesbrough",
         "England",
         "GBR",
         "Great Britain",
         null,
         null,
         "2019-10-28"
        ],
        [
         "97499",
         "98286",
         "Keith Tkachuk",
         "1972-03-28",
         "Melrose",
         "Massachusetts",
         "USA",
         "United States",
         "188.0",
         "102.0",
         null
        ],
        [
         "98068",
         "98860",
         "Keith Wegeman",
         "1929-08-28",
         "Denver",
         "Colorado",
         "USA",
         "United States",
         null,
         null,
         "1974-08-22"
        ],
        [
         "99921",
         "100722",
         "Keith Carney",
         "1970-02-03",
         "Providence",
         "Rhode Island",
         "USA",
         "United States",
         "188.0",
         "93.0",
         null
        ],
        [
         "115973",
         "117348",
         "Keith Sanderson",
         "1975-02-02",
         "Plymouth",
         "Massachusetts",
         "USA",
         "United States",
         "183.0",
         "95.0",
         null
        ]
       ],
       "shape": {
        "columns": 10,
        "rows": 28
       }
      },
      "text/html": [
       "<div>\n",
       "<style scoped>\n",
       "    .dataframe tbody tr th:only-of-type {\n",
       "        vertical-align: middle;\n",
       "    }\n",
       "\n",
       "    .dataframe tbody tr th {\n",
       "        vertical-align: top;\n",
       "    }\n",
       "\n",
       "    .dataframe thead th {\n",
       "        text-align: right;\n",
       "    }\n",
       "</style>\n",
       "<table border=\"1\" class=\"dataframe\">\n",
       "  <thead>\n",
       "    <tr style=\"text-align: right;\">\n",
       "      <th></th>\n",
       "      <th>athlete_id</th>\n",
       "      <th>name</th>\n",
       "      <th>born_date</th>\n",
       "      <th>born_city</th>\n",
       "      <th>born_region</th>\n",
       "      <th>born_country</th>\n",
       "      <th>NOC</th>\n",
       "      <th>height_cm</th>\n",
       "      <th>weight_kg</th>\n",
       "      <th>died_date</th>\n",
       "    </tr>\n",
       "  </thead>\n",
       "  <tbody>\n",
       "    <tr>\n",
       "      <th>3505</th>\n",
       "      <td>3517</td>\n",
       "      <td>Keith Wallace</td>\n",
       "      <td>1961-03-29</td>\n",
       "      <td>Preston</td>\n",
       "      <td>England</td>\n",
       "      <td>GBR</td>\n",
       "      <td>Great Britain</td>\n",
       "      <td>165.0</td>\n",
       "      <td>51.0</td>\n",
       "      <td>1999-12-31</td>\n",
       "    </tr>\n",
       "    <tr>\n",
       "      <th>12053</th>\n",
       "      <td>12118</td>\n",
       "      <td>Keith Hervey</td>\n",
       "      <td>1898-11-03</td>\n",
       "      <td>Fulham</td>\n",
       "      <td>England</td>\n",
       "      <td>GBR</td>\n",
       "      <td>Great Britain</td>\n",
       "      <td>NaN</td>\n",
       "      <td>NaN</td>\n",
       "      <td>1973-02-22</td>\n",
       "    </tr>\n",
       "    <tr>\n",
       "      <th>14577</th>\n",
       "      <td>14674</td>\n",
       "      <td>Keith Harrison</td>\n",
       "      <td>1933-03-28</td>\n",
       "      <td>Birmingham</td>\n",
       "      <td>England</td>\n",
       "      <td>GBR</td>\n",
       "      <td>Great Britain</td>\n",
       "      <td>NaN</td>\n",
       "      <td>NaN</td>\n",
       "      <td>NaN</td>\n",
       "    </tr>\n",
       "    <tr>\n",
       "      <th>16166</th>\n",
       "      <td>16281</td>\n",
       "      <td>Keith Reynolds</td>\n",
       "      <td>1963-12-25</td>\n",
       "      <td>Solihull</td>\n",
       "      <td>England</td>\n",
       "      <td>GBR</td>\n",
       "      <td>Great Britain</td>\n",
       "      <td>173.0</td>\n",
       "      <td>68.0</td>\n",
       "      <td>NaN</td>\n",
       "    </tr>\n",
       "    <tr>\n",
       "      <th>18734</th>\n",
       "      <td>18862</td>\n",
       "      <td>Keith Sinclair</td>\n",
       "      <td>1945-06-26</td>\n",
       "      <td>Sunderland</td>\n",
       "      <td>England</td>\n",
       "      <td>GBR</td>\n",
       "      <td>Great Britain</td>\n",
       "      <td>190.0</td>\n",
       "      <td>79.0</td>\n",
       "      <td>NaN</td>\n",
       "    </tr>\n",
       "    <tr>\n",
       "      <th>29897</th>\n",
       "      <td>30123</td>\n",
       "      <td>Keith Langley</td>\n",
       "      <td>1961-06-03</td>\n",
       "      <td>Aldershot</td>\n",
       "      <td>England</td>\n",
       "      <td>GBR</td>\n",
       "      <td>Great Britain</td>\n",
       "      <td>173.0</td>\n",
       "      <td>70.0</td>\n",
       "      <td>NaN</td>\n",
       "    </tr>\n",
       "    <tr>\n",
       "      <th>34011</th>\n",
       "      <td>34275</td>\n",
       "      <td>Keith Remfry</td>\n",
       "      <td>1947-11-17</td>\n",
       "      <td>Ealing</td>\n",
       "      <td>England</td>\n",
       "      <td>GBR</td>\n",
       "      <td>Great Britain</td>\n",
       "      <td>193.0</td>\n",
       "      <td>114.0</td>\n",
       "      <td>2015-09-16</td>\n",
       "    </tr>\n",
       "    <tr>\n",
       "      <th>46885</th>\n",
       "      <td>47234</td>\n",
       "      <td>Keith Collin</td>\n",
       "      <td>1937-01-18</td>\n",
       "      <td>Marylebone</td>\n",
       "      <td>England</td>\n",
       "      <td>GBR</td>\n",
       "      <td>Great Britain</td>\n",
       "      <td>168.0</td>\n",
       "      <td>63.0</td>\n",
       "      <td>1991-03-06</td>\n",
       "    </tr>\n",
       "    <tr>\n",
       "      <th>50929</th>\n",
       "      <td>51288</td>\n",
       "      <td>Keith Carter</td>\n",
       "      <td>1924-08-30</td>\n",
       "      <td>Akron</td>\n",
       "      <td>Ohio</td>\n",
       "      <td>USA</td>\n",
       "      <td>United States</td>\n",
       "      <td>NaN</td>\n",
       "      <td>NaN</td>\n",
       "      <td>2013-05-03</td>\n",
       "    </tr>\n",
       "    <tr>\n",
       "      <th>51185</th>\n",
       "      <td>51544</td>\n",
       "      <td>Keith Russell</td>\n",
       "      <td>1948-01-15</td>\n",
       "      <td>Mesa</td>\n",
       "      <td>Arizona</td>\n",
       "      <td>USA</td>\n",
       "      <td>United States</td>\n",
       "      <td>188.0</td>\n",
       "      <td>73.0</td>\n",
       "      <td>NaN</td>\n",
       "    </tr>\n",
       "    <tr>\n",
       "      <th>52913</th>\n",
       "      <td>53288</td>\n",
       "      <td>Keith Erickson</td>\n",
       "      <td>1944-04-19</td>\n",
       "      <td>San Francisco</td>\n",
       "      <td>California</td>\n",
       "      <td>USA</td>\n",
       "      <td>United States</td>\n",
       "      <td>196.0</td>\n",
       "      <td>86.0</td>\n",
       "      <td>NaN</td>\n",
       "    </tr>\n",
       "    <tr>\n",
       "      <th>55317</th>\n",
       "      <td>55712</td>\n",
       "      <td>Keith Boxell</td>\n",
       "      <td>1958-05-06</td>\n",
       "      <td>Clapham</td>\n",
       "      <td>England</td>\n",
       "      <td>GBR</td>\n",
       "      <td>Great Britain</td>\n",
       "      <td>170.0</td>\n",
       "      <td>87.0</td>\n",
       "      <td>NaN</td>\n",
       "    </tr>\n",
       "    <tr>\n",
       "      <th>57818</th>\n",
       "      <td>58226</td>\n",
       "      <td>Keith Peache</td>\n",
       "      <td>1947-08-10</td>\n",
       "      <td>Lewisham</td>\n",
       "      <td>England</td>\n",
       "      <td>GBR</td>\n",
       "      <td>Great Britain</td>\n",
       "      <td>180.0</td>\n",
       "      <td>98.0</td>\n",
       "      <td>NaN</td>\n",
       "    </tr>\n",
       "    <tr>\n",
       "      <th>61748</th>\n",
       "      <td>62202</td>\n",
       "      <td>Keith Grogono</td>\n",
       "      <td>1912-11-04</td>\n",
       "      <td>Stratford</td>\n",
       "      <td>England</td>\n",
       "      <td>GBR</td>\n",
       "      <td>Great Britain</td>\n",
       "      <td>NaN</td>\n",
       "      <td>NaN</td>\n",
       "      <td>1999-03-22</td>\n",
       "    </tr>\n",
       "    <tr>\n",
       "      <th>62620</th>\n",
       "      <td>63086</td>\n",
       "      <td>Keith Musto</td>\n",
       "      <td>1936-01-12</td>\n",
       "      <td>Rochford</td>\n",
       "      <td>England</td>\n",
       "      <td>GBR</td>\n",
       "      <td>Great Britain</td>\n",
       "      <td>174.0</td>\n",
       "      <td>72.0</td>\n",
       "      <td>NaN</td>\n",
       "    </tr>\n",
       "    <tr>\n",
       "      <th>62678</th>\n",
       "      <td>63144</td>\n",
       "      <td>Keith Notary</td>\n",
       "      <td>1960-01-22</td>\n",
       "      <td>Merritt Island</td>\n",
       "      <td>Florida</td>\n",
       "      <td>USA</td>\n",
       "      <td>United States</td>\n",
       "      <td>170.0</td>\n",
       "      <td>66.0</td>\n",
       "      <td>NaN</td>\n",
       "    </tr>\n",
       "    <tr>\n",
       "      <th>68324</th>\n",
       "      <td>68841</td>\n",
       "      <td>Keith Angus</td>\n",
       "      <td>1943-04-05</td>\n",
       "      <td>Sheffield</td>\n",
       "      <td>England</td>\n",
       "      <td>GBR</td>\n",
       "      <td>Great Britain</td>\n",
       "      <td>170.0</td>\n",
       "      <td>59.0</td>\n",
       "      <td>NaN</td>\n",
       "    </tr>\n",
       "    <tr>\n",
       "      <th>68472</th>\n",
       "      <td>68989</td>\n",
       "      <td>Keith Cullen</td>\n",
       "      <td>1972-06-13</td>\n",
       "      <td>Ilford</td>\n",
       "      <td>England</td>\n",
       "      <td>GBR</td>\n",
       "      <td>Great Britain</td>\n",
       "      <td>177.0</td>\n",
       "      <td>61.0</td>\n",
       "      <td>NaN</td>\n",
       "    </tr>\n",
       "    <tr>\n",
       "      <th>68997</th>\n",
       "      <td>69514</td>\n",
       "      <td>Keith Stock</td>\n",
       "      <td>1957-03-18</td>\n",
       "      <td>Woolwich</td>\n",
       "      <td>England</td>\n",
       "      <td>GBR</td>\n",
       "      <td>Great Britain</td>\n",
       "      <td>176.0</td>\n",
       "      <td>73.0</td>\n",
       "      <td>NaN</td>\n",
       "    </tr>\n",
       "    <tr>\n",
       "      <th>77550</th>\n",
       "      <td>78141</td>\n",
       "      <td>Keith Brantly</td>\n",
       "      <td>1962-05-23</td>\n",
       "      <td>Scott Air Force Base</td>\n",
       "      <td>Illinois</td>\n",
       "      <td>USA</td>\n",
       "      <td>United States</td>\n",
       "      <td>180.0</td>\n",
       "      <td>64.0</td>\n",
       "      <td>NaN</td>\n",
       "    </tr>\n",
       "    <tr>\n",
       "      <th>84097</th>\n",
       "      <td>84766</td>\n",
       "      <td>Keith Christiansen</td>\n",
       "      <td>1944-07-14</td>\n",
       "      <td>International Falls</td>\n",
       "      <td>Minnesota</td>\n",
       "      <td>USA</td>\n",
       "      <td>United States</td>\n",
       "      <td>165.0</td>\n",
       "      <td>69.0</td>\n",
       "      <td>2018-11-05</td>\n",
       "    </tr>\n",
       "    <tr>\n",
       "      <th>94646</th>\n",
       "      <td>95413</td>\n",
       "      <td>Keith Meyer</td>\n",
       "      <td>1938-06-20</td>\n",
       "      <td>Geneva</td>\n",
       "      <td>Illinois</td>\n",
       "      <td>USA</td>\n",
       "      <td>United States</td>\n",
       "      <td>NaN</td>\n",
       "      <td>NaN</td>\n",
       "      <td>2010-07-25</td>\n",
       "    </tr>\n",
       "    <tr>\n",
       "      <th>95267</th>\n",
       "      <td>96037</td>\n",
       "      <td>Keith Oliver</td>\n",
       "      <td>1947-10-27</td>\n",
       "      <td>Liverpool</td>\n",
       "      <td>England</td>\n",
       "      <td>GBR</td>\n",
       "      <td>Great Britain</td>\n",
       "      <td>172.0</td>\n",
       "      <td>68.0</td>\n",
       "      <td>NaN</td>\n",
       "    </tr>\n",
       "    <tr>\n",
       "      <th>96452</th>\n",
       "      <td>97229</td>\n",
       "      <td>Keith Schellenberg</td>\n",
       "      <td>1929-03-13</td>\n",
       "      <td>Middlesbrough</td>\n",
       "      <td>England</td>\n",
       "      <td>GBR</td>\n",
       "      <td>Great Britain</td>\n",
       "      <td>NaN</td>\n",
       "      <td>NaN</td>\n",
       "      <td>2019-10-28</td>\n",
       "    </tr>\n",
       "    <tr>\n",
       "      <th>97499</th>\n",
       "      <td>98286</td>\n",
       "      <td>Keith Tkachuk</td>\n",
       "      <td>1972-03-28</td>\n",
       "      <td>Melrose</td>\n",
       "      <td>Massachusetts</td>\n",
       "      <td>USA</td>\n",
       "      <td>United States</td>\n",
       "      <td>188.0</td>\n",
       "      <td>102.0</td>\n",
       "      <td>NaN</td>\n",
       "    </tr>\n",
       "    <tr>\n",
       "      <th>98068</th>\n",
       "      <td>98860</td>\n",
       "      <td>Keith Wegeman</td>\n",
       "      <td>1929-08-28</td>\n",
       "      <td>Denver</td>\n",
       "      <td>Colorado</td>\n",
       "      <td>USA</td>\n",
       "      <td>United States</td>\n",
       "      <td>NaN</td>\n",
       "      <td>NaN</td>\n",
       "      <td>1974-08-22</td>\n",
       "    </tr>\n",
       "    <tr>\n",
       "      <th>99921</th>\n",
       "      <td>100722</td>\n",
       "      <td>Keith Carney</td>\n",
       "      <td>1970-02-03</td>\n",
       "      <td>Providence</td>\n",
       "      <td>Rhode Island</td>\n",
       "      <td>USA</td>\n",
       "      <td>United States</td>\n",
       "      <td>188.0</td>\n",
       "      <td>93.0</td>\n",
       "      <td>NaN</td>\n",
       "    </tr>\n",
       "    <tr>\n",
       "      <th>115973</th>\n",
       "      <td>117348</td>\n",
       "      <td>Keith Sanderson</td>\n",
       "      <td>1975-02-02</td>\n",
       "      <td>Plymouth</td>\n",
       "      <td>Massachusetts</td>\n",
       "      <td>USA</td>\n",
       "      <td>United States</td>\n",
       "      <td>183.0</td>\n",
       "      <td>95.0</td>\n",
       "      <td>NaN</td>\n",
       "    </tr>\n",
       "  </tbody>\n",
       "</table>\n",
       "</div>"
      ],
      "text/plain": [
       "        athlete_id                name   born_date             born_city  \\\n",
       "3505          3517       Keith Wallace  1961-03-29               Preston   \n",
       "12053        12118        Keith Hervey  1898-11-03                Fulham   \n",
       "14577        14674      Keith Harrison  1933-03-28            Birmingham   \n",
       "16166        16281      Keith Reynolds  1963-12-25              Solihull   \n",
       "18734        18862      Keith Sinclair  1945-06-26            Sunderland   \n",
       "29897        30123       Keith Langley  1961-06-03             Aldershot   \n",
       "34011        34275        Keith Remfry  1947-11-17                Ealing   \n",
       "46885        47234        Keith Collin  1937-01-18            Marylebone   \n",
       "50929        51288        Keith Carter  1924-08-30                 Akron   \n",
       "51185        51544       Keith Russell  1948-01-15                  Mesa   \n",
       "52913        53288      Keith Erickson  1944-04-19         San Francisco   \n",
       "55317        55712        Keith Boxell  1958-05-06               Clapham   \n",
       "57818        58226        Keith Peache  1947-08-10              Lewisham   \n",
       "61748        62202       Keith Grogono  1912-11-04             Stratford   \n",
       "62620        63086         Keith Musto  1936-01-12              Rochford   \n",
       "62678        63144        Keith Notary  1960-01-22        Merritt Island   \n",
       "68324        68841         Keith Angus  1943-04-05             Sheffield   \n",
       "68472        68989        Keith Cullen  1972-06-13                Ilford   \n",
       "68997        69514         Keith Stock  1957-03-18              Woolwich   \n",
       "77550        78141       Keith Brantly  1962-05-23  Scott Air Force Base   \n",
       "84097        84766  Keith Christiansen  1944-07-14   International Falls   \n",
       "94646        95413         Keith Meyer  1938-06-20                Geneva   \n",
       "95267        96037        Keith Oliver  1947-10-27             Liverpool   \n",
       "96452        97229  Keith Schellenberg  1929-03-13         Middlesbrough   \n",
       "97499        98286       Keith Tkachuk  1972-03-28               Melrose   \n",
       "98068        98860       Keith Wegeman  1929-08-28                Denver   \n",
       "99921       100722        Keith Carney  1970-02-03            Providence   \n",
       "115973      117348     Keith Sanderson  1975-02-02              Plymouth   \n",
       "\n",
       "          born_region born_country            NOC  height_cm  weight_kg  \\\n",
       "3505          England          GBR  Great Britain      165.0       51.0   \n",
       "12053         England          GBR  Great Britain        NaN        NaN   \n",
       "14577         England          GBR  Great Britain        NaN        NaN   \n",
       "16166         England          GBR  Great Britain      173.0       68.0   \n",
       "18734         England          GBR  Great Britain      190.0       79.0   \n",
       "29897         England          GBR  Great Britain      173.0       70.0   \n",
       "34011         England          GBR  Great Britain      193.0      114.0   \n",
       "46885         England          GBR  Great Britain      168.0       63.0   \n",
       "50929            Ohio          USA  United States        NaN        NaN   \n",
       "51185         Arizona          USA  United States      188.0       73.0   \n",
       "52913      California          USA  United States      196.0       86.0   \n",
       "55317         England          GBR  Great Britain      170.0       87.0   \n",
       "57818         England          GBR  Great Britain      180.0       98.0   \n",
       "61748         England          GBR  Great Britain        NaN        NaN   \n",
       "62620         England          GBR  Great Britain      174.0       72.0   \n",
       "62678         Florida          USA  United States      170.0       66.0   \n",
       "68324         England          GBR  Great Britain      170.0       59.0   \n",
       "68472         England          GBR  Great Britain      177.0       61.0   \n",
       "68997         England          GBR  Great Britain      176.0       73.0   \n",
       "77550        Illinois          USA  United States      180.0       64.0   \n",
       "84097       Minnesota          USA  United States      165.0       69.0   \n",
       "94646        Illinois          USA  United States        NaN        NaN   \n",
       "95267         England          GBR  Great Britain      172.0       68.0   \n",
       "96452         England          GBR  Great Britain        NaN        NaN   \n",
       "97499   Massachusetts          USA  United States      188.0      102.0   \n",
       "98068        Colorado          USA  United States        NaN        NaN   \n",
       "99921    Rhode Island          USA  United States      188.0       93.0   \n",
       "115973  Massachusetts          USA  United States      183.0       95.0   \n",
       "\n",
       "         died_date  \n",
       "3505    1999-12-31  \n",
       "12053   1973-02-22  \n",
       "14577          NaN  \n",
       "16166          NaN  \n",
       "18734          NaN  \n",
       "29897          NaN  \n",
       "34011   2015-09-16  \n",
       "46885   1991-03-06  \n",
       "50929   2013-05-03  \n",
       "51185          NaN  \n",
       "52913          NaN  \n",
       "55317          NaN  \n",
       "57818          NaN  \n",
       "61748   1999-03-22  \n",
       "62620          NaN  \n",
       "62678          NaN  \n",
       "68324          NaN  \n",
       "68472          NaN  \n",
       "68997          NaN  \n",
       "77550          NaN  \n",
       "84097   2018-11-05  \n",
       "94646   2010-07-25  \n",
       "95267          NaN  \n",
       "96452   2019-10-28  \n",
       "97499          NaN  \n",
       "98068   1974-08-22  \n",
       "99921          NaN  \n",
       "115973         NaN  "
      ]
     },
     "execution_count": 97,
     "metadata": {},
     "output_type": "execute_result"
    }
   ],
   "source": [
    "## isin method & startswith\n",
    "bios[bios['born_country'].isin([\"USA\", \"FRA\", \"GBR\"]) & (bios['name'].str.startswith(\"Keith\"))]"
   ]
  },
  {
   "cell_type": "code",
   "execution_count": 98,
   "metadata": {},
   "outputs": [
    {
     "name": "stdout",
     "output_type": "stream",
     "text": [
      "Make sure to smash that like button & subscribe tehehehe\n"
     ]
    }
   ],
   "source": [
    "print(\"Make sure to smash that like button & subscribe tehehehe\")"
   ]
  },
  {
   "cell_type": "markdown",
   "metadata": {},
   "source": [
    "#### Query functions"
   ]
  },
  {
   "cell_type": "code",
   "execution_count": 99,
   "metadata": {},
   "outputs": [
    {
     "data": {
      "application/vnd.microsoft.datawrangler.viewer.v0+json": {
       "columns": [
        {
         "name": "index",
         "rawType": "int64",
         "type": "integer"
        },
        {
         "name": "athlete_id",
         "rawType": "int64",
         "type": "integer"
        },
        {
         "name": "name",
         "rawType": "object",
         "type": "string"
        },
        {
         "name": "born_date",
         "rawType": "object",
         "type": "string"
        },
        {
         "name": "born_city",
         "rawType": "object",
         "type": "string"
        },
        {
         "name": "born_region",
         "rawType": "object",
         "type": "string"
        },
        {
         "name": "born_country",
         "rawType": "object",
         "type": "string"
        },
        {
         "name": "NOC",
         "rawType": "object",
         "type": "string"
        },
        {
         "name": "height_cm",
         "rawType": "float64",
         "type": "float"
        },
        {
         "name": "weight_kg",
         "rawType": "float64",
         "type": "float"
        },
        {
         "name": "died_date",
         "rawType": "object",
         "type": "unknown"
        }
       ],
       "ref": "fc47d6cd-e055-42ca-8179-42b03869b863",
       "rows": [
        [
         "11030",
         "11088",
         "David Halpern",
         "1955-08-18",
         "Seattle",
         "Washington",
         "USA",
         "United States",
         "178.0",
         "79.0",
         null
        ],
        [
         "12800",
         "12870",
         "Todd Trewin",
         "1958-04-20",
         "Seattle",
         "Washington",
         "USA",
         "United States",
         "180.0",
         "75.0",
         null
        ],
        [
         "15476",
         "15583",
         "Scott McKinley",
         "1968-10-15",
         "Seattle",
         "Washington",
         "USA",
         "United States",
         "183.0",
         "75.0",
         null
        ],
        [
         "29079",
         "29293",
         "Joyce Tanac",
         "1950-09-27",
         "Seattle",
         "Washington",
         "USA",
         "United States",
         "156.0",
         "49.0",
         null
        ],
        [
         "31135",
         "31371",
         "Bill Kuhlemeier",
         "1908-01-14",
         "Seattle",
         "Washington",
         "USA",
         "United States",
         null,
         null,
         "2001-07-08"
        ],
        [
         "32773",
         "33019",
         "Joe Story",
         "1952-03-03",
         "Seattle",
         "Washington",
         "USA",
         "United States",
         "170.0",
         "77.0",
         null
        ],
        [
         "34890",
         "35160",
         "Thad McArthur",
         "1928-11-23",
         "Seattle",
         "Washington",
         "USA",
         "United States",
         null,
         null,
         null
        ],
        [
         "35764",
         "36047",
         "Sarah Ann Ogilvie",
         "1959-04-10",
         "Seattle",
         "Washington",
         "USA",
         "Canada",
         "183.0",
         "76.0",
         null
        ],
        [
         "40139",
         "40447",
         "Shannon Day",
         "1970-01-05",
         "Seattle",
         "Washington",
         "USA",
         "United States",
         "170.0",
         "64.0",
         null
        ],
        [
         "40157",
         "40465",
         "Jan Harville",
         "1952-02-19",
         "Seattle",
         "Washington",
         "USA",
         "United States",
         "180.0",
         "70.0",
         null
        ],
        [
         "40188",
         "40496",
         "Kristine Norelius",
         "1956-12-26",
         "Seattle",
         "Washington",
         "USA",
         "United States",
         "185.0",
         "76.0",
         null
        ],
        [
         "40190",
         "40498",
         "Shyril O'Steen",
         "1960-10-05",
         "Seattle",
         "Washington",
         "USA",
         "United States",
         "176.0",
         "67.0",
         null
        ],
        [
         "40218",
         "40527",
         "Gordy Adam",
         "1915-05-26",
         "Seattle",
         "Washington",
         "USA",
         "United States",
         null,
         null,
         "1992-03-27"
        ],
        [
         "40220",
         "40529",
         "Chuck Alm",
         "1937-03-27",
         "Seattle",
         "Washington",
         "USA",
         "United States",
         "195.0",
         "93.0",
         null
        ],
        [
         "40247",
         "40556",
         "John Biglow",
         "1957-12-20",
         "Seattle",
         "Washington",
         "USA",
         "United States",
         "190.0",
         "85.0",
         null
        ],
        [
         "40325",
         "40634",
         "Paul Enquist",
         "1955-12-13",
         "Seattle",
         "Washington",
         "USA",
         "United States",
         "198.0",
         "93.0",
         null
        ],
        [
         "40337",
         "40646",
         "Ed Ferry",
         "1941-06-18",
         "Seattle",
         "Washington",
         "USA",
         "United States",
         "193.0",
         "89.0",
         "2023-09-18"
        ],
        [
         "40346",
         "40655",
         "Hugh Foley",
         "1944-03-03",
         "Seattle",
         "Washington",
         "USA",
         "United States",
         "191.0",
         "86.0",
         "2016-11-09"
        ],
        [
         "40353",
         "40662",
         "Ted Frost",
         "1932-04-06",
         "Seattle",
         "Washington",
         "USA",
         "United States",
         "194.0",
         "93.0",
         "2018-11-06"
        ],
        [
         "40441",
         "40750",
         "Matt Leanderson",
         "1931-03-11",
         "Seattle",
         "Washington",
         "USA",
         "United States",
         null,
         null,
         "2006-11-02"
        ],
        [
         "40480",
         "40789",
         "Jim McMillin",
         "1914-09-03",
         "Seattle",
         "Washington",
         "USA",
         "United States",
         null,
         null,
         "2005-08-22"
        ],
        [
         "40488",
         "40797",
         "Ted Mittet",
         "1941-12-23",
         "Seattle",
         "Washington",
         "USA",
         "United States",
         "193.0",
         "84.0",
         null
        ],
        [
         "40496",
         "40805",
         "Allen Morgan",
         "1925-07-16",
         "Seattle",
         "Washington",
         "USA",
         "United States",
         null,
         null,
         "2011-09-12"
        ],
        [
         "40498",
         "40807",
         "Herb Morris",
         "1915-07-16",
         "Seattle",
         "Washington",
         "USA",
         "United States",
         null,
         null,
         "2009-07-22"
        ],
        [
         "40510",
         "40819",
         "Mark Norelius",
         "1952-06-10",
         "Seattle",
         "Washington",
         "USA",
         "United States",
         "196.0",
         "93.0",
         null
        ],
        [
         "40543",
         "40852",
         "Chad Rudolph",
         "1948-01-22",
         "Seattle",
         "Washington",
         "USA",
         "United States",
         "193.0",
         "93.0",
         null
        ],
        [
         "40557",
         "40866",
         "Jason Scott",
         "1970-02-11",
         "Seattle",
         "Washington",
         "USA",
         "United States",
         "195.0",
         "94.0",
         null
        ],
        [
         "40583",
         "40892",
         "Monte Stocker",
         "1931-12-27",
         "Seattle",
         "Washington",
         "USA",
         "United States",
         "188.0",
         "83.0",
         "2008-07-15"
        ],
        [
         "40603",
         "40913",
         "Al Ulbrickson",
         "1930-10-10",
         "Seattle",
         "Washington",
         "USA",
         "United States",
         null,
         null,
         "2012-07-06"
        ],
        [
         "40610",
         "40920",
         "Richard Wahlstrom",
         "1931-11-08",
         "Seattle",
         "Washington",
         "USA",
         "United States",
         null,
         null,
         "2003-12-18"
        ],
        [
         "40611",
         "40921",
         "Rusty Wailes",
         "1936-03-21",
         "Seattle",
         "Washington",
         "USA",
         "United States",
         "197.0",
         "88.0",
         "2002-10-11"
        ],
        [
         "40621",
         "40931",
         "Johnny White",
         "1916-05-16",
         "Seattle",
         "Washington",
         "USA",
         "United States",
         null,
         null,
         "1997-03-16"
        ],
        [
         "40623",
         "40933",
         "Bob Will",
         "1925-04-20",
         "Seattle",
         "Washington",
         "USA",
         "United States",
         null,
         null,
         "2019-10-14"
        ],
        [
         "40629",
         "40939",
         "Raymond Wright",
         "1947-05-20",
         "Seattle",
         "Washington",
         "USA",
         "United States",
         "186.0",
         "87.0",
         null
        ],
        [
         "40631",
         "40941",
         "Mike Yonker",
         "1940-11-12",
         "Seattle",
         "Washington",
         "USA",
         "United States",
         "190.0",
         "88.0",
         null
        ],
        [
         "50631",
         "50990",
         "Lynn Colella",
         "1950-06-13",
         "Seattle",
         "Washington",
         "USA",
         "United States",
         "170.0",
         "61.0",
         null
        ],
        [
         "50639",
         "50998",
         "Candy Costie",
         "1963-03-12",
         "Seattle",
         "Washington",
         "USA",
         "United States",
         "162.0",
         "50.0",
         null
        ],
        [
         "50766",
         "51125",
         "Barbara Mitchell",
         "1956-06-04",
         "Seattle",
         "Washington",
         "USA",
         "United States",
         "173.0",
         "57.0",
         null
        ],
        [
         "50802",
         "51161",
         "Nancy Ramey",
         "1940-06-29",
         "Seattle",
         "Washington",
         "USA",
         "United States",
         "160.0",
         "51.0",
         null
        ],
        [
         "50939",
         "51298",
         "Rick Colella",
         "1951-12-14",
         "Seattle",
         "Washington",
         "USA",
         "United States",
         "186.0",
         "82.0",
         null
        ],
        [
         "51127",
         "51486",
         "Jack Medica",
         "1914-10-05",
         "Seattle",
         "Washington",
         "USA",
         "United States",
         null,
         null,
         "1985-04-15"
        ],
        [
         "52942",
         "53317",
         "Dave Saunders",
         "1960-10-19",
         "Seattle",
         "Washington",
         "USA",
         "United States",
         "190.0",
         "88.0",
         null
        ],
        [
         "61040",
         "61482",
         "William Carl Buchan",
         "1956-12-23",
         "Seattle",
         "Washington",
         "USA",
         "United States",
         "195.0",
         "89.0",
         null
        ],
        [
         "61041",
         "61483",
         "William Earl Buchan",
         "1935-05-09",
         "Seattle",
         "Washington",
         "USA",
         "United States",
         "190.0",
         "95.0",
         null
        ],
        [
         "61918",
         "62373",
         "Alan Holt",
         "1939-06-29",
         "Seattle",
         "Washington",
         "USA",
         "United States",
         "178.0",
         "73.0",
         null
        ],
        [
         "62497",
         "62961",
         "Charlie McKee",
         "1962-03-14",
         "Seattle",
         "Washington",
         "USA",
         "United States",
         "179.0",
         "79.0",
         null
        ],
        [
         "62498",
         "62962",
         "Jonathan McKee",
         "1959-12-19",
         "Seattle",
         "Washington",
         "USA",
         "United States",
         "177.0",
         "73.0",
         null
        ],
        [
         "63671",
         "64151",
         "Tom Whitehurst",
         "1957-09-08",
         "Seattle",
         "Washington",
         "USA",
         "United States",
         "170.0",
         "64.0",
         null
        ],
        [
         "63672",
         "64152",
         "Robert Whitehurst",
         "1956-08-16",
         "Seattle",
         "Washington",
         "USA",
         "United States",
         "168.0",
         "55.0",
         null
        ],
        [
         "77180",
         "77771",
         "Roberta Brown",
         "1947-04-12",
         "Seattle",
         "Washington",
         "USA",
         "United States",
         "175.0",
         "69.0",
         "1981-08-04"
        ]
       ],
       "shape": {
        "columns": 10,
        "rows": 102
       }
      },
      "text/html": [
       "<div>\n",
       "<style scoped>\n",
       "    .dataframe tbody tr th:only-of-type {\n",
       "        vertical-align: middle;\n",
       "    }\n",
       "\n",
       "    .dataframe tbody tr th {\n",
       "        vertical-align: top;\n",
       "    }\n",
       "\n",
       "    .dataframe thead th {\n",
       "        text-align: right;\n",
       "    }\n",
       "</style>\n",
       "<table border=\"1\" class=\"dataframe\">\n",
       "  <thead>\n",
       "    <tr style=\"text-align: right;\">\n",
       "      <th></th>\n",
       "      <th>athlete_id</th>\n",
       "      <th>name</th>\n",
       "      <th>born_date</th>\n",
       "      <th>born_city</th>\n",
       "      <th>born_region</th>\n",
       "      <th>born_country</th>\n",
       "      <th>NOC</th>\n",
       "      <th>height_cm</th>\n",
       "      <th>weight_kg</th>\n",
       "      <th>died_date</th>\n",
       "    </tr>\n",
       "  </thead>\n",
       "  <tbody>\n",
       "    <tr>\n",
       "      <th>11030</th>\n",
       "      <td>11088</td>\n",
       "      <td>David Halpern</td>\n",
       "      <td>1955-08-18</td>\n",
       "      <td>Seattle</td>\n",
       "      <td>Washington</td>\n",
       "      <td>USA</td>\n",
       "      <td>United States</td>\n",
       "      <td>178.0</td>\n",
       "      <td>79.0</td>\n",
       "      <td>NaN</td>\n",
       "    </tr>\n",
       "    <tr>\n",
       "      <th>12800</th>\n",
       "      <td>12870</td>\n",
       "      <td>Todd Trewin</td>\n",
       "      <td>1958-04-20</td>\n",
       "      <td>Seattle</td>\n",
       "      <td>Washington</td>\n",
       "      <td>USA</td>\n",
       "      <td>United States</td>\n",
       "      <td>180.0</td>\n",
       "      <td>75.0</td>\n",
       "      <td>NaN</td>\n",
       "    </tr>\n",
       "    <tr>\n",
       "      <th>15476</th>\n",
       "      <td>15583</td>\n",
       "      <td>Scott McKinley</td>\n",
       "      <td>1968-10-15</td>\n",
       "      <td>Seattle</td>\n",
       "      <td>Washington</td>\n",
       "      <td>USA</td>\n",
       "      <td>United States</td>\n",
       "      <td>183.0</td>\n",
       "      <td>75.0</td>\n",
       "      <td>NaN</td>\n",
       "    </tr>\n",
       "    <tr>\n",
       "      <th>29079</th>\n",
       "      <td>29293</td>\n",
       "      <td>Joyce Tanac</td>\n",
       "      <td>1950-09-27</td>\n",
       "      <td>Seattle</td>\n",
       "      <td>Washington</td>\n",
       "      <td>USA</td>\n",
       "      <td>United States</td>\n",
       "      <td>156.0</td>\n",
       "      <td>49.0</td>\n",
       "      <td>NaN</td>\n",
       "    </tr>\n",
       "    <tr>\n",
       "      <th>31135</th>\n",
       "      <td>31371</td>\n",
       "      <td>Bill Kuhlemeier</td>\n",
       "      <td>1908-01-14</td>\n",
       "      <td>Seattle</td>\n",
       "      <td>Washington</td>\n",
       "      <td>USA</td>\n",
       "      <td>United States</td>\n",
       "      <td>NaN</td>\n",
       "      <td>NaN</td>\n",
       "      <td>2001-07-08</td>\n",
       "    </tr>\n",
       "    <tr>\n",
       "      <th>...</th>\n",
       "      <td>...</td>\n",
       "      <td>...</td>\n",
       "      <td>...</td>\n",
       "      <td>...</td>\n",
       "      <td>...</td>\n",
       "      <td>...</td>\n",
       "      <td>...</td>\n",
       "      <td>...</td>\n",
       "      <td>...</td>\n",
       "      <td>...</td>\n",
       "    </tr>\n",
       "    <tr>\n",
       "      <th>133392</th>\n",
       "      <td>136331</td>\n",
       "      <td>Hans Struzyna</td>\n",
       "      <td>1989-03-31</td>\n",
       "      <td>Seattle</td>\n",
       "      <td>Washington</td>\n",
       "      <td>USA</td>\n",
       "      <td>United States</td>\n",
       "      <td>188.0</td>\n",
       "      <td>91.0</td>\n",
       "      <td>NaN</td>\n",
       "    </tr>\n",
       "    <tr>\n",
       "      <th>135448</th>\n",
       "      <td>138662</td>\n",
       "      <td>Maude Davis Crossland</td>\n",
       "      <td>2003-03-19</td>\n",
       "      <td>Seattle</td>\n",
       "      <td>Washington</td>\n",
       "      <td>USA</td>\n",
       "      <td>Colombia</td>\n",
       "      <td>NaN</td>\n",
       "      <td>NaN</td>\n",
       "      <td>NaN</td>\n",
       "    </tr>\n",
       "    <tr>\n",
       "      <th>136993</th>\n",
       "      <td>140229</td>\n",
       "      <td>Jenell Berhorst</td>\n",
       "      <td>2003-12-13</td>\n",
       "      <td>Seattle</td>\n",
       "      <td>Washington</td>\n",
       "      <td>USA</td>\n",
       "      <td>United States</td>\n",
       "      <td>NaN</td>\n",
       "      <td>NaN</td>\n",
       "      <td>NaN</td>\n",
       "    </tr>\n",
       "    <tr>\n",
       "      <th>143507</th>\n",
       "      <td>147159</td>\n",
       "      <td>Nevin Harrison</td>\n",
       "      <td>2002-06-02</td>\n",
       "      <td>Seattle</td>\n",
       "      <td>Washington</td>\n",
       "      <td>USA</td>\n",
       "      <td>United States</td>\n",
       "      <td>175.0</td>\n",
       "      <td>73.0</td>\n",
       "      <td>NaN</td>\n",
       "    </tr>\n",
       "    <tr>\n",
       "      <th>145446</th>\n",
       "      <td>149169</td>\n",
       "      <td>Corinne Stoddard</td>\n",
       "      <td>2001-08-15</td>\n",
       "      <td>Seattle</td>\n",
       "      <td>Washington</td>\n",
       "      <td>USA</td>\n",
       "      <td>United States</td>\n",
       "      <td>NaN</td>\n",
       "      <td>NaN</td>\n",
       "      <td>NaN</td>\n",
       "    </tr>\n",
       "  </tbody>\n",
       "</table>\n",
       "<p>102 rows × 10 columns</p>\n",
       "</div>"
      ],
      "text/plain": [
       "        athlete_id                   name   born_date born_city born_region  \\\n",
       "11030        11088          David Halpern  1955-08-18   Seattle  Washington   \n",
       "12800        12870            Todd Trewin  1958-04-20   Seattle  Washington   \n",
       "15476        15583         Scott McKinley  1968-10-15   Seattle  Washington   \n",
       "29079        29293            Joyce Tanac  1950-09-27   Seattle  Washington   \n",
       "31135        31371        Bill Kuhlemeier  1908-01-14   Seattle  Washington   \n",
       "...            ...                    ...         ...       ...         ...   \n",
       "133392      136331          Hans Struzyna  1989-03-31   Seattle  Washington   \n",
       "135448      138662  Maude Davis Crossland  2003-03-19   Seattle  Washington   \n",
       "136993      140229        Jenell Berhorst  2003-12-13   Seattle  Washington   \n",
       "143507      147159         Nevin Harrison  2002-06-02   Seattle  Washington   \n",
       "145446      149169       Corinne Stoddard  2001-08-15   Seattle  Washington   \n",
       "\n",
       "       born_country            NOC  height_cm  weight_kg   died_date  \n",
       "11030           USA  United States      178.0       79.0         NaN  \n",
       "12800           USA  United States      180.0       75.0         NaN  \n",
       "15476           USA  United States      183.0       75.0         NaN  \n",
       "29079           USA  United States      156.0       49.0         NaN  \n",
       "31135           USA  United States        NaN        NaN  2001-07-08  \n",
       "...             ...            ...        ...        ...         ...  \n",
       "133392          USA  United States      188.0       91.0         NaN  \n",
       "135448          USA       Colombia        NaN        NaN         NaN  \n",
       "136993          USA  United States        NaN        NaN         NaN  \n",
       "143507          USA  United States      175.0       73.0         NaN  \n",
       "145446          USA  United States        NaN        NaN         NaN  \n",
       "\n",
       "[102 rows x 10 columns]"
      ]
     },
     "execution_count": 99,
     "metadata": {},
     "output_type": "execute_result"
    }
   ],
   "source": [
    "bios.query('born_country == \"USA\" and born_city == \"Seattle\"')"
   ]
  },
  {
   "cell_type": "markdown",
   "metadata": {},
   "source": [
    "## Adding / Removing Columns"
   ]
  },
  {
   "cell_type": "code",
   "execution_count": 100,
   "metadata": {},
   "outputs": [
    {
     "data": {
      "application/vnd.microsoft.datawrangler.viewer.v0+json": {
       "columns": [
        {
         "name": "index",
         "rawType": "int64",
         "type": "integer"
        },
        {
         "name": "Day",
         "rawType": "object",
         "type": "string"
        },
        {
         "name": "Coffee Type",
         "rawType": "object",
         "type": "string"
        },
        {
         "name": "Units Sold",
         "rawType": "int64",
         "type": "integer"
        }
       ],
       "ref": "550687d0-93d3-41ce-bd49-3d571a3ffd58",
       "rows": [
        [
         "0",
         "Monday",
         "Espresso",
         "25"
        ],
        [
         "1",
         "Monday",
         "Latte",
         "10"
        ],
        [
         "2",
         "Tuesday",
         "Espresso",
         "10"
        ],
        [
         "3",
         "Tuesday",
         "Latte",
         "10"
        ],
        [
         "4",
         "Wednesday",
         "Espresso",
         "35"
        ]
       ],
       "shape": {
        "columns": 3,
        "rows": 5
       }
      },
      "text/html": [
       "<div>\n",
       "<style scoped>\n",
       "    .dataframe tbody tr th:only-of-type {\n",
       "        vertical-align: middle;\n",
       "    }\n",
       "\n",
       "    .dataframe tbody tr th {\n",
       "        vertical-align: top;\n",
       "    }\n",
       "\n",
       "    .dataframe thead th {\n",
       "        text-align: right;\n",
       "    }\n",
       "</style>\n",
       "<table border=\"1\" class=\"dataframe\">\n",
       "  <thead>\n",
       "    <tr style=\"text-align: right;\">\n",
       "      <th></th>\n",
       "      <th>Day</th>\n",
       "      <th>Coffee Type</th>\n",
       "      <th>Units Sold</th>\n",
       "    </tr>\n",
       "  </thead>\n",
       "  <tbody>\n",
       "    <tr>\n",
       "      <th>0</th>\n",
       "      <td>Monday</td>\n",
       "      <td>Espresso</td>\n",
       "      <td>25</td>\n",
       "    </tr>\n",
       "    <tr>\n",
       "      <th>1</th>\n",
       "      <td>Monday</td>\n",
       "      <td>Latte</td>\n",
       "      <td>10</td>\n",
       "    </tr>\n",
       "    <tr>\n",
       "      <th>2</th>\n",
       "      <td>Tuesday</td>\n",
       "      <td>Espresso</td>\n",
       "      <td>10</td>\n",
       "    </tr>\n",
       "    <tr>\n",
       "      <th>3</th>\n",
       "      <td>Tuesday</td>\n",
       "      <td>Latte</td>\n",
       "      <td>10</td>\n",
       "    </tr>\n",
       "    <tr>\n",
       "      <th>4</th>\n",
       "      <td>Wednesday</td>\n",
       "      <td>Espresso</td>\n",
       "      <td>35</td>\n",
       "    </tr>\n",
       "  </tbody>\n",
       "</table>\n",
       "</div>"
      ],
      "text/plain": [
       "         Day Coffee Type  Units Sold\n",
       "0     Monday    Espresso          25\n",
       "1     Monday       Latte          10\n",
       "2    Tuesday    Espresso          10\n",
       "3    Tuesday       Latte          10\n",
       "4  Wednesday    Espresso          35"
      ]
     },
     "execution_count": 100,
     "metadata": {},
     "output_type": "execute_result"
    }
   ],
   "source": [
    "coffee.head()"
   ]
  },
  {
   "cell_type": "code",
   "execution_count": 101,
   "metadata": {},
   "outputs": [],
   "source": [
    "coffee['price'] = 4.99"
   ]
  },
  {
   "cell_type": "code",
   "execution_count": 102,
   "metadata": {},
   "outputs": [],
   "source": [
    "coffee['new_price'] = np.where(coffee['Coffee Type']=='Espresso', 3.99, 5.99) "
   ]
  },
  {
   "cell_type": "code",
   "execution_count": 103,
   "metadata": {},
   "outputs": [
    {
     "data": {
      "application/vnd.microsoft.datawrangler.viewer.v0+json": {
       "columns": [
        {
         "name": "index",
         "rawType": "int64",
         "type": "integer"
        },
        {
         "name": "Day",
         "rawType": "object",
         "type": "string"
        },
        {
         "name": "Coffee Type",
         "rawType": "object",
         "type": "string"
        },
        {
         "name": "Units Sold",
         "rawType": "int64",
         "type": "integer"
        },
        {
         "name": "price",
         "rawType": "float64",
         "type": "float"
        },
        {
         "name": "new_price",
         "rawType": "float64",
         "type": "float"
        }
       ],
       "ref": "0ca56c0b-978d-4564-bac0-cbf030663d97",
       "rows": [
        [
         "0",
         "Monday",
         "Espresso",
         "25",
         "4.99",
         "3.99"
        ],
        [
         "1",
         "Monday",
         "Latte",
         "10",
         "4.99",
         "5.99"
        ],
        [
         "2",
         "Tuesday",
         "Espresso",
         "10",
         "4.99",
         "3.99"
        ],
        [
         "3",
         "Tuesday",
         "Latte",
         "10",
         "4.99",
         "5.99"
        ],
        [
         "4",
         "Wednesday",
         "Espresso",
         "35",
         "4.99",
         "3.99"
        ],
        [
         "5",
         "Wednesday",
         "Latte",
         "25",
         "4.99",
         "5.99"
        ],
        [
         "6",
         "Thursday",
         "Espresso",
         "40",
         "4.99",
         "3.99"
        ],
        [
         "7",
         "Thursday",
         "Latte",
         "30",
         "4.99",
         "5.99"
        ],
        [
         "8",
         "Friday",
         "Espresso",
         "45",
         "4.99",
         "3.99"
        ],
        [
         "9",
         "Friday",
         "Latte",
         "35",
         "4.99",
         "5.99"
        ],
        [
         "10",
         "Saturday",
         "Espresso",
         "45",
         "4.99",
         "3.99"
        ],
        [
         "11",
         "Saturday",
         "Latte",
         "35",
         "4.99",
         "5.99"
        ],
        [
         "12",
         "Sunday",
         "Espresso",
         "45",
         "4.99",
         "3.99"
        ],
        [
         "13",
         "Sunday",
         "Latte",
         "35",
         "4.99",
         "5.99"
        ]
       ],
       "shape": {
        "columns": 5,
        "rows": 14
       }
      },
      "text/html": [
       "<div>\n",
       "<style scoped>\n",
       "    .dataframe tbody tr th:only-of-type {\n",
       "        vertical-align: middle;\n",
       "    }\n",
       "\n",
       "    .dataframe tbody tr th {\n",
       "        vertical-align: top;\n",
       "    }\n",
       "\n",
       "    .dataframe thead th {\n",
       "        text-align: right;\n",
       "    }\n",
       "</style>\n",
       "<table border=\"1\" class=\"dataframe\">\n",
       "  <thead>\n",
       "    <tr style=\"text-align: right;\">\n",
       "      <th></th>\n",
       "      <th>Day</th>\n",
       "      <th>Coffee Type</th>\n",
       "      <th>Units Sold</th>\n",
       "      <th>price</th>\n",
       "      <th>new_price</th>\n",
       "    </tr>\n",
       "  </thead>\n",
       "  <tbody>\n",
       "    <tr>\n",
       "      <th>0</th>\n",
       "      <td>Monday</td>\n",
       "      <td>Espresso</td>\n",
       "      <td>25</td>\n",
       "      <td>4.99</td>\n",
       "      <td>3.99</td>\n",
       "    </tr>\n",
       "    <tr>\n",
       "      <th>1</th>\n",
       "      <td>Monday</td>\n",
       "      <td>Latte</td>\n",
       "      <td>10</td>\n",
       "      <td>4.99</td>\n",
       "      <td>5.99</td>\n",
       "    </tr>\n",
       "    <tr>\n",
       "      <th>2</th>\n",
       "      <td>Tuesday</td>\n",
       "      <td>Espresso</td>\n",
       "      <td>10</td>\n",
       "      <td>4.99</td>\n",
       "      <td>3.99</td>\n",
       "    </tr>\n",
       "    <tr>\n",
       "      <th>3</th>\n",
       "      <td>Tuesday</td>\n",
       "      <td>Latte</td>\n",
       "      <td>10</td>\n",
       "      <td>4.99</td>\n",
       "      <td>5.99</td>\n",
       "    </tr>\n",
       "    <tr>\n",
       "      <th>4</th>\n",
       "      <td>Wednesday</td>\n",
       "      <td>Espresso</td>\n",
       "      <td>35</td>\n",
       "      <td>4.99</td>\n",
       "      <td>3.99</td>\n",
       "    </tr>\n",
       "    <tr>\n",
       "      <th>5</th>\n",
       "      <td>Wednesday</td>\n",
       "      <td>Latte</td>\n",
       "      <td>25</td>\n",
       "      <td>4.99</td>\n",
       "      <td>5.99</td>\n",
       "    </tr>\n",
       "    <tr>\n",
       "      <th>6</th>\n",
       "      <td>Thursday</td>\n",
       "      <td>Espresso</td>\n",
       "      <td>40</td>\n",
       "      <td>4.99</td>\n",
       "      <td>3.99</td>\n",
       "    </tr>\n",
       "    <tr>\n",
       "      <th>7</th>\n",
       "      <td>Thursday</td>\n",
       "      <td>Latte</td>\n",
       "      <td>30</td>\n",
       "      <td>4.99</td>\n",
       "      <td>5.99</td>\n",
       "    </tr>\n",
       "    <tr>\n",
       "      <th>8</th>\n",
       "      <td>Friday</td>\n",
       "      <td>Espresso</td>\n",
       "      <td>45</td>\n",
       "      <td>4.99</td>\n",
       "      <td>3.99</td>\n",
       "    </tr>\n",
       "    <tr>\n",
       "      <th>9</th>\n",
       "      <td>Friday</td>\n",
       "      <td>Latte</td>\n",
       "      <td>35</td>\n",
       "      <td>4.99</td>\n",
       "      <td>5.99</td>\n",
       "    </tr>\n",
       "    <tr>\n",
       "      <th>10</th>\n",
       "      <td>Saturday</td>\n",
       "      <td>Espresso</td>\n",
       "      <td>45</td>\n",
       "      <td>4.99</td>\n",
       "      <td>3.99</td>\n",
       "    </tr>\n",
       "    <tr>\n",
       "      <th>11</th>\n",
       "      <td>Saturday</td>\n",
       "      <td>Latte</td>\n",
       "      <td>35</td>\n",
       "      <td>4.99</td>\n",
       "      <td>5.99</td>\n",
       "    </tr>\n",
       "    <tr>\n",
       "      <th>12</th>\n",
       "      <td>Sunday</td>\n",
       "      <td>Espresso</td>\n",
       "      <td>45</td>\n",
       "      <td>4.99</td>\n",
       "      <td>3.99</td>\n",
       "    </tr>\n",
       "    <tr>\n",
       "      <th>13</th>\n",
       "      <td>Sunday</td>\n",
       "      <td>Latte</td>\n",
       "      <td>35</td>\n",
       "      <td>4.99</td>\n",
       "      <td>5.99</td>\n",
       "    </tr>\n",
       "  </tbody>\n",
       "</table>\n",
       "</div>"
      ],
      "text/plain": [
       "          Day Coffee Type  Units Sold  price  new_price\n",
       "0      Monday    Espresso          25   4.99       3.99\n",
       "1      Monday       Latte          10   4.99       5.99\n",
       "2     Tuesday    Espresso          10   4.99       3.99\n",
       "3     Tuesday       Latte          10   4.99       5.99\n",
       "4   Wednesday    Espresso          35   4.99       3.99\n",
       "5   Wednesday       Latte          25   4.99       5.99\n",
       "6    Thursday    Espresso          40   4.99       3.99\n",
       "7    Thursday       Latte          30   4.99       5.99\n",
       "8      Friday    Espresso          45   4.99       3.99\n",
       "9      Friday       Latte          35   4.99       5.99\n",
       "10   Saturday    Espresso          45   4.99       3.99\n",
       "11   Saturday       Latte          35   4.99       5.99\n",
       "12     Sunday    Espresso          45   4.99       3.99\n",
       "13     Sunday       Latte          35   4.99       5.99"
      ]
     },
     "execution_count": 103,
     "metadata": {},
     "output_type": "execute_result"
    }
   ],
   "source": [
    "coffee"
   ]
  },
  {
   "cell_type": "code",
   "execution_count": 104,
   "metadata": {},
   "outputs": [],
   "source": [
    "coffee.drop(columns=['price'], inplace=True)\n",
    "\n",
    "# the below would also have worked\n",
    "# coffee = coffee.drop(columns=['price'])"
   ]
  },
  {
   "cell_type": "code",
   "execution_count": null,
   "metadata": {},
   "outputs": [],
   "source": [
    "coffee = coffee[['Day', 'Coffee Type', 'Units Sold', 'new_price']]  "
   ]
  },
  {
   "cell_type": "code",
   "execution_count": null,
   "metadata": {},
   "outputs": [],
   "source": [
    "coffee['revenue'] = coffee['Units Sold'] * coffee['new_price'] "
   ]
  },
  {
   "cell_type": "code",
   "execution_count": 109,
   "metadata": {},
   "outputs": [
    {
     "data": {
      "application/vnd.microsoft.datawrangler.viewer.v0+json": {
       "columns": [
        {
         "name": "index",
         "rawType": "int64",
         "type": "integer"
        },
        {
         "name": "Day",
         "rawType": "object",
         "type": "string"
        },
        {
         "name": "Coffee Type",
         "rawType": "object",
         "type": "string"
        },
        {
         "name": "Units Sold",
         "rawType": "int64",
         "type": "integer"
        },
        {
         "name": "new_price",
         "rawType": "float64",
         "type": "float"
        },
        {
         "name": "revenue",
         "rawType": "float64",
         "type": "float"
        }
       ],
       "ref": "1c7818b3-a68c-4e94-bba2-6a020a6aaa9a",
       "rows": [
        [
         "0",
         "Monday",
         "Espresso",
         "25",
         "3.99",
         "99.75"
        ],
        [
         "1",
         "Monday",
         "Latte",
         "10",
         "5.99",
         "59.900000000000006"
        ],
        [
         "2",
         "Tuesday",
         "Espresso",
         "10",
         "3.99",
         "39.900000000000006"
        ],
        [
         "3",
         "Tuesday",
         "Latte",
         "10",
         "5.99",
         "59.900000000000006"
        ],
        [
         "4",
         "Wednesday",
         "Espresso",
         "35",
         "3.99",
         "139.65"
        ],
        [
         "5",
         "Wednesday",
         "Latte",
         "25",
         "5.99",
         "149.75"
        ],
        [
         "6",
         "Thursday",
         "Espresso",
         "40",
         "3.99",
         "159.60000000000002"
        ],
        [
         "7",
         "Thursday",
         "Latte",
         "30",
         "5.99",
         "179.70000000000002"
        ],
        [
         "8",
         "Friday",
         "Espresso",
         "45",
         "3.99",
         "179.55"
        ],
        [
         "9",
         "Friday",
         "Latte",
         "35",
         "5.99",
         "209.65"
        ],
        [
         "10",
         "Saturday",
         "Espresso",
         "45",
         "3.99",
         "179.55"
        ],
        [
         "11",
         "Saturday",
         "Latte",
         "35",
         "5.99",
         "209.65"
        ],
        [
         "12",
         "Sunday",
         "Espresso",
         "45",
         "3.99",
         "179.55"
        ],
        [
         "13",
         "Sunday",
         "Latte",
         "35",
         "5.99",
         "209.65"
        ]
       ],
       "shape": {
        "columns": 5,
        "rows": 14
       }
      },
      "text/html": [
       "<div>\n",
       "<style scoped>\n",
       "    .dataframe tbody tr th:only-of-type {\n",
       "        vertical-align: middle;\n",
       "    }\n",
       "\n",
       "    .dataframe tbody tr th {\n",
       "        vertical-align: top;\n",
       "    }\n",
       "\n",
       "    .dataframe thead th {\n",
       "        text-align: right;\n",
       "    }\n",
       "</style>\n",
       "<table border=\"1\" class=\"dataframe\">\n",
       "  <thead>\n",
       "    <tr style=\"text-align: right;\">\n",
       "      <th></th>\n",
       "      <th>Day</th>\n",
       "      <th>Coffee Type</th>\n",
       "      <th>Units Sold</th>\n",
       "      <th>new_price</th>\n",
       "      <th>revenue</th>\n",
       "    </tr>\n",
       "  </thead>\n",
       "  <tbody>\n",
       "    <tr>\n",
       "      <th>0</th>\n",
       "      <td>Monday</td>\n",
       "      <td>Espresso</td>\n",
       "      <td>25</td>\n",
       "      <td>3.99</td>\n",
       "      <td>99.75</td>\n",
       "    </tr>\n",
       "    <tr>\n",
       "      <th>1</th>\n",
       "      <td>Monday</td>\n",
       "      <td>Latte</td>\n",
       "      <td>10</td>\n",
       "      <td>5.99</td>\n",
       "      <td>59.90</td>\n",
       "    </tr>\n",
       "    <tr>\n",
       "      <th>2</th>\n",
       "      <td>Tuesday</td>\n",
       "      <td>Espresso</td>\n",
       "      <td>10</td>\n",
       "      <td>3.99</td>\n",
       "      <td>39.90</td>\n",
       "    </tr>\n",
       "    <tr>\n",
       "      <th>3</th>\n",
       "      <td>Tuesday</td>\n",
       "      <td>Latte</td>\n",
       "      <td>10</td>\n",
       "      <td>5.99</td>\n",
       "      <td>59.90</td>\n",
       "    </tr>\n",
       "    <tr>\n",
       "      <th>4</th>\n",
       "      <td>Wednesday</td>\n",
       "      <td>Espresso</td>\n",
       "      <td>35</td>\n",
       "      <td>3.99</td>\n",
       "      <td>139.65</td>\n",
       "    </tr>\n",
       "    <tr>\n",
       "      <th>5</th>\n",
       "      <td>Wednesday</td>\n",
       "      <td>Latte</td>\n",
       "      <td>25</td>\n",
       "      <td>5.99</td>\n",
       "      <td>149.75</td>\n",
       "    </tr>\n",
       "    <tr>\n",
       "      <th>6</th>\n",
       "      <td>Thursday</td>\n",
       "      <td>Espresso</td>\n",
       "      <td>40</td>\n",
       "      <td>3.99</td>\n",
       "      <td>159.60</td>\n",
       "    </tr>\n",
       "    <tr>\n",
       "      <th>7</th>\n",
       "      <td>Thursday</td>\n",
       "      <td>Latte</td>\n",
       "      <td>30</td>\n",
       "      <td>5.99</td>\n",
       "      <td>179.70</td>\n",
       "    </tr>\n",
       "    <tr>\n",
       "      <th>8</th>\n",
       "      <td>Friday</td>\n",
       "      <td>Espresso</td>\n",
       "      <td>45</td>\n",
       "      <td>3.99</td>\n",
       "      <td>179.55</td>\n",
       "    </tr>\n",
       "    <tr>\n",
       "      <th>9</th>\n",
       "      <td>Friday</td>\n",
       "      <td>Latte</td>\n",
       "      <td>35</td>\n",
       "      <td>5.99</td>\n",
       "      <td>209.65</td>\n",
       "    </tr>\n",
       "    <tr>\n",
       "      <th>10</th>\n",
       "      <td>Saturday</td>\n",
       "      <td>Espresso</td>\n",
       "      <td>45</td>\n",
       "      <td>3.99</td>\n",
       "      <td>179.55</td>\n",
       "    </tr>\n",
       "    <tr>\n",
       "      <th>11</th>\n",
       "      <td>Saturday</td>\n",
       "      <td>Latte</td>\n",
       "      <td>35</td>\n",
       "      <td>5.99</td>\n",
       "      <td>209.65</td>\n",
       "    </tr>\n",
       "    <tr>\n",
       "      <th>12</th>\n",
       "      <td>Sunday</td>\n",
       "      <td>Espresso</td>\n",
       "      <td>45</td>\n",
       "      <td>3.99</td>\n",
       "      <td>179.55</td>\n",
       "    </tr>\n",
       "    <tr>\n",
       "      <th>13</th>\n",
       "      <td>Sunday</td>\n",
       "      <td>Latte</td>\n",
       "      <td>35</td>\n",
       "      <td>5.99</td>\n",
       "      <td>209.65</td>\n",
       "    </tr>\n",
       "  </tbody>\n",
       "</table>\n",
       "</div>"
      ],
      "text/plain": [
       "          Day Coffee Type  Units Sold  new_price  revenue\n",
       "0      Monday    Espresso          25       3.99    99.75\n",
       "1      Monday       Latte          10       5.99    59.90\n",
       "2     Tuesday    Espresso          10       3.99    39.90\n",
       "3     Tuesday       Latte          10       5.99    59.90\n",
       "4   Wednesday    Espresso          35       3.99   139.65\n",
       "5   Wednesday       Latte          25       5.99   149.75\n",
       "6    Thursday    Espresso          40       3.99   159.60\n",
       "7    Thursday       Latte          30       5.99   179.70\n",
       "8      Friday    Espresso          45       3.99   179.55\n",
       "9      Friday       Latte          35       5.99   209.65\n",
       "10   Saturday    Espresso          45       3.99   179.55\n",
       "11   Saturday       Latte          35       5.99   209.65\n",
       "12     Sunday    Espresso          45       3.99   179.55\n",
       "13     Sunday       Latte          35       5.99   209.65"
      ]
     },
     "execution_count": 109,
     "metadata": {},
     "output_type": "execute_result"
    }
   ],
   "source": [
    "coffee"
   ]
  },
  {
   "cell_type": "code",
   "execution_count": null,
   "metadata": {},
   "outputs": [],
   "source": [
    "coffee.rename(columns={'new_price': 'price'}, inplace=True) "
   ]
  },
  {
   "cell_type": "code",
   "execution_count": null,
   "metadata": {},
   "outputs": [],
   "source": [
    "bios_new = bios.copy()"
   ]
  },
  {
   "cell_type": "code",
   "execution_count": null,
   "metadata": {},
   "outputs": [],
   "source": [
    "bios_new['first_name'] = bios_new['name'].str.split(' ').str[0]"
   ]
  },
  {
   "cell_type": "code",
   "execution_count": null,
   "metadata": {},
   "outputs": [],
   "source": [
    "bios_new.query('first_name == \"Keith\"')"
   ]
  },
  {
   "cell_type": "code",
   "execution_count": null,
   "metadata": {},
   "outputs": [],
   "source": [
    "bios_new['born_datetime'] = pd.to_datetime(bios_new['born_date'])"
   ]
  },
  {
   "cell_type": "code",
   "execution_count": null,
   "metadata": {},
   "outputs": [],
   "source": [
    "bios_new['born_year'] = bios_new['born_datetime'].dt.year"
   ]
  },
  {
   "cell_type": "code",
   "execution_count": null,
   "metadata": {},
   "outputs": [],
   "source": [
    "bios_new[['name','born_year']]"
   ]
  },
  {
   "cell_type": "code",
   "execution_count": null,
   "metadata": {},
   "outputs": [],
   "source": [
    "bios_new.to_csv('./data/bios_new.csv', index=False)"
   ]
  },
  {
   "cell_type": "code",
   "execution_count": null,
   "metadata": {},
   "outputs": [],
   "source": [
    "bios['height_category'] = bios['height_cm'].apply(lambda x: 'Short' if x < 165 else ('Average' if x < 185 else 'Tall'))"
   ]
  },
  {
   "cell_type": "code",
   "execution_count": 111,
   "metadata": {},
   "outputs": [],
   "source": [
    "def categorize_athlete(row):\n",
    "    if row['height_cm'] < 175 and row['weight_kg'] < 70:\n",
    "        return 'Lightweight'\n",
    "    elif row['height_cm'] < 185 or row['weight_kg'] <= 80:\n",
    "        return 'Middleweight'\n",
    "    \n",
    "    else:\n",
    "        return 'Heavyweight'\n",
    "    \n",
    "bios['Category'] = bios.apply(categorize_athlete, axis=1)"
   ]
  },
  {
   "cell_type": "code",
   "execution_count": 112,
   "metadata": {},
   "outputs": [
    {
     "data": {
      "application/vnd.microsoft.datawrangler.viewer.v0+json": {
       "columns": [
        {
         "name": "index",
         "rawType": "int64",
         "type": "integer"
        },
        {
         "name": "athlete_id",
         "rawType": "int64",
         "type": "integer"
        },
        {
         "name": "name",
         "rawType": "object",
         "type": "string"
        },
        {
         "name": "born_date",
         "rawType": "object",
         "type": "string"
        },
        {
         "name": "born_city",
         "rawType": "object",
         "type": "string"
        },
        {
         "name": "born_region",
         "rawType": "object",
         "type": "string"
        },
        {
         "name": "born_country",
         "rawType": "object",
         "type": "string"
        },
        {
         "name": "NOC",
         "rawType": "object",
         "type": "string"
        },
        {
         "name": "height_cm",
         "rawType": "float64",
         "type": "float"
        },
        {
         "name": "weight_kg",
         "rawType": "float64",
         "type": "float"
        },
        {
         "name": "died_date",
         "rawType": "object",
         "type": "unknown"
        },
        {
         "name": "Category",
         "rawType": "object",
         "type": "string"
        }
       ],
       "ref": "d83ed0f1-d880-4da6-b745-6b7784430407",
       "rows": [
        [
         "0",
         "1",
         "Jean-François Blanchy",
         "1886-12-12",
         "Bordeaux",
         "Gironde",
         "FRA",
         "France",
         null,
         null,
         "1960-10-02",
         "Heavyweight"
        ],
        [
         "1",
         "2",
         "Arnaud Boetsch",
         "1969-04-01",
         "Meulan",
         "Yvelines",
         "FRA",
         "France",
         "183.0",
         "76.0",
         null,
         "Middleweight"
        ],
        [
         "2",
         "3",
         "Jean Borotra",
         "1898-08-13",
         "Biarritz",
         "Pyrénées-Atlantiques",
         "FRA",
         "France",
         "183.0",
         "76.0",
         "1994-07-17",
         "Middleweight"
        ],
        [
         "3",
         "4",
         "Jacques Brugnon",
         "1895-05-11",
         "Paris VIIIe",
         "Paris",
         "FRA",
         "France",
         "168.0",
         "64.0",
         "1978-03-20",
         "Lightweight"
        ],
        [
         "4",
         "5",
         "Albert Canet",
         "1878-04-17",
         "Wandsworth",
         "England",
         "GBR",
         "France",
         null,
         null,
         "1930-07-25",
         "Heavyweight"
        ]
       ],
       "shape": {
        "columns": 11,
        "rows": 5
       }
      },
      "text/html": [
       "<div>\n",
       "<style scoped>\n",
       "    .dataframe tbody tr th:only-of-type {\n",
       "        vertical-align: middle;\n",
       "    }\n",
       "\n",
       "    .dataframe tbody tr th {\n",
       "        vertical-align: top;\n",
       "    }\n",
       "\n",
       "    .dataframe thead th {\n",
       "        text-align: right;\n",
       "    }\n",
       "</style>\n",
       "<table border=\"1\" class=\"dataframe\">\n",
       "  <thead>\n",
       "    <tr style=\"text-align: right;\">\n",
       "      <th></th>\n",
       "      <th>athlete_id</th>\n",
       "      <th>name</th>\n",
       "      <th>born_date</th>\n",
       "      <th>born_city</th>\n",
       "      <th>born_region</th>\n",
       "      <th>born_country</th>\n",
       "      <th>NOC</th>\n",
       "      <th>height_cm</th>\n",
       "      <th>weight_kg</th>\n",
       "      <th>died_date</th>\n",
       "      <th>Category</th>\n",
       "    </tr>\n",
       "  </thead>\n",
       "  <tbody>\n",
       "    <tr>\n",
       "      <th>0</th>\n",
       "      <td>1</td>\n",
       "      <td>Jean-François Blanchy</td>\n",
       "      <td>1886-12-12</td>\n",
       "      <td>Bordeaux</td>\n",
       "      <td>Gironde</td>\n",
       "      <td>FRA</td>\n",
       "      <td>France</td>\n",
       "      <td>NaN</td>\n",
       "      <td>NaN</td>\n",
       "      <td>1960-10-02</td>\n",
       "      <td>Heavyweight</td>\n",
       "    </tr>\n",
       "    <tr>\n",
       "      <th>1</th>\n",
       "      <td>2</td>\n",
       "      <td>Arnaud Boetsch</td>\n",
       "      <td>1969-04-01</td>\n",
       "      <td>Meulan</td>\n",
       "      <td>Yvelines</td>\n",
       "      <td>FRA</td>\n",
       "      <td>France</td>\n",
       "      <td>183.0</td>\n",
       "      <td>76.0</td>\n",
       "      <td>NaN</td>\n",
       "      <td>Middleweight</td>\n",
       "    </tr>\n",
       "    <tr>\n",
       "      <th>2</th>\n",
       "      <td>3</td>\n",
       "      <td>Jean Borotra</td>\n",
       "      <td>1898-08-13</td>\n",
       "      <td>Biarritz</td>\n",
       "      <td>Pyrénées-Atlantiques</td>\n",
       "      <td>FRA</td>\n",
       "      <td>France</td>\n",
       "      <td>183.0</td>\n",
       "      <td>76.0</td>\n",
       "      <td>1994-07-17</td>\n",
       "      <td>Middleweight</td>\n",
       "    </tr>\n",
       "    <tr>\n",
       "      <th>3</th>\n",
       "      <td>4</td>\n",
       "      <td>Jacques Brugnon</td>\n",
       "      <td>1895-05-11</td>\n",
       "      <td>Paris VIIIe</td>\n",
       "      <td>Paris</td>\n",
       "      <td>FRA</td>\n",
       "      <td>France</td>\n",
       "      <td>168.0</td>\n",
       "      <td>64.0</td>\n",
       "      <td>1978-03-20</td>\n",
       "      <td>Lightweight</td>\n",
       "    </tr>\n",
       "    <tr>\n",
       "      <th>4</th>\n",
       "      <td>5</td>\n",
       "      <td>Albert Canet</td>\n",
       "      <td>1878-04-17</td>\n",
       "      <td>Wandsworth</td>\n",
       "      <td>England</td>\n",
       "      <td>GBR</td>\n",
       "      <td>France</td>\n",
       "      <td>NaN</td>\n",
       "      <td>NaN</td>\n",
       "      <td>1930-07-25</td>\n",
       "      <td>Heavyweight</td>\n",
       "    </tr>\n",
       "  </tbody>\n",
       "</table>\n",
       "</div>"
      ],
      "text/plain": [
       "   athlete_id                   name   born_date    born_city  \\\n",
       "0           1  Jean-François Blanchy  1886-12-12     Bordeaux   \n",
       "1           2         Arnaud Boetsch  1969-04-01       Meulan   \n",
       "2           3           Jean Borotra  1898-08-13     Biarritz   \n",
       "3           4        Jacques Brugnon  1895-05-11  Paris VIIIe   \n",
       "4           5           Albert Canet  1878-04-17   Wandsworth   \n",
       "\n",
       "            born_region born_country     NOC  height_cm  weight_kg  \\\n",
       "0               Gironde          FRA  France        NaN        NaN   \n",
       "1              Yvelines          FRA  France      183.0       76.0   \n",
       "2  Pyrénées-Atlantiques          FRA  France      183.0       76.0   \n",
       "3                 Paris          FRA  France      168.0       64.0   \n",
       "4               England          GBR  France        NaN        NaN   \n",
       "\n",
       "    died_date      Category  \n",
       "0  1960-10-02   Heavyweight  \n",
       "1         NaN  Middleweight  \n",
       "2  1994-07-17  Middleweight  \n",
       "3  1978-03-20   Lightweight  \n",
       "4  1930-07-25   Heavyweight  "
      ]
     },
     "execution_count": 112,
     "metadata": {},
     "output_type": "execute_result"
    }
   ],
   "source": [
    "bios.head()"
   ]
  },
  {
   "cell_type": "markdown",
   "metadata": {},
   "source": [
    "## Merging & Concatenating Data"
   ]
  },
  {
   "cell_type": "code",
   "execution_count": 114,
   "metadata": {},
   "outputs": [],
   "source": [
    "nocs = pd.read_csv('data/external/noc_regions.csv')"
   ]
  },
  {
   "cell_type": "code",
   "execution_count": 115,
   "metadata": {},
   "outputs": [],
   "source": [
    "bios_new = pd.merge(bios, nocs, left_on='born_country', right_on='NOC', how='left')"
   ]
  },
  {
   "cell_type": "code",
   "execution_count": 116,
   "metadata": {},
   "outputs": [],
   "source": [
    "bios_new.rename(columns={'region': 'born_country_full'}, inplace=True)"
   ]
  },
  {
   "cell_type": "code",
   "execution_count": 117,
   "metadata": {},
   "outputs": [],
   "source": [
    "usa = bios[bios['born_country']=='USA'].copy()\n",
    "gbr = bios[bios['born_country']=='GBR'].copy()"
   ]
  },
  {
   "cell_type": "code",
   "execution_count": 118,
   "metadata": {},
   "outputs": [],
   "source": [
    "new_df = pd.concat([usa,gbr])"
   ]
  },
  {
   "cell_type": "code",
   "execution_count": 119,
   "metadata": {},
   "outputs": [
    {
     "data": {
      "application/vnd.microsoft.datawrangler.viewer.v0+json": {
       "columns": [
        {
         "name": "index",
         "rawType": "int64",
         "type": "integer"
        },
        {
         "name": "athlete_id",
         "rawType": "int64",
         "type": "integer"
        },
        {
         "name": "name",
         "rawType": "object",
         "type": "string"
        },
        {
         "name": "born_date",
         "rawType": "object",
         "type": "string"
        },
        {
         "name": "born_city",
         "rawType": "object",
         "type": "string"
        },
        {
         "name": "born_region",
         "rawType": "object",
         "type": "string"
        },
        {
         "name": "born_country",
         "rawType": "object",
         "type": "string"
        },
        {
         "name": "NOC",
         "rawType": "object",
         "type": "string"
        },
        {
         "name": "height_cm",
         "rawType": "float64",
         "type": "float"
        },
        {
         "name": "weight_kg",
         "rawType": "float64",
         "type": "float"
        },
        {
         "name": "died_date",
         "rawType": "object",
         "type": "unknown"
        },
        {
         "name": "Category",
         "rawType": "object",
         "type": "string"
        }
       ],
       "ref": "a66d230b-e958-42ea-9156-bae62b70646a",
       "rows": [
        [
         "144811",
         "148512",
         "Benjamin Alexander",
         "1983-05-08",
         "London",
         "England",
         "GBR",
         "Jamaica",
         null,
         null,
         null,
         "Heavyweight"
        ],
        [
         "144815",
         "148517",
         "Ashley Watson",
         "1993-10-28",
         "Peterborough",
         "England",
         "GBR",
         "Jamaica",
         null,
         null,
         null,
         "Heavyweight"
        ],
        [
         "145005",
         "148716",
         "Peder Kongshaug",
         "2001-08-13",
         "Wimbledon",
         "England",
         "GBR",
         "Norway",
         "184.0",
         "86.0",
         null,
         "Middleweight"
        ],
        [
         "145319",
         "149041",
         "Axel Brown",
         "1992-04-02",
         "Harrogate",
         "England",
         "GBR",
         "Trinidad and Tobago",
         null,
         null,
         null,
         "Heavyweight"
        ],
        [
         "145388",
         "149111",
         "Jean-Luc Baker",
         "1993-10-07",
         "Burnley",
         "England",
         "GBR",
         "United States",
         null,
         null,
         null,
         "Heavyweight"
        ]
       ],
       "shape": {
        "columns": 11,
        "rows": 5
       }
      },
      "text/html": [
       "<div>\n",
       "<style scoped>\n",
       "    .dataframe tbody tr th:only-of-type {\n",
       "        vertical-align: middle;\n",
       "    }\n",
       "\n",
       "    .dataframe tbody tr th {\n",
       "        vertical-align: top;\n",
       "    }\n",
       "\n",
       "    .dataframe thead th {\n",
       "        text-align: right;\n",
       "    }\n",
       "</style>\n",
       "<table border=\"1\" class=\"dataframe\">\n",
       "  <thead>\n",
       "    <tr style=\"text-align: right;\">\n",
       "      <th></th>\n",
       "      <th>athlete_id</th>\n",
       "      <th>name</th>\n",
       "      <th>born_date</th>\n",
       "      <th>born_city</th>\n",
       "      <th>born_region</th>\n",
       "      <th>born_country</th>\n",
       "      <th>NOC</th>\n",
       "      <th>height_cm</th>\n",
       "      <th>weight_kg</th>\n",
       "      <th>died_date</th>\n",
       "      <th>Category</th>\n",
       "    </tr>\n",
       "  </thead>\n",
       "  <tbody>\n",
       "    <tr>\n",
       "      <th>144811</th>\n",
       "      <td>148512</td>\n",
       "      <td>Benjamin Alexander</td>\n",
       "      <td>1983-05-08</td>\n",
       "      <td>London</td>\n",
       "      <td>England</td>\n",
       "      <td>GBR</td>\n",
       "      <td>Jamaica</td>\n",
       "      <td>NaN</td>\n",
       "      <td>NaN</td>\n",
       "      <td>NaN</td>\n",
       "      <td>Heavyweight</td>\n",
       "    </tr>\n",
       "    <tr>\n",
       "      <th>144815</th>\n",
       "      <td>148517</td>\n",
       "      <td>Ashley Watson</td>\n",
       "      <td>1993-10-28</td>\n",
       "      <td>Peterborough</td>\n",
       "      <td>England</td>\n",
       "      <td>GBR</td>\n",
       "      <td>Jamaica</td>\n",
       "      <td>NaN</td>\n",
       "      <td>NaN</td>\n",
       "      <td>NaN</td>\n",
       "      <td>Heavyweight</td>\n",
       "    </tr>\n",
       "    <tr>\n",
       "      <th>145005</th>\n",
       "      <td>148716</td>\n",
       "      <td>Peder Kongshaug</td>\n",
       "      <td>2001-08-13</td>\n",
       "      <td>Wimbledon</td>\n",
       "      <td>England</td>\n",
       "      <td>GBR</td>\n",
       "      <td>Norway</td>\n",
       "      <td>184.0</td>\n",
       "      <td>86.0</td>\n",
       "      <td>NaN</td>\n",
       "      <td>Middleweight</td>\n",
       "    </tr>\n",
       "    <tr>\n",
       "      <th>145319</th>\n",
       "      <td>149041</td>\n",
       "      <td>Axel Brown</td>\n",
       "      <td>1992-04-02</td>\n",
       "      <td>Harrogate</td>\n",
       "      <td>England</td>\n",
       "      <td>GBR</td>\n",
       "      <td>Trinidad and Tobago</td>\n",
       "      <td>NaN</td>\n",
       "      <td>NaN</td>\n",
       "      <td>NaN</td>\n",
       "      <td>Heavyweight</td>\n",
       "    </tr>\n",
       "    <tr>\n",
       "      <th>145388</th>\n",
       "      <td>149111</td>\n",
       "      <td>Jean-Luc Baker</td>\n",
       "      <td>1993-10-07</td>\n",
       "      <td>Burnley</td>\n",
       "      <td>England</td>\n",
       "      <td>GBR</td>\n",
       "      <td>United States</td>\n",
       "      <td>NaN</td>\n",
       "      <td>NaN</td>\n",
       "      <td>NaN</td>\n",
       "      <td>Heavyweight</td>\n",
       "    </tr>\n",
       "  </tbody>\n",
       "</table>\n",
       "</div>"
      ],
      "text/plain": [
       "        athlete_id                name   born_date     born_city born_region  \\\n",
       "144811      148512  Benjamin Alexander  1983-05-08        London     England   \n",
       "144815      148517       Ashley Watson  1993-10-28  Peterborough     England   \n",
       "145005      148716     Peder Kongshaug  2001-08-13     Wimbledon     England   \n",
       "145319      149041          Axel Brown  1992-04-02     Harrogate     England   \n",
       "145388      149111      Jean-Luc Baker  1993-10-07       Burnley     England   \n",
       "\n",
       "       born_country                  NOC  height_cm  weight_kg died_date  \\\n",
       "144811          GBR              Jamaica        NaN        NaN       NaN   \n",
       "144815          GBR              Jamaica        NaN        NaN       NaN   \n",
       "145005          GBR               Norway      184.0       86.0       NaN   \n",
       "145319          GBR  Trinidad and Tobago        NaN        NaN       NaN   \n",
       "145388          GBR        United States        NaN        NaN       NaN   \n",
       "\n",
       "            Category  \n",
       "144811   Heavyweight  \n",
       "144815   Heavyweight  \n",
       "145005  Middleweight  \n",
       "145319   Heavyweight  \n",
       "145388   Heavyweight  "
      ]
     },
     "execution_count": 119,
     "metadata": {},
     "output_type": "execute_result"
    }
   ],
   "source": [
    "new_df.tail()"
   ]
  },
  {
   "cell_type": "code",
   "execution_count": 120,
   "metadata": {},
   "outputs": [],
   "source": [
    "combined_df = pd.merge(results, bios, on='athlete_id', how='left')"
   ]
  },
  {
   "cell_type": "code",
   "execution_count": 121,
   "metadata": {},
   "outputs": [
    {
     "data": {
      "application/vnd.microsoft.datawrangler.viewer.v0+json": {
       "columns": [
        {
         "name": "index",
         "rawType": "int64",
         "type": "integer"
        },
        {
         "name": "year",
         "rawType": "float64",
         "type": "float"
        },
        {
         "name": "type",
         "rawType": "object",
         "type": "string"
        },
        {
         "name": "discipline",
         "rawType": "object",
         "type": "string"
        },
        {
         "name": "event",
         "rawType": "object",
         "type": "string"
        },
        {
         "name": "as",
         "rawType": "object",
         "type": "string"
        },
        {
         "name": "athlete_id",
         "rawType": "int64",
         "type": "integer"
        },
        {
         "name": "noc",
         "rawType": "object",
         "type": "string"
        },
        {
         "name": "team",
         "rawType": "object",
         "type": "unknown"
        },
        {
         "name": "place",
         "rawType": "float64",
         "type": "float"
        },
        {
         "name": "tied",
         "rawType": "bool",
         "type": "boolean"
        },
        {
         "name": "medal",
         "rawType": "object",
         "type": "unknown"
        },
        {
         "name": "name",
         "rawType": "object",
         "type": "string"
        },
        {
         "name": "born_date",
         "rawType": "object",
         "type": "string"
        },
        {
         "name": "born_city",
         "rawType": "object",
         "type": "string"
        },
        {
         "name": "born_region",
         "rawType": "object",
         "type": "string"
        },
        {
         "name": "born_country",
         "rawType": "object",
         "type": "string"
        },
        {
         "name": "NOC",
         "rawType": "object",
         "type": "string"
        },
        {
         "name": "height_cm",
         "rawType": "float64",
         "type": "float"
        },
        {
         "name": "weight_kg",
         "rawType": "float64",
         "type": "float"
        },
        {
         "name": "died_date",
         "rawType": "object",
         "type": "string"
        },
        {
         "name": "Category",
         "rawType": "object",
         "type": "string"
        }
       ],
       "ref": "066023c5-3c5d-46c2-aac0-bb169d1ebdd0",
       "rows": [
        [
         "0",
         "1912.0",
         "Summer",
         "Tennis",
         "Singles, Men (Olympic)",
         "Jean-François Blanchy",
         "1",
         "FRA",
         null,
         "17.0",
         "True",
         null,
         "Jean-François Blanchy",
         "1886-12-12",
         "Bordeaux",
         "Gironde",
         "FRA",
         "France",
         null,
         null,
         "1960-10-02",
         "Heavyweight"
        ],
        [
         "1",
         "1912.0",
         "Summer",
         "Tennis",
         "Doubles, Men (Olympic)",
         "Jean-François Blanchy",
         "1",
         "FRA",
         "Jean Montariol",
         null,
         "False",
         null,
         "Jean-François Blanchy",
         "1886-12-12",
         "Bordeaux",
         "Gironde",
         "FRA",
         "France",
         null,
         null,
         "1960-10-02",
         "Heavyweight"
        ],
        [
         "2",
         "1920.0",
         "Summer",
         "Tennis",
         "Singles, Men (Olympic)",
         "Jean-François Blanchy",
         "1",
         "FRA",
         null,
         "32.0",
         "True",
         null,
         "Jean-François Blanchy",
         "1886-12-12",
         "Bordeaux",
         "Gironde",
         "FRA",
         "France",
         null,
         null,
         "1960-10-02",
         "Heavyweight"
        ],
        [
         "3",
         "1920.0",
         "Summer",
         "Tennis",
         "Doubles, Mixed (Olympic)",
         "Jean-François Blanchy",
         "1",
         "FRA",
         "Jeanne Vaussard",
         "8.0",
         "True",
         null,
         "Jean-François Blanchy",
         "1886-12-12",
         "Bordeaux",
         "Gironde",
         "FRA",
         "France",
         null,
         null,
         "1960-10-02",
         "Heavyweight"
        ],
        [
         "4",
         "1920.0",
         "Summer",
         "Tennis",
         "Doubles, Men (Olympic)",
         "Jean-François Blanchy",
         "1",
         "FRA",
         "Jacques Brugnon",
         "4.0",
         "False",
         null,
         "Jean-François Blanchy",
         "1886-12-12",
         "Bordeaux",
         "Gironde",
         "FRA",
         "France",
         null,
         null,
         "1960-10-02",
         "Heavyweight"
        ]
       ],
       "shape": {
        "columns": 21,
        "rows": 5
       }
      },
      "text/html": [
       "<div>\n",
       "<style scoped>\n",
       "    .dataframe tbody tr th:only-of-type {\n",
       "        vertical-align: middle;\n",
       "    }\n",
       "\n",
       "    .dataframe tbody tr th {\n",
       "        vertical-align: top;\n",
       "    }\n",
       "\n",
       "    .dataframe thead th {\n",
       "        text-align: right;\n",
       "    }\n",
       "</style>\n",
       "<table border=\"1\" class=\"dataframe\">\n",
       "  <thead>\n",
       "    <tr style=\"text-align: right;\">\n",
       "      <th></th>\n",
       "      <th>year</th>\n",
       "      <th>type</th>\n",
       "      <th>discipline</th>\n",
       "      <th>event</th>\n",
       "      <th>as</th>\n",
       "      <th>athlete_id</th>\n",
       "      <th>noc</th>\n",
       "      <th>team</th>\n",
       "      <th>place</th>\n",
       "      <th>tied</th>\n",
       "      <th>...</th>\n",
       "      <th>name</th>\n",
       "      <th>born_date</th>\n",
       "      <th>born_city</th>\n",
       "      <th>born_region</th>\n",
       "      <th>born_country</th>\n",
       "      <th>NOC</th>\n",
       "      <th>height_cm</th>\n",
       "      <th>weight_kg</th>\n",
       "      <th>died_date</th>\n",
       "      <th>Category</th>\n",
       "    </tr>\n",
       "  </thead>\n",
       "  <tbody>\n",
       "    <tr>\n",
       "      <th>0</th>\n",
       "      <td>1912.0</td>\n",
       "      <td>Summer</td>\n",
       "      <td>Tennis</td>\n",
       "      <td>Singles, Men (Olympic)</td>\n",
       "      <td>Jean-François Blanchy</td>\n",
       "      <td>1</td>\n",
       "      <td>FRA</td>\n",
       "      <td>None</td>\n",
       "      <td>17.0</td>\n",
       "      <td>True</td>\n",
       "      <td>...</td>\n",
       "      <td>Jean-François Blanchy</td>\n",
       "      <td>1886-12-12</td>\n",
       "      <td>Bordeaux</td>\n",
       "      <td>Gironde</td>\n",
       "      <td>FRA</td>\n",
       "      <td>France</td>\n",
       "      <td>NaN</td>\n",
       "      <td>NaN</td>\n",
       "      <td>1960-10-02</td>\n",
       "      <td>Heavyweight</td>\n",
       "    </tr>\n",
       "    <tr>\n",
       "      <th>1</th>\n",
       "      <td>1912.0</td>\n",
       "      <td>Summer</td>\n",
       "      <td>Tennis</td>\n",
       "      <td>Doubles, Men (Olympic)</td>\n",
       "      <td>Jean-François Blanchy</td>\n",
       "      <td>1</td>\n",
       "      <td>FRA</td>\n",
       "      <td>Jean Montariol</td>\n",
       "      <td>NaN</td>\n",
       "      <td>False</td>\n",
       "      <td>...</td>\n",
       "      <td>Jean-François Blanchy</td>\n",
       "      <td>1886-12-12</td>\n",
       "      <td>Bordeaux</td>\n",
       "      <td>Gironde</td>\n",
       "      <td>FRA</td>\n",
       "      <td>France</td>\n",
       "      <td>NaN</td>\n",
       "      <td>NaN</td>\n",
       "      <td>1960-10-02</td>\n",
       "      <td>Heavyweight</td>\n",
       "    </tr>\n",
       "    <tr>\n",
       "      <th>2</th>\n",
       "      <td>1920.0</td>\n",
       "      <td>Summer</td>\n",
       "      <td>Tennis</td>\n",
       "      <td>Singles, Men (Olympic)</td>\n",
       "      <td>Jean-François Blanchy</td>\n",
       "      <td>1</td>\n",
       "      <td>FRA</td>\n",
       "      <td>None</td>\n",
       "      <td>32.0</td>\n",
       "      <td>True</td>\n",
       "      <td>...</td>\n",
       "      <td>Jean-François Blanchy</td>\n",
       "      <td>1886-12-12</td>\n",
       "      <td>Bordeaux</td>\n",
       "      <td>Gironde</td>\n",
       "      <td>FRA</td>\n",
       "      <td>France</td>\n",
       "      <td>NaN</td>\n",
       "      <td>NaN</td>\n",
       "      <td>1960-10-02</td>\n",
       "      <td>Heavyweight</td>\n",
       "    </tr>\n",
       "    <tr>\n",
       "      <th>3</th>\n",
       "      <td>1920.0</td>\n",
       "      <td>Summer</td>\n",
       "      <td>Tennis</td>\n",
       "      <td>Doubles, Mixed (Olympic)</td>\n",
       "      <td>Jean-François Blanchy</td>\n",
       "      <td>1</td>\n",
       "      <td>FRA</td>\n",
       "      <td>Jeanne Vaussard</td>\n",
       "      <td>8.0</td>\n",
       "      <td>True</td>\n",
       "      <td>...</td>\n",
       "      <td>Jean-François Blanchy</td>\n",
       "      <td>1886-12-12</td>\n",
       "      <td>Bordeaux</td>\n",
       "      <td>Gironde</td>\n",
       "      <td>FRA</td>\n",
       "      <td>France</td>\n",
       "      <td>NaN</td>\n",
       "      <td>NaN</td>\n",
       "      <td>1960-10-02</td>\n",
       "      <td>Heavyweight</td>\n",
       "    </tr>\n",
       "    <tr>\n",
       "      <th>4</th>\n",
       "      <td>1920.0</td>\n",
       "      <td>Summer</td>\n",
       "      <td>Tennis</td>\n",
       "      <td>Doubles, Men (Olympic)</td>\n",
       "      <td>Jean-François Blanchy</td>\n",
       "      <td>1</td>\n",
       "      <td>FRA</td>\n",
       "      <td>Jacques Brugnon</td>\n",
       "      <td>4.0</td>\n",
       "      <td>False</td>\n",
       "      <td>...</td>\n",
       "      <td>Jean-François Blanchy</td>\n",
       "      <td>1886-12-12</td>\n",
       "      <td>Bordeaux</td>\n",
       "      <td>Gironde</td>\n",
       "      <td>FRA</td>\n",
       "      <td>France</td>\n",
       "      <td>NaN</td>\n",
       "      <td>NaN</td>\n",
       "      <td>1960-10-02</td>\n",
       "      <td>Heavyweight</td>\n",
       "    </tr>\n",
       "  </tbody>\n",
       "</table>\n",
       "<p>5 rows × 21 columns</p>\n",
       "</div>"
      ],
      "text/plain": [
       "     year    type discipline                     event                     as  \\\n",
       "0  1912.0  Summer     Tennis    Singles, Men (Olympic)  Jean-François Blanchy   \n",
       "1  1912.0  Summer     Tennis    Doubles, Men (Olympic)  Jean-François Blanchy   \n",
       "2  1920.0  Summer     Tennis    Singles, Men (Olympic)  Jean-François Blanchy   \n",
       "3  1920.0  Summer     Tennis  Doubles, Mixed (Olympic)  Jean-François Blanchy   \n",
       "4  1920.0  Summer     Tennis    Doubles, Men (Olympic)  Jean-François Blanchy   \n",
       "\n",
       "   athlete_id  noc             team  place   tied  ...                   name  \\\n",
       "0           1  FRA             None   17.0   True  ...  Jean-François Blanchy   \n",
       "1           1  FRA   Jean Montariol    NaN  False  ...  Jean-François Blanchy   \n",
       "2           1  FRA             None   32.0   True  ...  Jean-François Blanchy   \n",
       "3           1  FRA  Jeanne Vaussard    8.0   True  ...  Jean-François Blanchy   \n",
       "4           1  FRA  Jacques Brugnon    4.0  False  ...  Jean-François Blanchy   \n",
       "\n",
       "    born_date born_city born_region born_country     NOC height_cm  weight_kg  \\\n",
       "0  1886-12-12  Bordeaux     Gironde          FRA  France       NaN        NaN   \n",
       "1  1886-12-12  Bordeaux     Gironde          FRA  France       NaN        NaN   \n",
       "2  1886-12-12  Bordeaux     Gironde          FRA  France       NaN        NaN   \n",
       "3  1886-12-12  Bordeaux     Gironde          FRA  France       NaN        NaN   \n",
       "4  1886-12-12  Bordeaux     Gironde          FRA  France       NaN        NaN   \n",
       "\n",
       "    died_date     Category  \n",
       "0  1960-10-02  Heavyweight  \n",
       "1  1960-10-02  Heavyweight  \n",
       "2  1960-10-02  Heavyweight  \n",
       "3  1960-10-02  Heavyweight  \n",
       "4  1960-10-02  Heavyweight  \n",
       "\n",
       "[5 rows x 21 columns]"
      ]
     },
     "execution_count": 121,
     "metadata": {},
     "output_type": "execute_result"
    }
   ],
   "source": [
    "combined_df.head()"
   ]
  },
  {
   "cell_type": "markdown",
   "metadata": {},
   "source": [
    "## Handling Null Values"
   ]
  },
  {
   "cell_type": "code",
   "execution_count": 122,
   "metadata": {},
   "outputs": [],
   "source": [
    "coffee.loc[[2,3], 'Units Sold'] = np.nan"
   ]
  },
  {
   "cell_type": "code",
   "execution_count": 123,
   "metadata": {},
   "outputs": [
    {
     "data": {
      "application/vnd.microsoft.datawrangler.viewer.v0+json": {
       "columns": [
        {
         "name": "index",
         "rawType": "int64",
         "type": "integer"
        },
        {
         "name": "Units Sold",
         "rawType": "float64",
         "type": "float"
        }
       ],
       "ref": "b6faa744-eb99-4c55-b75e-f926d07ae06a",
       "rows": [
        [
         "0",
         "25.0"
        ],
        [
         "1",
         "10.0"
        ],
        [
         "2",
         "33.75"
        ],
        [
         "3",
         "33.75"
        ],
        [
         "4",
         "35.0"
        ],
        [
         "5",
         "25.0"
        ],
        [
         "6",
         "40.0"
        ],
        [
         "7",
         "30.0"
        ],
        [
         "8",
         "45.0"
        ],
        [
         "9",
         "35.0"
        ],
        [
         "10",
         "45.0"
        ],
        [
         "11",
         "35.0"
        ],
        [
         "12",
         "45.0"
        ],
        [
         "13",
         "35.0"
        ]
       ],
       "shape": {
        "columns": 1,
        "rows": 14
       }
      },
      "text/plain": [
       "0     25.00\n",
       "1     10.00\n",
       "2     33.75\n",
       "3     33.75\n",
       "4     35.00\n",
       "5     25.00\n",
       "6     40.00\n",
       "7     30.00\n",
       "8     45.00\n",
       "9     35.00\n",
       "10    45.00\n",
       "11    35.00\n",
       "12    45.00\n",
       "13    35.00\n",
       "Name: Units Sold, dtype: float64"
      ]
     },
     "execution_count": 123,
     "metadata": {},
     "output_type": "execute_result"
    }
   ],
   "source": [
    "# Make sure to set this to your Units Sold column if you want these changes to stick\n",
    "coffee['Units Sold'].fillna(coffee['Units Sold'].mean()) "
   ]
  },
  {
   "cell_type": "code",
   "execution_count": 124,
   "metadata": {},
   "outputs": [
    {
     "data": {
      "application/vnd.microsoft.datawrangler.viewer.v0+json": {
       "columns": [
        {
         "name": "index",
         "rawType": "int64",
         "type": "integer"
        },
        {
         "name": "Units Sold",
         "rawType": "float64",
         "type": "float"
        }
       ],
       "ref": "e2881e3d-2df6-46ed-a579-47e90e781c28",
       "rows": [
        [
         "0",
         "25.0"
        ],
        [
         "1",
         "10.0"
        ],
        [
         "2",
         "18.333333333333336"
        ],
        [
         "3",
         "26.666666666666668"
        ],
        [
         "4",
         "35.0"
        ],
        [
         "5",
         "25.0"
        ],
        [
         "6",
         "40.0"
        ],
        [
         "7",
         "30.0"
        ],
        [
         "8",
         "45.0"
        ],
        [
         "9",
         "35.0"
        ],
        [
         "10",
         "45.0"
        ],
        [
         "11",
         "35.0"
        ],
        [
         "12",
         "45.0"
        ],
        [
         "13",
         "35.0"
        ]
       ],
       "shape": {
        "columns": 1,
        "rows": 14
       }
      },
      "text/plain": [
       "0     25.000000\n",
       "1     10.000000\n",
       "2     18.333333\n",
       "3     26.666667\n",
       "4     35.000000\n",
       "5     25.000000\n",
       "6     40.000000\n",
       "7     30.000000\n",
       "8     45.000000\n",
       "9     35.000000\n",
       "10    45.000000\n",
       "11    35.000000\n",
       "12    45.000000\n",
       "13    35.000000\n",
       "Name: Units Sold, dtype: float64"
      ]
     },
     "execution_count": 124,
     "metadata": {},
     "output_type": "execute_result"
    }
   ],
   "source": [
    "# coffee['Units Sold'] = coffee['Units Sold'].interpolate()\n",
    "coffee['Units Sold'].interpolate()"
   ]
  },
  {
   "cell_type": "code",
   "execution_count": 126,
   "metadata": {},
   "outputs": [
    {
     "data": {
      "application/vnd.microsoft.datawrangler.viewer.v0+json": {
       "columns": [
        {
         "name": "index",
         "rawType": "int64",
         "type": "integer"
        },
        {
         "name": "Day",
         "rawType": "object",
         "type": "string"
        },
        {
         "name": "Coffee Type",
         "rawType": "object",
         "type": "string"
        },
        {
         "name": "Units Sold",
         "rawType": "float64",
         "type": "float"
        },
        {
         "name": "price",
         "rawType": "float64",
         "type": "float"
        },
        {
         "name": "revenue",
         "rawType": "float64",
         "type": "float"
        }
       ],
       "ref": "88edfa70-01c3-479e-b3d0-afdbffd4de89",
       "rows": [
        [
         "0",
         "Monday",
         "Espresso",
         "25.0",
         "3.99",
         "99.75"
        ],
        [
         "1",
         "Monday",
         "Latte",
         "10.0",
         "5.99",
         "59.900000000000006"
        ],
        [
         "4",
         "Wednesday",
         "Espresso",
         "35.0",
         "3.99",
         "139.65"
        ],
        [
         "5",
         "Wednesday",
         "Latte",
         "25.0",
         "5.99",
         "149.75"
        ],
        [
         "6",
         "Thursday",
         "Espresso",
         "40.0",
         "3.99",
         "159.60000000000002"
        ],
        [
         "7",
         "Thursday",
         "Latte",
         "30.0",
         "5.99",
         "179.70000000000002"
        ],
        [
         "8",
         "Friday",
         "Espresso",
         "45.0",
         "3.99",
         "179.55"
        ],
        [
         "9",
         "Friday",
         "Latte",
         "35.0",
         "5.99",
         "209.65"
        ],
        [
         "10",
         "Saturday",
         "Espresso",
         "45.0",
         "3.99",
         "179.55"
        ],
        [
         "11",
         "Saturday",
         "Latte",
         "35.0",
         "5.99",
         "209.65"
        ],
        [
         "12",
         "Sunday",
         "Espresso",
         "45.0",
         "3.99",
         "179.55"
        ],
        [
         "13",
         "Sunday",
         "Latte",
         "35.0",
         "5.99",
         "209.65"
        ]
       ],
       "shape": {
        "columns": 5,
        "rows": 12
       }
      },
      "text/html": [
       "<div>\n",
       "<style scoped>\n",
       "    .dataframe tbody tr th:only-of-type {\n",
       "        vertical-align: middle;\n",
       "    }\n",
       "\n",
       "    .dataframe tbody tr th {\n",
       "        vertical-align: top;\n",
       "    }\n",
       "\n",
       "    .dataframe thead th {\n",
       "        text-align: right;\n",
       "    }\n",
       "</style>\n",
       "<table border=\"1\" class=\"dataframe\">\n",
       "  <thead>\n",
       "    <tr style=\"text-align: right;\">\n",
       "      <th></th>\n",
       "      <th>Day</th>\n",
       "      <th>Coffee Type</th>\n",
       "      <th>Units Sold</th>\n",
       "      <th>price</th>\n",
       "      <th>revenue</th>\n",
       "    </tr>\n",
       "  </thead>\n",
       "  <tbody>\n",
       "    <tr>\n",
       "      <th>0</th>\n",
       "      <td>Monday</td>\n",
       "      <td>Espresso</td>\n",
       "      <td>25.0</td>\n",
       "      <td>3.99</td>\n",
       "      <td>99.75</td>\n",
       "    </tr>\n",
       "    <tr>\n",
       "      <th>1</th>\n",
       "      <td>Monday</td>\n",
       "      <td>Latte</td>\n",
       "      <td>10.0</td>\n",
       "      <td>5.99</td>\n",
       "      <td>59.90</td>\n",
       "    </tr>\n",
       "    <tr>\n",
       "      <th>4</th>\n",
       "      <td>Wednesday</td>\n",
       "      <td>Espresso</td>\n",
       "      <td>35.0</td>\n",
       "      <td>3.99</td>\n",
       "      <td>139.65</td>\n",
       "    </tr>\n",
       "    <tr>\n",
       "      <th>5</th>\n",
       "      <td>Wednesday</td>\n",
       "      <td>Latte</td>\n",
       "      <td>25.0</td>\n",
       "      <td>5.99</td>\n",
       "      <td>149.75</td>\n",
       "    </tr>\n",
       "    <tr>\n",
       "      <th>6</th>\n",
       "      <td>Thursday</td>\n",
       "      <td>Espresso</td>\n",
       "      <td>40.0</td>\n",
       "      <td>3.99</td>\n",
       "      <td>159.60</td>\n",
       "    </tr>\n",
       "    <tr>\n",
       "      <th>7</th>\n",
       "      <td>Thursday</td>\n",
       "      <td>Latte</td>\n",
       "      <td>30.0</td>\n",
       "      <td>5.99</td>\n",
       "      <td>179.70</td>\n",
       "    </tr>\n",
       "    <tr>\n",
       "      <th>8</th>\n",
       "      <td>Friday</td>\n",
       "      <td>Espresso</td>\n",
       "      <td>45.0</td>\n",
       "      <td>3.99</td>\n",
       "      <td>179.55</td>\n",
       "    </tr>\n",
       "    <tr>\n",
       "      <th>9</th>\n",
       "      <td>Friday</td>\n",
       "      <td>Latte</td>\n",
       "      <td>35.0</td>\n",
       "      <td>5.99</td>\n",
       "      <td>209.65</td>\n",
       "    </tr>\n",
       "    <tr>\n",
       "      <th>10</th>\n",
       "      <td>Saturday</td>\n",
       "      <td>Espresso</td>\n",
       "      <td>45.0</td>\n",
       "      <td>3.99</td>\n",
       "      <td>179.55</td>\n",
       "    </tr>\n",
       "    <tr>\n",
       "      <th>11</th>\n",
       "      <td>Saturday</td>\n",
       "      <td>Latte</td>\n",
       "      <td>35.0</td>\n",
       "      <td>5.99</td>\n",
       "      <td>209.65</td>\n",
       "    </tr>\n",
       "    <tr>\n",
       "      <th>12</th>\n",
       "      <td>Sunday</td>\n",
       "      <td>Espresso</td>\n",
       "      <td>45.0</td>\n",
       "      <td>3.99</td>\n",
       "      <td>179.55</td>\n",
       "    </tr>\n",
       "    <tr>\n",
       "      <th>13</th>\n",
       "      <td>Sunday</td>\n",
       "      <td>Latte</td>\n",
       "      <td>35.0</td>\n",
       "      <td>5.99</td>\n",
       "      <td>209.65</td>\n",
       "    </tr>\n",
       "  </tbody>\n",
       "</table>\n",
       "</div>"
      ],
      "text/plain": [
       "          Day Coffee Type  Units Sold  price  revenue\n",
       "0      Monday    Espresso        25.0   3.99    99.75\n",
       "1      Monday       Latte        10.0   5.99    59.90\n",
       "4   Wednesday    Espresso        35.0   3.99   139.65\n",
       "5   Wednesday       Latte        25.0   5.99   149.75\n",
       "6    Thursday    Espresso        40.0   3.99   159.60\n",
       "7    Thursday       Latte        30.0   5.99   179.70\n",
       "8      Friday    Espresso        45.0   3.99   179.55\n",
       "9      Friday       Latte        35.0   5.99   209.65\n",
       "10   Saturday    Espresso        45.0   3.99   179.55\n",
       "11   Saturday       Latte        35.0   5.99   209.65\n",
       "12     Sunday    Espresso        45.0   3.99   179.55\n",
       "13     Sunday       Latte        35.0   5.99   209.65"
      ]
     },
     "execution_count": 126,
     "metadata": {},
     "output_type": "execute_result"
    }
   ],
   "source": [
    "coffee.dropna(subset=['Units Sold']) # Use inplace=True if you want to update the coffee df"
   ]
  },
  {
   "cell_type": "code",
   "execution_count": 127,
   "metadata": {},
   "outputs": [
    {
     "data": {
      "application/vnd.microsoft.datawrangler.viewer.v0+json": {
       "columns": [
        {
         "name": "index",
         "rawType": "int64",
         "type": "integer"
        },
        {
         "name": "Day",
         "rawType": "object",
         "type": "string"
        },
        {
         "name": "Coffee Type",
         "rawType": "object",
         "type": "string"
        },
        {
         "name": "Units Sold",
         "rawType": "float64",
         "type": "float"
        },
        {
         "name": "price",
         "rawType": "float64",
         "type": "float"
        },
        {
         "name": "revenue",
         "rawType": "float64",
         "type": "float"
        }
       ],
       "ref": "817b4f1b-287e-4f6b-bc15-ebab3cb27e9a",
       "rows": [
        [
         "0",
         "Monday",
         "Espresso",
         "25.0",
         "3.99",
         "99.75"
        ],
        [
         "1",
         "Monday",
         "Latte",
         "10.0",
         "5.99",
         "59.900000000000006"
        ],
        [
         "4",
         "Wednesday",
         "Espresso",
         "35.0",
         "3.99",
         "139.65"
        ],
        [
         "5",
         "Wednesday",
         "Latte",
         "25.0",
         "5.99",
         "149.75"
        ],
        [
         "6",
         "Thursday",
         "Espresso",
         "40.0",
         "3.99",
         "159.60000000000002"
        ],
        [
         "7",
         "Thursday",
         "Latte",
         "30.0",
         "5.99",
         "179.70000000000002"
        ],
        [
         "8",
         "Friday",
         "Espresso",
         "45.0",
         "3.99",
         "179.55"
        ],
        [
         "9",
         "Friday",
         "Latte",
         "35.0",
         "5.99",
         "209.65"
        ],
        [
         "10",
         "Saturday",
         "Espresso",
         "45.0",
         "3.99",
         "179.55"
        ],
        [
         "11",
         "Saturday",
         "Latte",
         "35.0",
         "5.99",
         "209.65"
        ],
        [
         "12",
         "Sunday",
         "Espresso",
         "45.0",
         "3.99",
         "179.55"
        ],
        [
         "13",
         "Sunday",
         "Latte",
         "35.0",
         "5.99",
         "209.65"
        ]
       ],
       "shape": {
        "columns": 5,
        "rows": 12
       }
      },
      "text/html": [
       "<div>\n",
       "<style scoped>\n",
       "    .dataframe tbody tr th:only-of-type {\n",
       "        vertical-align: middle;\n",
       "    }\n",
       "\n",
       "    .dataframe tbody tr th {\n",
       "        vertical-align: top;\n",
       "    }\n",
       "\n",
       "    .dataframe thead th {\n",
       "        text-align: right;\n",
       "    }\n",
       "</style>\n",
       "<table border=\"1\" class=\"dataframe\">\n",
       "  <thead>\n",
       "    <tr style=\"text-align: right;\">\n",
       "      <th></th>\n",
       "      <th>Day</th>\n",
       "      <th>Coffee Type</th>\n",
       "      <th>Units Sold</th>\n",
       "      <th>price</th>\n",
       "      <th>revenue</th>\n",
       "    </tr>\n",
       "  </thead>\n",
       "  <tbody>\n",
       "    <tr>\n",
       "      <th>0</th>\n",
       "      <td>Monday</td>\n",
       "      <td>Espresso</td>\n",
       "      <td>25.0</td>\n",
       "      <td>3.99</td>\n",
       "      <td>99.75</td>\n",
       "    </tr>\n",
       "    <tr>\n",
       "      <th>1</th>\n",
       "      <td>Monday</td>\n",
       "      <td>Latte</td>\n",
       "      <td>10.0</td>\n",
       "      <td>5.99</td>\n",
       "      <td>59.90</td>\n",
       "    </tr>\n",
       "    <tr>\n",
       "      <th>4</th>\n",
       "      <td>Wednesday</td>\n",
       "      <td>Espresso</td>\n",
       "      <td>35.0</td>\n",
       "      <td>3.99</td>\n",
       "      <td>139.65</td>\n",
       "    </tr>\n",
       "    <tr>\n",
       "      <th>5</th>\n",
       "      <td>Wednesday</td>\n",
       "      <td>Latte</td>\n",
       "      <td>25.0</td>\n",
       "      <td>5.99</td>\n",
       "      <td>149.75</td>\n",
       "    </tr>\n",
       "    <tr>\n",
       "      <th>6</th>\n",
       "      <td>Thursday</td>\n",
       "      <td>Espresso</td>\n",
       "      <td>40.0</td>\n",
       "      <td>3.99</td>\n",
       "      <td>159.60</td>\n",
       "    </tr>\n",
       "    <tr>\n",
       "      <th>7</th>\n",
       "      <td>Thursday</td>\n",
       "      <td>Latte</td>\n",
       "      <td>30.0</td>\n",
       "      <td>5.99</td>\n",
       "      <td>179.70</td>\n",
       "    </tr>\n",
       "    <tr>\n",
       "      <th>8</th>\n",
       "      <td>Friday</td>\n",
       "      <td>Espresso</td>\n",
       "      <td>45.0</td>\n",
       "      <td>3.99</td>\n",
       "      <td>179.55</td>\n",
       "    </tr>\n",
       "    <tr>\n",
       "      <th>9</th>\n",
       "      <td>Friday</td>\n",
       "      <td>Latte</td>\n",
       "      <td>35.0</td>\n",
       "      <td>5.99</td>\n",
       "      <td>209.65</td>\n",
       "    </tr>\n",
       "    <tr>\n",
       "      <th>10</th>\n",
       "      <td>Saturday</td>\n",
       "      <td>Espresso</td>\n",
       "      <td>45.0</td>\n",
       "      <td>3.99</td>\n",
       "      <td>179.55</td>\n",
       "    </tr>\n",
       "    <tr>\n",
       "      <th>11</th>\n",
       "      <td>Saturday</td>\n",
       "      <td>Latte</td>\n",
       "      <td>35.0</td>\n",
       "      <td>5.99</td>\n",
       "      <td>209.65</td>\n",
       "    </tr>\n",
       "    <tr>\n",
       "      <th>12</th>\n",
       "      <td>Sunday</td>\n",
       "      <td>Espresso</td>\n",
       "      <td>45.0</td>\n",
       "      <td>3.99</td>\n",
       "      <td>179.55</td>\n",
       "    </tr>\n",
       "    <tr>\n",
       "      <th>13</th>\n",
       "      <td>Sunday</td>\n",
       "      <td>Latte</td>\n",
       "      <td>35.0</td>\n",
       "      <td>5.99</td>\n",
       "      <td>209.65</td>\n",
       "    </tr>\n",
       "  </tbody>\n",
       "</table>\n",
       "</div>"
      ],
      "text/plain": [
       "          Day Coffee Type  Units Sold  price  revenue\n",
       "0      Monday    Espresso        25.0   3.99    99.75\n",
       "1      Monday       Latte        10.0   5.99    59.90\n",
       "4   Wednesday    Espresso        35.0   3.99   139.65\n",
       "5   Wednesday       Latte        25.0   5.99   149.75\n",
       "6    Thursday    Espresso        40.0   3.99   159.60\n",
       "7    Thursday       Latte        30.0   5.99   179.70\n",
       "8      Friday    Espresso        45.0   3.99   179.55\n",
       "9      Friday       Latte        35.0   5.99   209.65\n",
       "10   Saturday    Espresso        45.0   3.99   179.55\n",
       "11   Saturday       Latte        35.0   5.99   209.65\n",
       "12     Sunday    Espresso        45.0   3.99   179.55\n",
       "13     Sunday       Latte        35.0   5.99   209.65"
      ]
     },
     "execution_count": 127,
     "metadata": {},
     "output_type": "execute_result"
    }
   ],
   "source": [
    "coffee[coffee['Units Sold'].notna()]"
   ]
  },
  {
   "cell_type": "code",
   "execution_count": 128,
   "metadata": {},
   "outputs": [
    {
     "data": {
      "application/vnd.microsoft.datawrangler.viewer.v0+json": {
       "columns": [
        {
         "name": "index",
         "rawType": "int64",
         "type": "integer"
        },
        {
         "name": "Day",
         "rawType": "object",
         "type": "string"
        },
        {
         "name": "Coffee Type",
         "rawType": "object",
         "type": "string"
        },
        {
         "name": "Units Sold",
         "rawType": "float64",
         "type": "float"
        },
        {
         "name": "price",
         "rawType": "float64",
         "type": "float"
        },
        {
         "name": "revenue",
         "rawType": "float64",
         "type": "float"
        }
       ],
       "ref": "0e761e19-ec0b-4e68-bbee-e0fea12d7e95",
       "rows": [
        [
         "0",
         "Monday",
         "Espresso",
         "25.0",
         "3.99",
         "99.75"
        ],
        [
         "1",
         "Monday",
         "Latte",
         "10.0",
         "5.99",
         "59.900000000000006"
        ],
        [
         "2",
         "Tuesday",
         "Espresso",
         null,
         "3.99",
         "39.900000000000006"
        ],
        [
         "3",
         "Tuesday",
         "Latte",
         null,
         "5.99",
         "59.900000000000006"
        ],
        [
         "4",
         "Wednesday",
         "Espresso",
         "35.0",
         "3.99",
         "139.65"
        ],
        [
         "5",
         "Wednesday",
         "Latte",
         "25.0",
         "5.99",
         "149.75"
        ],
        [
         "6",
         "Thursday",
         "Espresso",
         "40.0",
         "3.99",
         "159.60000000000002"
        ],
        [
         "7",
         "Thursday",
         "Latte",
         "30.0",
         "5.99",
         "179.70000000000002"
        ],
        [
         "8",
         "Friday",
         "Espresso",
         "45.0",
         "3.99",
         "179.55"
        ],
        [
         "9",
         "Friday",
         "Latte",
         "35.0",
         "5.99",
         "209.65"
        ],
        [
         "10",
         "Saturday",
         "Espresso",
         "45.0",
         "3.99",
         "179.55"
        ],
        [
         "11",
         "Saturday",
         "Latte",
         "35.0",
         "5.99",
         "209.65"
        ],
        [
         "12",
         "Sunday",
         "Espresso",
         "45.0",
         "3.99",
         "179.55"
        ],
        [
         "13",
         "Sunday",
         "Latte",
         "35.0",
         "5.99",
         "209.65"
        ]
       ],
       "shape": {
        "columns": 5,
        "rows": 14
       }
      },
      "text/html": [
       "<div>\n",
       "<style scoped>\n",
       "    .dataframe tbody tr th:only-of-type {\n",
       "        vertical-align: middle;\n",
       "    }\n",
       "\n",
       "    .dataframe tbody tr th {\n",
       "        vertical-align: top;\n",
       "    }\n",
       "\n",
       "    .dataframe thead th {\n",
       "        text-align: right;\n",
       "    }\n",
       "</style>\n",
       "<table border=\"1\" class=\"dataframe\">\n",
       "  <thead>\n",
       "    <tr style=\"text-align: right;\">\n",
       "      <th></th>\n",
       "      <th>Day</th>\n",
       "      <th>Coffee Type</th>\n",
       "      <th>Units Sold</th>\n",
       "      <th>price</th>\n",
       "      <th>revenue</th>\n",
       "    </tr>\n",
       "  </thead>\n",
       "  <tbody>\n",
       "    <tr>\n",
       "      <th>0</th>\n",
       "      <td>Monday</td>\n",
       "      <td>Espresso</td>\n",
       "      <td>25.0</td>\n",
       "      <td>3.99</td>\n",
       "      <td>99.75</td>\n",
       "    </tr>\n",
       "    <tr>\n",
       "      <th>1</th>\n",
       "      <td>Monday</td>\n",
       "      <td>Latte</td>\n",
       "      <td>10.0</td>\n",
       "      <td>5.99</td>\n",
       "      <td>59.90</td>\n",
       "    </tr>\n",
       "    <tr>\n",
       "      <th>2</th>\n",
       "      <td>Tuesday</td>\n",
       "      <td>Espresso</td>\n",
       "      <td>NaN</td>\n",
       "      <td>3.99</td>\n",
       "      <td>39.90</td>\n",
       "    </tr>\n",
       "    <tr>\n",
       "      <th>3</th>\n",
       "      <td>Tuesday</td>\n",
       "      <td>Latte</td>\n",
       "      <td>NaN</td>\n",
       "      <td>5.99</td>\n",
       "      <td>59.90</td>\n",
       "    </tr>\n",
       "    <tr>\n",
       "      <th>4</th>\n",
       "      <td>Wednesday</td>\n",
       "      <td>Espresso</td>\n",
       "      <td>35.0</td>\n",
       "      <td>3.99</td>\n",
       "      <td>139.65</td>\n",
       "    </tr>\n",
       "    <tr>\n",
       "      <th>5</th>\n",
       "      <td>Wednesday</td>\n",
       "      <td>Latte</td>\n",
       "      <td>25.0</td>\n",
       "      <td>5.99</td>\n",
       "      <td>149.75</td>\n",
       "    </tr>\n",
       "    <tr>\n",
       "      <th>6</th>\n",
       "      <td>Thursday</td>\n",
       "      <td>Espresso</td>\n",
       "      <td>40.0</td>\n",
       "      <td>3.99</td>\n",
       "      <td>159.60</td>\n",
       "    </tr>\n",
       "    <tr>\n",
       "      <th>7</th>\n",
       "      <td>Thursday</td>\n",
       "      <td>Latte</td>\n",
       "      <td>30.0</td>\n",
       "      <td>5.99</td>\n",
       "      <td>179.70</td>\n",
       "    </tr>\n",
       "    <tr>\n",
       "      <th>8</th>\n",
       "      <td>Friday</td>\n",
       "      <td>Espresso</td>\n",
       "      <td>45.0</td>\n",
       "      <td>3.99</td>\n",
       "      <td>179.55</td>\n",
       "    </tr>\n",
       "    <tr>\n",
       "      <th>9</th>\n",
       "      <td>Friday</td>\n",
       "      <td>Latte</td>\n",
       "      <td>35.0</td>\n",
       "      <td>5.99</td>\n",
       "      <td>209.65</td>\n",
       "    </tr>\n",
       "    <tr>\n",
       "      <th>10</th>\n",
       "      <td>Saturday</td>\n",
       "      <td>Espresso</td>\n",
       "      <td>45.0</td>\n",
       "      <td>3.99</td>\n",
       "      <td>179.55</td>\n",
       "    </tr>\n",
       "    <tr>\n",
       "      <th>11</th>\n",
       "      <td>Saturday</td>\n",
       "      <td>Latte</td>\n",
       "      <td>35.0</td>\n",
       "      <td>5.99</td>\n",
       "      <td>209.65</td>\n",
       "    </tr>\n",
       "    <tr>\n",
       "      <th>12</th>\n",
       "      <td>Sunday</td>\n",
       "      <td>Espresso</td>\n",
       "      <td>45.0</td>\n",
       "      <td>3.99</td>\n",
       "      <td>179.55</td>\n",
       "    </tr>\n",
       "    <tr>\n",
       "      <th>13</th>\n",
       "      <td>Sunday</td>\n",
       "      <td>Latte</td>\n",
       "      <td>35.0</td>\n",
       "      <td>5.99</td>\n",
       "      <td>209.65</td>\n",
       "    </tr>\n",
       "  </tbody>\n",
       "</table>\n",
       "</div>"
      ],
      "text/plain": [
       "          Day Coffee Type  Units Sold  price  revenue\n",
       "0      Monday    Espresso        25.0   3.99    99.75\n",
       "1      Monday       Latte        10.0   5.99    59.90\n",
       "2     Tuesday    Espresso         NaN   3.99    39.90\n",
       "3     Tuesday       Latte         NaN   5.99    59.90\n",
       "4   Wednesday    Espresso        35.0   3.99   139.65\n",
       "5   Wednesday       Latte        25.0   5.99   149.75\n",
       "6    Thursday    Espresso        40.0   3.99   159.60\n",
       "7    Thursday       Latte        30.0   5.99   179.70\n",
       "8      Friday    Espresso        45.0   3.99   179.55\n",
       "9      Friday       Latte        35.0   5.99   209.65\n",
       "10   Saturday    Espresso        45.0   3.99   179.55\n",
       "11   Saturday       Latte        35.0   5.99   209.65\n",
       "12     Sunday    Espresso        45.0   3.99   179.55\n",
       "13     Sunday       Latte        35.0   5.99   209.65"
      ]
     },
     "execution_count": 128,
     "metadata": {},
     "output_type": "execute_result"
    }
   ],
   "source": [
    "coffee"
   ]
  },
  {
   "cell_type": "markdown",
   "metadata": {},
   "source": [
    "## Aggregating Data"
   ]
  },
  {
   "cell_type": "code",
   "execution_count": 129,
   "metadata": {},
   "outputs": [
    {
     "data": {
      "application/vnd.microsoft.datawrangler.viewer.v0+json": {
       "columns": [
        {
         "name": "index",
         "rawType": "int64",
         "type": "integer"
        },
        {
         "name": "athlete_id",
         "rawType": "int64",
         "type": "integer"
        },
        {
         "name": "name",
         "rawType": "object",
         "type": "string"
        },
        {
         "name": "born_date",
         "rawType": "object",
         "type": "string"
        },
        {
         "name": "born_city",
         "rawType": "object",
         "type": "string"
        },
        {
         "name": "born_region",
         "rawType": "object",
         "type": "string"
        },
        {
         "name": "born_country",
         "rawType": "object",
         "type": "string"
        },
        {
         "name": "NOC",
         "rawType": "object",
         "type": "string"
        },
        {
         "name": "height_cm",
         "rawType": "float64",
         "type": "float"
        },
        {
         "name": "weight_kg",
         "rawType": "float64",
         "type": "float"
        },
        {
         "name": "died_date",
         "rawType": "object",
         "type": "unknown"
        },
        {
         "name": "Category",
         "rawType": "object",
         "type": "string"
        }
       ],
       "ref": "008ab18a-432d-48f2-9804-31c3a0c08807",
       "rows": [
        [
         "0",
         "1",
         "Jean-François Blanchy",
         "1886-12-12",
         "Bordeaux",
         "Gironde",
         "FRA",
         "France",
         null,
         null,
         "1960-10-02",
         "Heavyweight"
        ],
        [
         "1",
         "2",
         "Arnaud Boetsch",
         "1969-04-01",
         "Meulan",
         "Yvelines",
         "FRA",
         "France",
         "183.0",
         "76.0",
         null,
         "Middleweight"
        ],
        [
         "2",
         "3",
         "Jean Borotra",
         "1898-08-13",
         "Biarritz",
         "Pyrénées-Atlantiques",
         "FRA",
         "France",
         "183.0",
         "76.0",
         "1994-07-17",
         "Middleweight"
        ],
        [
         "3",
         "4",
         "Jacques Brugnon",
         "1895-05-11",
         "Paris VIIIe",
         "Paris",
         "FRA",
         "France",
         "168.0",
         "64.0",
         "1978-03-20",
         "Lightweight"
        ],
        [
         "4",
         "5",
         "Albert Canet",
         "1878-04-17",
         "Wandsworth",
         "England",
         "GBR",
         "France",
         null,
         null,
         "1930-07-25",
         "Heavyweight"
        ]
       ],
       "shape": {
        "columns": 11,
        "rows": 5
       }
      },
      "text/html": [
       "<div>\n",
       "<style scoped>\n",
       "    .dataframe tbody tr th:only-of-type {\n",
       "        vertical-align: middle;\n",
       "    }\n",
       "\n",
       "    .dataframe tbody tr th {\n",
       "        vertical-align: top;\n",
       "    }\n",
       "\n",
       "    .dataframe thead th {\n",
       "        text-align: right;\n",
       "    }\n",
       "</style>\n",
       "<table border=\"1\" class=\"dataframe\">\n",
       "  <thead>\n",
       "    <tr style=\"text-align: right;\">\n",
       "      <th></th>\n",
       "      <th>athlete_id</th>\n",
       "      <th>name</th>\n",
       "      <th>born_date</th>\n",
       "      <th>born_city</th>\n",
       "      <th>born_region</th>\n",
       "      <th>born_country</th>\n",
       "      <th>NOC</th>\n",
       "      <th>height_cm</th>\n",
       "      <th>weight_kg</th>\n",
       "      <th>died_date</th>\n",
       "      <th>Category</th>\n",
       "    </tr>\n",
       "  </thead>\n",
       "  <tbody>\n",
       "    <tr>\n",
       "      <th>0</th>\n",
       "      <td>1</td>\n",
       "      <td>Jean-François Blanchy</td>\n",
       "      <td>1886-12-12</td>\n",
       "      <td>Bordeaux</td>\n",
       "      <td>Gironde</td>\n",
       "      <td>FRA</td>\n",
       "      <td>France</td>\n",
       "      <td>NaN</td>\n",
       "      <td>NaN</td>\n",
       "      <td>1960-10-02</td>\n",
       "      <td>Heavyweight</td>\n",
       "    </tr>\n",
       "    <tr>\n",
       "      <th>1</th>\n",
       "      <td>2</td>\n",
       "      <td>Arnaud Boetsch</td>\n",
       "      <td>1969-04-01</td>\n",
       "      <td>Meulan</td>\n",
       "      <td>Yvelines</td>\n",
       "      <td>FRA</td>\n",
       "      <td>France</td>\n",
       "      <td>183.0</td>\n",
       "      <td>76.0</td>\n",
       "      <td>NaN</td>\n",
       "      <td>Middleweight</td>\n",
       "    </tr>\n",
       "    <tr>\n",
       "      <th>2</th>\n",
       "      <td>3</td>\n",
       "      <td>Jean Borotra</td>\n",
       "      <td>1898-08-13</td>\n",
       "      <td>Biarritz</td>\n",
       "      <td>Pyrénées-Atlantiques</td>\n",
       "      <td>FRA</td>\n",
       "      <td>France</td>\n",
       "      <td>183.0</td>\n",
       "      <td>76.0</td>\n",
       "      <td>1994-07-17</td>\n",
       "      <td>Middleweight</td>\n",
       "    </tr>\n",
       "    <tr>\n",
       "      <th>3</th>\n",
       "      <td>4</td>\n",
       "      <td>Jacques Brugnon</td>\n",
       "      <td>1895-05-11</td>\n",
       "      <td>Paris VIIIe</td>\n",
       "      <td>Paris</td>\n",
       "      <td>FRA</td>\n",
       "      <td>France</td>\n",
       "      <td>168.0</td>\n",
       "      <td>64.0</td>\n",
       "      <td>1978-03-20</td>\n",
       "      <td>Lightweight</td>\n",
       "    </tr>\n",
       "    <tr>\n",
       "      <th>4</th>\n",
       "      <td>5</td>\n",
       "      <td>Albert Canet</td>\n",
       "      <td>1878-04-17</td>\n",
       "      <td>Wandsworth</td>\n",
       "      <td>England</td>\n",
       "      <td>GBR</td>\n",
       "      <td>France</td>\n",
       "      <td>NaN</td>\n",
       "      <td>NaN</td>\n",
       "      <td>1930-07-25</td>\n",
       "      <td>Heavyweight</td>\n",
       "    </tr>\n",
       "  </tbody>\n",
       "</table>\n",
       "</div>"
      ],
      "text/plain": [
       "   athlete_id                   name   born_date    born_city  \\\n",
       "0           1  Jean-François Blanchy  1886-12-12     Bordeaux   \n",
       "1           2         Arnaud Boetsch  1969-04-01       Meulan   \n",
       "2           3           Jean Borotra  1898-08-13     Biarritz   \n",
       "3           4        Jacques Brugnon  1895-05-11  Paris VIIIe   \n",
       "4           5           Albert Canet  1878-04-17   Wandsworth   \n",
       "\n",
       "            born_region born_country     NOC  height_cm  weight_kg  \\\n",
       "0               Gironde          FRA  France        NaN        NaN   \n",
       "1              Yvelines          FRA  France      183.0       76.0   \n",
       "2  Pyrénées-Atlantiques          FRA  France      183.0       76.0   \n",
       "3                 Paris          FRA  France      168.0       64.0   \n",
       "4               England          GBR  France        NaN        NaN   \n",
       "\n",
       "    died_date      Category  \n",
       "0  1960-10-02   Heavyweight  \n",
       "1         NaN  Middleweight  \n",
       "2  1994-07-17  Middleweight  \n",
       "3  1978-03-20   Lightweight  \n",
       "4  1930-07-25   Heavyweight  "
      ]
     },
     "execution_count": 129,
     "metadata": {},
     "output_type": "execute_result"
    }
   ],
   "source": [
    "bios.head()"
   ]
  },
  {
   "cell_type": "code",
   "execution_count": 130,
   "metadata": {},
   "outputs": [
    {
     "data": {
      "application/vnd.microsoft.datawrangler.viewer.v0+json": {
       "columns": [
        {
         "name": "born_city",
         "rawType": "object",
         "type": "string"
        },
        {
         "name": "count",
         "rawType": "int64",
         "type": "integer"
        }
       ],
       "ref": "0bc751a5-fd53-46d4-81f5-0a3b2806f2f7",
       "rows": [
        [
         "Budapest",
         "1378"
        ],
        [
         "Moskva (Moscow)",
         "883"
        ],
        [
         "Oslo",
         "708"
        ],
        [
         "Stockholm",
         "629"
        ],
        [
         "Praha (Prague)",
         "600"
        ],
        [
         "Toronto",
         "579"
        ],
        [
         "Wien (Vienna)",
         "547"
        ],
        [
         "Buenos Aires",
         "538"
        ],
        [
         "København (Copenhagen)",
         "523"
        ],
        [
         "Sydney",
         "497"
        ],
        [
         "Montréal",
         "468"
        ],
        [
         "Berlin",
         "467"
        ],
        [
         "Ciudad de México (Mexico City)",
         "455"
        ],
        [
         "Helsinki",
         "439"
        ],
        [
         "Rio de Janeiro",
         "433"
        ],
        [
         "Amsterdam",
         "429"
        ],
        [
         "Barcelona",
         "425"
        ],
        [
         "Melbourne",
         "417"
        ],
        [
         "New York",
         "416"
        ],
        [
         "Seoul",
         "405"
        ],
        [
         "São Paulo",
         "393"
        ],
        [
         "London",
         "386"
        ],
        [
         "Madrid",
         "379"
        ],
        [
         "Athina (Athens)",
         "348"
        ],
        [
         "Roma",
         "344"
        ],
        [
         "București (Bucharest)",
         "342"
        ],
        [
         "Sofia",
         "332"
        ],
        [
         "Milano",
         "312"
        ],
        [
         "Vancouver",
         "310"
        ],
        [
         "Minsk",
         "303"
        ],
        [
         "Göteborg (Gothenburg)",
         "285"
        ],
        [
         "Al-Qahira (Cairo)",
         "285"
        ],
        [
         "Chicago",
         "283"
        ],
        [
         "Rīga",
         "282"
        ],
        [
         "Warszawa (Warsaw)",
         "280"
        ],
        [
         "Auckland",
         "263"
        ],
        [
         "La Habana (Havana)",
         "249"
        ],
        [
         "Paris",
         "245"
        ],
        [
         "Los Angeles",
         "230"
        ],
        [
         "Ljubljana",
         "229"
        ],
        [
         "Kyiv",
         "226"
        ],
        [
         "Tokyo",
         "214"
        ],
        [
         "Hamburg",
         "207"
        ],
        [
         "Philadelphia",
         "205"
        ],
        [
         "Calgary",
         "197"
        ],
        [
         "Zürich",
         "194"
        ],
        [
         "Antwerpen (Antwerp)",
         "194"
        ],
        [
         "Zagreb",
         "193"
        ],
        [
         "Dublin",
         "193"
        ],
        [
         "Hamilton",
         "184"
        ]
       ],
       "shape": {
        "columns": 1,
        "rows": 22368
       }
      },
      "text/plain": [
       "born_city\n",
       "Budapest           1378\n",
       "Moskva (Moscow)     883\n",
       "Oslo                708\n",
       "Stockholm           629\n",
       "Praha (Prague)      600\n",
       "                   ... \n",
       "Kirovgrad             1\n",
       "Pereiaslav            1\n",
       "Podgornyy             1\n",
       "Kudepsta              1\n",
       "Furmanov              1\n",
       "Name: count, Length: 22368, dtype: int64"
      ]
     },
     "execution_count": 130,
     "metadata": {},
     "output_type": "execute_result"
    }
   ],
   "source": [
    "bios['born_city'].value_counts()"
   ]
  },
  {
   "cell_type": "code",
   "execution_count": 131,
   "metadata": {},
   "outputs": [
    {
     "data": {
      "application/vnd.microsoft.datawrangler.viewer.v0+json": {
       "columns": [
        {
         "name": "born_region",
         "rawType": "object",
         "type": "string"
        },
        {
         "name": "count",
         "rawType": "int64",
         "type": "integer"
        }
       ],
       "ref": "92b31e43-867b-444d-a76c-140e1a829612",
       "rows": [
        [
         "California",
         "1634"
        ],
        [
         "New York",
         "990"
        ],
        [
         "Illinois",
         "585"
        ],
        [
         "Massachusetts",
         "530"
        ],
        [
         "Pennsylvania",
         "530"
        ],
        [
         "New Jersey",
         "381"
        ],
        [
         "Texas",
         "368"
        ],
        [
         "Minnesota",
         "365"
        ],
        [
         "Ohio",
         "328"
        ],
        [
         "Michigan",
         "319"
        ]
       ],
       "shape": {
        "columns": 1,
        "rows": 10
       }
      },
      "text/plain": [
       "born_region\n",
       "California       1634\n",
       "New York          990\n",
       "Illinois          585\n",
       "Massachusetts     530\n",
       "Pennsylvania      530\n",
       "New Jersey        381\n",
       "Texas             368\n",
       "Minnesota         365\n",
       "Ohio              328\n",
       "Michigan          319\n",
       "Name: count, dtype: int64"
      ]
     },
     "execution_count": 131,
     "metadata": {},
     "output_type": "execute_result"
    }
   ],
   "source": [
    "bios[bios['born_country']=='USA']['born_region'].value_counts().head(10)"
   ]
  },
  {
   "cell_type": "code",
   "execution_count": 132,
   "metadata": {},
   "outputs": [
    {
     "data": {
      "application/vnd.microsoft.datawrangler.viewer.v0+json": {
       "columns": [
        {
         "name": "born_region",
         "rawType": "object",
         "type": "string"
        },
        {
         "name": "count",
         "rawType": "int64",
         "type": "integer"
        }
       ],
       "ref": "f3b65f50-872f-48bf-8050-3da8f64a6ce4",
       "rows": [
        [
         "Utah",
         "91"
        ],
        [
         "Missouri",
         "91"
        ],
        [
         "North Carolina",
         "86"
        ],
        [
         "Arizona",
         "83"
        ],
        [
         "New Hampshire",
         "83"
        ],
        [
         "Vermont",
         "68"
        ],
        [
         "Mississippi",
         "66"
        ],
        [
         "Alabama",
         "64"
        ],
        [
         "Kentucky",
         "62"
        ],
        [
         "Tennessee",
         "62"
        ],
        [
         "Nebraska",
         "60"
        ],
        [
         "Rhode Island",
         "56"
        ],
        [
         "Montana",
         "55"
        ],
        [
         "Maine",
         "50"
        ],
        [
         "South Carolina",
         "50"
        ],
        [
         "Alaska",
         "45"
        ],
        [
         "Arkansas",
         "42"
        ],
        [
         "Idaho",
         "41"
        ],
        [
         "New Mexico",
         "38"
        ],
        [
         "Nevada",
         "36"
        ],
        [
         "South Dakota",
         "27"
        ],
        [
         "West Virginia",
         "24"
        ],
        [
         "Delaware",
         "22"
        ],
        [
         "North Dakota",
         "16"
        ],
        [
         "Wyoming",
         "14"
        ]
       ],
       "shape": {
        "columns": 1,
        "rows": 25
       }
      },
      "text/plain": [
       "born_region\n",
       "Utah              91\n",
       "Missouri          91\n",
       "North Carolina    86\n",
       "Arizona           83\n",
       "New Hampshire     83\n",
       "Vermont           68\n",
       "Mississippi       66\n",
       "Alabama           64\n",
       "Kentucky          62\n",
       "Tennessee         62\n",
       "Nebraska          60\n",
       "Rhode Island      56\n",
       "Montana           55\n",
       "Maine             50\n",
       "South Carolina    50\n",
       "Alaska            45\n",
       "Arkansas          42\n",
       "Idaho             41\n",
       "New Mexico        38\n",
       "Nevada            36\n",
       "South Dakota      27\n",
       "West Virginia     24\n",
       "Delaware          22\n",
       "North Dakota      16\n",
       "Wyoming           14\n",
       "Name: count, dtype: int64"
      ]
     },
     "execution_count": 132,
     "metadata": {},
     "output_type": "execute_result"
    }
   ],
   "source": [
    "bios[bios['born_country']=='USA']['born_region'].value_counts().tail(25)"
   ]
  },
  {
   "cell_type": "markdown",
   "metadata": {},
   "source": [
    "#### Groupby function in Pandas"
   ]
  },
  {
   "cell_type": "code",
   "execution_count": 133,
   "metadata": {},
   "outputs": [
    {
     "data": {
      "application/vnd.microsoft.datawrangler.viewer.v0+json": {
       "columns": [
        {
         "name": "Coffee Type",
         "rawType": "object",
         "type": "string"
        },
        {
         "name": "Units Sold",
         "rawType": "float64",
         "type": "float"
        }
       ],
       "ref": "7106220b-6df4-4940-889c-63be8b05a34a",
       "rows": [
        [
         "Espresso",
         "235.0"
        ],
        [
         "Latte",
         "170.0"
        ]
       ],
       "shape": {
        "columns": 1,
        "rows": 2
       }
      },
      "text/plain": [
       "Coffee Type\n",
       "Espresso    235.0\n",
       "Latte       170.0\n",
       "Name: Units Sold, dtype: float64"
      ]
     },
     "execution_count": 133,
     "metadata": {},
     "output_type": "execute_result"
    }
   ],
   "source": [
    "coffee.groupby(['Coffee Type'])['Units Sold'].sum()"
   ]
  },
  {
   "cell_type": "code",
   "execution_count": 134,
   "metadata": {},
   "outputs": [
    {
     "data": {
      "application/vnd.microsoft.datawrangler.viewer.v0+json": {
       "columns": [
        {
         "name": "Coffee Type",
         "rawType": "object",
         "type": "string"
        },
        {
         "name": "Units Sold",
         "rawType": "float64",
         "type": "float"
        }
       ],
       "ref": "1b8ea229-2fa6-425d-bddc-72eef1899fa1",
       "rows": [
        [
         "Espresso",
         "39.166666666666664"
        ],
        [
         "Latte",
         "28.333333333333332"
        ]
       ],
       "shape": {
        "columns": 1,
        "rows": 2
       }
      },
      "text/plain": [
       "Coffee Type\n",
       "Espresso    39.166667\n",
       "Latte       28.333333\n",
       "Name: Units Sold, dtype: float64"
      ]
     },
     "execution_count": 134,
     "metadata": {},
     "output_type": "execute_result"
    }
   ],
   "source": [
    "coffee.groupby(['Coffee Type'])['Units Sold'].mean()"
   ]
  },
  {
   "cell_type": "code",
   "execution_count": 135,
   "metadata": {},
   "outputs": [
    {
     "data": {
      "application/vnd.microsoft.datawrangler.viewer.v0+json": {
       "columns": [
        {
         "name": "('Coffee Type', 'Day')",
         "rawType": "object",
         "type": "unknown"
        },
        {
         "name": "Units Sold",
         "rawType": "float64",
         "type": "float"
        },
        {
         "name": "price",
         "rawType": "float64",
         "type": "float"
        }
       ],
       "ref": "a65ca98e-3e64-4a7b-b22f-8630465a4377",
       "rows": [
        [
         "('Espresso', 'Friday')",
         "45.0",
         "3.99"
        ],
        [
         "('Espresso', 'Monday')",
         "25.0",
         "3.99"
        ],
        [
         "('Espresso', 'Saturday')",
         "45.0",
         "3.99"
        ],
        [
         "('Espresso', 'Sunday')",
         "45.0",
         "3.99"
        ],
        [
         "('Espresso', 'Thursday')",
         "40.0",
         "3.99"
        ],
        [
         "('Espresso', 'Tuesday')",
         "0.0",
         "3.99"
        ],
        [
         "('Espresso', 'Wednesday')",
         "35.0",
         "3.99"
        ],
        [
         "('Latte', 'Friday')",
         "35.0",
         "5.99"
        ],
        [
         "('Latte', 'Monday')",
         "10.0",
         "5.99"
        ],
        [
         "('Latte', 'Saturday')",
         "35.0",
         "5.99"
        ],
        [
         "('Latte', 'Sunday')",
         "35.0",
         "5.99"
        ],
        [
         "('Latte', 'Thursday')",
         "30.0",
         "5.99"
        ],
        [
         "('Latte', 'Tuesday')",
         "0.0",
         "5.99"
        ],
        [
         "('Latte', 'Wednesday')",
         "25.0",
         "5.99"
        ]
       ],
       "shape": {
        "columns": 2,
        "rows": 14
       }
      },
      "text/html": [
       "<div>\n",
       "<style scoped>\n",
       "    .dataframe tbody tr th:only-of-type {\n",
       "        vertical-align: middle;\n",
       "    }\n",
       "\n",
       "    .dataframe tbody tr th {\n",
       "        vertical-align: top;\n",
       "    }\n",
       "\n",
       "    .dataframe thead th {\n",
       "        text-align: right;\n",
       "    }\n",
       "</style>\n",
       "<table border=\"1\" class=\"dataframe\">\n",
       "  <thead>\n",
       "    <tr style=\"text-align: right;\">\n",
       "      <th></th>\n",
       "      <th></th>\n",
       "      <th>Units Sold</th>\n",
       "      <th>price</th>\n",
       "    </tr>\n",
       "    <tr>\n",
       "      <th>Coffee Type</th>\n",
       "      <th>Day</th>\n",
       "      <th></th>\n",
       "      <th></th>\n",
       "    </tr>\n",
       "  </thead>\n",
       "  <tbody>\n",
       "    <tr>\n",
       "      <th rowspan=\"7\" valign=\"top\">Espresso</th>\n",
       "      <th>Friday</th>\n",
       "      <td>45.0</td>\n",
       "      <td>3.99</td>\n",
       "    </tr>\n",
       "    <tr>\n",
       "      <th>Monday</th>\n",
       "      <td>25.0</td>\n",
       "      <td>3.99</td>\n",
       "    </tr>\n",
       "    <tr>\n",
       "      <th>Saturday</th>\n",
       "      <td>45.0</td>\n",
       "      <td>3.99</td>\n",
       "    </tr>\n",
       "    <tr>\n",
       "      <th>Sunday</th>\n",
       "      <td>45.0</td>\n",
       "      <td>3.99</td>\n",
       "    </tr>\n",
       "    <tr>\n",
       "      <th>Thursday</th>\n",
       "      <td>40.0</td>\n",
       "      <td>3.99</td>\n",
       "    </tr>\n",
       "    <tr>\n",
       "      <th>Tuesday</th>\n",
       "      <td>0.0</td>\n",
       "      <td>3.99</td>\n",
       "    </tr>\n",
       "    <tr>\n",
       "      <th>Wednesday</th>\n",
       "      <td>35.0</td>\n",
       "      <td>3.99</td>\n",
       "    </tr>\n",
       "    <tr>\n",
       "      <th rowspan=\"7\" valign=\"top\">Latte</th>\n",
       "      <th>Friday</th>\n",
       "      <td>35.0</td>\n",
       "      <td>5.99</td>\n",
       "    </tr>\n",
       "    <tr>\n",
       "      <th>Monday</th>\n",
       "      <td>10.0</td>\n",
       "      <td>5.99</td>\n",
       "    </tr>\n",
       "    <tr>\n",
       "      <th>Saturday</th>\n",
       "      <td>35.0</td>\n",
       "      <td>5.99</td>\n",
       "    </tr>\n",
       "    <tr>\n",
       "      <th>Sunday</th>\n",
       "      <td>35.0</td>\n",
       "      <td>5.99</td>\n",
       "    </tr>\n",
       "    <tr>\n",
       "      <th>Thursday</th>\n",
       "      <td>30.0</td>\n",
       "      <td>5.99</td>\n",
       "    </tr>\n",
       "    <tr>\n",
       "      <th>Tuesday</th>\n",
       "      <td>0.0</td>\n",
       "      <td>5.99</td>\n",
       "    </tr>\n",
       "    <tr>\n",
       "      <th>Wednesday</th>\n",
       "      <td>25.0</td>\n",
       "      <td>5.99</td>\n",
       "    </tr>\n",
       "  </tbody>\n",
       "</table>\n",
       "</div>"
      ],
      "text/plain": [
       "                       Units Sold  price\n",
       "Coffee Type Day                         \n",
       "Espresso    Friday           45.0   3.99\n",
       "            Monday           25.0   3.99\n",
       "            Saturday         45.0   3.99\n",
       "            Sunday           45.0   3.99\n",
       "            Thursday         40.0   3.99\n",
       "            Tuesday           0.0   3.99\n",
       "            Wednesday        35.0   3.99\n",
       "Latte       Friday           35.0   5.99\n",
       "            Monday           10.0   5.99\n",
       "            Saturday         35.0   5.99\n",
       "            Sunday           35.0   5.99\n",
       "            Thursday         30.0   5.99\n",
       "            Tuesday           0.0   5.99\n",
       "            Wednesday        25.0   5.99"
      ]
     },
     "execution_count": 135,
     "metadata": {},
     "output_type": "execute_result"
    }
   ],
   "source": [
    "coffee.groupby(['Coffee Type', 'Day']).agg({'Units Sold': 'sum', 'price': 'mean'})"
   ]
  },
  {
   "cell_type": "markdown",
   "metadata": {},
   "source": [
    "#### Pivot Tables"
   ]
  },
  {
   "cell_type": "code",
   "execution_count": 136,
   "metadata": {},
   "outputs": [],
   "source": [
    "pivot = coffee.pivot(columns='Coffee Type', index='Day', values='revenue')"
   ]
  },
  {
   "cell_type": "code",
   "execution_count": 137,
   "metadata": {},
   "outputs": [
    {
     "data": {
      "application/vnd.microsoft.datawrangler.viewer.v0+json": {
       "columns": [
        {
         "name": "Coffee Type",
         "rawType": "object",
         "type": "string"
        },
        {
         "name": "0",
         "rawType": "float64",
         "type": "float"
        }
       ],
       "ref": "18e741e8-fcfe-4c81-803f-826f45eee35a",
       "rows": [
        [
         "Espresso",
         "977.5500000000001"
        ],
        [
         "Latte",
         "1078.2"
        ]
       ],
       "shape": {
        "columns": 1,
        "rows": 2
       }
      },
      "text/plain": [
       "Coffee Type\n",
       "Espresso     977.55\n",
       "Latte       1078.20\n",
       "dtype: float64"
      ]
     },
     "execution_count": 137,
     "metadata": {},
     "output_type": "execute_result"
    }
   ],
   "source": [
    "pivot.sum()"
   ]
  },
  {
   "cell_type": "code",
   "execution_count": 138,
   "metadata": {},
   "outputs": [
    {
     "data": {
      "application/vnd.microsoft.datawrangler.viewer.v0+json": {
       "columns": [
        {
         "name": "Day",
         "rawType": "object",
         "type": "string"
        },
        {
         "name": "0",
         "rawType": "float64",
         "type": "float"
        }
       ],
       "ref": "e85fb66e-fd3a-44ad-960f-b3f513b48e87",
       "rows": [
        [
         "Friday",
         "389.20000000000005"
        ],
        [
         "Monday",
         "159.65"
        ],
        [
         "Saturday",
         "389.20000000000005"
        ],
        [
         "Sunday",
         "389.20000000000005"
        ],
        [
         "Thursday",
         "339.30000000000007"
        ],
        [
         "Tuesday",
         "99.80000000000001"
        ],
        [
         "Wednesday",
         "289.4"
        ]
       ],
       "shape": {
        "columns": 1,
        "rows": 7
       }
      },
      "text/plain": [
       "Day\n",
       "Friday       389.20\n",
       "Monday       159.65\n",
       "Saturday     389.20\n",
       "Sunday       389.20\n",
       "Thursday     339.30\n",
       "Tuesday       99.80\n",
       "Wednesday    289.40\n",
       "dtype: float64"
      ]
     },
     "execution_count": 138,
     "metadata": {},
     "output_type": "execute_result"
    }
   ],
   "source": [
    "pivot.sum(axis=1)"
   ]
  },
  {
   "cell_type": "markdown",
   "metadata": {},
   "source": [
    "#### Using datetime with Groupby"
   ]
  },
  {
   "cell_type": "code",
   "execution_count": 139,
   "metadata": {},
   "outputs": [
    {
     "data": {
      "application/vnd.microsoft.datawrangler.viewer.v0+json": {
       "columns": [
        {
         "name": "index",
         "rawType": "int64",
         "type": "integer"
        },
        {
         "name": "year_born",
         "rawType": "float64",
         "type": "float"
        },
        {
         "name": "month_born",
         "rawType": "float64",
         "type": "float"
        },
        {
         "name": "name",
         "rawType": "int64",
         "type": "integer"
        }
       ],
       "ref": "cc6d5f9b-1408-46d6-bc66-233e978a0256",
       "rows": [
        [
         "1437",
         "1970.0",
         "1.0",
         "239"
        ],
        [
         "1461",
         "1972.0",
         "1.0",
         "229"
        ],
        [
         "1497",
         "1975.0",
         "1.0",
         "227"
        ],
        [
         "1629",
         "1986.0",
         "1.0",
         "227"
        ],
        [
         "1617",
         "1985.0",
         "1.0",
         "225"
        ],
        [
         "1619",
         "1985.0",
         "3.0",
         "222"
        ],
        [
         "1569",
         "1981.0",
         "1.0",
         "221"
        ],
        [
         "1475",
         "1973.0",
         "3.0",
         "216"
        ],
        [
         "1581",
         "1982.0",
         "1.0",
         "215"
        ],
        [
         "1413",
         "1968.0",
         "1.0",
         "213"
        ],
        [
         "1525",
         "1977.0",
         "5.0",
         "211"
        ],
        [
         "1401",
         "1967.0",
         "1.0",
         "211"
        ],
        [
         "1523",
         "1977.0",
         "3.0",
         "210"
        ],
        [
         "1365",
         "1964.0",
         "1.0",
         "209"
        ],
        [
         "1476",
         "1973.0",
         "4.0",
         "206"
        ],
        [
         "1677",
         "1990.0",
         "1.0",
         "205"
        ],
        [
         "1667",
         "1989.0",
         "3.0",
         "205"
        ],
        [
         "1545",
         "1979.0",
         "1.0",
         "205"
        ],
        [
         "1669",
         "1989.0",
         "5.0",
         "205"
        ],
        [
         "1679",
         "1990.0",
         "3.0",
         "205"
        ],
        [
         "1462",
         "1972.0",
         "2.0",
         "204"
        ],
        [
         "1654",
         "1988.0",
         "2.0",
         "203"
        ],
        [
         "1657",
         "1988.0",
         "5.0",
         "203"
        ],
        [
         "1595",
         "1983.0",
         "3.0",
         "203"
        ],
        [
         "1465",
         "1972.0",
         "5.0",
         "203"
        ],
        [
         "1391",
         "1966.0",
         "3.0",
         "203"
        ],
        [
         "1377",
         "1965.0",
         "1.0",
         "202"
        ],
        [
         "1470",
         "1972.0",
         "10.0",
         "201"
        ],
        [
         "1440",
         "1970.0",
         "4.0",
         "201"
        ],
        [
         "1594",
         "1983.0",
         "2.0",
         "201"
        ],
        [
         "1533",
         "1978.0",
         "1.0",
         "200"
        ],
        [
         "1583",
         "1982.0",
         "3.0",
         "200"
        ],
        [
         "1605",
         "1984.0",
         "1.0",
         "199"
        ],
        [
         "1665",
         "1989.0",
         "1.0",
         "199"
        ],
        [
         "1487",
         "1974.0",
         "3.0",
         "199"
        ],
        [
         "1653",
         "1988.0",
         "1.0",
         "198"
        ],
        [
         "1449",
         "1971.0",
         "1.0",
         "198"
        ],
        [
         "1656",
         "1988.0",
         "4.0",
         "198"
        ],
        [
         "1593",
         "1983.0",
         "1.0",
         "198"
        ],
        [
         "1436",
         "1969.0",
         "12.0",
         "197"
        ],
        [
         "1485",
         "1974.0",
         "1.0",
         "197"
        ],
        [
         "1425",
         "1969.0",
         "1.0",
         "196"
        ],
        [
         "1582",
         "1982.0",
         "2.0",
         "196"
        ],
        [
         "1463",
         "1972.0",
         "3.0",
         "196"
        ],
        [
         "1645",
         "1987.0",
         "5.0",
         "196"
        ],
        [
         "1484",
         "1973.0",
         "12.0",
         "196"
        ],
        [
         "1636",
         "1986.0",
         "8.0",
         "196"
        ],
        [
         "1415",
         "1968.0",
         "3.0",
         "195"
        ],
        [
         "1571",
         "1981.0",
         "3.0",
         "195"
        ],
        [
         "1689",
         "1991.0",
         "1.0",
         "195"
        ]
       ],
       "shape": {
        "columns": 3,
        "rows": 1885
       }
      },
      "text/html": [
       "<div>\n",
       "<style scoped>\n",
       "    .dataframe tbody tr th:only-of-type {\n",
       "        vertical-align: middle;\n",
       "    }\n",
       "\n",
       "    .dataframe tbody tr th {\n",
       "        vertical-align: top;\n",
       "    }\n",
       "\n",
       "    .dataframe thead th {\n",
       "        text-align: right;\n",
       "    }\n",
       "</style>\n",
       "<table border=\"1\" class=\"dataframe\">\n",
       "  <thead>\n",
       "    <tr style=\"text-align: right;\">\n",
       "      <th></th>\n",
       "      <th>year_born</th>\n",
       "      <th>month_born</th>\n",
       "      <th>name</th>\n",
       "    </tr>\n",
       "  </thead>\n",
       "  <tbody>\n",
       "    <tr>\n",
       "      <th>1437</th>\n",
       "      <td>1970.0</td>\n",
       "      <td>1.0</td>\n",
       "      <td>239</td>\n",
       "    </tr>\n",
       "    <tr>\n",
       "      <th>1461</th>\n",
       "      <td>1972.0</td>\n",
       "      <td>1.0</td>\n",
       "      <td>229</td>\n",
       "    </tr>\n",
       "    <tr>\n",
       "      <th>1497</th>\n",
       "      <td>1975.0</td>\n",
       "      <td>1.0</td>\n",
       "      <td>227</td>\n",
       "    </tr>\n",
       "    <tr>\n",
       "      <th>1629</th>\n",
       "      <td>1986.0</td>\n",
       "      <td>1.0</td>\n",
       "      <td>227</td>\n",
       "    </tr>\n",
       "    <tr>\n",
       "      <th>1617</th>\n",
       "      <td>1985.0</td>\n",
       "      <td>1.0</td>\n",
       "      <td>225</td>\n",
       "    </tr>\n",
       "    <tr>\n",
       "      <th>...</th>\n",
       "      <td>...</td>\n",
       "      <td>...</td>\n",
       "      <td>...</td>\n",
       "    </tr>\n",
       "    <tr>\n",
       "      <th>1877</th>\n",
       "      <td>2006.0</td>\n",
       "      <td>12.0</td>\n",
       "      <td>1</td>\n",
       "    </tr>\n",
       "    <tr>\n",
       "      <th>1871</th>\n",
       "      <td>2006.0</td>\n",
       "      <td>3.0</td>\n",
       "      <td>1</td>\n",
       "    </tr>\n",
       "    <tr>\n",
       "      <th>20</th>\n",
       "      <td>1846.0</td>\n",
       "      <td>7.0</td>\n",
       "      <td>1</td>\n",
       "    </tr>\n",
       "    <tr>\n",
       "      <th>21</th>\n",
       "      <td>1846.0</td>\n",
       "      <td>8.0</td>\n",
       "      <td>1</td>\n",
       "    </tr>\n",
       "    <tr>\n",
       "      <th>22</th>\n",
       "      <td>1846.0</td>\n",
       "      <td>9.0</td>\n",
       "      <td>1</td>\n",
       "    </tr>\n",
       "  </tbody>\n",
       "</table>\n",
       "<p>1885 rows × 3 columns</p>\n",
       "</div>"
      ],
      "text/plain": [
       "      year_born  month_born  name\n",
       "1437     1970.0         1.0   239\n",
       "1461     1972.0         1.0   229\n",
       "1497     1975.0         1.0   227\n",
       "1629     1986.0         1.0   227\n",
       "1617     1985.0         1.0   225\n",
       "...         ...         ...   ...\n",
       "1877     2006.0        12.0     1\n",
       "1871     2006.0         3.0     1\n",
       "20       1846.0         7.0     1\n",
       "21       1846.0         8.0     1\n",
       "22       1846.0         9.0     1\n",
       "\n",
       "[1885 rows x 3 columns]"
      ]
     },
     "execution_count": 139,
     "metadata": {},
     "output_type": "execute_result"
    }
   ],
   "source": [
    "bios['born_date'] = pd.to_datetime(bios['born_date'])\n",
    "bios['month_born'] = bios['born_date'].dt.month\n",
    "bios['year_born'] = bios['born_date'].dt.year\n",
    "bios.groupby([bios['year_born'],bios['month_born']])['name'].count().reset_index().sort_values('name', ascending=False)"
   ]
  },
  {
   "cell_type": "markdown",
   "metadata": {},
   "source": [
    "## Advanced Functionality"
   ]
  },
  {
   "cell_type": "code",
   "execution_count": 140,
   "metadata": {},
   "outputs": [],
   "source": [
    "# shift() rank() cumsum() rolling()"
   ]
  },
  {
   "cell_type": "code",
   "execution_count": null,
   "metadata": {},
   "outputs": [],
   "source": []
  },
  {
   "cell_type": "code",
   "execution_count": 141,
   "metadata": {},
   "outputs": [],
   "source": [
    "latte = coffee[coffee['Coffee Type']==\"Latte\"].copy()\n",
    "latte['3day'] = latte['Units Sold'].rolling(3).sum()"
   ]
  },
  {
   "cell_type": "code",
   "execution_count": 142,
   "metadata": {},
   "outputs": [
    {
     "data": {
      "application/vnd.microsoft.datawrangler.viewer.v0+json": {
       "columns": [
        {
         "name": "index",
         "rawType": "int64",
         "type": "integer"
        },
        {
         "name": "Day",
         "rawType": "object",
         "type": "string"
        },
        {
         "name": "Coffee Type",
         "rawType": "object",
         "type": "string"
        },
        {
         "name": "Units Sold",
         "rawType": "float64",
         "type": "float"
        },
        {
         "name": "price",
         "rawType": "float64",
         "type": "float"
        },
        {
         "name": "revenue",
         "rawType": "float64",
         "type": "float"
        },
        {
         "name": "3day",
         "rawType": "float64",
         "type": "float"
        }
       ],
       "ref": "92909076-3139-4959-9b0b-761e12fe92c8",
       "rows": [
        [
         "1",
         "Monday",
         "Latte",
         "10.0",
         "5.99",
         "59.900000000000006",
         null
        ],
        [
         "3",
         "Tuesday",
         "Latte",
         null,
         "5.99",
         "59.900000000000006",
         null
        ],
        [
         "5",
         "Wednesday",
         "Latte",
         "25.0",
         "5.99",
         "149.75",
         null
        ],
        [
         "7",
         "Thursday",
         "Latte",
         "30.0",
         "5.99",
         "179.70000000000002",
         null
        ],
        [
         "9",
         "Friday",
         "Latte",
         "35.0",
         "5.99",
         "209.65",
         "90.0"
        ],
        [
         "11",
         "Saturday",
         "Latte",
         "35.0",
         "5.99",
         "209.65",
         "100.0"
        ],
        [
         "13",
         "Sunday",
         "Latte",
         "35.0",
         "5.99",
         "209.65",
         "105.0"
        ]
       ],
       "shape": {
        "columns": 6,
        "rows": 7
       }
      },
      "text/html": [
       "<div>\n",
       "<style scoped>\n",
       "    .dataframe tbody tr th:only-of-type {\n",
       "        vertical-align: middle;\n",
       "    }\n",
       "\n",
       "    .dataframe tbody tr th {\n",
       "        vertical-align: top;\n",
       "    }\n",
       "\n",
       "    .dataframe thead th {\n",
       "        text-align: right;\n",
       "    }\n",
       "</style>\n",
       "<table border=\"1\" class=\"dataframe\">\n",
       "  <thead>\n",
       "    <tr style=\"text-align: right;\">\n",
       "      <th></th>\n",
       "      <th>Day</th>\n",
       "      <th>Coffee Type</th>\n",
       "      <th>Units Sold</th>\n",
       "      <th>price</th>\n",
       "      <th>revenue</th>\n",
       "      <th>3day</th>\n",
       "    </tr>\n",
       "  </thead>\n",
       "  <tbody>\n",
       "    <tr>\n",
       "      <th>1</th>\n",
       "      <td>Monday</td>\n",
       "      <td>Latte</td>\n",
       "      <td>10.0</td>\n",
       "      <td>5.99</td>\n",
       "      <td>59.90</td>\n",
       "      <td>NaN</td>\n",
       "    </tr>\n",
       "    <tr>\n",
       "      <th>3</th>\n",
       "      <td>Tuesday</td>\n",
       "      <td>Latte</td>\n",
       "      <td>NaN</td>\n",
       "      <td>5.99</td>\n",
       "      <td>59.90</td>\n",
       "      <td>NaN</td>\n",
       "    </tr>\n",
       "    <tr>\n",
       "      <th>5</th>\n",
       "      <td>Wednesday</td>\n",
       "      <td>Latte</td>\n",
       "      <td>25.0</td>\n",
       "      <td>5.99</td>\n",
       "      <td>149.75</td>\n",
       "      <td>NaN</td>\n",
       "    </tr>\n",
       "    <tr>\n",
       "      <th>7</th>\n",
       "      <td>Thursday</td>\n",
       "      <td>Latte</td>\n",
       "      <td>30.0</td>\n",
       "      <td>5.99</td>\n",
       "      <td>179.70</td>\n",
       "      <td>NaN</td>\n",
       "    </tr>\n",
       "    <tr>\n",
       "      <th>9</th>\n",
       "      <td>Friday</td>\n",
       "      <td>Latte</td>\n",
       "      <td>35.0</td>\n",
       "      <td>5.99</td>\n",
       "      <td>209.65</td>\n",
       "      <td>90.0</td>\n",
       "    </tr>\n",
       "    <tr>\n",
       "      <th>11</th>\n",
       "      <td>Saturday</td>\n",
       "      <td>Latte</td>\n",
       "      <td>35.0</td>\n",
       "      <td>5.99</td>\n",
       "      <td>209.65</td>\n",
       "      <td>100.0</td>\n",
       "    </tr>\n",
       "    <tr>\n",
       "      <th>13</th>\n",
       "      <td>Sunday</td>\n",
       "      <td>Latte</td>\n",
       "      <td>35.0</td>\n",
       "      <td>5.99</td>\n",
       "      <td>209.65</td>\n",
       "      <td>105.0</td>\n",
       "    </tr>\n",
       "  </tbody>\n",
       "</table>\n",
       "</div>"
      ],
      "text/plain": [
       "          Day Coffee Type  Units Sold  price  revenue   3day\n",
       "1      Monday       Latte        10.0   5.99    59.90    NaN\n",
       "3     Tuesday       Latte         NaN   5.99    59.90    NaN\n",
       "5   Wednesday       Latte        25.0   5.99   149.75    NaN\n",
       "7    Thursday       Latte        30.0   5.99   179.70    NaN\n",
       "9      Friday       Latte        35.0   5.99   209.65   90.0\n",
       "11   Saturday       Latte        35.0   5.99   209.65  100.0\n",
       "13     Sunday       Latte        35.0   5.99   209.65  105.0"
      ]
     },
     "execution_count": 142,
     "metadata": {},
     "output_type": "execute_result"
    }
   ],
   "source": [
    "latte"
   ]
  },
  {
   "cell_type": "code",
   "execution_count": null,
   "metadata": {},
   "outputs": [],
   "source": []
  },
  {
   "cell_type": "markdown",
   "metadata": {},
   "source": [
    "## Advanced Functionality (cont.)\n",
    "These two libraries didn't actually make it into final video\n"
   ]
  },
  {
   "cell_type": "code",
   "execution_count": 143,
   "metadata": {},
   "outputs": [
    {
     "name": "stdout",
     "output_type": "stream",
     "text": [
      "Requirement already satisfied: pyjanitor in c:\\users\\arnold\\onedrive\\repositories\\tutorials\\complete-pandas-tutorial\\.venv\\lib\\site-packages (0.31.0)\n",
      "Requirement already satisfied: natsort in c:\\users\\arnold\\onedrive\\repositories\\tutorials\\complete-pandas-tutorial\\.venv\\lib\\site-packages (from pyjanitor) (8.4.0)\n",
      "Requirement already satisfied: pandas_flavor in c:\\users\\arnold\\onedrive\\repositories\\tutorials\\complete-pandas-tutorial\\.venv\\lib\\site-packages (from pyjanitor) (0.7.0)\n",
      "Requirement already satisfied: multipledispatch in c:\\users\\arnold\\onedrive\\repositories\\tutorials\\complete-pandas-tutorial\\.venv\\lib\\site-packages (from pyjanitor) (1.0.0)\n",
      "Requirement already satisfied: scipy in c:\\users\\arnold\\onedrive\\repositories\\tutorials\\complete-pandas-tutorial\\.venv\\lib\\site-packages (from pyjanitor) (1.16.0)\n",
      "Requirement already satisfied: pandas>=0.23 in c:\\users\\arnold\\onedrive\\repositories\\tutorials\\complete-pandas-tutorial\\.venv\\lib\\site-packages (from pandas_flavor->pyjanitor) (2.3.1)\n",
      "Requirement already satisfied: xarray in c:\\users\\arnold\\onedrive\\repositories\\tutorials\\complete-pandas-tutorial\\.venv\\lib\\site-packages (from pandas_flavor->pyjanitor) (2025.7.1)\n",
      "Requirement already satisfied: numpy>=1.26.0 in c:\\users\\arnold\\onedrive\\repositories\\tutorials\\complete-pandas-tutorial\\.venv\\lib\\site-packages (from pandas>=0.23->pandas_flavor->pyjanitor) (2.3.1)\n",
      "Requirement already satisfied: python-dateutil>=2.8.2 in c:\\users\\arnold\\onedrive\\repositories\\tutorials\\complete-pandas-tutorial\\.venv\\lib\\site-packages (from pandas>=0.23->pandas_flavor->pyjanitor) (2.9.0.post0)\n",
      "Requirement already satisfied: pytz>=2020.1 in c:\\users\\arnold\\onedrive\\repositories\\tutorials\\complete-pandas-tutorial\\.venv\\lib\\site-packages (from pandas>=0.23->pandas_flavor->pyjanitor) (2025.2)\n",
      "Requirement already satisfied: tzdata>=2022.7 in c:\\users\\arnold\\onedrive\\repositories\\tutorials\\complete-pandas-tutorial\\.venv\\lib\\site-packages (from pandas>=0.23->pandas_flavor->pyjanitor) (2025.2)\n",
      "Requirement already satisfied: six>=1.5 in c:\\users\\arnold\\onedrive\\repositories\\tutorials\\complete-pandas-tutorial\\.venv\\lib\\site-packages (from python-dateutil>=2.8.2->pandas>=0.23->pandas_flavor->pyjanitor) (1.17.0)\n",
      "Requirement already satisfied: packaging>=24.1 in c:\\users\\arnold\\onedrive\\repositories\\tutorials\\complete-pandas-tutorial\\.venv\\lib\\site-packages (from xarray->pandas_flavor->pyjanitor) (25.0)\n"
     ]
    }
   ],
   "source": [
    "!pip install pyjanitor"
   ]
  },
  {
   "cell_type": "code",
   "execution_count": 144,
   "metadata": {},
   "outputs": [
    {
     "data": {
      "application/vnd.microsoft.datawrangler.viewer.v0+json": {
       "columns": [
        {
         "name": "index",
         "rawType": "int64",
         "type": "integer"
        },
        {
         "name": "day",
         "rawType": "object",
         "type": "string"
        },
        {
         "name": "coffee_type",
         "rawType": "object",
         "type": "string"
        },
        {
         "name": "units_sold",
         "rawType": "float64",
         "type": "float"
        },
        {
         "name": "price",
         "rawType": "float64",
         "type": "float"
        },
        {
         "name": "revenue",
         "rawType": "float64",
         "type": "float"
        }
       ],
       "ref": "e9656306-fa6c-4141-a0e9-4fe836f27556",
       "rows": [
        [
         "0",
         "Monday",
         "Espresso",
         "25.0",
         "3.99",
         "99.75"
        ],
        [
         "1",
         "Monday",
         "Latte",
         "10.0",
         "5.99",
         "59.900000000000006"
        ],
        [
         "2",
         "Tuesday",
         "Espresso",
         null,
         "3.99",
         "39.900000000000006"
        ],
        [
         "3",
         "Tuesday",
         "Latte",
         null,
         "5.99",
         "59.900000000000006"
        ],
        [
         "4",
         "Wednesday",
         "Espresso",
         "35.0",
         "3.99",
         "139.65"
        ],
        [
         "5",
         "Wednesday",
         "Latte",
         "25.0",
         "5.99",
         "149.75"
        ],
        [
         "6",
         "Thursday",
         "Espresso",
         "40.0",
         "3.99",
         "159.60000000000002"
        ],
        [
         "7",
         "Thursday",
         "Latte",
         "30.0",
         "5.99",
         "179.70000000000002"
        ],
        [
         "8",
         "Friday",
         "Espresso",
         "45.0",
         "3.99",
         "179.55"
        ],
        [
         "9",
         "Friday",
         "Latte",
         "35.0",
         "5.99",
         "209.65"
        ],
        [
         "10",
         "Saturday",
         "Espresso",
         "45.0",
         "3.99",
         "179.55"
        ],
        [
         "11",
         "Saturday",
         "Latte",
         "35.0",
         "5.99",
         "209.65"
        ],
        [
         "12",
         "Sunday",
         "Espresso",
         "45.0",
         "3.99",
         "179.55"
        ],
        [
         "13",
         "Sunday",
         "Latte",
         "35.0",
         "5.99",
         "209.65"
        ]
       ],
       "shape": {
        "columns": 5,
        "rows": 14
       }
      },
      "text/html": [
       "<div>\n",
       "<style scoped>\n",
       "    .dataframe tbody tr th:only-of-type {\n",
       "        vertical-align: middle;\n",
       "    }\n",
       "\n",
       "    .dataframe tbody tr th {\n",
       "        vertical-align: top;\n",
       "    }\n",
       "\n",
       "    .dataframe thead th {\n",
       "        text-align: right;\n",
       "    }\n",
       "</style>\n",
       "<table border=\"1\" class=\"dataframe\">\n",
       "  <thead>\n",
       "    <tr style=\"text-align: right;\">\n",
       "      <th></th>\n",
       "      <th>day</th>\n",
       "      <th>coffee_type</th>\n",
       "      <th>units_sold</th>\n",
       "      <th>price</th>\n",
       "      <th>revenue</th>\n",
       "    </tr>\n",
       "  </thead>\n",
       "  <tbody>\n",
       "    <tr>\n",
       "      <th>0</th>\n",
       "      <td>Monday</td>\n",
       "      <td>Espresso</td>\n",
       "      <td>25.0</td>\n",
       "      <td>3.99</td>\n",
       "      <td>99.75</td>\n",
       "    </tr>\n",
       "    <tr>\n",
       "      <th>1</th>\n",
       "      <td>Monday</td>\n",
       "      <td>Latte</td>\n",
       "      <td>10.0</td>\n",
       "      <td>5.99</td>\n",
       "      <td>59.90</td>\n",
       "    </tr>\n",
       "    <tr>\n",
       "      <th>2</th>\n",
       "      <td>Tuesday</td>\n",
       "      <td>Espresso</td>\n",
       "      <td>NaN</td>\n",
       "      <td>3.99</td>\n",
       "      <td>39.90</td>\n",
       "    </tr>\n",
       "    <tr>\n",
       "      <th>3</th>\n",
       "      <td>Tuesday</td>\n",
       "      <td>Latte</td>\n",
       "      <td>NaN</td>\n",
       "      <td>5.99</td>\n",
       "      <td>59.90</td>\n",
       "    </tr>\n",
       "    <tr>\n",
       "      <th>4</th>\n",
       "      <td>Wednesday</td>\n",
       "      <td>Espresso</td>\n",
       "      <td>35.0</td>\n",
       "      <td>3.99</td>\n",
       "      <td>139.65</td>\n",
       "    </tr>\n",
       "    <tr>\n",
       "      <th>5</th>\n",
       "      <td>Wednesday</td>\n",
       "      <td>Latte</td>\n",
       "      <td>25.0</td>\n",
       "      <td>5.99</td>\n",
       "      <td>149.75</td>\n",
       "    </tr>\n",
       "    <tr>\n",
       "      <th>6</th>\n",
       "      <td>Thursday</td>\n",
       "      <td>Espresso</td>\n",
       "      <td>40.0</td>\n",
       "      <td>3.99</td>\n",
       "      <td>159.60</td>\n",
       "    </tr>\n",
       "    <tr>\n",
       "      <th>7</th>\n",
       "      <td>Thursday</td>\n",
       "      <td>Latte</td>\n",
       "      <td>30.0</td>\n",
       "      <td>5.99</td>\n",
       "      <td>179.70</td>\n",
       "    </tr>\n",
       "    <tr>\n",
       "      <th>8</th>\n",
       "      <td>Friday</td>\n",
       "      <td>Espresso</td>\n",
       "      <td>45.0</td>\n",
       "      <td>3.99</td>\n",
       "      <td>179.55</td>\n",
       "    </tr>\n",
       "    <tr>\n",
       "      <th>9</th>\n",
       "      <td>Friday</td>\n",
       "      <td>Latte</td>\n",
       "      <td>35.0</td>\n",
       "      <td>5.99</td>\n",
       "      <td>209.65</td>\n",
       "    </tr>\n",
       "    <tr>\n",
       "      <th>10</th>\n",
       "      <td>Saturday</td>\n",
       "      <td>Espresso</td>\n",
       "      <td>45.0</td>\n",
       "      <td>3.99</td>\n",
       "      <td>179.55</td>\n",
       "    </tr>\n",
       "    <tr>\n",
       "      <th>11</th>\n",
       "      <td>Saturday</td>\n",
       "      <td>Latte</td>\n",
       "      <td>35.0</td>\n",
       "      <td>5.99</td>\n",
       "      <td>209.65</td>\n",
       "    </tr>\n",
       "    <tr>\n",
       "      <th>12</th>\n",
       "      <td>Sunday</td>\n",
       "      <td>Espresso</td>\n",
       "      <td>45.0</td>\n",
       "      <td>3.99</td>\n",
       "      <td>179.55</td>\n",
       "    </tr>\n",
       "    <tr>\n",
       "      <th>13</th>\n",
       "      <td>Sunday</td>\n",
       "      <td>Latte</td>\n",
       "      <td>35.0</td>\n",
       "      <td>5.99</td>\n",
       "      <td>209.65</td>\n",
       "    </tr>\n",
       "  </tbody>\n",
       "</table>\n",
       "</div>"
      ],
      "text/plain": [
       "          day coffee_type  units_sold  price  revenue\n",
       "0      Monday    Espresso        25.0   3.99    99.75\n",
       "1      Monday       Latte        10.0   5.99    59.90\n",
       "2     Tuesday    Espresso         NaN   3.99    39.90\n",
       "3     Tuesday       Latte         NaN   5.99    59.90\n",
       "4   Wednesday    Espresso        35.0   3.99   139.65\n",
       "5   Wednesday       Latte        25.0   5.99   149.75\n",
       "6    Thursday    Espresso        40.0   3.99   159.60\n",
       "7    Thursday       Latte        30.0   5.99   179.70\n",
       "8      Friday    Espresso        45.0   3.99   179.55\n",
       "9      Friday       Latte        35.0   5.99   209.65\n",
       "10   Saturday    Espresso        45.0   3.99   179.55\n",
       "11   Saturday       Latte        35.0   5.99   209.65\n",
       "12     Sunday    Espresso        45.0   3.99   179.55\n",
       "13     Sunday       Latte        35.0   5.99   209.65"
      ]
     },
     "execution_count": 144,
     "metadata": {},
     "output_type": "execute_result"
    }
   ],
   "source": [
    "import janitor\n",
    "\n",
    "coffee.clean_names()"
   ]
  },
  {
   "cell_type": "code",
   "execution_count": 145,
   "metadata": {},
   "outputs": [
    {
     "name": "stdout",
     "output_type": "stream",
     "text": [
      "Collecting skimpy\n",
      "  Downloading skimpy-0.0.18-py3-none-any.whl.metadata (34 kB)\n",
      "Collecting click>=8.1.7 (from skimpy)\n",
      "  Downloading click-8.2.1-py3-none-any.whl.metadata (2.5 kB)\n",
      "Requirement already satisfied: ipykernel>=6.29.5 in c:\\users\\arnold\\onedrive\\repositories\\tutorials\\complete-pandas-tutorial\\.venv\\lib\\site-packages (from skimpy) (6.29.5)\n",
      "Requirement already satisfied: numpy>=2.0.2 in c:\\users\\arnold\\onedrive\\repositories\\tutorials\\complete-pandas-tutorial\\.venv\\lib\\site-packages (from skimpy) (2.3.1)\n",
      "Collecting pandas-stubs>=2.2.2.240807 (from skimpy)\n",
      "  Downloading pandas_stubs-2.3.0.250703-py3-none-any.whl.metadata (10 kB)\n",
      "Requirement already satisfied: pandas>=2.2.3 in c:\\users\\arnold\\onedrive\\repositories\\tutorials\\complete-pandas-tutorial\\.venv\\lib\\site-packages (from skimpy) (2.3.1)\n",
      "Collecting polars>=1.17.1 (from skimpy)\n",
      "  Downloading polars-1.31.0-cp39-abi3-win_amd64.whl.metadata (15 kB)\n",
      "Requirement already satisfied: pygments>=2.18.0 in c:\\users\\arnold\\onedrive\\repositories\\tutorials\\complete-pandas-tutorial\\.venv\\lib\\site-packages (from skimpy) (2.19.2)\n",
      "Collecting rich>=13.9.4 (from skimpy)\n",
      "  Downloading rich-14.0.0-py3-none-any.whl.metadata (18 kB)\n",
      "Collecting typeguard>=4.4.1 (from skimpy)\n",
      "  Downloading typeguard-4.4.4-py3-none-any.whl.metadata (3.3 kB)\n",
      "Requirement already satisfied: pyarrow>=17.0.0 in c:\\users\\arnold\\onedrive\\repositories\\tutorials\\complete-pandas-tutorial\\.venv\\lib\\site-packages (from skimpy) (20.0.0)\n",
      "Requirement already satisfied: colorama in c:\\users\\arnold\\onedrive\\repositories\\tutorials\\complete-pandas-tutorial\\.venv\\lib\\site-packages (from click>=8.1.7->skimpy) (0.4.6)\n",
      "Requirement already satisfied: comm>=0.1.1 in c:\\users\\arnold\\onedrive\\repositories\\tutorials\\complete-pandas-tutorial\\.venv\\lib\\site-packages (from ipykernel>=6.29.5->skimpy) (0.2.2)\n",
      "Requirement already satisfied: debugpy>=1.6.5 in c:\\users\\arnold\\onedrive\\repositories\\tutorials\\complete-pandas-tutorial\\.venv\\lib\\site-packages (from ipykernel>=6.29.5->skimpy) (1.8.15)\n",
      "Requirement already satisfied: ipython>=7.23.1 in c:\\users\\arnold\\onedrive\\repositories\\tutorials\\complete-pandas-tutorial\\.venv\\lib\\site-packages (from ipykernel>=6.29.5->skimpy) (9.4.0)\n",
      "Requirement already satisfied: jupyter-client>=6.1.12 in c:\\users\\arnold\\onedrive\\repositories\\tutorials\\complete-pandas-tutorial\\.venv\\lib\\site-packages (from ipykernel>=6.29.5->skimpy) (8.6.3)\n",
      "Requirement already satisfied: jupyter-core!=5.0.*,>=4.12 in c:\\users\\arnold\\onedrive\\repositories\\tutorials\\complete-pandas-tutorial\\.venv\\lib\\site-packages (from ipykernel>=6.29.5->skimpy) (5.8.1)\n",
      "Requirement already satisfied: matplotlib-inline>=0.1 in c:\\users\\arnold\\onedrive\\repositories\\tutorials\\complete-pandas-tutorial\\.venv\\lib\\site-packages (from ipykernel>=6.29.5->skimpy) (0.1.7)\n",
      "Requirement already satisfied: nest-asyncio in c:\\users\\arnold\\onedrive\\repositories\\tutorials\\complete-pandas-tutorial\\.venv\\lib\\site-packages (from ipykernel>=6.29.5->skimpy) (1.6.0)\n",
      "Requirement already satisfied: packaging in c:\\users\\arnold\\onedrive\\repositories\\tutorials\\complete-pandas-tutorial\\.venv\\lib\\site-packages (from ipykernel>=6.29.5->skimpy) (25.0)\n",
      "Requirement already satisfied: psutil in c:\\users\\arnold\\onedrive\\repositories\\tutorials\\complete-pandas-tutorial\\.venv\\lib\\site-packages (from ipykernel>=6.29.5->skimpy) (7.0.0)\n",
      "Requirement already satisfied: pyzmq>=24 in c:\\users\\arnold\\onedrive\\repositories\\tutorials\\complete-pandas-tutorial\\.venv\\lib\\site-packages (from ipykernel>=6.29.5->skimpy) (27.0.0)\n",
      "Requirement already satisfied: tornado>=6.1 in c:\\users\\arnold\\onedrive\\repositories\\tutorials\\complete-pandas-tutorial\\.venv\\lib\\site-packages (from ipykernel>=6.29.5->skimpy) (6.5.1)\n",
      "Requirement already satisfied: traitlets>=5.4.0 in c:\\users\\arnold\\onedrive\\repositories\\tutorials\\complete-pandas-tutorial\\.venv\\lib\\site-packages (from ipykernel>=6.29.5->skimpy) (5.14.3)\n",
      "Requirement already satisfied: decorator in c:\\users\\arnold\\onedrive\\repositories\\tutorials\\complete-pandas-tutorial\\.venv\\lib\\site-packages (from ipython>=7.23.1->ipykernel>=6.29.5->skimpy) (5.2.1)\n",
      "Requirement already satisfied: ipython-pygments-lexers in c:\\users\\arnold\\onedrive\\repositories\\tutorials\\complete-pandas-tutorial\\.venv\\lib\\site-packages (from ipython>=7.23.1->ipykernel>=6.29.5->skimpy) (1.1.1)\n",
      "Requirement already satisfied: jedi>=0.16 in c:\\users\\arnold\\onedrive\\repositories\\tutorials\\complete-pandas-tutorial\\.venv\\lib\\site-packages (from ipython>=7.23.1->ipykernel>=6.29.5->skimpy) (0.19.2)\n",
      "Requirement already satisfied: prompt_toolkit<3.1.0,>=3.0.41 in c:\\users\\arnold\\onedrive\\repositories\\tutorials\\complete-pandas-tutorial\\.venv\\lib\\site-packages (from ipython>=7.23.1->ipykernel>=6.29.5->skimpy) (3.0.51)\n",
      "Requirement already satisfied: stack_data in c:\\users\\arnold\\onedrive\\repositories\\tutorials\\complete-pandas-tutorial\\.venv\\lib\\site-packages (from ipython>=7.23.1->ipykernel>=6.29.5->skimpy) (0.6.3)\n",
      "Requirement already satisfied: wcwidth in c:\\users\\arnold\\onedrive\\repositories\\tutorials\\complete-pandas-tutorial\\.venv\\lib\\site-packages (from prompt_toolkit<3.1.0,>=3.0.41->ipython>=7.23.1->ipykernel>=6.29.5->skimpy) (0.2.13)\n",
      "Requirement already satisfied: parso<0.9.0,>=0.8.4 in c:\\users\\arnold\\onedrive\\repositories\\tutorials\\complete-pandas-tutorial\\.venv\\lib\\site-packages (from jedi>=0.16->ipython>=7.23.1->ipykernel>=6.29.5->skimpy) (0.8.4)\n",
      "Requirement already satisfied: python-dateutil>=2.8.2 in c:\\users\\arnold\\onedrive\\repositories\\tutorials\\complete-pandas-tutorial\\.venv\\lib\\site-packages (from jupyter-client>=6.1.12->ipykernel>=6.29.5->skimpy) (2.9.0.post0)\n",
      "Requirement already satisfied: platformdirs>=2.5 in c:\\users\\arnold\\onedrive\\repositories\\tutorials\\complete-pandas-tutorial\\.venv\\lib\\site-packages (from jupyter-core!=5.0.*,>=4.12->ipykernel>=6.29.5->skimpy) (4.3.8)\n",
      "Requirement already satisfied: pywin32>=300 in c:\\users\\arnold\\onedrive\\repositories\\tutorials\\complete-pandas-tutorial\\.venv\\lib\\site-packages (from jupyter-core!=5.0.*,>=4.12->ipykernel>=6.29.5->skimpy) (311)\n",
      "Requirement already satisfied: pytz>=2020.1 in c:\\users\\arnold\\onedrive\\repositories\\tutorials\\complete-pandas-tutorial\\.venv\\lib\\site-packages (from pandas>=2.2.3->skimpy) (2025.2)\n",
      "Requirement already satisfied: tzdata>=2022.7 in c:\\users\\arnold\\onedrive\\repositories\\tutorials\\complete-pandas-tutorial\\.venv\\lib\\site-packages (from pandas>=2.2.3->skimpy) (2025.2)\n",
      "Collecting types-pytz>=2022.1.1 (from pandas-stubs>=2.2.2.240807->skimpy)\n",
      "  Downloading types_pytz-2025.2.0.20250516-py3-none-any.whl.metadata (1.8 kB)\n",
      "Requirement already satisfied: six>=1.5 in c:\\users\\arnold\\onedrive\\repositories\\tutorials\\complete-pandas-tutorial\\.venv\\lib\\site-packages (from python-dateutil>=2.8.2->jupyter-client>=6.1.12->ipykernel>=6.29.5->skimpy) (1.17.0)\n",
      "Collecting markdown-it-py>=2.2.0 (from rich>=13.9.4->skimpy)\n",
      "  Downloading markdown_it_py-3.0.0-py3-none-any.whl.metadata (6.9 kB)\n",
      "Collecting mdurl~=0.1 (from markdown-it-py>=2.2.0->rich>=13.9.4->skimpy)\n",
      "  Downloading mdurl-0.1.2-py3-none-any.whl.metadata (1.6 kB)\n",
      "Collecting typing_extensions>=4.14.0 (from typeguard>=4.4.1->skimpy)\n",
      "  Downloading typing_extensions-4.14.1-py3-none-any.whl.metadata (3.0 kB)\n",
      "Requirement already satisfied: executing>=1.2.0 in c:\\users\\arnold\\onedrive\\repositories\\tutorials\\complete-pandas-tutorial\\.venv\\lib\\site-packages (from stack_data->ipython>=7.23.1->ipykernel>=6.29.5->skimpy) (2.2.0)\n",
      "Requirement already satisfied: asttokens>=2.1.0 in c:\\users\\arnold\\onedrive\\repositories\\tutorials\\complete-pandas-tutorial\\.venv\\lib\\site-packages (from stack_data->ipython>=7.23.1->ipykernel>=6.29.5->skimpy) (3.0.0)\n",
      "Requirement already satisfied: pure-eval in c:\\users\\arnold\\onedrive\\repositories\\tutorials\\complete-pandas-tutorial\\.venv\\lib\\site-packages (from stack_data->ipython>=7.23.1->ipykernel>=6.29.5->skimpy) (0.2.3)\n",
      "Downloading skimpy-0.0.18-py3-none-any.whl (17 kB)\n",
      "Downloading click-8.2.1-py3-none-any.whl (102 kB)\n",
      "Downloading pandas_stubs-2.3.0.250703-py3-none-any.whl (154 kB)\n",
      "Downloading polars-1.31.0-cp39-abi3-win_amd64.whl (35.2 MB)\n",
      "   ---------------------------------------- 0.0/35.2 MB ? eta -:--:--\n",
      "    --------------------------------------- 0.8/35.2 MB 3.5 MB/s eta 0:00:10\n",
      "   -- ------------------------------------- 1.8/35.2 MB 4.3 MB/s eta 0:00:08\n",
      "   --- ------------------------------------ 3.1/35.2 MB 6.1 MB/s eta 0:00:06\n",
      "   ----- ---------------------------------- 4.7/35.2 MB 5.7 MB/s eta 0:00:06\n",
      "   -------- ------------------------------- 7.3/35.2 MB 7.0 MB/s eta 0:00:04\n",
      "   ---------- ----------------------------- 9.4/35.2 MB 7.5 MB/s eta 0:00:04\n",
      "   ------------- -------------------------- 11.8/35.2 MB 8.1 MB/s eta 0:00:03\n",
      "   ---------------- ----------------------- 14.4/35.2 MB 8.6 MB/s eta 0:00:03\n",
      "   ------------------- -------------------- 16.8/35.2 MB 9.0 MB/s eta 0:00:03\n",
      "   ---------------------- ----------------- 19.4/35.2 MB 9.3 MB/s eta 0:00:02\n",
      "   ------------------------- -------------- 22.0/35.2 MB 9.5 MB/s eta 0:00:02\n",
      "   --------------------------- ------------ 24.4/35.2 MB 9.7 MB/s eta 0:00:02\n",
      "   ------------------------------ --------- 26.7/35.2 MB 9.9 MB/s eta 0:00:01\n",
      "   ------------------------------- -------- 27.5/35.2 MB 9.4 MB/s eta 0:00:01\n",
      "   ---------------------------------- ----- 29.9/35.2 MB 9.6 MB/s eta 0:00:01\n",
      "   ------------------------------------ --- 32.5/35.2 MB 9.7 MB/s eta 0:00:01\n",
      "   ---------------------------------------  34.9/35.2 MB 9.8 MB/s eta 0:00:01\n",
      "   ---------------------------------------- 35.2/35.2 MB 9.7 MB/s eta 0:00:00\n",
      "Downloading rich-14.0.0-py3-none-any.whl (243 kB)\n",
      "Downloading markdown_it_py-3.0.0-py3-none-any.whl (87 kB)\n",
      "Downloading mdurl-0.1.2-py3-none-any.whl (10.0 kB)\n",
      "Downloading typeguard-4.4.4-py3-none-any.whl (34 kB)\n",
      "Downloading types_pytz-2025.2.0.20250516-py3-none-any.whl (10 kB)\n",
      "Downloading typing_extensions-4.14.1-py3-none-any.whl (43 kB)\n",
      "Installing collected packages: typing_extensions, types-pytz, polars, mdurl, click, typeguard, pandas-stubs, markdown-it-py, rich, skimpy\n",
      "\n",
      "   -------- -------------------------------  2/10 [polars]\n",
      "   -------- -------------------------------  2/10 [polars]\n",
      "   -------- -------------------------------  2/10 [polars]\n",
      "   -------- -------------------------------  2/10 [polars]\n",
      "   -------- -------------------------------  2/10 [polars]\n",
      "   -------- -------------------------------  2/10 [polars]\n",
      "   -------- -------------------------------  2/10 [polars]\n",
      "   -------- -------------------------------  2/10 [polars]\n",
      "   -------- -------------------------------  2/10 [polars]\n",
      "   -------- -------------------------------  2/10 [polars]\n",
      "   ---------------- -----------------------  4/10 [click]\n",
      "   ------------------------ ---------------  6/10 [pandas-stubs]\n",
      "   ---------------------------- -----------  7/10 [markdown-it-py]\n",
      "   ---------------------------- -----------  7/10 [markdown-it-py]\n",
      "   -------------------------------- -------  8/10 [rich]\n",
      "   -------------------------------- -------  8/10 [rich]\n",
      "   -------------------------------- -------  8/10 [rich]\n",
      "   ---------------------------------------- 10/10 [skimpy]\n",
      "\n",
      "Successfully installed click-8.2.1 markdown-it-py-3.0.0 mdurl-0.1.2 pandas-stubs-2.3.0.250703 polars-1.31.0 rich-14.0.0 skimpy-0.0.18 typeguard-4.4.4 types-pytz-2025.2.0.20250516 typing_extensions-4.14.1\n"
     ]
    }
   ],
   "source": [
    "!pip install skimpy"
   ]
  },
  {
   "cell_type": "code",
   "execution_count": 146,
   "metadata": {},
   "outputs": [
    {
     "data": {
      "text/html": [
       "<pre style=\"white-space:pre;overflow-x:auto;line-height:normal;font-family:Menlo,'DejaVu Sans Mono',consolas,'Courier New',monospace\">╭──────────────────────────────────────────────── skimpy summary ─────────────────────────────────────────────────╮\n",
       "│ <span style=\"font-style: italic\">         Data Summary         </span> <span style=\"font-style: italic\">      Data Types       </span>                                                          │\n",
       "│ ┏━━━━━━━━━━━━━━━━━━━┳━━━━━━━━┓ ┏━━━━━━━━━━━━━┳━━━━━━━┓                                                          │\n",
       "│ ┃<span style=\"color: #008080; text-decoration-color: #008080; font-weight: bold\"> Dataframe         </span>┃<span style=\"color: #008080; text-decoration-color: #008080; font-weight: bold\"> Values </span>┃ ┃<span style=\"color: #008080; text-decoration-color: #008080; font-weight: bold\"> Column Type </span>┃<span style=\"color: #008080; text-decoration-color: #008080; font-weight: bold\"> Count </span>┃                                                          │\n",
       "│ ┡━━━━━━━━━━━━━━━━━━━╇━━━━━━━━┩ ┡━━━━━━━━━━━━━╇━━━━━━━┩                                                          │\n",
       "│ │ Number of rows    │ 308408 │ │ string      │ 7     │                                                          │\n",
       "│ │ Number of columns │ 11     │ │ float64     │ 2     │                                                          │\n",
       "│ └───────────────────┴────────┘ │ int64       │ 1     │                                                          │\n",
       "│                                │ bool        │ 1     │                                                          │\n",
       "│                                └─────────────┴───────┘                                                          │\n",
       "│ <span style=\"font-style: italic\">                                                    number                                                    </span>  │\n",
       "│ ┏━━━━━━━━━━━━━┳━━━━━━━┳━━━━━━━━━━━━━━━━━━━━┳━━━━━━━┳━━━━━━━┳━━━━━━┳━━━━━━━┳━━━━━━━┳━━━━━━━━┳━━━━━━━━┳━━━━━━━━┓  │\n",
       "│ ┃<span style=\"font-weight: bold\"> column      </span>┃<span style=\"font-weight: bold\"> NA    </span>┃<span style=\"font-weight: bold\"> NA %               </span>┃<span style=\"font-weight: bold\"> mean  </span>┃<span style=\"font-weight: bold\"> sd    </span>┃<span style=\"font-weight: bold\"> p0   </span>┃<span style=\"font-weight: bold\"> p25   </span>┃<span style=\"font-weight: bold\"> p50   </span>┃<span style=\"font-weight: bold\"> p75    </span>┃<span style=\"font-weight: bold\"> p100   </span>┃<span style=\"font-weight: bold\"> hist   </span>┃  │\n",
       "│ ┡━━━━━━━━━━━━━╇━━━━━━━╇━━━━━━━━━━━━━━━━━━━━╇━━━━━━━╇━━━━━━━╇━━━━━━╇━━━━━━━╇━━━━━━━╇━━━━━━━━╇━━━━━━━━╇━━━━━━━━┩  │\n",
       "│ │ <span style=\"color: #af87ff; text-decoration-color: #af87ff\">year       </span> │ <span style=\"color: #008080; text-decoration-color: #008080\"> 2601</span> │ <span style=\"color: #008080; text-decoration-color: #008080\">0.8433633368784208</span> │ <span style=\"color: #008080; text-decoration-color: #008080\"> 1982</span> │ <span style=\"color: #008080; text-decoration-color: #008080\">30.98</span> │ <span style=\"color: #008080; text-decoration-color: #008080\">1896</span> │ <span style=\"color: #008080; text-decoration-color: #008080\"> 1964</span> │ <span style=\"color: #008080; text-decoration-color: #008080\"> 1992</span> │ <span style=\"color: #008080; text-decoration-color: #008080\">  2008</span> │ <span style=\"color: #008080; text-decoration-color: #008080\">  2022</span> │ <span style=\"color: #008000; text-decoration-color: #008000\">▁▂▂▅▇▇</span> │  │\n",
       "│ │ <span style=\"color: #af87ff; text-decoration-color: #af87ff\">athlete_id </span> │ <span style=\"color: #008080; text-decoration-color: #008080\">    0</span> │ <span style=\"color: #008080; text-decoration-color: #008080\">                 0</span> │ <span style=\"color: #008080; text-decoration-color: #008080\">72620</span> │ <span style=\"color: #008080; text-decoration-color: #008080\">41290</span> │ <span style=\"color: #008080; text-decoration-color: #008080\">   1</span> │ <span style=\"color: #008080; text-decoration-color: #008080\">34410</span> │ <span style=\"color: #008080; text-decoration-color: #008080\">73740</span> │ <span style=\"color: #008080; text-decoration-color: #008080\">107200</span> │ <span style=\"color: #008080; text-decoration-color: #008080\">149000</span> │ <span style=\"color: #008000; text-decoration-color: #008000\">▆▇▆▇▇▅</span> │  │\n",
       "│ │ <span style=\"color: #af87ff; text-decoration-color: #af87ff\">place      </span> │ <span style=\"color: #008080; text-decoration-color: #008080\">25215</span> │ <span style=\"color: #008080; text-decoration-color: #008080\">  8.17585795439807</span> │ <span style=\"color: #008080; text-decoration-color: #008080\"> 16.1</span> │ <span style=\"color: #008080; text-decoration-color: #008080\">19.32</span> │ <span style=\"color: #008080; text-decoration-color: #008080\">   1</span> │ <span style=\"color: #008080; text-decoration-color: #008080\">    5</span> │ <span style=\"color: #008080; text-decoration-color: #008080\">    9</span> │ <span style=\"color: #008080; text-decoration-color: #008080\">    20</span> │ <span style=\"color: #008080; text-decoration-color: #008080\">   185</span> │ <span style=\"color: #008000; text-decoration-color: #008000\">  ▇▁  </span> │  │\n",
       "│ └─────────────┴───────┴────────────────────┴───────┴───────┴──────┴───────┴───────┴────────┴────────┴────────┘  │\n",
       "│ <span style=\"font-style: italic\">                                                     bool                                                     </span>  │\n",
       "│ ┏━━━━━━━━━━━━━━━━━━━━━━━━━┳━━━━━━━━━━━━━━━━━━━━━━┳━━━━━━━━━━━━━━━━━━━━━━━━━━━━━━━━━━┳━━━━━━━━━━━━━━━━━━━━━━━━┓  │\n",
       "│ ┃<span style=\"font-weight: bold\"> column                  </span>┃<span style=\"font-weight: bold\"> true                 </span>┃<span style=\"font-weight: bold\"> true rate                        </span>┃<span style=\"font-weight: bold\"> hist                   </span>┃  │\n",
       "│ ┡━━━━━━━━━━━━━━━━━━━━━━━━━╇━━━━━━━━━━━━━━━━━━━━━━╇━━━━━━━━━━━━━━━━━━━━━━━━━━━━━━━━━━╇━━━━━━━━━━━━━━━━━━━━━━━━┩  │\n",
       "│ │ <span style=\"color: #af87ff; text-decoration-color: #af87ff\">tied                   </span> │ <span style=\"color: #008080; text-decoration-color: #008080\">               45940</span> │ <span style=\"color: #008080; text-decoration-color: #008080\">                            0.15</span> │ <span style=\"color: #008000; text-decoration-color: #008000\">        ▇    ▁        </span> │  │\n",
       "│ └─────────────────────────┴──────────────────────┴──────────────────────────────────┴────────────────────────┘  │\n",
       "│ <span style=\"font-style: italic\">                                                    string                                                    </span>  │\n",
       "│ ┏━━━━━━━━━━┳━━━━━━━━┳━━━━━━━━━━┳━━━━━━━━━━┳━━━━━━━━━━┳━━━━━━━━━━┳━━━━━━━━━━┳━━━━━━━━━━┳━━━━━━━━━━┳━━━━━━━━━━━┓  │\n",
       "│ ┃<span style=\"font-weight: bold\">          </span>┃<span style=\"font-weight: bold\">        </span>┃<span style=\"font-weight: bold\">          </span>┃<span style=\"font-weight: bold\">          </span>┃<span style=\"font-weight: bold\">          </span>┃<span style=\"font-weight: bold\">          </span>┃<span style=\"font-weight: bold\">          </span>┃<span style=\"font-weight: bold\"> chars    </span>┃<span style=\"font-weight: bold\"> words    </span>┃<span style=\"font-weight: bold\"> total     </span>┃  │\n",
       "│ ┃<span style=\"font-weight: bold\"> column   </span>┃<span style=\"font-weight: bold\"> NA     </span>┃<span style=\"font-weight: bold\"> NA %     </span>┃<span style=\"font-weight: bold\"> shortest </span>┃<span style=\"font-weight: bold\"> longest  </span>┃<span style=\"font-weight: bold\"> min      </span>┃<span style=\"font-weight: bold\"> max      </span>┃<span style=\"font-weight: bold\"> per row  </span>┃<span style=\"font-weight: bold\"> per row  </span>┃<span style=\"font-weight: bold\"> words     </span>┃  │\n",
       "│ ┡━━━━━━━━━━╇━━━━━━━━╇━━━━━━━━━━╇━━━━━━━━━━╇━━━━━━━━━━╇━━━━━━━━━━╇━━━━━━━━━━╇━━━━━━━━━━╇━━━━━━━━━━╇━━━━━━━━━━━┩  │\n",
       "│ │ <span style=\"color: #af87ff; text-decoration-color: #af87ff\">type    </span> │ <span style=\"color: #008080; text-decoration-color: #008080\">  2601</span> │ <span style=\"color: #008080; text-decoration-color: #008080\">0.843363</span> │ <span style=\"color: #af87ff; text-decoration-color: #af87ff\">Summer  </span> │ <span style=\"color: #af87ff; text-decoration-color: #af87ff\">Summer  </span> │ <span style=\"color: #af87ff; text-decoration-color: #af87ff\">Summer  </span> │ <span style=\"color: #af87ff; text-decoration-color: #af87ff\">Winter  </span> │ <span style=\"color: #008080; text-decoration-color: #008080\">       6</span> │ <span style=\"color: #008080; text-decoration-color: #008080\">    0.99</span> │ <span style=\"color: #008080; text-decoration-color: #008080\">   305807</span> │  │\n",
       "│ │          │        │ <span style=\"color: #008080; text-decoration-color: #008080\">33687842</span> │          │          │          │          │          │          │           │  │\n",
       "│ │          │        │ <span style=\"color: #008080; text-decoration-color: #008080\">      08</span> │          │          │          │          │          │          │           │  │\n",
       "│ │ <span style=\"color: #af87ff; text-decoration-color: #af87ff\">discipli</span> │ <span style=\"color: #008080; text-decoration-color: #008080\">     1</span> │ <span style=\"color: #008080; text-decoration-color: #008080\">0.000324</span> │ <span style=\"color: #af87ff; text-decoration-color: #af87ff\">Golf    </span> │ <span style=\"color: #af87ff; text-decoration-color: #af87ff\">Short   </span> │ <span style=\"color: #af87ff; text-decoration-color: #af87ff\">3-on-3  </span> │ <span style=\"color: #af87ff; text-decoration-color: #af87ff\">Wrestlin</span> │ <span style=\"color: #008080; text-decoration-color: #008080\">    16.7</span> │ <span style=\"color: #008080; text-decoration-color: #008080\">       2</span> │ <span style=\"color: #008080; text-decoration-color: #008080\">   610211</span> │  │\n",
       "│ │ <span style=\"color: #af87ff; text-decoration-color: #af87ff\">ne      </span> │        │ <span style=\"color: #008080; text-decoration-color: #008080\">24580425</span> │          │ <span style=\"color: #af87ff; text-decoration-color: #af87ff\">Track   </span> │ <span style=\"color: #af87ff; text-decoration-color: #af87ff\">Ice     </span> │ <span style=\"color: #af87ff; text-decoration-color: #af87ff\">g       </span> │          │          │           │  │\n",
       "│ │          │        │ <span style=\"color: #008080; text-decoration-color: #008080\">  929287</span> │          │ <span style=\"color: #af87ff; text-decoration-color: #af87ff\">Speed   </span> │ <span style=\"color: #af87ff; text-decoration-color: #af87ff\">Hockey  </span> │          │          │          │           │  │\n",
       "│ │          │        │          │          │ <span style=\"color: #af87ff; text-decoration-color: #af87ff\">Skating </span> │ <span style=\"color: #af87ff; text-decoration-color: #af87ff\">(Ice    </span> │          │          │          │           │  │\n",
       "│ │          │        │          │          │ <span style=\"color: #af87ff; text-decoration-color: #af87ff\">(Skating</span> │ <span style=\"color: #af87ff; text-decoration-color: #af87ff\">Hockey) </span> │          │          │          │           │  │\n",
       "│ │          │        │          │          │ <span style=\"color: #af87ff; text-decoration-color: #af87ff\">)       </span> │          │          │          │          │           │  │\n",
       "│ │ <span style=\"color: #af87ff; text-decoration-color: #af87ff\">event   </span> │ <span style=\"color: #008080; text-decoration-color: #008080\">     0</span> │ <span style=\"color: #008080; text-decoration-color: #008080\">       0</span> │ <span style=\"color: #af87ff; text-decoration-color: #af87ff\">Polo    </span> │ <span style=\"color: #af87ff; text-decoration-color: #af87ff\">26th    </span> │ <span style=\"color: #af87ff; text-decoration-color: #af87ff\">0-½ Ton,</span> │ <span style=\"color: #af87ff; text-decoration-color: #af87ff\">≤85     </span> │ <span style=\"color: #008080; text-decoration-color: #008080\">    30.1</span> │ <span style=\"color: #008080; text-decoration-color: #008080\">     4.2</span> │ <span style=\"color: #008080; text-decoration-color: #008080\">  1303323</span> │  │\n",
       "│ │          │        │          │          │ <span style=\"color: #af87ff; text-decoration-color: #af87ff\">Federal </span> │ <span style=\"color: #af87ff; text-decoration-color: #af87ff\">Open    </span> │ <span style=\"color: #af87ff; text-decoration-color: #af87ff\">kilogram</span> │          │          │           │  │\n",
       "│ │          │        │          │          │ <span style=\"color: #af87ff; text-decoration-color: #af87ff\">Festival</span> │ <span style=\"color: #af87ff; text-decoration-color: #af87ff\">(Olympic</span> │ <span style=\"color: #af87ff; text-decoration-color: #af87ff\">s, Greco</span> │          │          │           │  │\n",
       "│ │          │        │          │          │ <span style=\"color: #af87ff; text-decoration-color: #af87ff\">,       </span> │ <span style=\"color: #af87ff; text-decoration-color: #af87ff\">)       </span> │ <span style=\"color: #af87ff; text-decoration-color: #af87ff\">Roman,  </span> │          │          │           │  │\n",
       "│ │          │        │          │          │ <span style=\"color: #af87ff; text-decoration-color: #af87ff\">Society </span> │          │ <span style=\"color: #af87ff; text-decoration-color: #af87ff\">Boys    </span> │          │          │           │  │\n",
       "│ │          │        │          │          │ <span style=\"color: #af87ff; text-decoration-color: #af87ff\">and     </span> │          │ <span style=\"color: #af87ff; text-decoration-color: #af87ff\">(YOG)   </span> │          │          │           │  │\n",
       "│ │          │        │          │          │ <span style=\"color: #af87ff; text-decoration-color: #af87ff\">Associat</span> │          │          │          │          │           │  │\n",
       "│ │          │        │          │          │ <span style=\"color: #af87ff; text-decoration-color: #af87ff\">ion     </span> │          │          │          │          │           │  │\n",
       "│ │          │        │          │          │ <span style=\"color: #af87ff; text-decoration-color: #af87ff\">Contests</span> │          │          │          │          │           │  │\n",
       "│ │          │        │          │          │ <span style=\"color: #af87ff; text-decoration-color: #af87ff\">,       </span> │          │          │          │          │           │  │\n",
       "│ │          │        │          │          │ <span style=\"color: #af87ff; text-decoration-color: #af87ff\">Non-Simu</span> │          │          │          │          │           │  │\n",
       "│ │          │        │          │          │ <span style=\"color: #af87ff; text-decoration-color: #af87ff\">ltaneous</span> │          │          │          │          │           │  │\n",
       "│ │          │        │          │          │ <span style=\"color: #af87ff; text-decoration-color: #af87ff\">,       </span> │          │          │          │          │           │  │\n",
       "│ │          │        │          │          │ <span style=\"color: #af87ff; text-decoration-color: #af87ff\">Shooting</span> │          │          │          │          │           │  │\n",
       "│ │          │        │          │          │ <span style=\"color: #af87ff; text-decoration-color: #af87ff\">Champion</span> │          │          │          │          │           │  │\n",
       "│ │          │        │          │          │ <span style=\"color: #af87ff; text-decoration-color: #af87ff\">ships,  </span> │          │          │          │          │           │  │\n",
       "│ │          │        │          │          │ <span style=\"color: #af87ff; text-decoration-color: #af87ff\">Honorary</span> │          │          │          │          │           │  │\n",
       "│ │          │        │          │          │ <span style=\"color: #af87ff; text-decoration-color: #af87ff\">Members </span> │          │          │          │          │           │  │\n",
       "│ │          │        │          │          │ <span style=\"color: #af87ff; text-decoration-color: #af87ff\">and     </span> │          │          │          │          │           │  │\n",
       "│ │          │        │          │          │ <span style=\"color: #af87ff; text-decoration-color: #af87ff\">Associat</span> │          │          │          │          │           │  │\n",
       "│ │          │        │          │          │ <span style=\"color: #af87ff; text-decoration-color: #af87ff\">es, Men </span> │          │          │          │          │           │  │\n",
       "│ │          │        │          │          │ <span style=\"color: #af87ff; text-decoration-color: #af87ff\">(Olympic</span> │          │          │          │          │           │  │\n",
       "│ │          │        │          │          │ <span style=\"color: #af87ff; text-decoration-color: #af87ff\">(non-med</span> │          │          │          │          │           │  │\n",
       "│ │          │        │          │          │ <span style=\"color: #af87ff; text-decoration-color: #af87ff\">al))    </span> │          │          │          │          │           │  │\n",
       "│ │ <span style=\"color: #af87ff; text-decoration-color: #af87ff\">as      </span> │ <span style=\"color: #008080; text-decoration-color: #008080\">     0</span> │ <span style=\"color: #008080; text-decoration-color: #008080\">       0</span> │ <span style=\"color: #af87ff; text-decoration-color: #af87ff\">SB      </span> │ <span style=\"color: #af87ff; text-decoration-color: #af87ff\">Georges,</span> │ <span style=\"color: #af87ff; text-decoration-color: #af87ff\">A J Kitt</span> │ <span style=\"color: #af87ff; text-decoration-color: #af87ff\">Аlex    </span> │ <span style=\"color: #008080; text-decoration-color: #008080\">      14</span> │ <span style=\"color: #008080; text-decoration-color: #008080\">     2.1</span> │ <span style=\"color: #008080; text-decoration-color: #008080\">   634574</span> │  │\n",
       "│ │          │        │          │          │ <span style=\"color: #af87ff; text-decoration-color: #af87ff\">Marquis </span> │          │ <span style=\"color: #af87ff; text-decoration-color: #af87ff\">Halcheni</span> │          │          │           │  │\n",
       "│ │          │        │          │          │ <span style=\"color: #af87ff; text-decoration-color: #af87ff\">de      </span> │          │ <span style=\"color: #af87ff; text-decoration-color: #af87ff\">uk      </span> │          │          │           │  │\n",
       "│ │          │        │          │          │ <span style=\"color: #af87ff; text-decoration-color: #af87ff\">Créqui-M</span> │          │          │          │          │           │  │\n",
       "│ │          │        │          │          │ <span style=\"color: #af87ff; text-decoration-color: #af87ff\">ontfort </span> │          │          │          │          │           │  │\n",
       "│ │          │        │          │          │ <span style=\"color: #af87ff; text-decoration-color: #af87ff\">de      </span> │          │          │          │          │           │  │\n",
       "│ │          │        │          │          │ <span style=\"color: #af87ff; text-decoration-color: #af87ff\">Courtivr</span> │          │          │          │          │           │  │\n",
       "│ │          │        │          │          │ <span style=\"color: #af87ff; text-decoration-color: #af87ff\">on      </span> │          │          │          │          │           │  │\n",
       "│ │ <span style=\"color: #af87ff; text-decoration-color: #af87ff\">noc     </span> │ <span style=\"color: #008080; text-decoration-color: #008080\">     1</span> │ <span style=\"color: #008080; text-decoration-color: #008080\">0.000324</span> │ <span style=\"color: #af87ff; text-decoration-color: #af87ff\">FRA     </span> │ <span style=\"color: #af87ff; text-decoration-color: #af87ff\">FRA     </span> │ <span style=\"color: #af87ff; text-decoration-color: #af87ff\">AFG     </span> │ <span style=\"color: #af87ff; text-decoration-color: #af87ff\">ZIM     </span> │ <span style=\"color: #008080; text-decoration-color: #008080\">       3</span> │ <span style=\"color: #008080; text-decoration-color: #008080\">       1</span> │ <span style=\"color: #008080; text-decoration-color: #008080\">   308407</span> │  │\n",
       "│ │          │        │ <span style=\"color: #008080; text-decoration-color: #008080\">24580425</span> │          │          │          │          │          │          │           │  │\n",
       "│ │          │        │ <span style=\"color: #008080; text-decoration-color: #008080\">  929287</span> │          │          │          │          │          │          │           │  │\n",
       "│ │ <span style=\"color: #af87ff; text-decoration-color: #af87ff\">team    </span> │ <span style=\"color: #008080; text-decoration-color: #008080\">186694</span> │ <span style=\"color: #008080; text-decoration-color: #008080\">60.53474</span> │ <span style=\"color: #af87ff; text-decoration-color: #af87ff\">C       </span> │ <span style=\"color: #af87ff; text-decoration-color: #af87ff\">Victoria</span> │ <span style=\"color: #af87ff; text-decoration-color: #af87ff\">'t      </span> │ <span style=\"color: #af87ff; text-decoration-color: #af87ff\">Ștefan  </span> │ <span style=\"color: #008080; text-decoration-color: #008080\">    10.2</span> │ <span style=\"color: #008080; text-decoration-color: #008080\">    0.62</span> │ <span style=\"color: #008080; text-decoration-color: #008080\">   190405</span> │  │\n",
       "│ │          │        │ <span style=\"color: #008080; text-decoration-color: #008080\">61803844</span> │          │ <span style=\"color: #af87ff; text-decoration-color: #af87ff\">n       </span> │ <span style=\"color: #af87ff; text-decoration-color: #af87ff\">Soulaiky</span> │ <span style=\"color: #af87ff; text-decoration-color: #af87ff\">Vasile  </span> │          │          │           │  │\n",
       "│ │          │        │ <span style=\"color: #008080; text-decoration-color: #008080\">      24</span> │          │ <span style=\"color: #af87ff; text-decoration-color: #af87ff\">Football</span> │          │          │          │          │           │  │\n",
       "│ │          │        │          │          │ <span style=\"color: #af87ff; text-decoration-color: #af87ff\">League/V</span> │          │          │          │          │           │  │\n",
       "│ │          │        │          │          │ <span style=\"color: #af87ff; text-decoration-color: #af87ff\">ictorian</span> │          │          │          │          │           │  │\n",
       "│ │          │        │          │          │ <span style=\"color: #af87ff; text-decoration-color: #af87ff\">        </span> │          │          │          │          │           │  │\n",
       "│ │          │        │          │          │ <span style=\"color: #af87ff; text-decoration-color: #af87ff\">Football</span> │          │          │          │          │           │  │\n",
       "│ │          │        │          │          │ <span style=\"color: #af87ff; text-decoration-color: #af87ff\">Associat</span> │          │          │          │          │           │  │\n",
       "│ │          │        │          │          │ <span style=\"color: #af87ff; text-decoration-color: #af87ff\">ion     </span> │          │          │          │          │           │  │\n",
       "│ │ <span style=\"color: #af87ff; text-decoration-color: #af87ff\">medal   </span> │ <span style=\"color: #008080; text-decoration-color: #008080\">264269</span> │ <span style=\"color: #008080; text-decoration-color: #008080\">85.68811</span> │ <span style=\"color: #af87ff; text-decoration-color: #af87ff\">Gold    </span> │ <span style=\"color: #af87ff; text-decoration-color: #af87ff\">Bronze  </span> │ <span style=\"color: #af87ff; text-decoration-color: #af87ff\">Bronze  </span> │ <span style=\"color: #af87ff; text-decoration-color: #af87ff\">Silver  </span> │ <span style=\"color: #008080; text-decoration-color: #008080\">    5.33</span> │ <span style=\"color: #008080; text-decoration-color: #008080\">    0.14</span> │ <span style=\"color: #008080; text-decoration-color: #008080\">    44139</span> │  │\n",
       "│ │          │        │ <span style=\"color: #008080; text-decoration-color: #008080\">44457990</span> │          │          │          │          │          │          │           │  │\n",
       "│ │          │        │ <span style=\"color: #008080; text-decoration-color: #008080\">       7</span> │          │          │          │          │          │          │           │  │\n",
       "│ └──────────┴────────┴──────────┴──────────┴──────────┴──────────┴──────────┴──────────┴──────────┴───────────┘  │\n",
       "╰────────────────────────────────────────────────────── End ──────────────────────────────────────────────────────╯\n",
       "</pre>\n"
      ],
      "text/plain": [
       "╭──────────────────────────────────────────────── skimpy summary ─────────────────────────────────────────────────╮\n",
       "│ \u001b[3m         Data Summary         \u001b[0m \u001b[3m      Data Types       \u001b[0m                                                          │\n",
       "│ ┏━━━━━━━━━━━━━━━━━━━┳━━━━━━━━┓ ┏━━━━━━━━━━━━━┳━━━━━━━┓                                                          │\n",
       "│ ┃\u001b[1;36m \u001b[0m\u001b[1;36mDataframe        \u001b[0m\u001b[1;36m \u001b[0m┃\u001b[1;36m \u001b[0m\u001b[1;36mValues\u001b[0m\u001b[1;36m \u001b[0m┃ ┃\u001b[1;36m \u001b[0m\u001b[1;36mColumn Type\u001b[0m\u001b[1;36m \u001b[0m┃\u001b[1;36m \u001b[0m\u001b[1;36mCount\u001b[0m\u001b[1;36m \u001b[0m┃                                                          │\n",
       "│ ┡━━━━━━━━━━━━━━━━━━━╇━━━━━━━━┩ ┡━━━━━━━━━━━━━╇━━━━━━━┩                                                          │\n",
       "│ │ Number of rows    │ 308408 │ │ string      │ 7     │                                                          │\n",
       "│ │ Number of columns │ 11     │ │ float64     │ 2     │                                                          │\n",
       "│ └───────────────────┴────────┘ │ int64       │ 1     │                                                          │\n",
       "│                                │ bool        │ 1     │                                                          │\n",
       "│                                └─────────────┴───────┘                                                          │\n",
       "│ \u001b[3m                                                    number                                                    \u001b[0m  │\n",
       "│ ┏━━━━━━━━━━━━━┳━━━━━━━┳━━━━━━━━━━━━━━━━━━━━┳━━━━━━━┳━━━━━━━┳━━━━━━┳━━━━━━━┳━━━━━━━┳━━━━━━━━┳━━━━━━━━┳━━━━━━━━┓  │\n",
       "│ ┃\u001b[1m \u001b[0m\u001b[1mcolumn     \u001b[0m\u001b[1m \u001b[0m┃\u001b[1m \u001b[0m\u001b[1mNA   \u001b[0m\u001b[1m \u001b[0m┃\u001b[1m \u001b[0m\u001b[1mNA %              \u001b[0m\u001b[1m \u001b[0m┃\u001b[1m \u001b[0m\u001b[1mmean \u001b[0m\u001b[1m \u001b[0m┃\u001b[1m \u001b[0m\u001b[1msd   \u001b[0m\u001b[1m \u001b[0m┃\u001b[1m \u001b[0m\u001b[1mp0  \u001b[0m\u001b[1m \u001b[0m┃\u001b[1m \u001b[0m\u001b[1mp25  \u001b[0m\u001b[1m \u001b[0m┃\u001b[1m \u001b[0m\u001b[1mp50  \u001b[0m\u001b[1m \u001b[0m┃\u001b[1m \u001b[0m\u001b[1mp75   \u001b[0m\u001b[1m \u001b[0m┃\u001b[1m \u001b[0m\u001b[1mp100  \u001b[0m\u001b[1m \u001b[0m┃\u001b[1m \u001b[0m\u001b[1mhist  \u001b[0m\u001b[1m \u001b[0m┃  │\n",
       "│ ┡━━━━━━━━━━━━━╇━━━━━━━╇━━━━━━━━━━━━━━━━━━━━╇━━━━━━━╇━━━━━━━╇━━━━━━╇━━━━━━━╇━━━━━━━╇━━━━━━━━╇━━━━━━━━╇━━━━━━━━┩  │\n",
       "│ │ \u001b[38;5;141myear       \u001b[0m │ \u001b[36m 2601\u001b[0m │ \u001b[36m0.8433633368784208\u001b[0m │ \u001b[36m 1982\u001b[0m │ \u001b[36m30.98\u001b[0m │ \u001b[36m1896\u001b[0m │ \u001b[36m 1964\u001b[0m │ \u001b[36m 1992\u001b[0m │ \u001b[36m  2008\u001b[0m │ \u001b[36m  2022\u001b[0m │ \u001b[32m▁▂▂▅▇▇\u001b[0m │  │\n",
       "│ │ \u001b[38;5;141mathlete_id \u001b[0m │ \u001b[36m    0\u001b[0m │ \u001b[36m                 0\u001b[0m │ \u001b[36m72620\u001b[0m │ \u001b[36m41290\u001b[0m │ \u001b[36m   1\u001b[0m │ \u001b[36m34410\u001b[0m │ \u001b[36m73740\u001b[0m │ \u001b[36m107200\u001b[0m │ \u001b[36m149000\u001b[0m │ \u001b[32m▆▇▆▇▇▅\u001b[0m │  │\n",
       "│ │ \u001b[38;5;141mplace      \u001b[0m │ \u001b[36m25215\u001b[0m │ \u001b[36m  8.17585795439807\u001b[0m │ \u001b[36m 16.1\u001b[0m │ \u001b[36m19.32\u001b[0m │ \u001b[36m   1\u001b[0m │ \u001b[36m    5\u001b[0m │ \u001b[36m    9\u001b[0m │ \u001b[36m    20\u001b[0m │ \u001b[36m   185\u001b[0m │ \u001b[32m  ▇▁  \u001b[0m │  │\n",
       "│ └─────────────┴───────┴────────────────────┴───────┴───────┴──────┴───────┴───────┴────────┴────────┴────────┘  │\n",
       "│ \u001b[3m                                                     bool                                                     \u001b[0m  │\n",
       "│ ┏━━━━━━━━━━━━━━━━━━━━━━━━━┳━━━━━━━━━━━━━━━━━━━━━━┳━━━━━━━━━━━━━━━━━━━━━━━━━━━━━━━━━━┳━━━━━━━━━━━━━━━━━━━━━━━━┓  │\n",
       "│ ┃\u001b[1m \u001b[0m\u001b[1mcolumn                 \u001b[0m\u001b[1m \u001b[0m┃\u001b[1m \u001b[0m\u001b[1mtrue                \u001b[0m\u001b[1m \u001b[0m┃\u001b[1m \u001b[0m\u001b[1mtrue rate                       \u001b[0m\u001b[1m \u001b[0m┃\u001b[1m \u001b[0m\u001b[1mhist                  \u001b[0m\u001b[1m \u001b[0m┃  │\n",
       "│ ┡━━━━━━━━━━━━━━━━━━━━━━━━━╇━━━━━━━━━━━━━━━━━━━━━━╇━━━━━━━━━━━━━━━━━━━━━━━━━━━━━━━━━━╇━━━━━━━━━━━━━━━━━━━━━━━━┩  │\n",
       "│ │ \u001b[38;5;141mtied                   \u001b[0m │ \u001b[36m               45940\u001b[0m │ \u001b[36m                            0.15\u001b[0m │ \u001b[32m        ▇    ▁        \u001b[0m │  │\n",
       "│ └─────────────────────────┴──────────────────────┴──────────────────────────────────┴────────────────────────┘  │\n",
       "│ \u001b[3m                                                    string                                                    \u001b[0m  │\n",
       "│ ┏━━━━━━━━━━┳━━━━━━━━┳━━━━━━━━━━┳━━━━━━━━━━┳━━━━━━━━━━┳━━━━━━━━━━┳━━━━━━━━━━┳━━━━━━━━━━┳━━━━━━━━━━┳━━━━━━━━━━━┓  │\n",
       "│ ┃\u001b[1m          \u001b[0m┃\u001b[1m        \u001b[0m┃\u001b[1m          \u001b[0m┃\u001b[1m          \u001b[0m┃\u001b[1m          \u001b[0m┃\u001b[1m          \u001b[0m┃\u001b[1m          \u001b[0m┃\u001b[1m \u001b[0m\u001b[1mchars   \u001b[0m\u001b[1m \u001b[0m┃\u001b[1m \u001b[0m\u001b[1mwords   \u001b[0m\u001b[1m \u001b[0m┃\u001b[1m \u001b[0m\u001b[1mtotal    \u001b[0m\u001b[1m \u001b[0m┃  │\n",
       "│ ┃\u001b[1m \u001b[0m\u001b[1mcolumn  \u001b[0m\u001b[1m \u001b[0m┃\u001b[1m \u001b[0m\u001b[1mNA    \u001b[0m\u001b[1m \u001b[0m┃\u001b[1m \u001b[0m\u001b[1mNA %    \u001b[0m\u001b[1m \u001b[0m┃\u001b[1m \u001b[0m\u001b[1mshortest\u001b[0m\u001b[1m \u001b[0m┃\u001b[1m \u001b[0m\u001b[1mlongest \u001b[0m\u001b[1m \u001b[0m┃\u001b[1m \u001b[0m\u001b[1mmin     \u001b[0m\u001b[1m \u001b[0m┃\u001b[1m \u001b[0m\u001b[1mmax     \u001b[0m\u001b[1m \u001b[0m┃\u001b[1m \u001b[0m\u001b[1mper row \u001b[0m\u001b[1m \u001b[0m┃\u001b[1m \u001b[0m\u001b[1mper row \u001b[0m\u001b[1m \u001b[0m┃\u001b[1m \u001b[0m\u001b[1mwords    \u001b[0m\u001b[1m \u001b[0m┃  │\n",
       "│ ┡━━━━━━━━━━╇━━━━━━━━╇━━━━━━━━━━╇━━━━━━━━━━╇━━━━━━━━━━╇━━━━━━━━━━╇━━━━━━━━━━╇━━━━━━━━━━╇━━━━━━━━━━╇━━━━━━━━━━━┩  │\n",
       "│ │ \u001b[38;5;141mtype    \u001b[0m │ \u001b[36m  2601\u001b[0m │ \u001b[36m0.843363\u001b[0m │ \u001b[38;5;141mSummer  \u001b[0m │ \u001b[38;5;141mSummer  \u001b[0m │ \u001b[38;5;141mSummer  \u001b[0m │ \u001b[38;5;141mWinter  \u001b[0m │ \u001b[36m       6\u001b[0m │ \u001b[36m    0.99\u001b[0m │ \u001b[36m   305807\u001b[0m │  │\n",
       "│ │          │        │ \u001b[36m33687842\u001b[0m │          │          │          │          │          │          │           │  │\n",
       "│ │          │        │ \u001b[36m      08\u001b[0m │          │          │          │          │          │          │           │  │\n",
       "│ │ \u001b[38;5;141mdiscipli\u001b[0m │ \u001b[36m     1\u001b[0m │ \u001b[36m0.000324\u001b[0m │ \u001b[38;5;141mGolf    \u001b[0m │ \u001b[38;5;141mShort   \u001b[0m │ \u001b[38;5;141m3-on-3  \u001b[0m │ \u001b[38;5;141mWrestlin\u001b[0m │ \u001b[36m    16.7\u001b[0m │ \u001b[36m       2\u001b[0m │ \u001b[36m   610211\u001b[0m │  │\n",
       "│ │ \u001b[38;5;141mne      \u001b[0m │        │ \u001b[36m24580425\u001b[0m │          │ \u001b[38;5;141mTrack   \u001b[0m │ \u001b[38;5;141mIce     \u001b[0m │ \u001b[38;5;141mg       \u001b[0m │          │          │           │  │\n",
       "│ │          │        │ \u001b[36m  929287\u001b[0m │          │ \u001b[38;5;141mSpeed   \u001b[0m │ \u001b[38;5;141mHockey  \u001b[0m │          │          │          │           │  │\n",
       "│ │          │        │          │          │ \u001b[38;5;141mSkating \u001b[0m │ \u001b[38;5;141m(Ice    \u001b[0m │          │          │          │           │  │\n",
       "│ │          │        │          │          │ \u001b[38;5;141m(Skating\u001b[0m │ \u001b[38;5;141mHockey) \u001b[0m │          │          │          │           │  │\n",
       "│ │          │        │          │          │ \u001b[38;5;141m)       \u001b[0m │          │          │          │          │           │  │\n",
       "│ │ \u001b[38;5;141mevent   \u001b[0m │ \u001b[36m     0\u001b[0m │ \u001b[36m       0\u001b[0m │ \u001b[38;5;141mPolo    \u001b[0m │ \u001b[38;5;141m26th    \u001b[0m │ \u001b[38;5;141m0-½ Ton,\u001b[0m │ \u001b[38;5;141m≤85     \u001b[0m │ \u001b[36m    30.1\u001b[0m │ \u001b[36m     4.2\u001b[0m │ \u001b[36m  1303323\u001b[0m │  │\n",
       "│ │          │        │          │          │ \u001b[38;5;141mFederal \u001b[0m │ \u001b[38;5;141mOpen    \u001b[0m │ \u001b[38;5;141mkilogram\u001b[0m │          │          │           │  │\n",
       "│ │          │        │          │          │ \u001b[38;5;141mFestival\u001b[0m │ \u001b[38;5;141m(Olympic\u001b[0m │ \u001b[38;5;141ms, Greco\u001b[0m │          │          │           │  │\n",
       "│ │          │        │          │          │ \u001b[38;5;141m,       \u001b[0m │ \u001b[38;5;141m)       \u001b[0m │ \u001b[38;5;141mRoman,  \u001b[0m │          │          │           │  │\n",
       "│ │          │        │          │          │ \u001b[38;5;141mSociety \u001b[0m │          │ \u001b[38;5;141mBoys    \u001b[0m │          │          │           │  │\n",
       "│ │          │        │          │          │ \u001b[38;5;141mand     \u001b[0m │          │ \u001b[38;5;141m(YOG)   \u001b[0m │          │          │           │  │\n",
       "│ │          │        │          │          │ \u001b[38;5;141mAssociat\u001b[0m │          │          │          │          │           │  │\n",
       "│ │          │        │          │          │ \u001b[38;5;141mion     \u001b[0m │          │          │          │          │           │  │\n",
       "│ │          │        │          │          │ \u001b[38;5;141mContests\u001b[0m │          │          │          │          │           │  │\n",
       "│ │          │        │          │          │ \u001b[38;5;141m,       \u001b[0m │          │          │          │          │           │  │\n",
       "│ │          │        │          │          │ \u001b[38;5;141mNon-Simu\u001b[0m │          │          │          │          │           │  │\n",
       "│ │          │        │          │          │ \u001b[38;5;141mltaneous\u001b[0m │          │          │          │          │           │  │\n",
       "│ │          │        │          │          │ \u001b[38;5;141m,       \u001b[0m │          │          │          │          │           │  │\n",
       "│ │          │        │          │          │ \u001b[38;5;141mShooting\u001b[0m │          │          │          │          │           │  │\n",
       "│ │          │        │          │          │ \u001b[38;5;141mChampion\u001b[0m │          │          │          │          │           │  │\n",
       "│ │          │        │          │          │ \u001b[38;5;141mships,  \u001b[0m │          │          │          │          │           │  │\n",
       "│ │          │        │          │          │ \u001b[38;5;141mHonorary\u001b[0m │          │          │          │          │           │  │\n",
       "│ │          │        │          │          │ \u001b[38;5;141mMembers \u001b[0m │          │          │          │          │           │  │\n",
       "│ │          │        │          │          │ \u001b[38;5;141mand     \u001b[0m │          │          │          │          │           │  │\n",
       "│ │          │        │          │          │ \u001b[38;5;141mAssociat\u001b[0m │          │          │          │          │           │  │\n",
       "│ │          │        │          │          │ \u001b[38;5;141mes, Men \u001b[0m │          │          │          │          │           │  │\n",
       "│ │          │        │          │          │ \u001b[38;5;141m(Olympic\u001b[0m │          │          │          │          │           │  │\n",
       "│ │          │        │          │          │ \u001b[38;5;141m(non-med\u001b[0m │          │          │          │          │           │  │\n",
       "│ │          │        │          │          │ \u001b[38;5;141mal))    \u001b[0m │          │          │          │          │           │  │\n",
       "│ │ \u001b[38;5;141mas      \u001b[0m │ \u001b[36m     0\u001b[0m │ \u001b[36m       0\u001b[0m │ \u001b[38;5;141mSB      \u001b[0m │ \u001b[38;5;141mGeorges,\u001b[0m │ \u001b[38;5;141mA J Kitt\u001b[0m │ \u001b[38;5;141mАlex    \u001b[0m │ \u001b[36m      14\u001b[0m │ \u001b[36m     2.1\u001b[0m │ \u001b[36m   634574\u001b[0m │  │\n",
       "│ │          │        │          │          │ \u001b[38;5;141mMarquis \u001b[0m │          │ \u001b[38;5;141mHalcheni\u001b[0m │          │          │           │  │\n",
       "│ │          │        │          │          │ \u001b[38;5;141mde      \u001b[0m │          │ \u001b[38;5;141muk      \u001b[0m │          │          │           │  │\n",
       "│ │          │        │          │          │ \u001b[38;5;141mCréqui-M\u001b[0m │          │          │          │          │           │  │\n",
       "│ │          │        │          │          │ \u001b[38;5;141montfort \u001b[0m │          │          │          │          │           │  │\n",
       "│ │          │        │          │          │ \u001b[38;5;141mde      \u001b[0m │          │          │          │          │           │  │\n",
       "│ │          │        │          │          │ \u001b[38;5;141mCourtivr\u001b[0m │          │          │          │          │           │  │\n",
       "│ │          │        │          │          │ \u001b[38;5;141mon      \u001b[0m │          │          │          │          │           │  │\n",
       "│ │ \u001b[38;5;141mnoc     \u001b[0m │ \u001b[36m     1\u001b[0m │ \u001b[36m0.000324\u001b[0m │ \u001b[38;5;141mFRA     \u001b[0m │ \u001b[38;5;141mFRA     \u001b[0m │ \u001b[38;5;141mAFG     \u001b[0m │ \u001b[38;5;141mZIM     \u001b[0m │ \u001b[36m       3\u001b[0m │ \u001b[36m       1\u001b[0m │ \u001b[36m   308407\u001b[0m │  │\n",
       "│ │          │        │ \u001b[36m24580425\u001b[0m │          │          │          │          │          │          │           │  │\n",
       "│ │          │        │ \u001b[36m  929287\u001b[0m │          │          │          │          │          │          │           │  │\n",
       "│ │ \u001b[38;5;141mteam    \u001b[0m │ \u001b[36m186694\u001b[0m │ \u001b[36m60.53474\u001b[0m │ \u001b[38;5;141mC       \u001b[0m │ \u001b[38;5;141mVictoria\u001b[0m │ \u001b[38;5;141m't      \u001b[0m │ \u001b[38;5;141mȘtefan  \u001b[0m │ \u001b[36m    10.2\u001b[0m │ \u001b[36m    0.62\u001b[0m │ \u001b[36m   190405\u001b[0m │  │\n",
       "│ │          │        │ \u001b[36m61803844\u001b[0m │          │ \u001b[38;5;141mn       \u001b[0m │ \u001b[38;5;141mSoulaiky\u001b[0m │ \u001b[38;5;141mVasile  \u001b[0m │          │          │           │  │\n",
       "│ │          │        │ \u001b[36m      24\u001b[0m │          │ \u001b[38;5;141mFootball\u001b[0m │          │          │          │          │           │  │\n",
       "│ │          │        │          │          │ \u001b[38;5;141mLeague/V\u001b[0m │          │          │          │          │           │  │\n",
       "│ │          │        │          │          │ \u001b[38;5;141mictorian\u001b[0m │          │          │          │          │           │  │\n",
       "│ │          │        │          │          │ \u001b[38;5;141m        \u001b[0m │          │          │          │          │           │  │\n",
       "│ │          │        │          │          │ \u001b[38;5;141mFootball\u001b[0m │          │          │          │          │           │  │\n",
       "│ │          │        │          │          │ \u001b[38;5;141mAssociat\u001b[0m │          │          │          │          │           │  │\n",
       "│ │          │        │          │          │ \u001b[38;5;141mion     \u001b[0m │          │          │          │          │           │  │\n",
       "│ │ \u001b[38;5;141mmedal   \u001b[0m │ \u001b[36m264269\u001b[0m │ \u001b[36m85.68811\u001b[0m │ \u001b[38;5;141mGold    \u001b[0m │ \u001b[38;5;141mBronze  \u001b[0m │ \u001b[38;5;141mBronze  \u001b[0m │ \u001b[38;5;141mSilver  \u001b[0m │ \u001b[36m    5.33\u001b[0m │ \u001b[36m    0.14\u001b[0m │ \u001b[36m    44139\u001b[0m │  │\n",
       "│ │          │        │ \u001b[36m44457990\u001b[0m │          │          │          │          │          │          │           │  │\n",
       "│ │          │        │ \u001b[36m       7\u001b[0m │          │          │          │          │          │          │           │  │\n",
       "│ └──────────┴────────┴──────────┴──────────┴──────────┴──────────┴──────────┴──────────┴──────────┴───────────┘  │\n",
       "╰────────────────────────────────────────────────────── End ──────────────────────────────────────────────────────╯\n"
      ]
     },
     "metadata": {},
     "output_type": "display_data"
    }
   ],
   "source": [
    "from skimpy import skim\n",
    "\n",
    "skim(results)"
   ]
  },
  {
   "cell_type": "code",
   "execution_count": 147,
   "metadata": {},
   "outputs": [
    {
     "name": "stdout",
     "output_type": "stream",
     "text": [
      "<class 'pandas.core.frame.DataFrame'>\n",
      "RangeIndex: 14 entries, 0 to 13\n",
      "Data columns (total 5 columns):\n",
      " #   Column       Non-Null Count  Dtype  \n",
      "---  ------       --------------  -----  \n",
      " 0   Day          14 non-null     object \n",
      " 1   Coffee Type  14 non-null     object \n",
      " 2   Units Sold   12 non-null     float64\n",
      " 3   price        14 non-null     float64\n",
      " 4   revenue      14 non-null     float64\n",
      "dtypes: float64(3), object(2)\n",
      "memory usage: 692.0+ bytes\n"
     ]
    }
   ],
   "source": [
    "coffee.info()"
   ]
  },
  {
   "cell_type": "markdown",
   "metadata": {},
   "source": [
    "## New Functionality"
   ]
  },
  {
   "cell_type": "code",
   "execution_count": 150,
   "metadata": {},
   "outputs": [],
   "source": [
    "results_numpy = pd.read_csv('data/external/results.csv')\n",
    "results_arrow = pd.read_csv('data/external/results.csv', engine='pyarrow', dtype_backend='pyarrow')"
   ]
  },
  {
   "cell_type": "code",
   "execution_count": null,
   "metadata": {},
   "outputs": [],
   "source": [
    "results_numpy.info()"
   ]
  },
  {
   "cell_type": "code",
   "execution_count": 151,
   "metadata": {},
   "outputs": [
    {
     "name": "stdout",
     "output_type": "stream",
     "text": [
      "<class 'pandas.core.frame.DataFrame'>\n",
      "RangeIndex: 308408 entries, 0 to 308407\n",
      "Data columns (total 11 columns):\n",
      " #   Column      Non-Null Count   Dtype          \n",
      "---  ------      --------------   -----          \n",
      " 0   year        305807 non-null  double[pyarrow]\n",
      " 1   type        305807 non-null  string[pyarrow]\n",
      " 2   discipline  308407 non-null  string[pyarrow]\n",
      " 3   event       308408 non-null  string[pyarrow]\n",
      " 4   as          308408 non-null  string[pyarrow]\n",
      " 5   athlete_id  308408 non-null  int64[pyarrow] \n",
      " 6   noc         308407 non-null  string[pyarrow]\n",
      " 7   team        121714 non-null  string[pyarrow]\n",
      " 8   place       283193 non-null  double[pyarrow]\n",
      " 9   tied        308408 non-null  bool[pyarrow]  \n",
      " 10  medal       44139 non-null   string[pyarrow]\n",
      "dtypes: bool[pyarrow](1), double[pyarrow](2), int64[pyarrow](1), string[pyarrow](7)\n",
      "memory usage: 37.5 MB\n"
     ]
    }
   ],
   "source": [
    "results_arrow.info()"
   ]
  },
  {
   "cell_type": "code",
   "execution_count": 152,
   "metadata": {},
   "outputs": [
    {
     "data": {
      "application/vnd.microsoft.datawrangler.viewer.v0+json": {
       "columns": [
        {
         "name": "index",
         "rawType": "int64",
         "type": "integer"
        },
        {
         "name": "athlete_id",
         "rawType": "int64",
         "type": "integer"
        },
        {
         "name": "name",
         "rawType": "object",
         "type": "string"
        },
        {
         "name": "born_date",
         "rawType": "datetime64[ns]",
         "type": "datetime"
        },
        {
         "name": "born_city",
         "rawType": "object",
         "type": "string"
        },
        {
         "name": "born_region",
         "rawType": "object",
         "type": "string"
        },
        {
         "name": "born_country",
         "rawType": "object",
         "type": "string"
        },
        {
         "name": "NOC",
         "rawType": "object",
         "type": "string"
        },
        {
         "name": "height_cm",
         "rawType": "float64",
         "type": "float"
        },
        {
         "name": "weight_kg",
         "rawType": "float64",
         "type": "float"
        },
        {
         "name": "died_date",
         "rawType": "object",
         "type": "unknown"
        },
        {
         "name": "Category",
         "rawType": "object",
         "type": "string"
        },
        {
         "name": "month_born",
         "rawType": "float64",
         "type": "float"
        },
        {
         "name": "year_born",
         "rawType": "float64",
         "type": "float"
        }
       ],
       "ref": "094cd3bb-1d6a-456f-a2d9-4f2e44dccc2c",
       "rows": [
        [
         "0",
         "1",
         "Jean-François Blanchy",
         "1886-12-12 00:00:00",
         "Bordeaux",
         "Gironde",
         "FRA",
         "France",
         null,
         null,
         "1960-10-02",
         "Heavyweight",
         "12.0",
         "1886.0"
        ],
        [
         "1",
         "2",
         "Arnaud Boetsch",
         "1969-04-01 00:00:00",
         "Meulan",
         "Yvelines",
         "FRA",
         "France",
         "183.0",
         "76.0",
         null,
         "Middleweight",
         "4.0",
         "1969.0"
        ],
        [
         "2",
         "3",
         "Jean Borotra",
         "1898-08-13 00:00:00",
         "Biarritz",
         "Pyrénées-Atlantiques",
         "FRA",
         "France",
         "183.0",
         "76.0",
         "1994-07-17",
         "Middleweight",
         "8.0",
         "1898.0"
        ],
        [
         "3",
         "4",
         "Jacques Brugnon",
         "1895-05-11 00:00:00",
         "Paris VIIIe",
         "Paris",
         "FRA",
         "France",
         "168.0",
         "64.0",
         "1978-03-20",
         "Lightweight",
         "5.0",
         "1895.0"
        ],
        [
         "4",
         "5",
         "Albert Canet",
         "1878-04-17 00:00:00",
         "Wandsworth",
         "England",
         "GBR",
         "France",
         null,
         null,
         "1930-07-25",
         "Heavyweight",
         "4.0",
         "1878.0"
        ]
       ],
       "shape": {
        "columns": 13,
        "rows": 5
       }
      },
      "text/html": [
       "<div>\n",
       "<style scoped>\n",
       "    .dataframe tbody tr th:only-of-type {\n",
       "        vertical-align: middle;\n",
       "    }\n",
       "\n",
       "    .dataframe tbody tr th {\n",
       "        vertical-align: top;\n",
       "    }\n",
       "\n",
       "    .dataframe thead th {\n",
       "        text-align: right;\n",
       "    }\n",
       "</style>\n",
       "<table border=\"1\" class=\"dataframe\">\n",
       "  <thead>\n",
       "    <tr style=\"text-align: right;\">\n",
       "      <th></th>\n",
       "      <th>athlete_id</th>\n",
       "      <th>name</th>\n",
       "      <th>born_date</th>\n",
       "      <th>born_city</th>\n",
       "      <th>born_region</th>\n",
       "      <th>born_country</th>\n",
       "      <th>NOC</th>\n",
       "      <th>height_cm</th>\n",
       "      <th>weight_kg</th>\n",
       "      <th>died_date</th>\n",
       "      <th>Category</th>\n",
       "      <th>month_born</th>\n",
       "      <th>year_born</th>\n",
       "    </tr>\n",
       "  </thead>\n",
       "  <tbody>\n",
       "    <tr>\n",
       "      <th>0</th>\n",
       "      <td>1</td>\n",
       "      <td>Jean-François Blanchy</td>\n",
       "      <td>1886-12-12</td>\n",
       "      <td>Bordeaux</td>\n",
       "      <td>Gironde</td>\n",
       "      <td>FRA</td>\n",
       "      <td>France</td>\n",
       "      <td>NaN</td>\n",
       "      <td>NaN</td>\n",
       "      <td>1960-10-02</td>\n",
       "      <td>Heavyweight</td>\n",
       "      <td>12.0</td>\n",
       "      <td>1886.0</td>\n",
       "    </tr>\n",
       "    <tr>\n",
       "      <th>1</th>\n",
       "      <td>2</td>\n",
       "      <td>Arnaud Boetsch</td>\n",
       "      <td>1969-04-01</td>\n",
       "      <td>Meulan</td>\n",
       "      <td>Yvelines</td>\n",
       "      <td>FRA</td>\n",
       "      <td>France</td>\n",
       "      <td>183.0</td>\n",
       "      <td>76.0</td>\n",
       "      <td>NaN</td>\n",
       "      <td>Middleweight</td>\n",
       "      <td>4.0</td>\n",
       "      <td>1969.0</td>\n",
       "    </tr>\n",
       "    <tr>\n",
       "      <th>2</th>\n",
       "      <td>3</td>\n",
       "      <td>Jean Borotra</td>\n",
       "      <td>1898-08-13</td>\n",
       "      <td>Biarritz</td>\n",
       "      <td>Pyrénées-Atlantiques</td>\n",
       "      <td>FRA</td>\n",
       "      <td>France</td>\n",
       "      <td>183.0</td>\n",
       "      <td>76.0</td>\n",
       "      <td>1994-07-17</td>\n",
       "      <td>Middleweight</td>\n",
       "      <td>8.0</td>\n",
       "      <td>1898.0</td>\n",
       "    </tr>\n",
       "    <tr>\n",
       "      <th>3</th>\n",
       "      <td>4</td>\n",
       "      <td>Jacques Brugnon</td>\n",
       "      <td>1895-05-11</td>\n",
       "      <td>Paris VIIIe</td>\n",
       "      <td>Paris</td>\n",
       "      <td>FRA</td>\n",
       "      <td>France</td>\n",
       "      <td>168.0</td>\n",
       "      <td>64.0</td>\n",
       "      <td>1978-03-20</td>\n",
       "      <td>Lightweight</td>\n",
       "      <td>5.0</td>\n",
       "      <td>1895.0</td>\n",
       "    </tr>\n",
       "    <tr>\n",
       "      <th>4</th>\n",
       "      <td>5</td>\n",
       "      <td>Albert Canet</td>\n",
       "      <td>1878-04-17</td>\n",
       "      <td>Wandsworth</td>\n",
       "      <td>England</td>\n",
       "      <td>GBR</td>\n",
       "      <td>France</td>\n",
       "      <td>NaN</td>\n",
       "      <td>NaN</td>\n",
       "      <td>1930-07-25</td>\n",
       "      <td>Heavyweight</td>\n",
       "      <td>4.0</td>\n",
       "      <td>1878.0</td>\n",
       "    </tr>\n",
       "  </tbody>\n",
       "</table>\n",
       "</div>"
      ],
      "text/plain": [
       "   athlete_id                   name  born_date    born_city  \\\n",
       "0           1  Jean-François Blanchy 1886-12-12     Bordeaux   \n",
       "1           2         Arnaud Boetsch 1969-04-01       Meulan   \n",
       "2           3           Jean Borotra 1898-08-13     Biarritz   \n",
       "3           4        Jacques Brugnon 1895-05-11  Paris VIIIe   \n",
       "4           5           Albert Canet 1878-04-17   Wandsworth   \n",
       "\n",
       "            born_region born_country     NOC  height_cm  weight_kg  \\\n",
       "0               Gironde          FRA  France        NaN        NaN   \n",
       "1              Yvelines          FRA  France      183.0       76.0   \n",
       "2  Pyrénées-Atlantiques          FRA  France      183.0       76.0   \n",
       "3                 Paris          FRA  France      168.0       64.0   \n",
       "4               England          GBR  France        NaN        NaN   \n",
       "\n",
       "    died_date      Category  month_born  year_born  \n",
       "0  1960-10-02   Heavyweight        12.0     1886.0  \n",
       "1         NaN  Middleweight         4.0     1969.0  \n",
       "2  1994-07-17  Middleweight         8.0     1898.0  \n",
       "3  1978-03-20   Lightweight         5.0     1895.0  \n",
       "4  1930-07-25   Heavyweight         4.0     1878.0  "
      ]
     },
     "execution_count": 152,
     "metadata": {},
     "output_type": "execute_result"
    }
   ],
   "source": [
    "filtered_bios = bios[(bios['born_region'] == 'New Hampshire') | (bios['born_city'] == 'San Francisco')]\n",
    "\n",
    "bios.head()"
   ]
  },
  {
   "cell_type": "code",
   "execution_count": 153,
   "metadata": {},
   "outputs": [
    {
     "data": {
      "application/vnd.microsoft.datawrangler.viewer.v0+json": {
       "columns": [
        {
         "name": "index",
         "rawType": "int64",
         "type": "integer"
        },
        {
         "name": "Date",
         "rawType": "object",
         "type": "string"
        },
        {
         "name": "Item",
         "rawType": "object",
         "type": "string"
        },
        {
         "name": "Units Sold",
         "rawType": "int64",
         "type": "integer"
        },
        {
         "name": "Price Per Unit",
         "rawType": "float64",
         "type": "float"
        },
        {
         "name": "Salesperson",
         "rawType": "object",
         "type": "string"
        }
       ],
       "ref": "b60a00c6-f82f-4341-80ff-c069ce134236",
       "rows": [
        [
         "0",
         "2024-05-01",
         "Apple",
         "30",
         "1.0",
         "John"
        ],
        [
         "1",
         "2024-05-01",
         "Banana",
         "21",
         "0.5",
         "John"
        ],
        [
         "2",
         "2024-05-01",
         "Orange",
         "15",
         "0.75",
         "John"
        ],
        [
         "3",
         "2024-05-02",
         "Apple",
         "40",
         "1.0",
         "Alice"
        ],
        [
         "4",
         "2024-05-02",
         "Banana",
         "34",
         "0.5",
         "Alice"
        ],
        [
         "5",
         "2024-05-03",
         "Orange",
         "20",
         "0.75",
         "John"
        ],
        [
         "6",
         "2024-05-03",
         "Apple",
         "45",
         "1.0",
         "Alice"
        ],
        [
         "7",
         "2024-05-03",
         "Orange",
         "25",
         "0.75",
         "John"
        ]
       ],
       "shape": {
        "columns": 5,
        "rows": 8
       }
      },
      "text/html": [
       "<div>\n",
       "<style scoped>\n",
       "    .dataframe tbody tr th:only-of-type {\n",
       "        vertical-align: middle;\n",
       "    }\n",
       "\n",
       "    .dataframe tbody tr th {\n",
       "        vertical-align: top;\n",
       "    }\n",
       "\n",
       "    .dataframe thead th {\n",
       "        text-align: right;\n",
       "    }\n",
       "</style>\n",
       "<table border=\"1\" class=\"dataframe\">\n",
       "  <thead>\n",
       "    <tr style=\"text-align: right;\">\n",
       "      <th></th>\n",
       "      <th>Date</th>\n",
       "      <th>Item</th>\n",
       "      <th>Units Sold</th>\n",
       "      <th>Price Per Unit</th>\n",
       "      <th>Salesperson</th>\n",
       "    </tr>\n",
       "  </thead>\n",
       "  <tbody>\n",
       "    <tr>\n",
       "      <th>0</th>\n",
       "      <td>2024-05-01</td>\n",
       "      <td>Apple</td>\n",
       "      <td>30</td>\n",
       "      <td>1.00</td>\n",
       "      <td>John</td>\n",
       "    </tr>\n",
       "    <tr>\n",
       "      <th>1</th>\n",
       "      <td>2024-05-01</td>\n",
       "      <td>Banana</td>\n",
       "      <td>21</td>\n",
       "      <td>0.50</td>\n",
       "      <td>John</td>\n",
       "    </tr>\n",
       "    <tr>\n",
       "      <th>2</th>\n",
       "      <td>2024-05-01</td>\n",
       "      <td>Orange</td>\n",
       "      <td>15</td>\n",
       "      <td>0.75</td>\n",
       "      <td>John</td>\n",
       "    </tr>\n",
       "    <tr>\n",
       "      <th>3</th>\n",
       "      <td>2024-05-02</td>\n",
       "      <td>Apple</td>\n",
       "      <td>40</td>\n",
       "      <td>1.00</td>\n",
       "      <td>Alice</td>\n",
       "    </tr>\n",
       "    <tr>\n",
       "      <th>4</th>\n",
       "      <td>2024-05-02</td>\n",
       "      <td>Banana</td>\n",
       "      <td>34</td>\n",
       "      <td>0.50</td>\n",
       "      <td>Alice</td>\n",
       "    </tr>\n",
       "    <tr>\n",
       "      <th>5</th>\n",
       "      <td>2024-05-03</td>\n",
       "      <td>Orange</td>\n",
       "      <td>20</td>\n",
       "      <td>0.75</td>\n",
       "      <td>John</td>\n",
       "    </tr>\n",
       "    <tr>\n",
       "      <th>6</th>\n",
       "      <td>2024-05-03</td>\n",
       "      <td>Apple</td>\n",
       "      <td>45</td>\n",
       "      <td>1.00</td>\n",
       "      <td>Alice</td>\n",
       "    </tr>\n",
       "    <tr>\n",
       "      <th>7</th>\n",
       "      <td>2024-05-03</td>\n",
       "      <td>Orange</td>\n",
       "      <td>25</td>\n",
       "      <td>0.75</td>\n",
       "      <td>John</td>\n",
       "    </tr>\n",
       "  </tbody>\n",
       "</table>\n",
       "</div>"
      ],
      "text/plain": [
       "         Date    Item  Units Sold  Price Per Unit Salesperson\n",
       "0  2024-05-01   Apple          30            1.00        John\n",
       "1  2024-05-01  Banana          21            0.50        John\n",
       "2  2024-05-01  Orange          15            0.75        John\n",
       "3  2024-05-02   Apple          40            1.00       Alice\n",
       "4  2024-05-02  Banana          34            0.50       Alice\n",
       "5  2024-05-03  Orange          20            0.75        John\n",
       "6  2024-05-03   Apple          45            1.00       Alice\n",
       "7  2024-05-03  Orange          25            0.75        John"
      ]
     },
     "execution_count": 153,
     "metadata": {},
     "output_type": "execute_result"
    }
   ],
   "source": [
    "import pandas as pd\n",
    "\n",
    "# Creating a DataFrame\n",
    "data = {\n",
    "    'Date': ['2024-05-01', '2024-05-01', '2024-05-01', '2024-05-02', '2024-05-02', '2024-05-03', '2024-05-03', '2024-05-03'],\n",
    "    'Item': ['Apple', 'Banana', 'Orange', 'Apple', 'Banana', 'Orange', 'Apple', 'Orange'],\n",
    "    'Units Sold': [30, 21, 15, 40, 34, 20, 45, 25],\n",
    "    'Price Per Unit': [1.0, 0.5, 0.75, 1.0, 0.5, 0.75, 1.0, 0.75],\n",
    "    'Salesperson': ['John', 'John', 'John', 'Alice', 'Alice', 'John', 'Alice', 'John']\n",
    "}\n",
    "\n",
    "df = pd.DataFrame(data)\n",
    "\n",
    "# Display the DataFrame\n",
    "df\n"
   ]
  },
  {
   "cell_type": "code",
   "execution_count": 154,
   "metadata": {},
   "outputs": [
    {
     "data": {
      "application/vnd.microsoft.datawrangler.viewer.v0+json": {
       "columns": [
        {
         "name": "Date",
         "rawType": "object",
         "type": "string"
        },
        {
         "name": "Apple",
         "rawType": "float64",
         "type": "float"
        },
        {
         "name": "Banana",
         "rawType": "float64",
         "type": "float"
        },
        {
         "name": "Orange",
         "rawType": "float64",
         "type": "float"
        }
       ],
       "ref": "9bc0313b-21a6-43f2-83e2-f1711059fc0f",
       "rows": [
        [
         "2024-05-01",
         "30.0",
         "21.0",
         "15.0"
        ],
        [
         "2024-05-02",
         "40.0",
         "34.0",
         null
        ],
        [
         "2024-05-03",
         "45.0",
         null,
         "45.0"
        ]
       ],
       "shape": {
        "columns": 3,
        "rows": 3
       }
      },
      "text/html": [
       "<div>\n",
       "<style scoped>\n",
       "    .dataframe tbody tr th:only-of-type {\n",
       "        vertical-align: middle;\n",
       "    }\n",
       "\n",
       "    .dataframe tbody tr th {\n",
       "        vertical-align: top;\n",
       "    }\n",
       "\n",
       "    .dataframe thead th {\n",
       "        text-align: right;\n",
       "    }\n",
       "</style>\n",
       "<table border=\"1\" class=\"dataframe\">\n",
       "  <thead>\n",
       "    <tr style=\"text-align: right;\">\n",
       "      <th>Item</th>\n",
       "      <th>Apple</th>\n",
       "      <th>Banana</th>\n",
       "      <th>Orange</th>\n",
       "    </tr>\n",
       "    <tr>\n",
       "      <th>Date</th>\n",
       "      <th></th>\n",
       "      <th></th>\n",
       "      <th></th>\n",
       "    </tr>\n",
       "  </thead>\n",
       "  <tbody>\n",
       "    <tr>\n",
       "      <th>2024-05-01</th>\n",
       "      <td>30.0</td>\n",
       "      <td>21.0</td>\n",
       "      <td>15.0</td>\n",
       "    </tr>\n",
       "    <tr>\n",
       "      <th>2024-05-02</th>\n",
       "      <td>40.0</td>\n",
       "      <td>34.0</td>\n",
       "      <td>NaN</td>\n",
       "    </tr>\n",
       "    <tr>\n",
       "      <th>2024-05-03</th>\n",
       "      <td>45.0</td>\n",
       "      <td>NaN</td>\n",
       "      <td>45.0</td>\n",
       "    </tr>\n",
       "  </tbody>\n",
       "</table>\n",
       "</div>"
      ],
      "text/plain": [
       "Item        Apple  Banana  Orange\n",
       "Date                             \n",
       "2024-05-01   30.0    21.0    15.0\n",
       "2024-05-02   40.0    34.0     NaN\n",
       "2024-05-03   45.0     NaN    45.0"
      ]
     },
     "execution_count": 154,
     "metadata": {},
     "output_type": "execute_result"
    }
   ],
   "source": [
    "pivot_table = pd.pivot_table(df, values='Units Sold', index='Date', columns='Item', aggfunc='sum')\n",
    "pivot_table\n"
   ]
  },
  {
   "cell_type": "code",
   "execution_count": 158,
   "metadata": {},
   "outputs": [],
   "source": [
    "# !pip install matplotlib"
   ]
  },
  {
   "cell_type": "code",
   "execution_count": 157,
   "metadata": {},
   "outputs": [
    {
     "data": {
      "image/png": "[encoded data removed]",
      "text/plain": [
       "<Figure size 1000x600 with 1 Axes>"
      ]
     },
     "metadata": {},
     "output_type": "display_data"
    }
   ],
   "source": [
    "import pandas as pd\n",
    "import matplotlib.pyplot as plt\n",
    "\n",
    "# Assuming your DataFrame is named 'bios' and already loaded\n",
    "# First, filter out rows where the height_cm data is missing\n",
    "bios_filtered = bios.dropna(subset=['height_cm'])\n",
    "\n",
    "# Plotting the histogram\n",
    "plt.figure(figsize=(10, 6))\n",
    "plt.hist(bios_filtered['height_cm'], bins=20, color='blue', edgecolor='black')\n",
    "\n",
    "plt.title('Distribution of Athlete Heights in Olympics')\n",
    "plt.xlabel('Height in cm')\n",
    "plt.ylabel('Number of Athletes')\n",
    "plt.grid(True)\n",
    "\n",
    "# Using a logarithmic scale for the y-axis if the data spread is wide\n",
    "plt.yscale('log')\n",
    "\n",
    "plt.show()"
   ]
  },
  {
   "cell_type": "markdown",
   "metadata": {},
   "source": [
    "## What Next???"
   ]
  },
  {
   "cell_type": "markdown",
   "metadata": {},
   "source": [
    "Check out some of my other tutorials:\n",
    "- [Cleaning Data w/ Pandas](https://www.youtube.com/live/oad9tVEsfI0?si=qnDOg9BSRFxcP5gZ)\n",
    "- [Solving 100 Python Pandas Problems](https://youtu.be/i7v2m-ebXB4?si=VSJHnZryqMv8GW54)\n",
    "- [Real-world Data Analsys Problems w/ Python Pandas](https://youtu.be/eMOA1pPVUc4)\n",
    "\n",
    "Platforms to Try\n",
    "- [Stratascratch](https://stratascratch.com/?via=keith)\n",
    "- [Analyst Builder](https://www.analystbuilder.com/?via=keith)"
   ]
  }
 ],
 "metadata": {
  "kernelspec": {
   "display_name": ".venv",
   "language": "python",
   "name": "python3"
  },
  "language_info": {
   "codemirror_mode": {
    "name": "ipython",
    "version": 3
   },
   "file_extension": ".py",
   "mimetype": "text/x-python",
   "name": "python",
   "nbconvert_exporter": "python",
   "pygments_lexer": "ipython3",
   "version": "3.13.5"
  }
 },
 "nbformat": 4,
 "nbformat_minor": 2
}

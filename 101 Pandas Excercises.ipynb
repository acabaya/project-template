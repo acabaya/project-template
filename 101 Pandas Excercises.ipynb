{
 "cells": [
  {
   "cell_type": "markdown",
   "id": "9097dda9",
   "metadata": {},
   "source": [
    "# 101 Pandas Exercises for Data Analysis\n"
   ]
  },
  {
   "cell_type": "markdown",
   "id": "fb51f87d",
   "metadata": {},
   "source": [
    "### 1. How to import pandas and check the version?"
   ]
  },
  {
   "cell_type": "code",
   "execution_count": 1,
   "id": "5e4d7838",
   "metadata": {},
   "outputs": [],
   "source": [
    "import pandas as pd"
   ]
  },
  {
   "cell_type": "code",
   "execution_count": 3,
   "id": "cafcbd05",
   "metadata": {},
   "outputs": [
    {
     "name": "stdout",
     "output_type": "stream",
     "text": [
      "2.3.1\n"
     ]
    }
   ],
   "source": [
    "print(pd.__version__)  # Check the version of pandas"
   ]
  },
  {
   "cell_type": "code",
   "execution_count": 48,
   "id": "08da3a46",
   "metadata": {},
   "outputs": [
    {
     "name": "stdout",
     "output_type": "stream",
     "text": [
      "{\n",
      "  \"system\": {\n",
      "    \"commit\": \"c888af6d0bb674932007623c0867e1fbd4bdc2c6\",\n",
      "    \"python\": \"3.13.5\",\n",
      "    \"python-bits\": 64,\n",
      "    \"OS\": \"Windows\",\n",
      "    \"OS-release\": \"11\",\n",
      "    \"Version\": \"10.0.26100\",\n",
      "    \"machine\": \"AMD64\",\n",
      "    \"processor\": \"AMD64 Family 23 Model 96 Stepping 1, AuthenticAMD\",\n",
      "    \"byteorder\": \"little\",\n",
      "    \"LC_ALL\": null,\n",
      "    \"LANG\": null,\n",
      "    \"LOCALE\": {\n",
      "      \"language-code\": \"English_United States\",\n",
      "      \"encoding\": \"1252\"\n",
      "    }\n",
      "  },\n",
      "  \"dependencies\": {\n",
      "    \"pandas\": \"2.3.1\",\n",
      "    \"numpy\": \"2.3.1\",\n",
      "    \"pytz\": \"2025.2\",\n",
      "    \"dateutil\": \"2.9.0.post0\",\n",
      "    \"pip\": \"25.1.1\",\n",
      "    \"Cython\": null,\n",
      "    \"sphinx\": null,\n",
      "    \"IPython\": \"9.4.0\",\n",
      "    \"adbc-driver-postgresql\": null,\n",
      "    \"adbc-driver-sqlite\": null,\n",
      "    \"bs4\": null,\n",
      "    \"blosc\": null,\n",
      "    \"bottleneck\": null,\n",
      "    \"dataframe-api-compat\": null,\n",
      "    \"fastparquet\": null,\n",
      "    \"fsspec\": null,\n",
      "    \"html5lib\": null,\n",
      "    \"hypothesis\": null,\n",
      "    \"gcsfs\": null,\n",
      "    \"jinja2\": null,\n",
      "    \"lxml.etree\": null,\n",
      "    \"matplotlib\": \"3.10.3\",\n",
      "    \"numba\": null,\n",
      "    \"numexpr\": null,\n",
      "    \"odfpy\": null,\n",
      "    \"openpyxl\": \"3.1.5\",\n",
      "    \"pandas_gbq\": null,\n",
      "    \"psycopg2\": null,\n",
      "    \"pymysql\": null,\n",
      "    \"pyarrow\": \"20.0.0\",\n",
      "    \"pyreadstat\": null,\n",
      "    \"pytest\": null,\n",
      "    \"python-calamine\": null,\n",
      "    \"pyxlsb\": null,\n",
      "    \"s3fs\": null,\n",
      "    \"scipy\": \"1.16.0\",\n",
      "    \"sqlalchemy\": null,\n",
      "    \"tables\": null,\n",
      "    \"tabulate\": null,\n",
      "    \"xarray\": \"2025.7.1\",\n",
      "    \"xlrd\": null,\n",
      "    \"xlsxwriter\": null,\n",
      "    \"zstandard\": null,\n",
      "    \"tzdata\": \"2025.2\",\n",
      "    \"qtpy\": null,\n",
      "    \"pyqt5\": null\n",
      "  }\n",
      "}"
     ]
    }
   ],
   "source": [
    "pd.show_versions(as_json=True)  # Show detailed version information"
   ]
  },
  {
   "cell_type": "markdown",
   "id": "c5472baf",
   "metadata": {},
   "source": [
    "### 2. How to create a series from a list, numpy array and dict?\n",
    "Create a pandas series from each of the items below: a list, numpy and a dictionary"
   ]
  },
  {
   "cell_type": "code",
   "execution_count": null,
   "id": "8d2e8861",
   "metadata": {},
   "outputs": [],
   "source": [
    "import numpy as np\n",
    "mylist = list('abcdefghijklmnopqrstuvwxyz') # Create a list of letters from a to z\n",
    "myarray = np.arange(26) # Create a numpy array with values from 0 to 25\n",
    "mydict = dict(zip(mylist, myarray)) # Create a dictionary mapping letters to numbers"
   ]
  },
  {
   "cell_type": "code",
   "execution_count": 16,
   "id": "1edf3966",
   "metadata": {},
   "outputs": [
    {
     "name": "stdout",
     "output_type": "stream",
     "text": [
      "0     a\n",
      "1     b\n",
      "2     c\n",
      "3     d\n",
      "4     e\n",
      "5     f\n",
      "6     g\n",
      "7     h\n",
      "8     i\n",
      "9     j\n",
      "10    k\n",
      "11    l\n",
      "12    m\n",
      "13    n\n",
      "14    o\n",
      "15    p\n",
      "16    q\n",
      "17    r\n",
      "18    s\n",
      "19    t\n",
      "20    u\n",
      "21    v\n",
      "22    w\n",
      "23    x\n",
      "24    y\n",
      "25    z\n",
      "dtype: object\n"
     ]
    }
   ],
   "source": [
    "ser1 = pd.Series(mylist)\n",
    "ser2 = pd.Series(myarray)   \n",
    "ser3 = pd.Series(mydict)\n",
    "print(ser1)  # Display the first few rows of the series"
   ]
  },
  {
   "cell_type": "markdown",
   "id": "bfde5e43",
   "metadata": {},
   "source": [
    "### 3. How to convert the index of a series into a column of a dataframe?"
   ]
  },
  {
   "cell_type": "markdown",
   "id": "802c14ae",
   "metadata": {},
   "source": [
    "Difficulty Level: L1\n",
    "\n",
    "Convert the series ser into a dataframe with its index as another column on the dataframe."
   ]
  },
  {
   "cell_type": "code",
   "execution_count": 20,
   "id": "6c9ae080",
   "metadata": {},
   "outputs": [],
   "source": [
    "mylist = list('abcedfghijklmnopqrstuvwxyz')\n",
    "myarr = np.arange(26)\n",
    "mydict = dict(zip(mylist, myarr))\n",
    "ser = pd.Series(mydict)"
   ]
  },
  {
   "cell_type": "code",
   "execution_count": 21,
   "id": "7b310198",
   "metadata": {},
   "outputs": [
    {
     "name": "stdout",
     "output_type": "stream",
     "text": [
      "  index  0\n",
      "0     a  0\n",
      "1     b  1\n",
      "2     c  2\n",
      "3     e  3\n",
      "4     d  4\n"
     ]
    }
   ],
   "source": [
    "df = ser.reset_index()  # Convert the index of the series into a column of a dataframe\n",
    "print(df.head())  # Display the first few rows of the dataframe"
   ]
  },
  {
   "cell_type": "markdown",
   "id": "b6822e12",
   "metadata": {},
   "source": [
    "### 4. How to combine many series to form a dataframe?"
   ]
  },
  {
   "cell_type": "markdown",
   "id": "269d270a",
   "metadata": {},
   "source": [
    "Difficulty Level: L1\n",
    "\n",
    "Combine ser1 and ser2 to form a dataframe."
   ]
  },
  {
   "cell_type": "code",
   "execution_count": 22,
   "id": "f5ea353b",
   "metadata": {},
   "outputs": [],
   "source": [
    "import numpy as np\n",
    "ser1 = pd.Series(list('abcedfghijklmnopqrstuvwxyz'))\n",
    "ser2 = pd.Series(np.arange(26))"
   ]
  },
  {
   "cell_type": "code",
   "execution_count": null,
   "id": "febc0b34",
   "metadata": {},
   "outputs": [
    {
     "name": "stdout",
     "output_type": "stream",
     "text": [
      "   A  B\n",
      "0  a  0\n",
      "1  b  1\n",
      "2  c  2\n",
      "3  e  3\n",
      "4  d  4\n"
     ]
    }
   ],
   "source": [
    "# Solution 1\n",
    "df = pd.concat([ser1, ser2], axis=1) # Combine series into a dataframe\n",
    "\n",
    "# Solution 2\n",
    "df = pd.DataFrame({'A': ser1, 'B': ser2}) # Combine series into a dataframe using a dictionary\n",
    "print(df.head())"
   ]
  },
  {
   "cell_type": "markdown",
   "id": "619201da",
   "metadata": {},
   "source": [
    "### 5. How to assign name to the series’ index?"
   ]
  },
  {
   "cell_type": "markdown",
   "id": "0981ee49",
   "metadata": {},
   "source": [
    "Difficulty Level: L1\n",
    "\n",
    "Give a name to the series ser calling it ‘alphabets’."
   ]
  },
  {
   "cell_type": "code",
   "execution_count": 26,
   "id": "120d814b",
   "metadata": {},
   "outputs": [],
   "source": [
    "ser = pd.Series(list('abcedfghijklmnopqrstuvwxyz'))"
   ]
  },
  {
   "cell_type": "code",
   "execution_count": 27,
   "id": "7316259e",
   "metadata": {},
   "outputs": [
    {
     "data": {
      "application/vnd.microsoft.datawrangler.viewer.v0+json": {
       "columns": [
        {
         "name": "index",
         "rawType": "int64",
         "type": "integer"
        },
        {
         "name": "alphabets",
         "rawType": "object",
         "type": "string"
        }
       ],
       "ref": "3ac1d8bb-7af0-47f9-a3f8-aa78b276fda0",
       "rows": [
        [
         "0",
         "a"
        ],
        [
         "1",
         "b"
        ],
        [
         "2",
         "c"
        ],
        [
         "3",
         "e"
        ],
        [
         "4",
         "d"
        ]
       ],
       "shape": {
        "columns": 1,
        "rows": 5
       }
      },
      "text/plain": [
       "0    a\n",
       "1    b\n",
       "2    c\n",
       "3    e\n",
       "4    d\n",
       "Name: alphabets, dtype: object"
      ]
     },
     "execution_count": 27,
     "metadata": {},
     "output_type": "execute_result"
    }
   ],
   "source": [
    "# Solution\n",
    "ser.name = 'alphabets'\n",
    "ser.head()"
   ]
  },
  {
   "cell_type": "markdown",
   "id": "db3db1f3",
   "metadata": {},
   "source": [
    "### 6. How to get the items of series A not present in series B?"
   ]
  },
  {
   "cell_type": "markdown",
   "id": "987fe535",
   "metadata": {},
   "source": [
    "Difficulty Level: L2\n",
    "\n",
    "From ser1 remove items present in ser2."
   ]
  },
  {
   "cell_type": "code",
   "execution_count": 28,
   "id": "2689910f",
   "metadata": {},
   "outputs": [],
   "source": [
    "ser1 = pd.Series([1, 2, 3, 4, 5])\n",
    "ser2 = pd.Series([4, 5, 6, 7, 8])"
   ]
  },
  {
   "cell_type": "code",
   "execution_count": 30,
   "id": "af7d8ab7",
   "metadata": {},
   "outputs": [
    {
     "data": {
      "application/vnd.microsoft.datawrangler.viewer.v0+json": {
       "columns": [
        {
         "name": "index",
         "rawType": "int64",
         "type": "integer"
        },
        {
         "name": "0",
         "rawType": "int64",
         "type": "integer"
        }
       ],
       "ref": "0b260d9c-93a3-419f-9b33-ab30c17c54ca",
       "rows": [
        [
         "0",
         "1"
        ],
        [
         "1",
         "2"
        ],
        [
         "2",
         "3"
        ]
       ],
       "shape": {
        "columns": 1,
        "rows": 3
       }
      },
      "text/plain": [
       "0    1\n",
       "1    2\n",
       "2    3\n",
       "dtype: int64"
      ]
     },
     "execution_count": 30,
     "metadata": {},
     "output_type": "execute_result"
    }
   ],
   "source": [
    "ser1[~ser1.isin(ser2)] # Get items in ser1 not present in ser2"
   ]
  },
  {
   "cell_type": "markdown",
   "id": "1d4e32a4",
   "metadata": {},
   "source": [
    "### 7. How to get the items not common to both series A and series B?"
   ]
  },
  {
   "cell_type": "markdown",
   "id": "11950b54",
   "metadata": {},
   "source": [
    "Difficulty Level: L2\n",
    "\n",
    "Get all items of ser1 and ser2 not common to both."
   ]
  },
  {
   "cell_type": "code",
   "execution_count": 31,
   "id": "c8edc9ba",
   "metadata": {},
   "outputs": [],
   "source": [
    "#Input\n",
    "ser1 = pd.Series([1, 2, 3, 4, 5])\n",
    "ser2 = pd.Series([4, 5, 6, 7, 8])"
   ]
  },
  {
   "cell_type": "code",
   "execution_count": 36,
   "id": "4a9ec10e",
   "metadata": {},
   "outputs": [
    {
     "name": "stdout",
     "output_type": "stream",
     "text": [
      "0    1\n",
      "1    2\n",
      "2    3\n",
      "3    4\n",
      "4    5\n",
      "5    6\n",
      "6    7\n",
      "7    8\n",
      "dtype: int64\n",
      "0    4\n",
      "1    5\n",
      "dtype: int64\n",
      "0    1\n",
      "1    2\n",
      "2    3\n",
      "5    6\n",
      "6    7\n",
      "7    8\n",
      "dtype: int64\n"
     ]
    }
   ],
   "source": [
    "# Solution\n",
    "ser_u = pd.Series(np.union1d(ser1, ser2))  # union\n",
    "ser_i = pd.Series(np.intersect1d(ser1, ser2))  # intersect\n",
    "ser_u[~ser_u.isin(ser_i)]\n",
    "print(ser_u)\n",
    "print(ser_i)\n",
    "print(ser_u[~ser_u.isin(ser_i)])  # Get items in ser1 or ser2 not present in both"
   ]
  },
  {
   "cell_type": "markdown",
   "id": "2c452347",
   "metadata": {},
   "source": [
    "### 8. How to get the minimum, 25th percentile, median, 75th, and max of a numeric series?"
   ]
  },
  {
   "cell_type": "markdown",
   "id": "95751b07",
   "metadata": {},
   "source": [
    "Difficuty Level: L2\n",
    "\n",
    "Compute the minimum, 25th percentile, median, 75th, and maximum of ser."
   ]
  },
  {
   "cell_type": "code",
   "execution_count": 43,
   "id": "f8be3217",
   "metadata": {},
   "outputs": [],
   "source": [
    "#Input\n",
    "ser = pd.Series(np.random.normal(10, 5, 25)) # Generate a series of 25 random numbers from a normal distribution with mean 10 and standard deviation 5"
   ]
  },
  {
   "cell_type": "code",
   "execution_count": 44,
   "id": "cbbb848b",
   "metadata": {},
   "outputs": [
    {
     "data": {
      "text/plain": [
       "array([-5.09307076,  5.39168904,  9.32278659, 13.15004192, 16.78376458])"
      ]
     },
     "execution_count": 44,
     "metadata": {},
     "output_type": "execute_result"
    }
   ],
   "source": [
    "# Solution\n",
    "np.percentile(ser, q=[0, 25, 50, 75, 100])"
   ]
  },
  {
   "cell_type": "markdown",
   "id": "a35556db",
   "metadata": {},
   "source": [
    "### 9. How to get frequency counts of unique items of a series?"
   ]
  },
  {
   "cell_type": "markdown",
   "id": "b1905433",
   "metadata": {},
   "source": [
    "Difficulty Level: L1\n",
    "\n",
    "Calculte the frequency counts of each unique value ser."
   ]
  },
  {
   "cell_type": "code",
   "execution_count": 46,
   "id": "d7fa7dda",
   "metadata": {},
   "outputs": [],
   "source": [
    "# Input\n",
    "ser = pd.Series(np.take(list('abcdefgh'), np.random.randint(8, size=30)))"
   ]
  },
  {
   "cell_type": "code",
   "execution_count": 47,
   "id": "5364d0b1",
   "metadata": {},
   "outputs": [
    {
     "data": {
      "application/vnd.microsoft.datawrangler.viewer.v0+json": {
       "columns": [
        {
         "name": "index",
         "rawType": "object",
         "type": "string"
        },
        {
         "name": "count",
         "rawType": "int64",
         "type": "integer"
        }
       ],
       "ref": "c69ec3d7-878a-4396-b8d8-3b4a3f608fe6",
       "rows": [
        [
         "d",
         "6"
        ],
        [
         "e",
         "5"
        ],
        [
         "c",
         "5"
        ],
        [
         "b",
         "4"
        ],
        [
         "g",
         "3"
        ],
        [
         "f",
         "3"
        ],
        [
         "h",
         "3"
        ],
        [
         "a",
         "1"
        ]
       ],
       "shape": {
        "columns": 1,
        "rows": 8
       }
      },
      "text/plain": [
       "d    6\n",
       "e    5\n",
       "c    5\n",
       "b    4\n",
       "g    3\n",
       "f    3\n",
       "h    3\n",
       "a    1\n",
       "Name: count, dtype: int64"
      ]
     },
     "execution_count": 47,
     "metadata": {},
     "output_type": "execute_result"
    }
   ],
   "source": [
    "# Solution\n",
    "ser.value_counts()"
   ]
  },
  {
   "cell_type": "markdown",
   "id": "4cb8dc3c",
   "metadata": {},
   "source": [
    "### 10. How to keep only top 2 most frequent values as it is and replace everything else as ‘Other’?\n",
    "Difficulty Level: L2\n",
    "\n",
    "From ser, keep the top 2 most frequent items as it is and replace everything else as ‘Other’."
   ]
  },
  {
   "cell_type": "code",
   "execution_count": 50,
   "id": "40fbedcf",
   "metadata": {},
   "outputs": [],
   "source": [
    "# Input\n",
    "np.random.RandomState(100)\n",
    "ser = pd.Series(np.random.randint(1, 5, [12]))"
   ]
  },
  {
   "cell_type": "code",
   "execution_count": 52,
   "id": "c5920103",
   "metadata": {},
   "outputs": [
    {
     "data": {
      "application/vnd.microsoft.datawrangler.viewer.v0+json": {
       "columns": [
        {
         "name": "index",
         "rawType": "int64",
         "type": "integer"
        },
        {
         "name": "0",
         "rawType": "object",
         "type": "unknown"
        }
       ],
       "ref": "12e9c68b-58ff-42a4-afdd-ccf276da0c8e",
       "rows": [
        [
         "0",
         "2"
        ],
        [
         "1",
         "3"
        ],
        [
         "2",
         "Other"
        ],
        [
         "3",
         "Other"
        ],
        [
         "4",
         "Other"
        ],
        [
         "5",
         "3"
        ],
        [
         "6",
         "3"
        ],
        [
         "7",
         "2"
        ],
        [
         "8",
         "2"
        ],
        [
         "9",
         "2"
        ],
        [
         "10",
         "Other"
        ],
        [
         "11",
         "3"
        ]
       ],
       "shape": {
        "columns": 1,
        "rows": 12
       }
      },
      "text/plain": [
       "0         2\n",
       "1         3\n",
       "2     Other\n",
       "3     Other\n",
       "4     Other\n",
       "5         3\n",
       "6         3\n",
       "7         2\n",
       "8         2\n",
       "9         2\n",
       "10    Other\n",
       "11        3\n",
       "dtype: object"
      ]
     },
     "execution_count": 52,
     "metadata": {},
     "output_type": "execute_result"
    }
   ],
   "source": [
    "top2 = ser.value_counts().index[:2]\n",
    "ser = ser.where(ser.isin(top2), other='Other')\n",
    "ser"
   ]
  },
  {
   "cell_type": "markdown",
   "id": "2a918add",
   "metadata": {},
   "source": [
    "### 11. How to bin a numeric series to 10 groups of equal size?\n",
    "Difficulty Level: L2\n",
    "\n",
    "Bin the series ser into 10 equal deciles and replace the values with the bin name.\n",
    "\n",
    "Input"
   ]
  },
  {
   "cell_type": "code",
   "execution_count": 65,
   "id": "72243bf4",
   "metadata": {},
   "outputs": [
    {
     "name": "stdout",
     "output_type": "stream",
     "text": [
      "0     0.444622\n",
      "1     0.219547\n",
      "2     0.645647\n",
      "3     0.669769\n",
      "4     0.095872\n",
      "5     0.807244\n",
      "6     0.883540\n",
      "7     0.899696\n",
      "8     0.525016\n",
      "9     0.564253\n",
      "10    0.761371\n",
      "11    0.770052\n",
      "12    0.271714\n",
      "13    0.371752\n",
      "14    0.711706\n",
      "15    0.968769\n",
      "16    0.739110\n",
      "17    0.551263\n",
      "18    0.527202\n",
      "19    0.383447\n",
      "dtype: float64\n"
     ]
    }
   ],
   "source": [
    "ser = pd.Series(np.random.random(20))\n",
    "print(ser)"
   ]
  },
  {
   "cell_type": "code",
   "execution_count": 70,
   "id": "8c6e9089",
   "metadata": {},
   "outputs": [
    {
     "data": {
      "application/vnd.microsoft.datawrangler.viewer.v0+json": {
       "columns": [
        {
         "name": "index",
         "rawType": "int64",
         "type": "integer"
        },
        {
         "name": "0",
         "rawType": "category",
         "type": "unknown"
        }
       ],
       "ref": "e00ee80f-6960-4248-afeb-e0a47d7a3efa",
       "rows": [
        [
         "0",
         "3rd"
        ],
        [
         "1",
         "1st"
        ],
        [
         "2",
         "6th"
        ],
        [
         "3",
         "6th"
        ],
        [
         "4",
         "1st"
        ]
       ],
       "shape": {
        "columns": 1,
        "rows": 5
       }
      },
      "text/plain": [
       "0    3rd\n",
       "1    1st\n",
       "2    6th\n",
       "3    6th\n",
       "4    1st\n",
       "dtype: category\n",
       "Categories (10, object): ['1st' < '2nd' < '3rd' < '4th' ... '7th' < '8th' < '9th' < '10th']"
      ]
     },
     "execution_count": 70,
     "metadata": {},
     "output_type": "execute_result"
    }
   ],
   "source": [
    "# Solution\n",
    "pd.qcut(ser, q=[0, .10, .20, .3, .4, .5, .6, .7, .8, .9, 1], \n",
    "        labels=['1st', '2nd', '3rd', '4th', '5th', '6th', '7th', '8th', '9th', '10th']).head()"
   ]
  },
  {
   "cell_type": "markdown",
   "id": "e189db4b",
   "metadata": {},
   "source": [
    "### 12. How to convert a numpy array to a dataframe of given shape? (L1)"
   ]
  },
  {
   "cell_type": "markdown",
   "id": "91336d5e",
   "metadata": {},
   "source": [
    "Difficulty Level: L1\n",
    "\n",
    "Reshape the series ser into a dataframe with 7 rows and 5 columns"
   ]
  },
  {
   "cell_type": "code",
   "execution_count": 71,
   "id": "d133bab6",
   "metadata": {},
   "outputs": [],
   "source": [
    "# Input\n",
    "ser = pd.Series(np.random.randint(1, 10, 35))"
   ]
  },
  {
   "cell_type": "code",
   "execution_count": 73,
   "id": "4d71a40f",
   "metadata": {},
   "outputs": [
    {
     "name": "stdout",
     "output_type": "stream",
     "text": [
      "   0  1  2  3  4\n",
      "0  5  6  8  4  2\n",
      "1  6  1  3  7  1\n",
      "2  4  4  2  6  1\n",
      "3  8  9  6  9  4\n",
      "4  1  3  6  4  4\n",
      "5  5  8  9  8  2\n",
      "6  1  3  4  8  6\n"
     ]
    }
   ],
   "source": [
    "# Solution\n",
    "df = pd.DataFrame(ser.values.reshape(7,5))\n",
    "print(df)"
   ]
  },
  {
   "cell_type": "code",
   "execution_count": null,
   "id": "680307f7",
   "metadata": {},
   "outputs": [],
   "source": []
  }
 ],
 "metadata": {
  "kernelspec": {
   "display_name": ".venv",
   "language": "python",
   "name": "python3"
  },
  "language_info": {
   "codemirror_mode": {
    "name": "ipython",
    "version": 3
   },
   "file_extension": ".py",
   "mimetype": "text/x-python",
   "name": "python",
   "nbconvert_exporter": "python",
   "pygments_lexer": "ipython3",
   "version": "3.13.5"
  }
 },
 "nbformat": 4,
 "nbformat_minor": 5
}
